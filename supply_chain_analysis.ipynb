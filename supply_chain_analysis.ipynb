{
 "cells": [
  {
   "cell_type": "markdown",
   "id": "b7033779-5e49-4b9c-8e1c-6ccfc03746c3",
   "metadata": {
    "tags": []
   },
   "source": [
    "# supply chain analysis"
   ]
  },
  {
   "cell_type": "markdown",
   "id": "bf548e20-826b-4f9a-a53e-73cfd71c052c",
   "metadata": {
    "tags": []
   },
   "source": [
    "## import data from sql server"
   ]
  },
  {
   "cell_type": "code",
   "execution_count": 1,
   "id": "c7d3341b-28cc-43be-8a5c-f182ed8cdded",
   "metadata": {
    "tags": []
   },
   "outputs": [],
   "source": [
    "import sqlalchemy as sa\n",
    "import pandas as pd\n",
    "import numpy as np\n",
    "import seaborn as sns\n",
    "import matplotlib.pyplot as plt\n",
    "\n",
    "from sqlalchemy.engine import URL\n",
    "from sqlalchemy import create_engine\n",
    "from matplotlib.ticker import FixedLocator, MaxNLocator\n",
    "\n",
    "%matplotlib inline\n",
    "%store -r sc_conn_string"
   ]
  },
  {
   "cell_type": "code",
   "execution_count": 2,
   "id": "fde818c5-54a4-4fa9-bedc-f217e45e0d91",
   "metadata": {
    "tags": []
   },
   "outputs": [],
   "source": [
    "pd.set_option('display.max_rows', 20)"
   ]
  },
  {
   "cell_type": "code",
   "execution_count": 3,
   "id": "827e894f-c088-4e3c-9c8e-4b81c3f97e15",
   "metadata": {
    "tags": []
   },
   "outputs": [],
   "source": [
    "sc_conn_url = URL.create(\"mssql+pyodbc\", query={\"odbc_connect\": sc_conn_string})\n",
    "engine = create_engine(sc_conn_url)"
   ]
  },
  {
   "cell_type": "code",
   "execution_count": 4,
   "id": "d8c7c657-c000-46cd-a234-0ded5af5ce1a",
   "metadata": {
    "tags": []
   },
   "outputs": [],
   "source": [
    "customers_query = 'SELECT * FROM customers'\n",
    "products_query = 'SELECT * FROM products'\n",
    "categories_departments_query = 'SELECT * FROM categories_departments'\n",
    "orders_query = 'SELECT * FROM orders'\n",
    "orders_ratio_query = 'SELECT * FROM orders_ratio'\n",
    "orders_demographic_query = 'SELECT * FROM orders_demographic'\n",
    "shipping_query = 'SELECT * FROM shipping'"
   ]
  },
  {
   "cell_type": "code",
   "execution_count": 5,
   "id": "7cf96a05-0ded-4a28-af5c-9ff5dc9ef873",
   "metadata": {
    "tags": []
   },
   "outputs": [],
   "source": [
    "with engine.begin() as connection:\n",
    "    og_customers = pd.read_sql_query(customers_query, connection)\n",
    "    og_products = pd.read_sql_query(products_query, connection)\n",
    "    og_categories_departments = pd.read_sql_query(categories_departments_query, connection)\n",
    "    og_orders = pd.read_sql_query(orders_query, connection)\n",
    "    og_orders_ratio = pd.read_sql_query(orders_ratio_query, connection)\n",
    "    og_orders_demographic = pd.read_sql_query(orders_demographic_query, connection)\n",
    "    og_shipping = pd.read_sql_query(shipping_query, connection)"
   ]
  },
  {
   "cell_type": "code",
   "execution_count": 6,
   "id": "389d0ef9-1f42-4a04-9f43-4e07e9a7af2e",
   "metadata": {
    "tags": []
   },
   "outputs": [],
   "source": [
    "customers = og_customers\n",
    "products = og_products\n",
    "categories_departments = og_categories_departments\n",
    "orders = og_orders\n",
    "orders_ratio = og_orders_ratio\n",
    "orders_demographic = og_orders_demographic\n",
    "shipping = og_shipping"
   ]
  },
  {
   "cell_type": "markdown",
   "id": "9b12adbd-e3a1-4b6f-b36d-722acb6dae5e",
   "metadata": {},
   "source": [
    "## correct dataframe datatypes"
   ]
  },
  {
   "cell_type": "markdown",
   "id": "17fe2c2e-49a6-4570-bbfa-1ced5b79c203",
   "metadata": {
    "tags": []
   },
   "source": [
    "### customers table"
   ]
  },
  {
   "cell_type": "code",
   "execution_count": 7,
   "id": "4be8c714-82fc-492b-a363-4c8ecba53459",
   "metadata": {
    "tags": []
   },
   "outputs": [
    {
     "data": {
      "text/plain": [
       "2090     20757\n",
       "2142     20756\n",
       "4132     20755\n",
       "16820    20754\n",
       "241      20753\n",
       "         ...  \n",
       "349          5\n",
       "17259        4\n",
       "3857         3\n",
       "6155         2\n",
       "9519         1\n",
       "Name: customer_id, Length: 20652, dtype: int64"
      ]
     },
     "execution_count": 7,
     "metadata": {},
     "output_type": "execute_result"
    }
   ],
   "source": [
    "customers['customer_id'].drop_duplicates().sort_values(ascending=False)"
   ]
  },
  {
   "cell_type": "code",
   "execution_count": 8,
   "id": "2ecbf2d6-1d3c-45dd-aedc-baea34e668cb",
   "metadata": {
    "tags": []
   },
   "outputs": [],
   "source": [
    "customers['customer_id'] = customers['customer_id'].astype('int32')"
   ]
  },
  {
   "cell_type": "code",
   "execution_count": 9,
   "id": "a7b441a3-d898-4cd3-9ba8-ceeea1bebe1d",
   "metadata": {
    "tags": []
   },
   "outputs": [
    {
     "data": {
      "text/plain": [
       "565     99205\n",
       "255     98632\n",
       "5124    98390\n",
       "2549    98226\n",
       "1131    98208\n",
       "        ...  \n",
       "385       685\n",
       "4047      680\n",
       "586       674\n",
       "2496      612\n",
       "1639      603\n",
       "Name: zipcode, Length: 995, dtype: int64"
      ]
     },
     "execution_count": 9,
     "metadata": {},
     "output_type": "execute_result"
    }
   ],
   "source": [
    "customers['zipcode'].drop_duplicates().sort_values(ascending=False)"
   ]
  },
  {
   "cell_type": "code",
   "execution_count": 10,
   "id": "274bc0c3-f360-4b31-8cdd-068dd70c71f6",
   "metadata": {
    "tags": []
   },
   "outputs": [],
   "source": [
    "customers['zipcode'] = customers['zipcode'].astype('int32')"
   ]
  },
  {
   "cell_type": "code",
   "execution_count": 11,
   "id": "118988e6-0f6e-4707-ba41-0f178e2ab126",
   "metadata": {
    "tags": []
   },
   "outputs": [
    {
     "data": {
      "text/plain": [
       "customer_id     int32\n",
       "first_name     object\n",
       "last_name      object\n",
       "segment        object\n",
       "country        object\n",
       "state          object\n",
       "city           object\n",
       "street         object\n",
       "zipcode         int32\n",
       "dtype: object"
      ]
     },
     "execution_count": 11,
     "metadata": {},
     "output_type": "execute_result"
    }
   ],
   "source": [
    "customers.dtypes"
   ]
  },
  {
   "cell_type": "code",
   "execution_count": 12,
   "id": "253b7bf8-dbec-4347-ab25-4c68742f0ea9",
   "metadata": {
    "tags": []
   },
   "outputs": [
    {
     "data": {
      "text/html": [
       "<div>\n",
       "<style scoped>\n",
       "    .dataframe tbody tr th:only-of-type {\n",
       "        vertical-align: middle;\n",
       "    }\n",
       "\n",
       "    .dataframe tbody tr th {\n",
       "        vertical-align: top;\n",
       "    }\n",
       "\n",
       "    .dataframe thead th {\n",
       "        text-align: right;\n",
       "    }\n",
       "</style>\n",
       "<table border=\"1\" class=\"dataframe\">\n",
       "  <thead>\n",
       "    <tr style=\"text-align: right;\">\n",
       "      <th></th>\n",
       "      <th>customer_id</th>\n",
       "      <th>first_name</th>\n",
       "      <th>last_name</th>\n",
       "      <th>segment</th>\n",
       "      <th>country</th>\n",
       "      <th>state</th>\n",
       "      <th>city</th>\n",
       "      <th>street</th>\n",
       "      <th>zipcode</th>\n",
       "    </tr>\n",
       "  </thead>\n",
       "  <tbody>\n",
       "    <tr>\n",
       "      <th>0</th>\n",
       "      <td>11036</td>\n",
       "      <td>Bobby</td>\n",
       "      <td>Smith</td>\n",
       "      <td>Consumer</td>\n",
       "      <td>Puerto Rico</td>\n",
       "      <td>PR</td>\n",
       "      <td>Caguas</td>\n",
       "      <td>4464 Rocky Horse Harbour</td>\n",
       "      <td>725</td>\n",
       "    </tr>\n",
       "    <tr>\n",
       "      <th>1</th>\n",
       "      <td>11595</td>\n",
       "      <td>Zachary</td>\n",
       "      <td>Jones</td>\n",
       "      <td>Consumer</td>\n",
       "      <td>EE. UU.</td>\n",
       "      <td>CA</td>\n",
       "      <td>Modesto</td>\n",
       "      <td>777 Blue Hills Court</td>\n",
       "      <td>95355</td>\n",
       "    </tr>\n",
       "    <tr>\n",
       "      <th>2</th>\n",
       "      <td>10139</td>\n",
       "      <td>Mary</td>\n",
       "      <td>Gould</td>\n",
       "      <td>Consumer</td>\n",
       "      <td>Puerto Rico</td>\n",
       "      <td>PR</td>\n",
       "      <td>Caguas</td>\n",
       "      <td>6398 Indian Brook Valley</td>\n",
       "      <td>725</td>\n",
       "    </tr>\n",
       "    <tr>\n",
       "      <th>3</th>\n",
       "      <td>7277</td>\n",
       "      <td>Justin</td>\n",
       "      <td>Moore</td>\n",
       "      <td>Corporate</td>\n",
       "      <td>EE. UU.</td>\n",
       "      <td>CO</td>\n",
       "      <td>Littleton</td>\n",
       "      <td>7002 Blue Place</td>\n",
       "      <td>80126</td>\n",
       "    </tr>\n",
       "    <tr>\n",
       "      <th>4</th>\n",
       "      <td>10893</td>\n",
       "      <td>Lisa</td>\n",
       "      <td>Smith</td>\n",
       "      <td>Corporate</td>\n",
       "      <td>EE. UU.</td>\n",
       "      <td>CA</td>\n",
       "      <td>Riverside</td>\n",
       "      <td>3763 Noble Prairie Heights</td>\n",
       "      <td>92503</td>\n",
       "    </tr>\n",
       "    <tr>\n",
       "      <th>...</th>\n",
       "      <td>...</td>\n",
       "      <td>...</td>\n",
       "      <td>...</td>\n",
       "      <td>...</td>\n",
       "      <td>...</td>\n",
       "      <td>...</td>\n",
       "      <td>...</td>\n",
       "      <td>...</td>\n",
       "      <td>...</td>\n",
       "    </tr>\n",
       "    <tr>\n",
       "      <th>20647</th>\n",
       "      <td>16382</td>\n",
       "      <td>Rowan</td>\n",
       "      <td>Robbins</td>\n",
       "      <td>Home Office</td>\n",
       "      <td>Puerto Rico</td>\n",
       "      <td>PR</td>\n",
       "      <td>Caguas</td>\n",
       "      <td>1898 Velvet Villas</td>\n",
       "      <td>725</td>\n",
       "    </tr>\n",
       "    <tr>\n",
       "      <th>20648</th>\n",
       "      <td>18492</td>\n",
       "      <td>Hedy</td>\n",
       "      <td>Rivas</td>\n",
       "      <td>Consumer</td>\n",
       "      <td>Puerto Rico</td>\n",
       "      <td>PR</td>\n",
       "      <td>Caguas</td>\n",
       "      <td>1173 Silver Isle</td>\n",
       "      <td>725</td>\n",
       "    </tr>\n",
       "    <tr>\n",
       "      <th>20649</th>\n",
       "      <td>14086</td>\n",
       "      <td>Nelle</td>\n",
       "      <td>Hyde</td>\n",
       "      <td>Home Office</td>\n",
       "      <td>EE. UU.</td>\n",
       "      <td>NJ</td>\n",
       "      <td>Princeton</td>\n",
       "      <td>2407 Thunder Mountain</td>\n",
       "      <td>8540</td>\n",
       "    </tr>\n",
       "    <tr>\n",
       "      <th>20650</th>\n",
       "      <td>15424</td>\n",
       "      <td>Callie</td>\n",
       "      <td>Rodriguez</td>\n",
       "      <td>Home Office</td>\n",
       "      <td>EE. UU.</td>\n",
       "      <td>CA</td>\n",
       "      <td>Folsom</td>\n",
       "      <td>1836 Cozy View Orchard</td>\n",
       "      <td>95630</td>\n",
       "    </tr>\n",
       "    <tr>\n",
       "      <th>20651</th>\n",
       "      <td>13442</td>\n",
       "      <td>Farrah</td>\n",
       "      <td>Dickerson</td>\n",
       "      <td>Consumer</td>\n",
       "      <td>EE. UU.</td>\n",
       "      <td>TX</td>\n",
       "      <td>Laredo</td>\n",
       "      <td>4617 Sunny Range</td>\n",
       "      <td>78040</td>\n",
       "    </tr>\n",
       "  </tbody>\n",
       "</table>\n",
       "<p>20652 rows × 9 columns</p>\n",
       "</div>"
      ],
      "text/plain": [
       "       customer_id first_name  last_name      segment      country state  \\\n",
       "0            11036      Bobby      Smith     Consumer  Puerto Rico    PR   \n",
       "1            11595    Zachary      Jones     Consumer      EE. UU.    CA   \n",
       "2            10139       Mary      Gould     Consumer  Puerto Rico    PR   \n",
       "3             7277     Justin      Moore    Corporate      EE. UU.    CO   \n",
       "4            10893       Lisa      Smith    Corporate      EE. UU.    CA   \n",
       "...            ...        ...        ...          ...          ...   ...   \n",
       "20647        16382      Rowan    Robbins  Home Office  Puerto Rico    PR   \n",
       "20648        18492       Hedy      Rivas     Consumer  Puerto Rico    PR   \n",
       "20649        14086      Nelle       Hyde  Home Office      EE. UU.    NJ   \n",
       "20650        15424     Callie  Rodriguez  Home Office      EE. UU.    CA   \n",
       "20651        13442     Farrah  Dickerson     Consumer      EE. UU.    TX   \n",
       "\n",
       "            city                      street  zipcode  \n",
       "0         Caguas    4464 Rocky Horse Harbour      725  \n",
       "1        Modesto        777 Blue Hills Court    95355  \n",
       "2         Caguas    6398 Indian Brook Valley      725  \n",
       "3      Littleton             7002 Blue Place    80126  \n",
       "4      Riverside  3763 Noble Prairie Heights    92503  \n",
       "...          ...                         ...      ...  \n",
       "20647     Caguas          1898 Velvet Villas      725  \n",
       "20648     Caguas            1173 Silver Isle      725  \n",
       "20649  Princeton       2407 Thunder Mountain     8540  \n",
       "20650     Folsom      1836 Cozy View Orchard    95630  \n",
       "20651     Laredo            4617 Sunny Range    78040  \n",
       "\n",
       "[20652 rows x 9 columns]"
      ]
     },
     "execution_count": 12,
     "metadata": {},
     "output_type": "execute_result"
    }
   ],
   "source": [
    "customers"
   ]
  },
  {
   "cell_type": "markdown",
   "id": "861a43ed-8eaf-4759-a052-443a66617d21",
   "metadata": {
    "tags": []
   },
   "source": [
    "### products table"
   ]
  },
  {
   "cell_type": "code",
   "execution_count": 13,
   "id": "2c6179d8-be2d-4d7c-9d3e-2c3a5a8ba78a",
   "metadata": {
    "tags": []
   },
   "outputs": [
    {
     "data": {
      "text/plain": [
       "14     1363\n",
       "103    1362\n",
       "56     1361\n",
       "97     1360\n",
       "105    1359\n",
       "       ... \n",
       "4        44\n",
       "88       37\n",
       "78       35\n",
       "61       24\n",
       "20       19\n",
       "Name: product_id, Length: 118, dtype: int64"
      ]
     },
     "execution_count": 13,
     "metadata": {},
     "output_type": "execute_result"
    }
   ],
   "source": [
    "products['product_id'].drop_duplicates().sort_values(ascending=False)"
   ]
  },
  {
   "cell_type": "code",
   "execution_count": 14,
   "id": "21844ebd-f27e-44c3-8408-b9f7fba1776f",
   "metadata": {
    "tags": []
   },
   "outputs": [],
   "source": [
    "products['product_id'] = products['product_id'].astype('int16')"
   ]
  },
  {
   "cell_type": "code",
   "execution_count": 15,
   "id": "d9c218ee-cb49-4207-8c39-bb6c85f67ffd",
   "metadata": {
    "tags": []
   },
   "outputs": [
    {
     "data": {
      "text/plain": [
       "14     76\n",
       "103    75\n",
       "56     74\n",
       "97     73\n",
       "105    72\n",
       "       ..\n",
       "111     6\n",
       "31      5\n",
       "45      4\n",
       "4       3\n",
       "20      2\n",
       "Name: category_id, Length: 51, dtype: int64"
      ]
     },
     "execution_count": 15,
     "metadata": {},
     "output_type": "execute_result"
    }
   ],
   "source": [
    "products['category_id'].drop_duplicates().sort_values(ascending=False)"
   ]
  },
  {
   "cell_type": "code",
   "execution_count": 16,
   "id": "64e79a4d-e806-4fbe-bf0e-bb63eb8922ea",
   "metadata": {
    "tags": []
   },
   "outputs": [],
   "source": [
    "products['category_id'] = products['category_id'].astype('int16')"
   ]
  },
  {
   "cell_type": "code",
   "execution_count": 17,
   "id": "8f012e54-5c8f-4d8e-a96a-c9fa7cc7b704",
   "metadata": {
    "tags": []
   },
   "outputs": [
    {
     "data": {
      "text/plain": [
       "22     12\n",
       "105    11\n",
       "0      10\n",
       "7       9\n",
       "69      8\n",
       "2       7\n",
       "3       6\n",
       "12      5\n",
       "1       4\n",
       "21      3\n",
       "4       2\n",
       "Name: department_id, dtype: int64"
      ]
     },
     "execution_count": 17,
     "metadata": {},
     "output_type": "execute_result"
    }
   ],
   "source": [
    "products['department_id'].drop_duplicates().sort_values(ascending=False)"
   ]
  },
  {
   "cell_type": "code",
   "execution_count": 18,
   "id": "fba3d30e-1fed-4d83-9840-0ef9ef366ee6",
   "metadata": {
    "tags": []
   },
   "outputs": [],
   "source": [
    "products['department_id'] = products['department_id'].astype('int8')"
   ]
  },
  {
   "cell_type": "code",
   "execution_count": 19,
   "id": "cd1db25a-1597-4b4b-81f2-8e02aa1c0d9b",
   "metadata": {
    "tags": []
   },
   "outputs": [
    {
     "data": {
      "text/plain": [
       "64     1999.99\n",
       "0      1500.00\n",
       "112     999.99\n",
       "102     599.99\n",
       "85      532.58\n",
       "        ...   \n",
       "19       15.99\n",
       "29       14.99\n",
       "56       11.54\n",
       "52       11.29\n",
       "98        9.99\n",
       "Name: price, Length: 75, dtype: float64"
      ]
     },
     "execution_count": 19,
     "metadata": {},
     "output_type": "execute_result"
    }
   ],
   "source": [
    "products['price'].drop_duplicates().sort_values(ascending=False)"
   ]
  },
  {
   "cell_type": "code",
   "execution_count": 20,
   "id": "98dd2820-98ca-4571-bf16-6a059167fdc6",
   "metadata": {
    "tags": []
   },
   "outputs": [],
   "source": [
    "products['price'] = products['price'].astype('float32')"
   ]
  },
  {
   "cell_type": "code",
   "execution_count": 21,
   "id": "056a4fb7-68f6-4395-8e7f-b488b0c782c5",
   "metadata": {
    "tags": []
   },
   "outputs": [
    {
     "data": {
      "text/plain": [
       "product_id         int16\n",
       "product_name      object\n",
       "category_id        int16\n",
       "department_id       int8\n",
       "price            float32\n",
       "product_image     object\n",
       "dtype: object"
      ]
     },
     "execution_count": 21,
     "metadata": {},
     "output_type": "execute_result"
    }
   ],
   "source": [
    "products.dtypes"
   ]
  },
  {
   "cell_type": "code",
   "execution_count": 22,
   "id": "42005fe9-7b99-4a59-8d88-9b31c65470a1",
   "metadata": {
    "tags": []
   },
   "outputs": [
    {
     "data": {
      "text/html": [
       "<div>\n",
       "<style scoped>\n",
       "    .dataframe tbody tr th:only-of-type {\n",
       "        vertical-align: middle;\n",
       "    }\n",
       "\n",
       "    .dataframe tbody tr th {\n",
       "        vertical-align: top;\n",
       "    }\n",
       "\n",
       "    .dataframe thead th {\n",
       "        text-align: right;\n",
       "    }\n",
       "</style>\n",
       "<table border=\"1\" class=\"dataframe\">\n",
       "  <thead>\n",
       "    <tr style=\"text-align: right;\">\n",
       "      <th></th>\n",
       "      <th>product_id</th>\n",
       "      <th>product_name</th>\n",
       "      <th>category_id</th>\n",
       "      <th>department_id</th>\n",
       "      <th>price</th>\n",
       "      <th>product_image</th>\n",
       "    </tr>\n",
       "  </thead>\n",
       "  <tbody>\n",
       "    <tr>\n",
       "      <th>0</th>\n",
       "      <td>1351</td>\n",
       "      <td>Dell Laptop</td>\n",
       "      <td>64</td>\n",
       "      <td>10</td>\n",
       "      <td>1500.000000</td>\n",
       "      <td>http://images.acmesports.sports/Dell+Laptop</td>\n",
       "    </tr>\n",
       "    <tr>\n",
       "      <th>1</th>\n",
       "      <td>1350</td>\n",
       "      <td>Children's heaters</td>\n",
       "      <td>63</td>\n",
       "      <td>4</td>\n",
       "      <td>357.100006</td>\n",
       "      <td>http://images.acmesports.sports/Children+heaters</td>\n",
       "    </tr>\n",
       "    <tr>\n",
       "      <th>2</th>\n",
       "      <td>1004</td>\n",
       "      <td>Field &amp; Stream Sportsman 16 Gun Fire Safe</td>\n",
       "      <td>45</td>\n",
       "      <td>7</td>\n",
       "      <td>399.980011</td>\n",
       "      <td>http://images.acmesports.sports/Field+%26+Stre...</td>\n",
       "    </tr>\n",
       "    <tr>\n",
       "      <th>3</th>\n",
       "      <td>835</td>\n",
       "      <td>Bridgestone e6 Straight Distance NFL Carolina</td>\n",
       "      <td>37</td>\n",
       "      <td>6</td>\n",
       "      <td>31.990000</td>\n",
       "      <td>http://images.acmesports.sports/Bridgestone+e6...</td>\n",
       "    </tr>\n",
       "    <tr>\n",
       "      <th>4</th>\n",
       "      <td>44</td>\n",
       "      <td>adidas Men's F10 Messi TRX FG Soccer Cleat</td>\n",
       "      <td>3</td>\n",
       "      <td>2</td>\n",
       "      <td>59.990002</td>\n",
       "      <td>http://images.acmesports.sports/adidas+Men%27s...</td>\n",
       "    </tr>\n",
       "    <tr>\n",
       "      <th>...</th>\n",
       "      <td>...</td>\n",
       "      <td>...</td>\n",
       "      <td>...</td>\n",
       "      <td>...</td>\n",
       "      <td>...</td>\n",
       "      <td>...</td>\n",
       "    </tr>\n",
       "    <tr>\n",
       "      <th>113</th>\n",
       "      <td>226</td>\n",
       "      <td>Bowflex SelectTech 1090 Dumbbells</td>\n",
       "      <td>11</td>\n",
       "      <td>3</td>\n",
       "      <td>599.989990</td>\n",
       "      <td>http://images.acmesports.sports/Bowflex+Select...</td>\n",
       "    </tr>\n",
       "    <tr>\n",
       "      <th>114</th>\n",
       "      <td>677</td>\n",
       "      <td>TaylorMade White Smoke IN-12 Putter</td>\n",
       "      <td>31</td>\n",
       "      <td>6</td>\n",
       "      <td>99.989998</td>\n",
       "      <td>http://images.acmesports.sports/TaylorMade+Whi...</td>\n",
       "    </tr>\n",
       "    <tr>\n",
       "      <th>115</th>\n",
       "      <td>777</td>\n",
       "      <td>Bag Boy M330 Push Cart</td>\n",
       "      <td>35</td>\n",
       "      <td>6</td>\n",
       "      <td>79.989998</td>\n",
       "      <td>http://images.acmesports.sports/Bag+Boy+M330+P...</td>\n",
       "    </tr>\n",
       "    <tr>\n",
       "      <th>116</th>\n",
       "      <td>303</td>\n",
       "      <td>Garmin Forerunner 910XT GPS Watch</td>\n",
       "      <td>38</td>\n",
       "      <td>6</td>\n",
       "      <td>399.989990</td>\n",
       "      <td>http://images.acmesports.sports/Garmin+Forerun...</td>\n",
       "    </tr>\n",
       "    <tr>\n",
       "      <th>117</th>\n",
       "      <td>671</td>\n",
       "      <td>Cleveland Golf Collegiate My Custom Wedge 588</td>\n",
       "      <td>31</td>\n",
       "      <td>6</td>\n",
       "      <td>209.990005</td>\n",
       "      <td>http://images.acmesports.sports/Cleveland+Golf...</td>\n",
       "    </tr>\n",
       "  </tbody>\n",
       "</table>\n",
       "<p>118 rows × 6 columns</p>\n",
       "</div>"
      ],
      "text/plain": [
       "     product_id                                   product_name  category_id  \\\n",
       "0          1351                                    Dell Laptop           64   \n",
       "1          1350                             Children's heaters           63   \n",
       "2          1004      Field & Stream Sportsman 16 Gun Fire Safe           45   \n",
       "3           835  Bridgestone e6 Straight Distance NFL Carolina           37   \n",
       "4            44     adidas Men's F10 Messi TRX FG Soccer Cleat            3   \n",
       "..          ...                                            ...          ...   \n",
       "113         226              Bowflex SelectTech 1090 Dumbbells           11   \n",
       "114         677            TaylorMade White Smoke IN-12 Putter           31   \n",
       "115         777                         Bag Boy M330 Push Cart           35   \n",
       "116         303              Garmin Forerunner 910XT GPS Watch           38   \n",
       "117         671  Cleveland Golf Collegiate My Custom Wedge 588           31   \n",
       "\n",
       "     department_id        price  \\\n",
       "0               10  1500.000000   \n",
       "1                4   357.100006   \n",
       "2                7   399.980011   \n",
       "3                6    31.990000   \n",
       "4                2    59.990002   \n",
       "..             ...          ...   \n",
       "113              3   599.989990   \n",
       "114              6    99.989998   \n",
       "115              6    79.989998   \n",
       "116              6   399.989990   \n",
       "117              6   209.990005   \n",
       "\n",
       "                                         product_image  \n",
       "0          http://images.acmesports.sports/Dell+Laptop  \n",
       "1     http://images.acmesports.sports/Children+heaters  \n",
       "2    http://images.acmesports.sports/Field+%26+Stre...  \n",
       "3    http://images.acmesports.sports/Bridgestone+e6...  \n",
       "4    http://images.acmesports.sports/adidas+Men%27s...  \n",
       "..                                                 ...  \n",
       "113  http://images.acmesports.sports/Bowflex+Select...  \n",
       "114  http://images.acmesports.sports/TaylorMade+Whi...  \n",
       "115  http://images.acmesports.sports/Bag+Boy+M330+P...  \n",
       "116  http://images.acmesports.sports/Garmin+Forerun...  \n",
       "117  http://images.acmesports.sports/Cleveland+Golf...  \n",
       "\n",
       "[118 rows x 6 columns]"
      ]
     },
     "execution_count": 22,
     "metadata": {},
     "output_type": "execute_result"
    }
   ],
   "source": [
    "products"
   ]
  },
  {
   "cell_type": "markdown",
   "id": "f9e322c5-5f6b-4573-b39c-efe154f7b1f4",
   "metadata": {
    "tags": []
   },
   "source": [
    "### categories_departments table"
   ]
  },
  {
   "cell_type": "code",
   "execution_count": 23,
   "id": "fb5a723f-3f4e-4e34-8c6e-99fd5a3c5d23",
   "metadata": {
    "tags": []
   },
   "outputs": [
    {
     "data": {
      "text/plain": [
       "9     76\n",
       "47    75\n",
       "46    74\n",
       "31    73\n",
       "0     72\n",
       "      ..\n",
       "45     6\n",
       "13     5\n",
       "11     4\n",
       "41     3\n",
       "20     2\n",
       "Name: category_id, Length: 51, dtype: int64"
      ]
     },
     "execution_count": 23,
     "metadata": {},
     "output_type": "execute_result"
    }
   ],
   "source": [
    "categories_departments['category_id'].drop_duplicates().sort_values(ascending=False)"
   ]
  },
  {
   "cell_type": "code",
   "execution_count": 24,
   "id": "d112c916-73ca-4550-9106-9a8f41166313",
   "metadata": {
    "tags": []
   },
   "outputs": [],
   "source": [
    "categories_departments['category_id'] = categories_departments['category_id'].astype('int16')"
   ]
  },
  {
   "cell_type": "code",
   "execution_count": 25,
   "id": "af9acbbf-86b5-4670-8860-c15ae60c31bd",
   "metadata": {
    "tags": []
   },
   "outputs": [
    {
     "data": {
      "text/plain": [
       "18    12\n",
       "0     11\n",
       "3     10\n",
       "10     9\n",
       "5      8\n",
       "12     7\n",
       "6      6\n",
       "14     5\n",
       "2      4\n",
       "1      3\n",
       "8      2\n",
       "Name: department_id, dtype: int64"
      ]
     },
     "execution_count": 25,
     "metadata": {},
     "output_type": "execute_result"
    }
   ],
   "source": [
    "categories_departments['department_id'].drop_duplicates().sort_values(ascending=False)"
   ]
  },
  {
   "cell_type": "code",
   "execution_count": 26,
   "id": "b9c42cae-9041-4310-b2e2-4fa09d960d40",
   "metadata": {
    "tags": []
   },
   "outputs": [],
   "source": [
    "categories_departments['department_id'] = categories_departments['department_id'].astype('int8')"
   ]
  },
  {
   "cell_type": "code",
   "execution_count": 27,
   "id": "6e04cbcd-6851-46b8-b39d-13f9ed42123e",
   "metadata": {
    "tags": []
   },
   "outputs": [
    {
     "data": {
      "text/plain": [
       "category_id       int16\n",
       "category         object\n",
       "department_id      int8\n",
       "department       object\n",
       "dtype: object"
      ]
     },
     "execution_count": 27,
     "metadata": {},
     "output_type": "execute_result"
    }
   ],
   "source": [
    "categories_departments.dtypes"
   ]
  },
  {
   "cell_type": "code",
   "execution_count": 28,
   "id": "28aaef36-6af0-463b-bb90-44d66b6e477e",
   "metadata": {
    "tags": []
   },
   "outputs": [
    {
     "data": {
      "text/html": [
       "<div>\n",
       "<style scoped>\n",
       "    .dataframe tbody tr th:only-of-type {\n",
       "        vertical-align: middle;\n",
       "    }\n",
       "\n",
       "    .dataframe tbody tr th {\n",
       "        vertical-align: top;\n",
       "    }\n",
       "\n",
       "    .dataframe thead th {\n",
       "        text-align: right;\n",
       "    }\n",
       "</style>\n",
       "<table border=\"1\" class=\"dataframe\">\n",
       "  <thead>\n",
       "    <tr style=\"text-align: right;\">\n",
       "      <th></th>\n",
       "      <th>category_id</th>\n",
       "      <th>category</th>\n",
       "      <th>department_id</th>\n",
       "      <th>department</th>\n",
       "    </tr>\n",
       "  </thead>\n",
       "  <tbody>\n",
       "    <tr>\n",
       "      <th>0</th>\n",
       "      <td>72</td>\n",
       "      <td>Pet Supplies</td>\n",
       "      <td>11</td>\n",
       "      <td>Pet Shop</td>\n",
       "    </tr>\n",
       "    <tr>\n",
       "      <th>1</th>\n",
       "      <td>16</td>\n",
       "      <td>As Seen on  TV!</td>\n",
       "      <td>3</td>\n",
       "      <td>Footwear</td>\n",
       "    </tr>\n",
       "    <tr>\n",
       "      <th>2</th>\n",
       "      <td>60</td>\n",
       "      <td>Baby</td>\n",
       "      <td>4</td>\n",
       "      <td>Apparel</td>\n",
       "    </tr>\n",
       "    <tr>\n",
       "      <th>3</th>\n",
       "      <td>65</td>\n",
       "      <td>Consumer Electronics</td>\n",
       "      <td>10</td>\n",
       "      <td>Technology</td>\n",
       "    </tr>\n",
       "    <tr>\n",
       "      <th>4</th>\n",
       "      <td>70</td>\n",
       "      <td>Men's Clothing</td>\n",
       "      <td>4</td>\n",
       "      <td>Apparel</td>\n",
       "    </tr>\n",
       "    <tr>\n",
       "      <th>...</th>\n",
       "      <td>...</td>\n",
       "      <td>...</td>\n",
       "      <td>...</td>\n",
       "      <td>...</td>\n",
       "    </tr>\n",
       "    <tr>\n",
       "      <th>46</th>\n",
       "      <td>74</td>\n",
       "      <td>Toys</td>\n",
       "      <td>7</td>\n",
       "      <td>Fan Shop</td>\n",
       "    </tr>\n",
       "    <tr>\n",
       "      <th>47</th>\n",
       "      <td>75</td>\n",
       "      <td>Video Games</td>\n",
       "      <td>9</td>\n",
       "      <td>Discs Shop</td>\n",
       "    </tr>\n",
       "    <tr>\n",
       "      <th>48</th>\n",
       "      <td>9</td>\n",
       "      <td>Cardio Equipment</td>\n",
       "      <td>3</td>\n",
       "      <td>Footwear</td>\n",
       "    </tr>\n",
       "    <tr>\n",
       "      <th>49</th>\n",
       "      <td>62</td>\n",
       "      <td>Cameras</td>\n",
       "      <td>10</td>\n",
       "      <td>Technology</td>\n",
       "    </tr>\n",
       "    <tr>\n",
       "      <th>50</th>\n",
       "      <td>30</td>\n",
       "      <td>Men's Golf Clubs</td>\n",
       "      <td>6</td>\n",
       "      <td>Outdoors</td>\n",
       "    </tr>\n",
       "  </tbody>\n",
       "</table>\n",
       "<p>51 rows × 4 columns</p>\n",
       "</div>"
      ],
      "text/plain": [
       "    category_id              category  department_id  department\n",
       "0            72          Pet Supplies             11    Pet Shop\n",
       "1            16       As Seen on  TV!              3    Footwear\n",
       "2            60                 Baby               4     Apparel\n",
       "3            65  Consumer Electronics             10  Technology\n",
       "4            70        Men's Clothing              4     Apparel\n",
       "..          ...                   ...            ...         ...\n",
       "46           74                  Toys              7    Fan Shop\n",
       "47           75           Video Games              9  Discs Shop\n",
       "48            9      Cardio Equipment              3    Footwear\n",
       "49           62              Cameras              10  Technology\n",
       "50           30      Men's Golf Clubs              6    Outdoors\n",
       "\n",
       "[51 rows x 4 columns]"
      ]
     },
     "execution_count": 28,
     "metadata": {},
     "output_type": "execute_result"
    }
   ],
   "source": [
    "categories_departments"
   ]
  },
  {
   "cell_type": "markdown",
   "id": "3c43131a-f6b0-4357-b4f7-1b8d6d9c7acd",
   "metadata": {
    "tags": []
   },
   "source": [
    "### orders table"
   ]
  },
  {
   "cell_type": "code",
   "execution_count": 29,
   "id": "eba427b2-c383-469d-b215-c845bb888d5b",
   "metadata": {
    "tags": []
   },
   "outputs": [
    {
     "data": {
      "text/plain": [
       "49740     77204\n",
       "84559     77203\n",
       "88093     77202\n",
       "22678     77201\n",
       "131160    77200\n",
       "          ...  \n",
       "33042         7\n",
       "24993         5\n",
       "10993         4\n",
       "28926         2\n",
       "105188        1\n",
       "Name: order_id, Length: 65752, dtype: int64"
      ]
     },
     "execution_count": 29,
     "metadata": {},
     "output_type": "execute_result"
    }
   ],
   "source": [
    "orders['order_id'].drop_duplicates().sort_values(ascending=False)"
   ]
  },
  {
   "cell_type": "code",
   "execution_count": 30,
   "id": "7e2837ab-fc4a-4625-8240-b47a5f7fee2c",
   "metadata": {
    "tags": []
   },
   "outputs": [],
   "source": [
    "orders['order_id'] = orders['order_id'].astype('int32')"
   ]
  },
  {
   "cell_type": "code",
   "execution_count": 31,
   "id": "5c0874e4-da60-4f0c-8c32-56a36338b734",
   "metadata": {
    "tags": []
   },
   "outputs": [
    {
     "data": {
      "text/plain": [
       "49740     180519\n",
       "84559     180518\n",
       "88093     180517\n",
       "22678     180516\n",
       "131160    180515\n",
       "           ...  \n",
       "10993          5\n",
       "58160          4\n",
       "28926          3\n",
       "169389         2\n",
       "105188         1\n",
       "Name: transaction_id, Length: 180519, dtype: int64"
      ]
     },
     "execution_count": 31,
     "metadata": {},
     "output_type": "execute_result"
    }
   ],
   "source": [
    "orders['transaction_id'].drop_duplicates().sort_values(ascending=False)"
   ]
  },
  {
   "cell_type": "code",
   "execution_count": 32,
   "id": "e04ec6c0-7f20-4859-a462-51e54c7ebce8",
   "metadata": {
    "tags": []
   },
   "outputs": [],
   "source": [
    "orders['transaction_id'] = orders['transaction_id'].astype('int32')"
   ]
  },
  {
   "cell_type": "code",
   "execution_count": 33,
   "id": "fc6f6ab1-da70-452d-b3a8-820a53933c6a",
   "metadata": {
    "tags": []
   },
   "outputs": [
    {
     "data": {
      "text/plain": [
       "49740     20757\n",
       "84559     20756\n",
       "88093     20755\n",
       "22678     20754\n",
       "131160    20753\n",
       "          ...  \n",
       "8659          5\n",
       "3359          4\n",
       "469           3\n",
       "2144          2\n",
       "162421        1\n",
       "Name: customer_id, Length: 20652, dtype: int64"
      ]
     },
     "execution_count": 33,
     "metadata": {},
     "output_type": "execute_result"
    }
   ],
   "source": [
    "orders['customer_id'].drop_duplicates().sort_values(ascending=False)"
   ]
  },
  {
   "cell_type": "code",
   "execution_count": 34,
   "id": "414d4beb-e448-4a72-9db2-ea4edef860da",
   "metadata": {},
   "outputs": [],
   "source": [
    "orders['customer_id'] = orders['customer_id'].astype('int32')"
   ]
  },
  {
   "cell_type": "code",
   "execution_count": 35,
   "id": "a72b64a3-4695-4ec4-bf8d-acfbe69d5f47",
   "metadata": {
    "tags": []
   },
   "outputs": [
    {
     "data": {
      "text/plain": [
       "98      1363\n",
       "189     1362\n",
       "364     1361\n",
       "30      1360\n",
       "834     1359\n",
       "        ... \n",
       "475       44\n",
       "68        37\n",
       "3109      35\n",
       "3416      24\n",
       "1353      19\n",
       "Name: product_id, Length: 118, dtype: int64"
      ]
     },
     "execution_count": 35,
     "metadata": {},
     "output_type": "execute_result"
    }
   ],
   "source": [
    "orders['product_id'].drop_duplicates().sort_values(ascending=False)"
   ]
  },
  {
   "cell_type": "code",
   "execution_count": 36,
   "id": "50e882c5-037c-4c0e-b06a-dc502469ddb4",
   "metadata": {},
   "outputs": [],
   "source": [
    "orders['product_id'] = orders['product_id'].astype('int16')"
   ]
  },
  {
   "cell_type": "code",
   "execution_count": 37,
   "id": "4afd99c0-e12f-4057-83a1-4c7d41e27db7",
   "metadata": {
    "tags": []
   },
   "outputs": [
    {
     "data": {
      "text/plain": [
       "15427    1999.99\n",
       "750      1500.00\n",
       "61632     999.99\n",
       "21324     599.99\n",
       "122       532.58\n",
       "          ...   \n",
       "602        15.99\n",
       "48         14.99\n",
       "364        11.54\n",
       "264        11.29\n",
       "139         9.99\n",
       "Name: price, Length: 75, dtype: float64"
      ]
     },
     "execution_count": 37,
     "metadata": {},
     "output_type": "execute_result"
    }
   ],
   "source": [
    "orders['price'].drop_duplicates().sort_values(ascending=False)"
   ]
  },
  {
   "cell_type": "code",
   "execution_count": 38,
   "id": "ef205e25-173a-48c8-8c5f-a94ac15db117",
   "metadata": {},
   "outputs": [],
   "source": [
    "orders['price'] = orders['price'].astype('float32')"
   ]
  },
  {
   "cell_type": "code",
   "execution_count": 39,
   "id": "c1e1ba41-0104-44c3-bd2b-8dc5ee1acabf",
   "metadata": {
    "tags": []
   },
   "outputs": [
    {
     "data": {
      "text/plain": [
       "9    5\n",
       "6    4\n",
       "7    3\n",
       "4    2\n",
       "0    1\n",
       "Name: quantity, dtype: object"
      ]
     },
     "execution_count": 39,
     "metadata": {},
     "output_type": "execute_result"
    }
   ],
   "source": [
    "orders['quantity'].drop_duplicates().sort_values(ascending=False)"
   ]
  },
  {
   "cell_type": "code",
   "execution_count": 40,
   "id": "c986150a-a4d1-4d3d-b990-1e2464e01cde",
   "metadata": {},
   "outputs": [],
   "source": [
    "orders['quantity'] = orders['quantity'].astype('int16')"
   ]
  },
  {
   "cell_type": "code",
   "execution_count": 41,
   "id": "9a516b5c-aeb7-4c19-9bad-409562aa314c",
   "metadata": {
    "tags": []
   },
   "outputs": [
    {
     "data": {
      "text/plain": [
       "15427    1999.99\n",
       "750      1500.00\n",
       "61632     999.99\n",
       "21324     599.99\n",
       "122       532.58\n",
       "          ...   \n",
       "602        15.99\n",
       "48         14.99\n",
       "364        11.54\n",
       "264        11.29\n",
       "1781        9.99\n",
       "Name: gross_sale, Length: 193, dtype: float64"
      ]
     },
     "execution_count": 41,
     "metadata": {},
     "output_type": "execute_result"
    }
   ],
   "source": [
    "orders['gross_sale'].drop_duplicates().sort_values(ascending=False)"
   ]
  },
  {
   "cell_type": "code",
   "execution_count": 42,
   "id": "2070626e-594d-4895-9bf5-228f89e971a9",
   "metadata": {},
   "outputs": [],
   "source": [
    "orders['gross_sale'] = orders['gross_sale'].astype('float32')"
   ]
  },
  {
   "cell_type": "code",
   "execution_count": 43,
   "id": "a6f7c8ae-5830-4284-90ad-d4a9078595cf",
   "metadata": {
    "tags": []
   },
   "outputs": [
    {
     "data": {
      "text/plain": [
       "4             0.25\n",
       "9      0.200000003\n",
       "26     0.180000007\n",
       "25     0.170000002\n",
       "41     0.159999996\n",
       "1      0.150000006\n",
       "19     0.129999995\n",
       "18     0.119999997\n",
       "0      0.100000001\n",
       "75     0.090000004\n",
       "40            0.07\n",
       "7      0.055013753\n",
       "6      0.050000001\n",
       "22     0.039999999\n",
       "13     0.029999999\n",
       "11            0.02\n",
       "114           0.01\n",
       "23               0\n",
       "Name: discount_pct, dtype: object"
      ]
     },
     "execution_count": 43,
     "metadata": {},
     "output_type": "execute_result"
    }
   ],
   "source": [
    "orders['discount_pct'].drop_duplicates().sort_values(ascending=False)"
   ]
  },
  {
   "cell_type": "code",
   "execution_count": 44,
   "id": "bdc43c16-560f-4761-b70c-26f3f6ad4879",
   "metadata": {},
   "outputs": [],
   "source": [
    "orders['discount_pct'] = orders['discount_pct'].astype('float32')"
   ]
  },
  {
   "cell_type": "code",
   "execution_count": 45,
   "id": "2b2795ad-40ec-4112-8a89-aaf014fe871d",
   "metadata": {
    "tags": []
   },
   "outputs": [
    {
     "data": {
      "text/plain": [
       "116065    500.00\n",
       "54761     400.00\n",
       "9008      375.00\n",
       "55183     360.00\n",
       "97849     340.00\n",
       "           ...  \n",
       "2386        0.15\n",
       "12721       0.12\n",
       "3214        0.11\n",
       "148080      0.10\n",
       "23          0.00\n",
       "Name: discount, Length: 1017, dtype: float64"
      ]
     },
     "execution_count": 45,
     "metadata": {},
     "output_type": "execute_result"
    }
   ],
   "source": [
    "orders['discount'].drop_duplicates().sort_values(ascending=False)"
   ]
  },
  {
   "cell_type": "code",
   "execution_count": 46,
   "id": "3686be6b-7b20-402d-a10b-a9b9e3ed624b",
   "metadata": {},
   "outputs": [],
   "source": [
    "orders['discount'] = orders['discount'].astype('float32')"
   ]
  },
  {
   "cell_type": "code",
   "execution_count": 47,
   "id": "8966f513-f2c7-40fd-8ef3-effa1c2caa19",
   "metadata": {
    "tags": []
   },
   "outputs": [
    {
     "data": {
      "text/plain": [
       "53637     1939.99\n",
       "36817     1919.99\n",
       "44264     1899.99\n",
       "32885     1889.99\n",
       "127983    1859.99\n",
       "           ...   \n",
       "46277        8.39\n",
       "23328        8.29\n",
       "51262        8.19\n",
       "27514        7.99\n",
       "19974        7.49\n",
       "Name: net_sale, Length: 2931, dtype: float64"
      ]
     },
     "execution_count": 47,
     "metadata": {},
     "output_type": "execute_result"
    }
   ],
   "source": [
    "orders['net_sale'].drop_duplicates().sort_values(ascending=False)"
   ]
  },
  {
   "cell_type": "code",
   "execution_count": 48,
   "id": "e9649fdb-348e-4e58-a4bc-844530b4456c",
   "metadata": {},
   "outputs": [],
   "source": [
    "orders['net_sale'] = orders['net_sale'].astype('float32')"
   ]
  },
  {
   "cell_type": "code",
   "execution_count": 49,
   "id": "d205f947-e002-4f1f-b3ab-76b3b9f298d5",
   "metadata": {
    "tags": []
   },
   "outputs": [
    {
     "data": {
      "text/plain": [
       "order_id                   int32\n",
       "transaction_id             int32\n",
       "customer_id                int32\n",
       "order_date        datetime64[ns]\n",
       "payment_type              object\n",
       "product_id                 int16\n",
       "price                    float32\n",
       "quantity                   int16\n",
       "gross_sale               float32\n",
       "discount_pct             float32\n",
       "discount                 float16\n",
       "net_sale                 float32\n",
       "dtype: object"
      ]
     },
     "execution_count": 49,
     "metadata": {},
     "output_type": "execute_result"
    }
   ],
   "source": [
    "orders.dtypes"
   ]
  },
  {
   "cell_type": "code",
   "execution_count": 50,
   "id": "118a4e65-aedd-42af-a6ab-823001d051e5",
   "metadata": {
    "tags": []
   },
   "outputs": [
    {
     "data": {
      "text/html": [
       "<div>\n",
       "<style scoped>\n",
       "    .dataframe tbody tr th:only-of-type {\n",
       "        vertical-align: middle;\n",
       "    }\n",
       "\n",
       "    .dataframe tbody tr th {\n",
       "        vertical-align: top;\n",
       "    }\n",
       "\n",
       "    .dataframe thead th {\n",
       "        text-align: right;\n",
       "    }\n",
       "</style>\n",
       "<table border=\"1\" class=\"dataframe\">\n",
       "  <thead>\n",
       "    <tr style=\"text-align: right;\">\n",
       "      <th></th>\n",
       "      <th>order_id</th>\n",
       "      <th>transaction_id</th>\n",
       "      <th>customer_id</th>\n",
       "      <th>order_date</th>\n",
       "      <th>payment_type</th>\n",
       "      <th>product_id</th>\n",
       "      <th>price</th>\n",
       "      <th>quantity</th>\n",
       "      <th>gross_sale</th>\n",
       "      <th>discount_pct</th>\n",
       "      <th>discount</th>\n",
       "      <th>net_sale</th>\n",
       "    </tr>\n",
       "  </thead>\n",
       "  <tbody>\n",
       "    <tr>\n",
       "      <th>0</th>\n",
       "      <td>5853</td>\n",
       "      <td>14565</td>\n",
       "      <td>9485</td>\n",
       "      <td>2015-03-27 10:12:00</td>\n",
       "      <td>PAYMENT</td>\n",
       "      <td>1004</td>\n",
       "      <td>399.980011</td>\n",
       "      <td>1</td>\n",
       "      <td>399.980011</td>\n",
       "      <td>0.10</td>\n",
       "      <td>40.000000</td>\n",
       "      <td>359.980011</td>\n",
       "    </tr>\n",
       "    <tr>\n",
       "      <th>1</th>\n",
       "      <td>65537</td>\n",
       "      <td>163801</td>\n",
       "      <td>968</td>\n",
       "      <td>2017-08-14 16:10:00</td>\n",
       "      <td>DEBIT</td>\n",
       "      <td>1073</td>\n",
       "      <td>199.990005</td>\n",
       "      <td>1</td>\n",
       "      <td>199.990005</td>\n",
       "      <td>0.15</td>\n",
       "      <td>30.000000</td>\n",
       "      <td>169.990005</td>\n",
       "    </tr>\n",
       "    <tr>\n",
       "      <th>2</th>\n",
       "      <td>22961</td>\n",
       "      <td>57465</td>\n",
       "      <td>3860</td>\n",
       "      <td>2015-12-02 03:54:00</td>\n",
       "      <td>PAYMENT</td>\n",
       "      <td>403</td>\n",
       "      <td>129.990005</td>\n",
       "      <td>1</td>\n",
       "      <td>129.990005</td>\n",
       "      <td>0.10</td>\n",
       "      <td>13.000000</td>\n",
       "      <td>116.989998</td>\n",
       "    </tr>\n",
       "    <tr>\n",
       "      <th>3</th>\n",
       "      <td>14430</td>\n",
       "      <td>36094</td>\n",
       "      <td>11937</td>\n",
       "      <td>2015-07-30 15:07:00</td>\n",
       "      <td>PAYMENT</td>\n",
       "      <td>191</td>\n",
       "      <td>99.989998</td>\n",
       "      <td>1</td>\n",
       "      <td>99.989998</td>\n",
       "      <td>0.15</td>\n",
       "      <td>15.000000</td>\n",
       "      <td>84.989998</td>\n",
       "    </tr>\n",
       "    <tr>\n",
       "      <th>4</th>\n",
       "      <td>49042</td>\n",
       "      <td>122621</td>\n",
       "      <td>10713</td>\n",
       "      <td>2016-12-16 21:14:00</td>\n",
       "      <td>TRANSFER</td>\n",
       "      <td>365</td>\n",
       "      <td>59.990002</td>\n",
       "      <td>2</td>\n",
       "      <td>119.980003</td>\n",
       "      <td>0.25</td>\n",
       "      <td>30.000000</td>\n",
       "      <td>89.980003</td>\n",
       "    </tr>\n",
       "    <tr>\n",
       "      <th>...</th>\n",
       "      <td>...</td>\n",
       "      <td>...</td>\n",
       "      <td>...</td>\n",
       "      <td>...</td>\n",
       "      <td>...</td>\n",
       "      <td>...</td>\n",
       "      <td>...</td>\n",
       "      <td>...</td>\n",
       "      <td>...</td>\n",
       "      <td>...</td>\n",
       "      <td>...</td>\n",
       "      <td>...</td>\n",
       "    </tr>\n",
       "    <tr>\n",
       "      <th>180514</th>\n",
       "      <td>65752</td>\n",
       "      <td>164333</td>\n",
       "      <td>5049</td>\n",
       "      <td>2017-08-17 19:30:00</td>\n",
       "      <td>DEBIT</td>\n",
       "      <td>1004</td>\n",
       "      <td>399.980011</td>\n",
       "      <td>1</td>\n",
       "      <td>399.980011</td>\n",
       "      <td>0.07</td>\n",
       "      <td>28.000000</td>\n",
       "      <td>371.980011</td>\n",
       "    </tr>\n",
       "    <tr>\n",
       "      <th>180515</th>\n",
       "      <td>1044</td>\n",
       "      <td>2603</td>\n",
       "      <td>2444</td>\n",
       "      <td>2015-01-16 05:24:00</td>\n",
       "      <td>PAYMENT</td>\n",
       "      <td>1014</td>\n",
       "      <td>49.980000</td>\n",
       "      <td>5</td>\n",
       "      <td>249.899994</td>\n",
       "      <td>0.13</td>\n",
       "      <td>32.500000</td>\n",
       "      <td>217.410004</td>\n",
       "    </tr>\n",
       "    <tr>\n",
       "      <th>180516</th>\n",
       "      <td>4049</td>\n",
       "      <td>10066</td>\n",
       "      <td>7956</td>\n",
       "      <td>2015-03-01 02:11:00</td>\n",
       "      <td>PAYMENT</td>\n",
       "      <td>1014</td>\n",
       "      <td>49.980000</td>\n",
       "      <td>1</td>\n",
       "      <td>49.980000</td>\n",
       "      <td>0.00</td>\n",
       "      <td>0.000000</td>\n",
       "      <td>49.980000</td>\n",
       "    </tr>\n",
       "    <tr>\n",
       "      <th>180517</th>\n",
       "      <td>8546</td>\n",
       "      <td>21325</td>\n",
       "      <td>12192</td>\n",
       "      <td>2015-05-05 17:41:00</td>\n",
       "      <td>PAYMENT</td>\n",
       "      <td>403</td>\n",
       "      <td>129.990005</td>\n",
       "      <td>1</td>\n",
       "      <td>129.990005</td>\n",
       "      <td>0.12</td>\n",
       "      <td>15.601562</td>\n",
       "      <td>114.389999</td>\n",
       "    </tr>\n",
       "    <tr>\n",
       "      <th>180518</th>\n",
       "      <td>44787</td>\n",
       "      <td>111863</td>\n",
       "      <td>2761</td>\n",
       "      <td>2016-10-15 18:31:00</td>\n",
       "      <td>DEBIT</td>\n",
       "      <td>957</td>\n",
       "      <td>299.980011</td>\n",
       "      <td>1</td>\n",
       "      <td>299.980011</td>\n",
       "      <td>0.01</td>\n",
       "      <td>3.000000</td>\n",
       "      <td>296.980011</td>\n",
       "    </tr>\n",
       "  </tbody>\n",
       "</table>\n",
       "<p>180519 rows × 12 columns</p>\n",
       "</div>"
      ],
      "text/plain": [
       "        order_id  transaction_id  customer_id          order_date  \\\n",
       "0           5853           14565         9485 2015-03-27 10:12:00   \n",
       "1          65537          163801          968 2017-08-14 16:10:00   \n",
       "2          22961           57465         3860 2015-12-02 03:54:00   \n",
       "3          14430           36094        11937 2015-07-30 15:07:00   \n",
       "4          49042          122621        10713 2016-12-16 21:14:00   \n",
       "...          ...             ...          ...                 ...   \n",
       "180514     65752          164333         5049 2017-08-17 19:30:00   \n",
       "180515      1044            2603         2444 2015-01-16 05:24:00   \n",
       "180516      4049           10066         7956 2015-03-01 02:11:00   \n",
       "180517      8546           21325        12192 2015-05-05 17:41:00   \n",
       "180518     44787          111863         2761 2016-10-15 18:31:00   \n",
       "\n",
       "       payment_type  product_id       price  quantity  gross_sale  \\\n",
       "0           PAYMENT        1004  399.980011         1  399.980011   \n",
       "1             DEBIT        1073  199.990005         1  199.990005   \n",
       "2           PAYMENT         403  129.990005         1  129.990005   \n",
       "3           PAYMENT         191   99.989998         1   99.989998   \n",
       "4          TRANSFER         365   59.990002         2  119.980003   \n",
       "...             ...         ...         ...       ...         ...   \n",
       "180514        DEBIT        1004  399.980011         1  399.980011   \n",
       "180515      PAYMENT        1014   49.980000         5  249.899994   \n",
       "180516      PAYMENT        1014   49.980000         1   49.980000   \n",
       "180517      PAYMENT         403  129.990005         1  129.990005   \n",
       "180518        DEBIT         957  299.980011         1  299.980011   \n",
       "\n",
       "        discount_pct   discount    net_sale  \n",
       "0               0.10  40.000000  359.980011  \n",
       "1               0.15  30.000000  169.990005  \n",
       "2               0.10  13.000000  116.989998  \n",
       "3               0.15  15.000000   84.989998  \n",
       "4               0.25  30.000000   89.980003  \n",
       "...              ...        ...         ...  \n",
       "180514          0.07  28.000000  371.980011  \n",
       "180515          0.13  32.500000  217.410004  \n",
       "180516          0.00   0.000000   49.980000  \n",
       "180517          0.12  15.601562  114.389999  \n",
       "180518          0.01   3.000000  296.980011  \n",
       "\n",
       "[180519 rows x 12 columns]"
      ]
     },
     "execution_count": 50,
     "metadata": {},
     "output_type": "execute_result"
    }
   ],
   "source": [
    "orders"
   ]
  },
  {
   "cell_type": "markdown",
   "id": "9615b18a-e389-4555-b8e2-b133566f6763",
   "metadata": {},
   "source": [
    "### orders_ratio table"
   ]
  },
  {
   "cell_type": "code",
   "execution_count": 51,
   "id": "fa314c34-7c97-468e-b6be-da6e27609f28",
   "metadata": {},
   "outputs": [
    {
     "data": {
      "text/plain": [
       "53637     1939.98999\n",
       "36817     1919.98999\n",
       "44264     1899.98999\n",
       "32885     1889.98999\n",
       "127983    1859.98999\n",
       "             ...    \n",
       "46277        8.39000\n",
       "23328        8.29000\n",
       "51262        8.19000\n",
       "27514        7.99000\n",
       "19974        7.49000\n",
       "Name: net_sale, Length: 2931, dtype: float32"
      ]
     },
     "execution_count": 51,
     "metadata": {},
     "output_type": "execute_result"
    }
   ],
   "source": [
    "orders['net_sale'].drop_duplicates().sort_values(ascending=False)"
   ]
  },
  {
   "cell_type": "code",
   "execution_count": 52,
   "id": "d9e7e982-2f7e-49b8-a785-91bb6bf03b3e",
   "metadata": {
    "tags": []
   },
   "outputs": [],
   "source": [
    "orders_ratio['order_id'] = orders_ratio['order_id'].astype('int32')\n",
    "orders_ratio['transaction_id'] = orders_ratio['transaction_id'].astype('int32')\n",
    "orders_ratio['customer_id'] = orders_ratio['customer_id'].astype('int32')\n",
    "orders_ratio['net_sale'] = orders_ratio['net_sale'].astype('float32')\n",
    "orders_ratio['item_profit_ratio'] = orders_ratio['item_profit_ratio'].astype('float32')\n",
    "orders_ratio['profit_per_order'] = orders_ratio['profit_per_order'].astype('float32')\n",
    "orders_ratio['benefit_per_order'] = orders_ratio['benefit_per_order'].astype('float32')\n",
    "orders_ratio['sales_per_customer'] = orders_ratio['sales_per_customer'].astype('float32')"
   ]
  },
  {
   "cell_type": "code",
   "execution_count": 53,
   "id": "6ce5f435-dc43-4ee8-9703-7910d145de82",
   "metadata": {
    "tags": []
   },
   "outputs": [
    {
     "data": {
      "text/plain": [
       "order_id                       int32\n",
       "transaction_id                 int32\n",
       "customer_id                    int32\n",
       "order_date            datetime64[ns]\n",
       "net_sale                     float32\n",
       "item_profit_ratio            float32\n",
       "profit_per_order             float32\n",
       "benefit_per_order            float32\n",
       "sales_per_customer           float32\n",
       "dtype: object"
      ]
     },
     "execution_count": 53,
     "metadata": {},
     "output_type": "execute_result"
    }
   ],
   "source": [
    "orders_ratio.dtypes"
   ]
  },
  {
   "cell_type": "code",
   "execution_count": 54,
   "id": "89e8b68c-8033-4f7a-9997-adbc4a73523a",
   "metadata": {
    "tags": []
   },
   "outputs": [
    {
     "data": {
      "text/html": [
       "<div>\n",
       "<style scoped>\n",
       "    .dataframe tbody tr th:only-of-type {\n",
       "        vertical-align: middle;\n",
       "    }\n",
       "\n",
       "    .dataframe tbody tr th {\n",
       "        vertical-align: top;\n",
       "    }\n",
       "\n",
       "    .dataframe thead th {\n",
       "        text-align: right;\n",
       "    }\n",
       "</style>\n",
       "<table border=\"1\" class=\"dataframe\">\n",
       "  <thead>\n",
       "    <tr style=\"text-align: right;\">\n",
       "      <th></th>\n",
       "      <th>order_id</th>\n",
       "      <th>transaction_id</th>\n",
       "      <th>customer_id</th>\n",
       "      <th>order_date</th>\n",
       "      <th>net_sale</th>\n",
       "      <th>item_profit_ratio</th>\n",
       "      <th>profit_per_order</th>\n",
       "      <th>benefit_per_order</th>\n",
       "      <th>sales_per_customer</th>\n",
       "    </tr>\n",
       "  </thead>\n",
       "  <tbody>\n",
       "    <tr>\n",
       "      <th>0</th>\n",
       "      <td>20886</td>\n",
       "      <td>52187</td>\n",
       "      <td>3074</td>\n",
       "      <td>2015-11-01 20:56:00</td>\n",
       "      <td>107.889999</td>\n",
       "      <td>-0.16</td>\n",
       "      <td>-16.940001</td>\n",
       "      <td>-16.940001</td>\n",
       "      <td>107.889999</td>\n",
       "    </tr>\n",
       "    <tr>\n",
       "      <th>1</th>\n",
       "      <td>16431</td>\n",
       "      <td>41020</td>\n",
       "      <td>1148</td>\n",
       "      <td>2015-08-28 20:09:00</td>\n",
       "      <td>172.770004</td>\n",
       "      <td>0.09</td>\n",
       "      <td>15.200000</td>\n",
       "      <td>15.200000</td>\n",
       "      <td>172.770004</td>\n",
       "    </tr>\n",
       "    <tr>\n",
       "      <th>2</th>\n",
       "      <td>9124</td>\n",
       "      <td>22767</td>\n",
       "      <td>5421</td>\n",
       "      <td>2015-05-14 04:11:00</td>\n",
       "      <td>83.650002</td>\n",
       "      <td>-0.43</td>\n",
       "      <td>-36.220001</td>\n",
       "      <td>-36.220001</td>\n",
       "      <td>83.650002</td>\n",
       "    </tr>\n",
       "    <tr>\n",
       "      <th>3</th>\n",
       "      <td>51532</td>\n",
       "      <td>128780</td>\n",
       "      <td>83</td>\n",
       "      <td>2017-01-22 05:36:00</td>\n",
       "      <td>245.960007</td>\n",
       "      <td>0.33</td>\n",
       "      <td>81.169998</td>\n",
       "      <td>81.169998</td>\n",
       "      <td>245.960007</td>\n",
       "    </tr>\n",
       "    <tr>\n",
       "      <th>4</th>\n",
       "      <td>57518</td>\n",
       "      <td>143889</td>\n",
       "      <td>6977</td>\n",
       "      <td>2017-04-19 14:46:00</td>\n",
       "      <td>286.000000</td>\n",
       "      <td>0.28</td>\n",
       "      <td>80.080002</td>\n",
       "      <td>80.080002</td>\n",
       "      <td>286.000000</td>\n",
       "    </tr>\n",
       "    <tr>\n",
       "      <th>...</th>\n",
       "      <td>...</td>\n",
       "      <td>...</td>\n",
       "      <td>...</td>\n",
       "      <td>...</td>\n",
       "      <td>...</td>\n",
       "      <td>...</td>\n",
       "      <td>...</td>\n",
       "      <td>...</td>\n",
       "      <td>...</td>\n",
       "    </tr>\n",
       "    <tr>\n",
       "      <th>180514</th>\n",
       "      <td>52466</td>\n",
       "      <td>131135</td>\n",
       "      <td>6531</td>\n",
       "      <td>2017-02-04 20:49:00</td>\n",
       "      <td>163.770004</td>\n",
       "      <td>0.45</td>\n",
       "      <td>73.699997</td>\n",
       "      <td>73.699997</td>\n",
       "      <td>163.770004</td>\n",
       "    </tr>\n",
       "    <tr>\n",
       "      <th>180515</th>\n",
       "      <td>2522</td>\n",
       "      <td>6308</td>\n",
       "      <td>10999</td>\n",
       "      <td>2015-02-06 19:13:00</td>\n",
       "      <td>185.949997</td>\n",
       "      <td>0.08</td>\n",
       "      <td>13.950000</td>\n",
       "      <td>13.950000</td>\n",
       "      <td>185.949997</td>\n",
       "    </tr>\n",
       "    <tr>\n",
       "      <th>180516</th>\n",
       "      <td>19818</td>\n",
       "      <td>49531</td>\n",
       "      <td>12217</td>\n",
       "      <td>2015-10-17 06:46:00</td>\n",
       "      <td>219.910004</td>\n",
       "      <td>0.49</td>\n",
       "      <td>107.760002</td>\n",
       "      <td>107.760002</td>\n",
       "      <td>219.910004</td>\n",
       "    </tr>\n",
       "    <tr>\n",
       "      <th>180517</th>\n",
       "      <td>26558</td>\n",
       "      <td>66497</td>\n",
       "      <td>5585</td>\n",
       "      <td>2016-01-23 16:06:00</td>\n",
       "      <td>113.089996</td>\n",
       "      <td>0.31</td>\n",
       "      <td>35.060001</td>\n",
       "      <td>35.060001</td>\n",
       "      <td>113.089996</td>\n",
       "    </tr>\n",
       "    <tr>\n",
       "      <th>180518</th>\n",
       "      <td>52490</td>\n",
       "      <td>131188</td>\n",
       "      <td>1754</td>\n",
       "      <td>2017-02-05 05:14:00</td>\n",
       "      <td>248.979996</td>\n",
       "      <td>0.49</td>\n",
       "      <td>122.000000</td>\n",
       "      <td>122.000000</td>\n",
       "      <td>248.979996</td>\n",
       "    </tr>\n",
       "  </tbody>\n",
       "</table>\n",
       "<p>180519 rows × 9 columns</p>\n",
       "</div>"
      ],
      "text/plain": [
       "        order_id  transaction_id  customer_id          order_date    net_sale  \\\n",
       "0          20886           52187         3074 2015-11-01 20:56:00  107.889999   \n",
       "1          16431           41020         1148 2015-08-28 20:09:00  172.770004   \n",
       "2           9124           22767         5421 2015-05-14 04:11:00   83.650002   \n",
       "3          51532          128780           83 2017-01-22 05:36:00  245.960007   \n",
       "4          57518          143889         6977 2017-04-19 14:46:00  286.000000   \n",
       "...          ...             ...          ...                 ...         ...   \n",
       "180514     52466          131135         6531 2017-02-04 20:49:00  163.770004   \n",
       "180515      2522            6308        10999 2015-02-06 19:13:00  185.949997   \n",
       "180516     19818           49531        12217 2015-10-17 06:46:00  219.910004   \n",
       "180517     26558           66497         5585 2016-01-23 16:06:00  113.089996   \n",
       "180518     52490          131188         1754 2017-02-05 05:14:00  248.979996   \n",
       "\n",
       "        item_profit_ratio  profit_per_order  benefit_per_order  \\\n",
       "0                   -0.16        -16.940001         -16.940001   \n",
       "1                    0.09         15.200000          15.200000   \n",
       "2                   -0.43        -36.220001         -36.220001   \n",
       "3                    0.33         81.169998          81.169998   \n",
       "4                    0.28         80.080002          80.080002   \n",
       "...                   ...               ...                ...   \n",
       "180514               0.45         73.699997          73.699997   \n",
       "180515               0.08         13.950000          13.950000   \n",
       "180516               0.49        107.760002         107.760002   \n",
       "180517               0.31         35.060001          35.060001   \n",
       "180518               0.49        122.000000         122.000000   \n",
       "\n",
       "        sales_per_customer  \n",
       "0               107.889999  \n",
       "1               172.770004  \n",
       "2                83.650002  \n",
       "3               245.960007  \n",
       "4               286.000000  \n",
       "...                    ...  \n",
       "180514          163.770004  \n",
       "180515          185.949997  \n",
       "180516          219.910004  \n",
       "180517          113.089996  \n",
       "180518          248.979996  \n",
       "\n",
       "[180519 rows x 9 columns]"
      ]
     },
     "execution_count": 54,
     "metadata": {},
     "output_type": "execute_result"
    }
   ],
   "source": [
    "orders_ratio"
   ]
  },
  {
   "cell_type": "markdown",
   "id": "a0c4f9ba-26ae-4949-bcab-4dc54289c758",
   "metadata": {},
   "source": [
    "### orders_demographic table"
   ]
  },
  {
   "cell_type": "code",
   "execution_count": 55,
   "id": "d40954b9-8690-4768-9848-9301d1c22606",
   "metadata": {
    "tags": []
   },
   "outputs": [],
   "source": [
    "orders_demographic['order_id'] = orders_demographic['order_id'].astype('int32')\n",
    "orders_demographic['transaction_id'] = orders_demographic['transaction_id'].astype('int32')\n",
    "orders_demographic['customer_id'] = orders_demographic['customer_id'].astype('int32')\n",
    "orders_demographic['latitiude'] = orders_demographic['latitiude'].astype('float32')\n",
    "orders_demographic['longitude'] = orders_demographic['longitude'].astype('float32')"
   ]
  },
  {
   "cell_type": "code",
   "execution_count": 56,
   "id": "92152d66-845f-4d50-8688-0f722d06d98b",
   "metadata": {
    "tags": []
   },
   "outputs": [
    {
     "data": {
      "text/plain": [
       "order_id                   int32\n",
       "transaction_id             int32\n",
       "order_date        datetime64[ns]\n",
       "type                      object\n",
       "customer_id                int32\n",
       "latitiude                float32\n",
       "longitude                float32\n",
       "market                    object\n",
       "region                    object\n",
       "country                   object\n",
       "state                     object\n",
       "city                      object\n",
       "zipcode                   object\n",
       "order_status              object\n",
       "dtype: object"
      ]
     },
     "execution_count": 56,
     "metadata": {},
     "output_type": "execute_result"
    }
   ],
   "source": [
    "orders_demographic.dtypes"
   ]
  },
  {
   "cell_type": "code",
   "execution_count": 60,
   "id": "641f2e71-a040-42c2-a83d-6e29e30a0bcf",
   "metadata": {
    "tags": []
   },
   "outputs": [],
   "source": [
    "orders_demographic['zipcode'] = orders_demographic['zipcode'].replace({None: float('nan')})"
   ]
  },
  {
   "cell_type": "code",
   "execution_count": 61,
   "id": "57e13380-ad91-4124-9472-5f19058471dd",
   "metadata": {
    "tags": []
   },
   "outputs": [
    {
     "data": {
      "text/html": [
       "<div>\n",
       "<style scoped>\n",
       "    .dataframe tbody tr th:only-of-type {\n",
       "        vertical-align: middle;\n",
       "    }\n",
       "\n",
       "    .dataframe tbody tr th {\n",
       "        vertical-align: top;\n",
       "    }\n",
       "\n",
       "    .dataframe thead th {\n",
       "        text-align: right;\n",
       "    }\n",
       "</style>\n",
       "<table border=\"1\" class=\"dataframe\">\n",
       "  <thead>\n",
       "    <tr style=\"text-align: right;\">\n",
       "      <th></th>\n",
       "      <th>order_id</th>\n",
       "      <th>transaction_id</th>\n",
       "      <th>order_date</th>\n",
       "      <th>type</th>\n",
       "      <th>customer_id</th>\n",
       "      <th>latitiude</th>\n",
       "      <th>longitude</th>\n",
       "      <th>market</th>\n",
       "      <th>region</th>\n",
       "      <th>country</th>\n",
       "      <th>state</th>\n",
       "      <th>city</th>\n",
       "      <th>zipcode</th>\n",
       "      <th>order_status</th>\n",
       "    </tr>\n",
       "  </thead>\n",
       "  <tbody>\n",
       "    <tr>\n",
       "      <th>0</th>\n",
       "      <td>11211</td>\n",
       "      <td>28025</td>\n",
       "      <td>2015-06-13 15:21:00</td>\n",
       "      <td>DEBIT</td>\n",
       "      <td>7537</td>\n",
       "      <td>29.455990</td>\n",
       "      <td>-98.528091</td>\n",
       "      <td>Europe</td>\n",
       "      <td>Western Europe</td>\n",
       "      <td>Austria</td>\n",
       "      <td>Viena</td>\n",
       "      <td>Viena</td>\n",
       "      <td>NaN</td>\n",
       "      <td>COMPLETE</td>\n",
       "    </tr>\n",
       "    <tr>\n",
       "      <th>1</th>\n",
       "      <td>15614</td>\n",
       "      <td>39036</td>\n",
       "      <td>2015-08-16 21:55:00</td>\n",
       "      <td>CASH</td>\n",
       "      <td>1521</td>\n",
       "      <td>33.912216</td>\n",
       "      <td>-118.352570</td>\n",
       "      <td>Europe</td>\n",
       "      <td>Western Europe</td>\n",
       "      <td>Francia</td>\n",
       "      <td>Languedoc-Rosellón-Mediodía-Pirineos</td>\n",
       "      <td>Tournefeuille</td>\n",
       "      <td>NaN</td>\n",
       "      <td>CLOSED</td>\n",
       "    </tr>\n",
       "    <tr>\n",
       "      <th>2</th>\n",
       "      <td>32801</td>\n",
       "      <td>82056</td>\n",
       "      <td>2016-04-23 19:18:00</td>\n",
       "      <td>PAYMENT</td>\n",
       "      <td>5849</td>\n",
       "      <td>38.453041</td>\n",
       "      <td>-90.306450</td>\n",
       "      <td>USCA</td>\n",
       "      <td>West of USA</td>\n",
       "      <td>Estados Unidos</td>\n",
       "      <td>California</td>\n",
       "      <td>Los Angeles</td>\n",
       "      <td>90004</td>\n",
       "      <td>PENDING_PAYMENT</td>\n",
       "    </tr>\n",
       "    <tr>\n",
       "      <th>3</th>\n",
       "      <td>64222</td>\n",
       "      <td>160566</td>\n",
       "      <td>2017-07-26 11:28:00</td>\n",
       "      <td>TRANSFER</td>\n",
       "      <td>4848</td>\n",
       "      <td>36.933971</td>\n",
       "      <td>-121.743462</td>\n",
       "      <td>Europe</td>\n",
       "      <td>Southern Europe</td>\n",
       "      <td>Italia</td>\n",
       "      <td>Piamonte</td>\n",
       "      <td>Turin</td>\n",
       "      <td>NaN</td>\n",
       "      <td>PENDING</td>\n",
       "    </tr>\n",
       "    <tr>\n",
       "      <th>4</th>\n",
       "      <td>59324</td>\n",
       "      <td>148514</td>\n",
       "      <td>2017-05-15 23:29:00</td>\n",
       "      <td>TRANSFER</td>\n",
       "      <td>4515</td>\n",
       "      <td>18.260149</td>\n",
       "      <td>-66.370552</td>\n",
       "      <td>LATAM</td>\n",
       "      <td>Central America</td>\n",
       "      <td>México</td>\n",
       "      <td>Durango</td>\n",
       "      <td>Gómez Palacio</td>\n",
       "      <td>NaN</td>\n",
       "      <td>PROCESSING</td>\n",
       "    </tr>\n",
       "    <tr>\n",
       "      <th>...</th>\n",
       "      <td>...</td>\n",
       "      <td>...</td>\n",
       "      <td>...</td>\n",
       "      <td>...</td>\n",
       "      <td>...</td>\n",
       "      <td>...</td>\n",
       "      <td>...</td>\n",
       "      <td>...</td>\n",
       "      <td>...</td>\n",
       "      <td>...</td>\n",
       "      <td>...</td>\n",
       "      <td>...</td>\n",
       "      <td>...</td>\n",
       "      <td>...</td>\n",
       "    </tr>\n",
       "    <tr>\n",
       "      <th>180514</th>\n",
       "      <td>23666</td>\n",
       "      <td>59213</td>\n",
       "      <td>2015-12-12 10:54:00</td>\n",
       "      <td>PAYMENT</td>\n",
       "      <td>4038</td>\n",
       "      <td>42.365345</td>\n",
       "      <td>-87.835899</td>\n",
       "      <td>Pacific Asia</td>\n",
       "      <td>South Asia</td>\n",
       "      <td>India</td>\n",
       "      <td>Rajastán</td>\n",
       "      <td>Ganganagar</td>\n",
       "      <td>NaN</td>\n",
       "      <td>PENDING_PAYMENT</td>\n",
       "    </tr>\n",
       "    <tr>\n",
       "      <th>180515</th>\n",
       "      <td>20487</td>\n",
       "      <td>51133</td>\n",
       "      <td>2015-10-27 01:09:00</td>\n",
       "      <td>DEBIT</td>\n",
       "      <td>698</td>\n",
       "      <td>18.227573</td>\n",
       "      <td>-66.043716</td>\n",
       "      <td>Pacific Asia</td>\n",
       "      <td>South Asia</td>\n",
       "      <td>Nepal</td>\n",
       "      <td>Central</td>\n",
       "      <td>Kathmandu</td>\n",
       "      <td>NaN</td>\n",
       "      <td>COMPLETE</td>\n",
       "    </tr>\n",
       "    <tr>\n",
       "      <th>180516</th>\n",
       "      <td>57434</td>\n",
       "      <td>143671</td>\n",
       "      <td>2017-04-18 09:20:00</td>\n",
       "      <td>PAYMENT</td>\n",
       "      <td>290</td>\n",
       "      <td>18.224083</td>\n",
       "      <td>-66.047104</td>\n",
       "      <td>LATAM</td>\n",
       "      <td>Central America</td>\n",
       "      <td>El Salvador</td>\n",
       "      <td>San Salvador</td>\n",
       "      <td>Apopa</td>\n",
       "      <td>NaN</td>\n",
       "      <td>PENDING_PAYMENT</td>\n",
       "    </tr>\n",
       "    <tr>\n",
       "      <th>180517</th>\n",
       "      <td>55055</td>\n",
       "      <td>137687</td>\n",
       "      <td>2017-03-14 15:52:00</td>\n",
       "      <td>PAYMENT</td>\n",
       "      <td>11978</td>\n",
       "      <td>18.203072</td>\n",
       "      <td>-66.370514</td>\n",
       "      <td>LATAM</td>\n",
       "      <td>South America</td>\n",
       "      <td>Colombia</td>\n",
       "      <td>Tolima</td>\n",
       "      <td>Ibagué</td>\n",
       "      <td>NaN</td>\n",
       "      <td>PAYMENT_REVIEW</td>\n",
       "    </tr>\n",
       "    <tr>\n",
       "      <th>180518</th>\n",
       "      <td>23600</td>\n",
       "      <td>59037</td>\n",
       "      <td>2015-12-11 11:46:00</td>\n",
       "      <td>CASH</td>\n",
       "      <td>597</td>\n",
       "      <td>18.351284</td>\n",
       "      <td>-65.962967</td>\n",
       "      <td>Pacific Asia</td>\n",
       "      <td>Eastern Asia</td>\n",
       "      <td>China</td>\n",
       "      <td>Anhui</td>\n",
       "      <td>Bengbu</td>\n",
       "      <td>NaN</td>\n",
       "      <td>CLOSED</td>\n",
       "    </tr>\n",
       "  </tbody>\n",
       "</table>\n",
       "<p>180519 rows × 14 columns</p>\n",
       "</div>"
      ],
      "text/plain": [
       "        order_id  transaction_id          order_date      type  customer_id  \\\n",
       "0          11211           28025 2015-06-13 15:21:00     DEBIT         7537   \n",
       "1          15614           39036 2015-08-16 21:55:00      CASH         1521   \n",
       "2          32801           82056 2016-04-23 19:18:00   PAYMENT         5849   \n",
       "3          64222          160566 2017-07-26 11:28:00  TRANSFER         4848   \n",
       "4          59324          148514 2017-05-15 23:29:00  TRANSFER         4515   \n",
       "...          ...             ...                 ...       ...          ...   \n",
       "180514     23666           59213 2015-12-12 10:54:00   PAYMENT         4038   \n",
       "180515     20487           51133 2015-10-27 01:09:00     DEBIT          698   \n",
       "180516     57434          143671 2017-04-18 09:20:00   PAYMENT          290   \n",
       "180517     55055          137687 2017-03-14 15:52:00   PAYMENT        11978   \n",
       "180518     23600           59037 2015-12-11 11:46:00      CASH          597   \n",
       "\n",
       "        latitiude   longitude        market           region         country  \\\n",
       "0       29.455990  -98.528091        Europe   Western Europe         Austria   \n",
       "1       33.912216 -118.352570        Europe   Western Europe         Francia   \n",
       "2       38.453041  -90.306450          USCA     West of USA   Estados Unidos   \n",
       "3       36.933971 -121.743462        Europe  Southern Europe          Italia   \n",
       "4       18.260149  -66.370552         LATAM  Central America          México   \n",
       "...           ...         ...           ...              ...             ...   \n",
       "180514  42.365345  -87.835899  Pacific Asia       South Asia           India   \n",
       "180515  18.227573  -66.043716  Pacific Asia       South Asia           Nepal   \n",
       "180516  18.224083  -66.047104         LATAM  Central America     El Salvador   \n",
       "180517  18.203072  -66.370514         LATAM    South America        Colombia   \n",
       "180518  18.351284  -65.962967  Pacific Asia     Eastern Asia           China   \n",
       "\n",
       "                                       state           city zipcode  \\\n",
       "0                                      Viena          Viena     NaN   \n",
       "1       Languedoc-Rosellón-Mediodía-Pirineos  Tournefeuille     NaN   \n",
       "2                                 California    Los Angeles   90004   \n",
       "3                                   Piamonte          Turin     NaN   \n",
       "4                                    Durango  Gómez Palacio     NaN   \n",
       "...                                      ...            ...     ...   \n",
       "180514                              Rajastán     Ganganagar     NaN   \n",
       "180515                               Central      Kathmandu     NaN   \n",
       "180516                          San Salvador          Apopa     NaN   \n",
       "180517                                Tolima         Ibagué     NaN   \n",
       "180518                                 Anhui         Bengbu     NaN   \n",
       "\n",
       "           order_status  \n",
       "0              COMPLETE  \n",
       "1                CLOSED  \n",
       "2       PENDING_PAYMENT  \n",
       "3               PENDING  \n",
       "4            PROCESSING  \n",
       "...                 ...  \n",
       "180514  PENDING_PAYMENT  \n",
       "180515         COMPLETE  \n",
       "180516  PENDING_PAYMENT  \n",
       "180517   PAYMENT_REVIEW  \n",
       "180518           CLOSED  \n",
       "\n",
       "[180519 rows x 14 columns]"
      ]
     },
     "execution_count": 61,
     "metadata": {},
     "output_type": "execute_result"
    }
   ],
   "source": [
    "orders_demographic"
   ]
  },
  {
   "cell_type": "markdown",
   "id": "5e2d127a-b778-44e1-ad38-e2919fc98aa0",
   "metadata": {},
   "source": [
    "### shipping table"
   ]
  },
  {
   "cell_type": "code",
   "execution_count": null,
   "id": "1863b6c3-d891-42c1-840a-42632058d611",
   "metadata": {},
   "outputs": [],
   "source": []
  },
  {
   "cell_type": "code",
   "execution_count": 62,
   "id": "1386caf9-d953-45ce-be10-f1588f7a68af",
   "metadata": {
    "tags": []
   },
   "outputs": [
    {
     "data": {
      "text/plain": [
       "order_id                            int64\n",
       "transaction_id                      int64\n",
       "order_order_date           datetime64[ns]\n",
       "customer_id                         int64\n",
       "product_id                          int64\n",
       "shipping_date              datetime64[ns]\n",
       "mode                               object\n",
       "days_shipping_scheduled            object\n",
       "days_shipping_real                 object\n",
       "delivery_status                    object\n",
       "risk                               object\n",
       "dtype: object"
      ]
     },
     "execution_count": 62,
     "metadata": {},
     "output_type": "execute_result"
    }
   ],
   "source": [
    "shipping.dtypes"
   ]
  },
  {
   "cell_type": "code",
   "execution_count": 63,
   "id": "d5aa7e2c-733d-47e6-835c-288b928bdbd9",
   "metadata": {
    "tags": []
   },
   "outputs": [
    {
     "data": {
      "text/html": [
       "<div>\n",
       "<style scoped>\n",
       "    .dataframe tbody tr th:only-of-type {\n",
       "        vertical-align: middle;\n",
       "    }\n",
       "\n",
       "    .dataframe tbody tr th {\n",
       "        vertical-align: top;\n",
       "    }\n",
       "\n",
       "    .dataframe thead th {\n",
       "        text-align: right;\n",
       "    }\n",
       "</style>\n",
       "<table border=\"1\" class=\"dataframe\">\n",
       "  <thead>\n",
       "    <tr style=\"text-align: right;\">\n",
       "      <th></th>\n",
       "      <th>order_id</th>\n",
       "      <th>transaction_id</th>\n",
       "      <th>order_order_date</th>\n",
       "      <th>customer_id</th>\n",
       "      <th>product_id</th>\n",
       "      <th>shipping_date</th>\n",
       "      <th>mode</th>\n",
       "      <th>days_shipping_scheduled</th>\n",
       "      <th>days_shipping_real</th>\n",
       "      <th>delivery_status</th>\n",
       "      <th>risk</th>\n",
       "    </tr>\n",
       "  </thead>\n",
       "  <tbody>\n",
       "    <tr>\n",
       "      <th>0</th>\n",
       "      <td>44371</td>\n",
       "      <td>110769</td>\n",
       "      <td>2016-10-09 16:47:00</td>\n",
       "      <td>9540</td>\n",
       "      <td>627</td>\n",
       "      <td>2016-10-10 04:47:00</td>\n",
       "      <td>Same Day</td>\n",
       "      <td>0</td>\n",
       "      <td>1</td>\n",
       "      <td>Late delivery</td>\n",
       "      <td>1</td>\n",
       "    </tr>\n",
       "    <tr>\n",
       "      <th>1</th>\n",
       "      <td>18065</td>\n",
       "      <td>45146</td>\n",
       "      <td>2015-09-21 16:37:00</td>\n",
       "      <td>5684</td>\n",
       "      <td>1014</td>\n",
       "      <td>2015-09-27 16:37:00</td>\n",
       "      <td>Standard Class</td>\n",
       "      <td>4</td>\n",
       "      <td>6</td>\n",
       "      <td>Late delivery</td>\n",
       "      <td>1</td>\n",
       "    </tr>\n",
       "    <tr>\n",
       "      <th>2</th>\n",
       "      <td>33158</td>\n",
       "      <td>82891</td>\n",
       "      <td>2016-04-29 00:22:00</td>\n",
       "      <td>224</td>\n",
       "      <td>502</td>\n",
       "      <td>2016-05-01 00:22:00</td>\n",
       "      <td>First Class</td>\n",
       "      <td>1</td>\n",
       "      <td>2</td>\n",
       "      <td>Late delivery</td>\n",
       "      <td>1</td>\n",
       "    </tr>\n",
       "    <tr>\n",
       "      <th>3</th>\n",
       "      <td>73677</td>\n",
       "      <td>176992</td>\n",
       "      <td>2017-12-11 11:59:00</td>\n",
       "      <td>17230</td>\n",
       "      <td>1362</td>\n",
       "      <td>2017-12-14 11:59:00</td>\n",
       "      <td>Standard Class</td>\n",
       "      <td>4</td>\n",
       "      <td>3</td>\n",
       "      <td>Advance shipping</td>\n",
       "      <td>0</td>\n",
       "    </tr>\n",
       "    <tr>\n",
       "      <th>4</th>\n",
       "      <td>5834</td>\n",
       "      <td>14520</td>\n",
       "      <td>2015-03-27 03:33:00</td>\n",
       "      <td>3293</td>\n",
       "      <td>1004</td>\n",
       "      <td>2015-04-01 03:33:00</td>\n",
       "      <td>Standard Class</td>\n",
       "      <td>4</td>\n",
       "      <td>5</td>\n",
       "      <td>Late delivery</td>\n",
       "      <td>1</td>\n",
       "    </tr>\n",
       "    <tr>\n",
       "      <th>...</th>\n",
       "      <td>...</td>\n",
       "      <td>...</td>\n",
       "      <td>...</td>\n",
       "      <td>...</td>\n",
       "      <td>...</td>\n",
       "      <td>...</td>\n",
       "      <td>...</td>\n",
       "      <td>...</td>\n",
       "      <td>...</td>\n",
       "      <td>...</td>\n",
       "      <td>...</td>\n",
       "    </tr>\n",
       "    <tr>\n",
       "      <th>180514</th>\n",
       "      <td>8364</td>\n",
       "      <td>20897</td>\n",
       "      <td>2015-05-03 01:55:00</td>\n",
       "      <td>3411</td>\n",
       "      <td>1004</td>\n",
       "      <td>2015-05-08 01:55:00</td>\n",
       "      <td>Second Class</td>\n",
       "      <td>2</td>\n",
       "      <td>5</td>\n",
       "      <td>Late delivery</td>\n",
       "      <td>1</td>\n",
       "    </tr>\n",
       "    <tr>\n",
       "      <th>180515</th>\n",
       "      <td>14594</td>\n",
       "      <td>36501</td>\n",
       "      <td>2015-08-02 00:34:00</td>\n",
       "      <td>1502</td>\n",
       "      <td>502</td>\n",
       "      <td>2015-08-07 00:34:00</td>\n",
       "      <td>Standard Class</td>\n",
       "      <td>4</td>\n",
       "      <td>5</td>\n",
       "      <td>Late delivery</td>\n",
       "      <td>1</td>\n",
       "    </tr>\n",
       "    <tr>\n",
       "      <th>180516</th>\n",
       "      <td>38897</td>\n",
       "      <td>97110</td>\n",
       "      <td>2016-07-21 19:00:00</td>\n",
       "      <td>5099</td>\n",
       "      <td>403</td>\n",
       "      <td>2016-07-24 19:00:00</td>\n",
       "      <td>Second Class</td>\n",
       "      <td>2</td>\n",
       "      <td>3</td>\n",
       "      <td>Late delivery</td>\n",
       "      <td>1</td>\n",
       "    </tr>\n",
       "    <tr>\n",
       "      <th>180517</th>\n",
       "      <td>66417</td>\n",
       "      <td>166028</td>\n",
       "      <td>2017-08-27 12:28:00</td>\n",
       "      <td>11303</td>\n",
       "      <td>957</td>\n",
       "      <td>2017-08-30 12:28:00</td>\n",
       "      <td>Standard Class</td>\n",
       "      <td>4</td>\n",
       "      <td>3</td>\n",
       "      <td>Advance shipping</td>\n",
       "      <td>0</td>\n",
       "    </tr>\n",
       "    <tr>\n",
       "      <th>180518</th>\n",
       "      <td>27409</td>\n",
       "      <td>68624</td>\n",
       "      <td>2016-02-05 02:14:00</td>\n",
       "      <td>6311</td>\n",
       "      <td>906</td>\n",
       "      <td>2016-02-10 02:14:00</td>\n",
       "      <td>Standard Class</td>\n",
       "      <td>4</td>\n",
       "      <td>5</td>\n",
       "      <td>Late delivery</td>\n",
       "      <td>1</td>\n",
       "    </tr>\n",
       "  </tbody>\n",
       "</table>\n",
       "<p>180519 rows × 11 columns</p>\n",
       "</div>"
      ],
      "text/plain": [
       "        order_id  transaction_id    order_order_date  customer_id  product_id  \\\n",
       "0          44371          110769 2016-10-09 16:47:00         9540         627   \n",
       "1          18065           45146 2015-09-21 16:37:00         5684        1014   \n",
       "2          33158           82891 2016-04-29 00:22:00          224         502   \n",
       "3          73677          176992 2017-12-11 11:59:00        17230        1362   \n",
       "4           5834           14520 2015-03-27 03:33:00         3293        1004   \n",
       "...          ...             ...                 ...          ...         ...   \n",
       "180514      8364           20897 2015-05-03 01:55:00         3411        1004   \n",
       "180515     14594           36501 2015-08-02 00:34:00         1502         502   \n",
       "180516     38897           97110 2016-07-21 19:00:00         5099         403   \n",
       "180517     66417          166028 2017-08-27 12:28:00        11303         957   \n",
       "180518     27409           68624 2016-02-05 02:14:00         6311         906   \n",
       "\n",
       "             shipping_date            mode days_shipping_scheduled  \\\n",
       "0      2016-10-10 04:47:00        Same Day                       0   \n",
       "1      2015-09-27 16:37:00  Standard Class                       4   \n",
       "2      2016-05-01 00:22:00     First Class                       1   \n",
       "3      2017-12-14 11:59:00  Standard Class                       4   \n",
       "4      2015-04-01 03:33:00  Standard Class                       4   \n",
       "...                    ...             ...                     ...   \n",
       "180514 2015-05-08 01:55:00    Second Class                       2   \n",
       "180515 2015-08-07 00:34:00  Standard Class                       4   \n",
       "180516 2016-07-24 19:00:00    Second Class                       2   \n",
       "180517 2017-08-30 12:28:00  Standard Class                       4   \n",
       "180518 2016-02-10 02:14:00  Standard Class                       4   \n",
       "\n",
       "       days_shipping_real   delivery_status risk  \n",
       "0                       1     Late delivery    1  \n",
       "1                       6     Late delivery    1  \n",
       "2                       2     Late delivery    1  \n",
       "3                       3  Advance shipping    0  \n",
       "4                       5     Late delivery    1  \n",
       "...                   ...               ...  ...  \n",
       "180514                  5     Late delivery    1  \n",
       "180515                  5     Late delivery    1  \n",
       "180516                  3     Late delivery    1  \n",
       "180517                  3  Advance shipping    0  \n",
       "180518                  5     Late delivery    1  \n",
       "\n",
       "[180519 rows x 11 columns]"
      ]
     },
     "execution_count": 63,
     "metadata": {},
     "output_type": "execute_result"
    }
   ],
   "source": [
    "shipping"
   ]
  },
  {
   "cell_type": "code",
   "execution_count": null,
   "id": "10f0e96a-0356-4c1e-8cef-7971cdadbace",
   "metadata": {},
   "outputs": [],
   "source": []
  },
  {
   "cell_type": "code",
   "execution_count": null,
   "id": "70f055c5-88ec-48f2-a5ba-74b95e87410f",
   "metadata": {},
   "outputs": [],
   "source": []
  },
  {
   "cell_type": "code",
   "execution_count": null,
   "id": "d7feb7f1-ac7f-4ab7-a2f3-d037359ecd38",
   "metadata": {},
   "outputs": [],
   "source": []
  },
  {
   "cell_type": "code",
   "execution_count": 58,
   "id": "8eb822b0-6d87-402f-a408-e39e3bc4ceb7",
   "metadata": {
    "tags": []
   },
   "outputs": [
    {
     "data": {
      "text/plain": [
       "['customer_id',\n",
       " 'first_name',\n",
       " 'last_name',\n",
       " 'segment',\n",
       " 'country',\n",
       " 'state',\n",
       " 'city',\n",
       " 'street',\n",
       " 'zipcode',\n",
       " 'product_id',\n",
       " 'product_name',\n",
       " 'category_id',\n",
       " 'department_id',\n",
       " 'price',\n",
       " 'product_image',\n",
       " 'category_id',\n",
       " 'category',\n",
       " 'department_id',\n",
       " 'department',\n",
       " 'order_id',\n",
       " 'transaction_id',\n",
       " 'customer_id',\n",
       " 'order_date',\n",
       " 'payment_type',\n",
       " 'product_id',\n",
       " 'price',\n",
       " 'quantity',\n",
       " 'gross_sale',\n",
       " 'discount_pct',\n",
       " 'discount',\n",
       " 'net_sale',\n",
       " 'order_id',\n",
       " 'transaction_id',\n",
       " 'order_date',\n",
       " 'type',\n",
       " 'customer_id',\n",
       " 'latitiude',\n",
       " 'longitude',\n",
       " 'market',\n",
       " 'region',\n",
       " 'country',\n",
       " 'state',\n",
       " 'city',\n",
       " 'zipcode',\n",
       " 'order_status',\n",
       " 'order_id',\n",
       " 'transaction_id',\n",
       " 'order_order_date',\n",
       " 'customer_id',\n",
       " 'product_id',\n",
       " 'shipping_date',\n",
       " 'mode',\n",
       " 'days_shipping_scheduled',\n",
       " 'days_shipping_real',\n",
       " 'delivery_status',\n",
       " 'risk']"
      ]
     },
     "execution_count": 58,
     "metadata": {},
     "output_type": "execute_result"
    }
   ],
   "source": [
    "all_column_name = (\n",
    "    customers.columns.tolist() +\n",
    "    products.columns.tolist() +\n",
    "    categories_departments.columns.tolist() +\n",
    "    orders.columns.tolist() +\n",
    "    orders_demographic.columns.tolist() +\n",
    "    shipping.columns.tolist()\n",
    "    )\n",
    "all_column_name"
   ]
  },
  {
   "cell_type": "markdown",
   "id": "1c5832c9-2980-4fbf-984e-de6224e2f62d",
   "metadata": {},
   "source": [
    "## Request 1\n",
    "Analyze the relationship between the 'days_shipping_real' and the 'risk.'\n",
    "\n",
    "Investigate whether orders with longer shipping durations are more likely to be at risk of late delivery.\n",
    "\n",
    "Additionally, break down the analysis by different product categories to see if the relationship varies across product types.\n",
    "\n",
    "Provide insights into potential factors contributing to late deliveries based on the shipping duration and product categories."
   ]
  },
  {
   "cell_type": "code",
   "execution_count": 59,
   "id": "2fa62a04-4e55-4f63-9bd3-047c55fd7683",
   "metadata": {
    "tags": []
   },
   "outputs": [
    {
     "data": {
      "text/html": [
       "<div>\n",
       "<style scoped>\n",
       "    .dataframe tbody tr th:only-of-type {\n",
       "        vertical-align: middle;\n",
       "    }\n",
       "\n",
       "    .dataframe tbody tr th {\n",
       "        vertical-align: top;\n",
       "    }\n",
       "\n",
       "    .dataframe thead th {\n",
       "        text-align: right;\n",
       "    }\n",
       "</style>\n",
       "<table border=\"1\" class=\"dataframe\">\n",
       "  <thead>\n",
       "    <tr style=\"text-align: right;\">\n",
       "      <th></th>\n",
       "      <th>days_shipping_real</th>\n",
       "      <th>risk</th>\n",
       "    </tr>\n",
       "  </thead>\n",
       "  <tbody>\n",
       "    <tr>\n",
       "      <th>0</th>\n",
       "      <td>1</td>\n",
       "      <td>1</td>\n",
       "    </tr>\n",
       "    <tr>\n",
       "      <th>1</th>\n",
       "      <td>6</td>\n",
       "      <td>1</td>\n",
       "    </tr>\n",
       "    <tr>\n",
       "      <th>2</th>\n",
       "      <td>2</td>\n",
       "      <td>1</td>\n",
       "    </tr>\n",
       "    <tr>\n",
       "      <th>3</th>\n",
       "      <td>3</td>\n",
       "      <td>0</td>\n",
       "    </tr>\n",
       "    <tr>\n",
       "      <th>4</th>\n",
       "      <td>5</td>\n",
       "      <td>1</td>\n",
       "    </tr>\n",
       "    <tr>\n",
       "      <th>...</th>\n",
       "      <td>...</td>\n",
       "      <td>...</td>\n",
       "    </tr>\n",
       "    <tr>\n",
       "      <th>180514</th>\n",
       "      <td>5</td>\n",
       "      <td>1</td>\n",
       "    </tr>\n",
       "    <tr>\n",
       "      <th>180515</th>\n",
       "      <td>5</td>\n",
       "      <td>1</td>\n",
       "    </tr>\n",
       "    <tr>\n",
       "      <th>180516</th>\n",
       "      <td>3</td>\n",
       "      <td>1</td>\n",
       "    </tr>\n",
       "    <tr>\n",
       "      <th>180517</th>\n",
       "      <td>3</td>\n",
       "      <td>0</td>\n",
       "    </tr>\n",
       "    <tr>\n",
       "      <th>180518</th>\n",
       "      <td>5</td>\n",
       "      <td>1</td>\n",
       "    </tr>\n",
       "  </tbody>\n",
       "</table>\n",
       "<p>180519 rows × 2 columns</p>\n",
       "</div>"
      ],
      "text/plain": [
       "       days_shipping_real risk\n",
       "0                       1    1\n",
       "1                       6    1\n",
       "2                       2    1\n",
       "3                       3    0\n",
       "4                       5    1\n",
       "...                   ...  ...\n",
       "180514                  5    1\n",
       "180515                  5    1\n",
       "180516                  3    1\n",
       "180517                  3    0\n",
       "180518                  5    1\n",
       "\n",
       "[180519 rows x 2 columns]"
      ]
     },
     "execution_count": 59,
     "metadata": {},
     "output_type": "execute_result"
    }
   ],
   "source": [
    "shipping[['days_shipping_real','risk']]"
   ]
  }
 ],
 "metadata": {
  "kernelspec": {
   "display_name": "Python 3 (ipykernel)",
   "language": "python",
   "name": "python3"
  },
  "language_info": {
   "codemirror_mode": {
    "name": "ipython",
    "version": 3
   },
   "file_extension": ".py",
   "mimetype": "text/x-python",
   "name": "python",
   "nbconvert_exporter": "python",
   "pygments_lexer": "ipython3",
   "version": "3.11.4"
  }
 },
 "nbformat": 4,
 "nbformat_minor": 5
}
