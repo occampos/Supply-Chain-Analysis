{
 "cells": [
  {
   "cell_type": "markdown",
   "id": "75bcb9dd-6be1-4772-b932-b9e705afa8a4",
   "metadata": {
    "tags": []
   },
   "source": [
    "### import data"
   ]
  },
  {
   "cell_type": "code",
   "execution_count": 1,
   "id": "dcd80796-d879-460a-80da-e25c3db63aed",
   "metadata": {
    "tags": []
   },
   "outputs": [],
   "source": [
    "import pandas as pd\n",
    "import numpy as np\n",
    "import seaborn as sns\n",
    "import matplotlib.pyplot as plt\n",
    "from matplotlib.ticker import FixedLocator, MaxNLocator\n",
    "\n",
    "%matplotlib inline\n",
    "%store -r sc_customers\n",
    "%store -r sc_products\n",
    "%store -r sc_categories_departments\n",
    "%store -r sc_orders\n",
    "%store -r sc_orders_ratio\n",
    "%store -r sc_orders_demographic\n",
    "%store -r sc_shipping"
   ]
  },
  {
   "cell_type": "code",
   "execution_count": 2,
   "id": "5e220593-9a4b-481f-9cd0-52e52cf16bcc",
   "metadata": {
    "tags": []
   },
   "outputs": [
    {
     "data": {
      "text/plain": [
       "['customer_id',\n",
       " 'first_name',\n",
       " 'last_name',\n",
       " 'segment',\n",
       " 'country',\n",
       " 'state',\n",
       " 'city',\n",
       " 'street',\n",
       " 'zipcode',\n",
       " 'product_id',\n",
       " 'product_name',\n",
       " 'category_id',\n",
       " 'department_id',\n",
       " 'price',\n",
       " 'product_image',\n",
       " 'category_id',\n",
       " 'category',\n",
       " 'department_id',\n",
       " 'department',\n",
       " 'order_id',\n",
       " 'transaction_id',\n",
       " 'customer_id',\n",
       " 'order_date',\n",
       " 'payment_type',\n",
       " 'product_id',\n",
       " 'price',\n",
       " 'quantity',\n",
       " 'gross_sale',\n",
       " 'discount_pct',\n",
       " 'discount',\n",
       " 'net_sale',\n",
       " 'order_id',\n",
       " 'transaction_id',\n",
       " 'order_date',\n",
       " 'type',\n",
       " 'customer_id',\n",
       " 'latitiude',\n",
       " 'longitude',\n",
       " 'market',\n",
       " 'region',\n",
       " 'country',\n",
       " 'state',\n",
       " 'city',\n",
       " 'zipcode',\n",
       " 'order_status',\n",
       " 'order_id',\n",
       " 'transaction_id',\n",
       " 'order_date',\n",
       " 'customer_id',\n",
       " 'product_id',\n",
       " 'shipping_date',\n",
       " 'mode',\n",
       " 'days_shipping_scheduled',\n",
       " 'days_shipping_real',\n",
       " 'delivery_status',\n",
       " 'risk']"
      ]
     },
     "execution_count": 2,
     "metadata": {},
     "output_type": "execute_result"
    }
   ],
   "source": [
    "all_column_name = (\n",
    "    sc_customers.columns.tolist() +\n",
    "    sc_products.columns.tolist() +\n",
    "    sc_categories_departments.columns.tolist() +\n",
    "    sc_orders.columns.tolist() +\n",
    "    sc_orders_demographic.columns.tolist() +\n",
    "    sc_shipping.columns.tolist()\n",
    "    )\n",
    "all_column_name"
   ]
  },
  {
   "cell_type": "markdown",
   "id": "ca1eca2e-9f1f-461d-be36-ab87070c4fe8",
   "metadata": {},
   "source": [
    "# Request 1\n",
    "## Analyze the relationship between the 'days_shipping_real' and the 'risk.'\n",
    "\n",
    "## Investigate whether orders with longer shipping durations are more likely to be at risk of late delivery.\n",
    "\n",
    "## Additionally, break down the analysis by different product categories to see if the relationship varies across product types.\n",
    "\n",
    "## Provide insights into potential factors contributing to late deliveries based on the shipping duration and product categories."
   ]
  },
  {
   "cell_type": "code",
   "execution_count": 3,
   "id": "592a174f-743f-45d6-a021-3811d285fcc6",
   "metadata": {
    "tags": []
   },
   "outputs": [
    {
     "data": {
      "text/html": [
       "<div>\n",
       "<style scoped>\n",
       "    .dataframe tbody tr th:only-of-type {\n",
       "        vertical-align: middle;\n",
       "    }\n",
       "\n",
       "    .dataframe tbody tr th {\n",
       "        vertical-align: top;\n",
       "    }\n",
       "\n",
       "    .dataframe thead th {\n",
       "        text-align: right;\n",
       "    }\n",
       "</style>\n",
       "<table border=\"1\" class=\"dataframe\">\n",
       "  <thead>\n",
       "    <tr style=\"text-align: right;\">\n",
       "      <th></th>\n",
       "      <th>order_id</th>\n",
       "      <th>transaction_id</th>\n",
       "      <th>order_date</th>\n",
       "      <th>customer_id</th>\n",
       "      <th>product_id</th>\n",
       "      <th>shipping_date</th>\n",
       "      <th>mode</th>\n",
       "      <th>days_shipping_scheduled</th>\n",
       "      <th>days_shipping_real</th>\n",
       "      <th>delivery_status</th>\n",
       "      <th>risk</th>\n",
       "    </tr>\n",
       "  </thead>\n",
       "  <tbody>\n",
       "    <tr>\n",
       "      <th>0</th>\n",
       "      <td>44371</td>\n",
       "      <td>110769</td>\n",
       "      <td>2016-10-09 16:47:00</td>\n",
       "      <td>7537</td>\n",
       "      <td>627</td>\n",
       "      <td>2016-10-10 04:47:00</td>\n",
       "      <td>Same Day</td>\n",
       "      <td>0</td>\n",
       "      <td>1</td>\n",
       "      <td>Late delivery</td>\n",
       "      <td>1</td>\n",
       "    </tr>\n",
       "    <tr>\n",
       "      <th>1</th>\n",
       "      <td>18065</td>\n",
       "      <td>45146</td>\n",
       "      <td>2015-09-21 16:37:00</td>\n",
       "      <td>1521</td>\n",
       "      <td>1014</td>\n",
       "      <td>2015-09-27 16:37:00</td>\n",
       "      <td>Standard Class</td>\n",
       "      <td>4</td>\n",
       "      <td>6</td>\n",
       "      <td>Late delivery</td>\n",
       "      <td>1</td>\n",
       "    </tr>\n",
       "    <tr>\n",
       "      <th>2</th>\n",
       "      <td>33158</td>\n",
       "      <td>82891</td>\n",
       "      <td>2016-04-29 00:22:00</td>\n",
       "      <td>5849</td>\n",
       "      <td>502</td>\n",
       "      <td>2016-05-01 00:22:00</td>\n",
       "      <td>First Class</td>\n",
       "      <td>1</td>\n",
       "      <td>2</td>\n",
       "      <td>Late delivery</td>\n",
       "      <td>1</td>\n",
       "    </tr>\n",
       "    <tr>\n",
       "      <th>3</th>\n",
       "      <td>73677</td>\n",
       "      <td>176992</td>\n",
       "      <td>2017-12-11 11:59:00</td>\n",
       "      <td>4848</td>\n",
       "      <td>1362</td>\n",
       "      <td>2017-12-14 11:59:00</td>\n",
       "      <td>Standard Class</td>\n",
       "      <td>4</td>\n",
       "      <td>3</td>\n",
       "      <td>Advance shipping</td>\n",
       "      <td>0</td>\n",
       "    </tr>\n",
       "    <tr>\n",
       "      <th>4</th>\n",
       "      <td>5834</td>\n",
       "      <td>14520</td>\n",
       "      <td>2015-03-27 03:33:00</td>\n",
       "      <td>4515</td>\n",
       "      <td>1004</td>\n",
       "      <td>2015-04-01 03:33:00</td>\n",
       "      <td>Standard Class</td>\n",
       "      <td>4</td>\n",
       "      <td>5</td>\n",
       "      <td>Late delivery</td>\n",
       "      <td>1</td>\n",
       "    </tr>\n",
       "    <tr>\n",
       "      <th>...</th>\n",
       "      <td>...</td>\n",
       "      <td>...</td>\n",
       "      <td>...</td>\n",
       "      <td>...</td>\n",
       "      <td>...</td>\n",
       "      <td>...</td>\n",
       "      <td>...</td>\n",
       "      <td>...</td>\n",
       "      <td>...</td>\n",
       "      <td>...</td>\n",
       "      <td>...</td>\n",
       "    </tr>\n",
       "    <tr>\n",
       "      <th>180514</th>\n",
       "      <td>8364</td>\n",
       "      <td>20897</td>\n",
       "      <td>2015-05-03 01:55:00</td>\n",
       "      <td>4038</td>\n",
       "      <td>1004</td>\n",
       "      <td>2015-05-08 01:55:00</td>\n",
       "      <td>Second Class</td>\n",
       "      <td>2</td>\n",
       "      <td>5</td>\n",
       "      <td>Late delivery</td>\n",
       "      <td>1</td>\n",
       "    </tr>\n",
       "    <tr>\n",
       "      <th>180515</th>\n",
       "      <td>14594</td>\n",
       "      <td>36501</td>\n",
       "      <td>2015-08-02 00:34:00</td>\n",
       "      <td>698</td>\n",
       "      <td>502</td>\n",
       "      <td>2015-08-07 00:34:00</td>\n",
       "      <td>Standard Class</td>\n",
       "      <td>4</td>\n",
       "      <td>5</td>\n",
       "      <td>Late delivery</td>\n",
       "      <td>1</td>\n",
       "    </tr>\n",
       "    <tr>\n",
       "      <th>180516</th>\n",
       "      <td>38897</td>\n",
       "      <td>97110</td>\n",
       "      <td>2016-07-21 19:00:00</td>\n",
       "      <td>290</td>\n",
       "      <td>403</td>\n",
       "      <td>2016-07-24 19:00:00</td>\n",
       "      <td>Second Class</td>\n",
       "      <td>2</td>\n",
       "      <td>3</td>\n",
       "      <td>Late delivery</td>\n",
       "      <td>1</td>\n",
       "    </tr>\n",
       "    <tr>\n",
       "      <th>180517</th>\n",
       "      <td>66417</td>\n",
       "      <td>166028</td>\n",
       "      <td>2017-08-27 12:28:00</td>\n",
       "      <td>11978</td>\n",
       "      <td>957</td>\n",
       "      <td>2017-08-30 12:28:00</td>\n",
       "      <td>Standard Class</td>\n",
       "      <td>4</td>\n",
       "      <td>3</td>\n",
       "      <td>Advance shipping</td>\n",
       "      <td>0</td>\n",
       "    </tr>\n",
       "    <tr>\n",
       "      <th>180518</th>\n",
       "      <td>27409</td>\n",
       "      <td>68624</td>\n",
       "      <td>2016-02-05 02:14:00</td>\n",
       "      <td>597</td>\n",
       "      <td>906</td>\n",
       "      <td>2016-02-10 02:14:00</td>\n",
       "      <td>Standard Class</td>\n",
       "      <td>4</td>\n",
       "      <td>5</td>\n",
       "      <td>Late delivery</td>\n",
       "      <td>1</td>\n",
       "    </tr>\n",
       "  </tbody>\n",
       "</table>\n",
       "<p>180519 rows × 11 columns</p>\n",
       "</div>"
      ],
      "text/plain": [
       "        order_id  transaction_id          order_date  customer_id  product_id  \\\n",
       "0          44371          110769 2016-10-09 16:47:00         7537         627   \n",
       "1          18065           45146 2015-09-21 16:37:00         1521        1014   \n",
       "2          33158           82891 2016-04-29 00:22:00         5849         502   \n",
       "3          73677          176992 2017-12-11 11:59:00         4848        1362   \n",
       "4           5834           14520 2015-03-27 03:33:00         4515        1004   \n",
       "...          ...             ...                 ...          ...         ...   \n",
       "180514      8364           20897 2015-05-03 01:55:00         4038        1004   \n",
       "180515     14594           36501 2015-08-02 00:34:00          698         502   \n",
       "180516     38897           97110 2016-07-21 19:00:00          290         403   \n",
       "180517     66417          166028 2017-08-27 12:28:00        11978         957   \n",
       "180518     27409           68624 2016-02-05 02:14:00          597         906   \n",
       "\n",
       "             shipping_date            mode  days_shipping_scheduled  \\\n",
       "0      2016-10-10 04:47:00        Same Day                        0   \n",
       "1      2015-09-27 16:37:00  Standard Class                        4   \n",
       "2      2016-05-01 00:22:00     First Class                        1   \n",
       "3      2017-12-14 11:59:00  Standard Class                        4   \n",
       "4      2015-04-01 03:33:00  Standard Class                        4   \n",
       "...                    ...             ...                      ...   \n",
       "180514 2015-05-08 01:55:00    Second Class                        2   \n",
       "180515 2015-08-07 00:34:00  Standard Class                        4   \n",
       "180516 2016-07-24 19:00:00    Second Class                        2   \n",
       "180517 2017-08-30 12:28:00  Standard Class                        4   \n",
       "180518 2016-02-10 02:14:00  Standard Class                        4   \n",
       "\n",
       "        days_shipping_real   delivery_status  risk  \n",
       "0                        1     Late delivery     1  \n",
       "1                        6     Late delivery     1  \n",
       "2                        2     Late delivery     1  \n",
       "3                        3  Advance shipping     0  \n",
       "4                        5     Late delivery     1  \n",
       "...                    ...               ...   ...  \n",
       "180514                   5     Late delivery     1  \n",
       "180515                   5     Late delivery     1  \n",
       "180516                   3     Late delivery     1  \n",
       "180517                   3  Advance shipping     0  \n",
       "180518                   5     Late delivery     1  \n",
       "\n",
       "[180519 rows x 11 columns]"
      ]
     },
     "execution_count": 3,
     "metadata": {},
     "output_type": "execute_result"
    }
   ],
   "source": [
    "sc_shipping"
   ]
  },
  {
   "cell_type": "markdown",
   "id": "9d4eb29a-6a07-4d7e-9bd6-54dbee1db137",
   "metadata": {},
   "source": [
    "#### what does risk mean? risk is defined by whether or not a delivery was late. 1= late and 0 = not late"
   ]
  },
  {
   "cell_type": "code",
   "execution_count": 23,
   "id": "635ce570-5ebe-471e-8168-81f5440bbe4f",
   "metadata": {
    "tags": []
   },
   "outputs": [
    {
     "data": {
      "text/plain": [
       "98977"
      ]
     },
     "execution_count": 23,
     "metadata": {},
     "output_type": "execute_result"
    }
   ],
   "source": [
    "sc_shipping['risk'].value_counts()[1]"
   ]
  },
  {
   "cell_type": "code",
   "execution_count": 24,
   "id": "b71dce05-2ae1-48e1-aafb-acf4e1c7126e",
   "metadata": {
    "tags": []
   },
   "outputs": [
    {
     "data": {
      "text/plain": [
       "98977"
      ]
     },
     "execution_count": 24,
     "metadata": {},
     "output_type": "execute_result"
    }
   ],
   "source": [
    "sc_shipping['delivery_status'].value_counts()['Late delivery']"
   ]
  },
  {
   "cell_type": "code",
   "execution_count": 37,
   "id": "a695bc0d-ae62-4ec2-b5a9-ff8966e5ef83",
   "metadata": {
    "tags": []
   },
   "outputs": [
    {
     "data": {
      "text/plain": [
       "1    98977\n",
       "Name: risk, dtype: int64"
      ]
     },
     "execution_count": 37,
     "metadata": {},
     "output_type": "execute_result"
    }
   ],
   "source": [
    "sc_shipping[(sc_shipping['delivery_status'] == 'Late delivery') & (sc_shipping['risk'] == 1)]['risk'].value_counts()"
   ]
  },
  {
   "cell_type": "markdown",
   "id": "2331588d-a718-4150-8220-f9aa161029f2",
   "metadata": {},
   "source": [
    "#### aggregate shipments by delivery status"
   ]
  },
  {
   "cell_type": "code",
   "execution_count": 5,
   "id": "900b578b-c09e-4fe2-afae-31fb5220f18f",
   "metadata": {
    "tags": []
   },
   "outputs": [
    {
     "data": {
      "text/plain": [
       "0         Late delivery\n",
       "3      Advance shipping\n",
       "11     Shipping on time\n",
       "15    Shipping canceled\n",
       "Name: delivery_status, dtype: object"
      ]
     },
     "execution_count": 5,
     "metadata": {},
     "output_type": "execute_result"
    }
   ],
   "source": [
    "sc_shipping['delivery_status'].drop_duplicates()"
   ]
  },
  {
   "cell_type": "code",
   "execution_count": 6,
   "id": "a06580c1-3ccd-42bf-9797-e880c782cdc3",
   "metadata": {
    "tags": []
   },
   "outputs": [
    {
     "data": {
      "text/html": [
       "<div>\n",
       "<style scoped>\n",
       "    .dataframe tbody tr th:only-of-type {\n",
       "        vertical-align: middle;\n",
       "    }\n",
       "\n",
       "    .dataframe tbody tr th {\n",
       "        vertical-align: top;\n",
       "    }\n",
       "\n",
       "    .dataframe thead th {\n",
       "        text-align: right;\n",
       "    }\n",
       "</style>\n",
       "<table border=\"1\" class=\"dataframe\">\n",
       "  <thead>\n",
       "    <tr style=\"text-align: right;\">\n",
       "      <th></th>\n",
       "      <th>days_shipping_real</th>\n",
       "      <th>n_advanced</th>\n",
       "      <th>n_cancelled</th>\n",
       "      <th>n_late</th>\n",
       "      <th>n_on_time</th>\n",
       "    </tr>\n",
       "  </thead>\n",
       "  <tbody>\n",
       "    <tr>\n",
       "      <th>0</th>\n",
       "      <td>0</td>\n",
       "      <td>0</td>\n",
       "      <td>0</td>\n",
       "      <td>241</td>\n",
       "      <td>4839</td>\n",
       "    </tr>\n",
       "    <tr>\n",
       "      <th>1</th>\n",
       "      <td>1</td>\n",
       "      <td>0</td>\n",
       "      <td>4454</td>\n",
       "      <td>203</td>\n",
       "      <td>0</td>\n",
       "    </tr>\n",
       "    <tr>\n",
       "      <th>2</th>\n",
       "      <td>2</td>\n",
       "      <td>20873</td>\n",
       "      <td>26513</td>\n",
       "      <td>2413</td>\n",
       "      <td>6819</td>\n",
       "    </tr>\n",
       "    <tr>\n",
       "      <th>3</th>\n",
       "      <td>3</td>\n",
       "      <td>20719</td>\n",
       "      <td>6759</td>\n",
       "      <td>1287</td>\n",
       "      <td>0</td>\n",
       "    </tr>\n",
       "    <tr>\n",
       "      <th>4</th>\n",
       "      <td>4</td>\n",
       "      <td>0</td>\n",
       "      <td>6759</td>\n",
       "      <td>1216</td>\n",
       "      <td>20538</td>\n",
       "    </tr>\n",
       "    <tr>\n",
       "      <th>5</th>\n",
       "      <td>5</td>\n",
       "      <td>0</td>\n",
       "      <td>27003</td>\n",
       "      <td>1160</td>\n",
       "      <td>0</td>\n",
       "    </tr>\n",
       "    <tr>\n",
       "      <th>6</th>\n",
       "      <td>6</td>\n",
       "      <td>0</td>\n",
       "      <td>27489</td>\n",
       "      <td>1234</td>\n",
       "      <td>0</td>\n",
       "    </tr>\n",
       "  </tbody>\n",
       "</table>\n",
       "</div>"
      ],
      "text/plain": [
       "   days_shipping_real  n_advanced  n_cancelled  n_late  n_on_time\n",
       "0                   0           0            0     241       4839\n",
       "1                   1           0         4454     203          0\n",
       "2                   2       20873        26513    2413       6819\n",
       "3                   3       20719         6759    1287          0\n",
       "4                   4           0         6759    1216      20538\n",
       "5                   5           0        27003    1160          0\n",
       "6                   6           0        27489    1234          0"
      ]
     },
     "execution_count": 6,
     "metadata": {},
     "output_type": "execute_result"
    }
   ],
   "source": [
    "shipping_merge = sc_shipping.pivot_table(index='days_shipping_real', columns='delivery_status', aggfunc='size', fill_value=0).reset_index()\n",
    "shipping_merge.columns = ['days_shipping_real', 'n_advanced', 'n_cancelled', 'n_late', 'n_on_time']\n",
    "shipping_merge"
   ]
  },
  {
   "cell_type": "code",
   "execution_count": 7,
   "id": "ec4ba274-f89a-4ef5-ad2a-cd62e0e047a5",
   "metadata": {
    "tags": []
   },
   "outputs": [
    {
     "data": {
      "text/html": [
       "<div>\n",
       "<style scoped>\n",
       "    .dataframe tbody tr th:only-of-type {\n",
       "        vertical-align: middle;\n",
       "    }\n",
       "\n",
       "    .dataframe tbody tr th {\n",
       "        vertical-align: top;\n",
       "    }\n",
       "\n",
       "    .dataframe thead th {\n",
       "        text-align: right;\n",
       "    }\n",
       "</style>\n",
       "<table border=\"1\" class=\"dataframe\">\n",
       "  <thead>\n",
       "    <tr style=\"text-align: right;\">\n",
       "      <th></th>\n",
       "      <th>days_shipping_real</th>\n",
       "      <th>total</th>\n",
       "    </tr>\n",
       "  </thead>\n",
       "  <tbody>\n",
       "    <tr>\n",
       "      <th>0</th>\n",
       "      <td>0</td>\n",
       "      <td>5080</td>\n",
       "    </tr>\n",
       "    <tr>\n",
       "      <th>1</th>\n",
       "      <td>1</td>\n",
       "      <td>4657</td>\n",
       "    </tr>\n",
       "    <tr>\n",
       "      <th>2</th>\n",
       "      <td>2</td>\n",
       "      <td>56618</td>\n",
       "    </tr>\n",
       "    <tr>\n",
       "      <th>3</th>\n",
       "      <td>3</td>\n",
       "      <td>28765</td>\n",
       "    </tr>\n",
       "    <tr>\n",
       "      <th>4</th>\n",
       "      <td>4</td>\n",
       "      <td>28513</td>\n",
       "    </tr>\n",
       "    <tr>\n",
       "      <th>5</th>\n",
       "      <td>5</td>\n",
       "      <td>28163</td>\n",
       "    </tr>\n",
       "    <tr>\n",
       "      <th>6</th>\n",
       "      <td>6</td>\n",
       "      <td>28723</td>\n",
       "    </tr>\n",
       "  </tbody>\n",
       "</table>\n",
       "</div>"
      ],
      "text/plain": [
       "   days_shipping_real  total\n",
       "0                   0   5080\n",
       "1                   1   4657\n",
       "2                   2  56618\n",
       "3                   3  28765\n",
       "4                   4  28513\n",
       "5                   5  28163\n",
       "6                   6  28723"
      ]
     },
     "execution_count": 7,
     "metadata": {},
     "output_type": "execute_result"
    }
   ],
   "source": [
    "total = sc_shipping.groupby('days_shipping_real')['delivery_status'].count().reset_index(name='total')\n",
    "total"
   ]
  },
  {
   "cell_type": "code",
   "execution_count": 8,
   "id": "a1f8db88-63cb-4709-b201-6de5443beb8c",
   "metadata": {
    "tags": []
   },
   "outputs": [],
   "source": [
    "shipping_merge = shipping_merge.merge(total, on='days_shipping_real')"
   ]
  },
  {
   "cell_type": "code",
   "execution_count": 9,
   "id": "64f999b3-c106-4688-9012-67fe3a22cef3",
   "metadata": {
    "tags": []
   },
   "outputs": [
    {
     "data": {
      "text/html": [
       "<div>\n",
       "<style scoped>\n",
       "    .dataframe tbody tr th:only-of-type {\n",
       "        vertical-align: middle;\n",
       "    }\n",
       "\n",
       "    .dataframe tbody tr th {\n",
       "        vertical-align: top;\n",
       "    }\n",
       "\n",
       "    .dataframe thead th {\n",
       "        text-align: right;\n",
       "    }\n",
       "</style>\n",
       "<table border=\"1\" class=\"dataframe\">\n",
       "  <thead>\n",
       "    <tr style=\"text-align: right;\">\n",
       "      <th></th>\n",
       "      <th>days_shipping_real</th>\n",
       "      <th>total</th>\n",
       "      <th>n_advanced</th>\n",
       "      <th>n_on_time</th>\n",
       "      <th>n_late</th>\n",
       "      <th>n_cancelled</th>\n",
       "    </tr>\n",
       "  </thead>\n",
       "  <tbody>\n",
       "    <tr>\n",
       "      <th>0</th>\n",
       "      <td>0</td>\n",
       "      <td>5080</td>\n",
       "      <td>0</td>\n",
       "      <td>4839</td>\n",
       "      <td>241</td>\n",
       "      <td>0</td>\n",
       "    </tr>\n",
       "    <tr>\n",
       "      <th>1</th>\n",
       "      <td>1</td>\n",
       "      <td>4657</td>\n",
       "      <td>0</td>\n",
       "      <td>0</td>\n",
       "      <td>203</td>\n",
       "      <td>4454</td>\n",
       "    </tr>\n",
       "    <tr>\n",
       "      <th>2</th>\n",
       "      <td>2</td>\n",
       "      <td>56618</td>\n",
       "      <td>20873</td>\n",
       "      <td>6819</td>\n",
       "      <td>2413</td>\n",
       "      <td>26513</td>\n",
       "    </tr>\n",
       "    <tr>\n",
       "      <th>3</th>\n",
       "      <td>3</td>\n",
       "      <td>28765</td>\n",
       "      <td>20719</td>\n",
       "      <td>0</td>\n",
       "      <td>1287</td>\n",
       "      <td>6759</td>\n",
       "    </tr>\n",
       "    <tr>\n",
       "      <th>4</th>\n",
       "      <td>4</td>\n",
       "      <td>28513</td>\n",
       "      <td>0</td>\n",
       "      <td>20538</td>\n",
       "      <td>1216</td>\n",
       "      <td>6759</td>\n",
       "    </tr>\n",
       "    <tr>\n",
       "      <th>5</th>\n",
       "      <td>5</td>\n",
       "      <td>28163</td>\n",
       "      <td>0</td>\n",
       "      <td>0</td>\n",
       "      <td>1160</td>\n",
       "      <td>27003</td>\n",
       "    </tr>\n",
       "    <tr>\n",
       "      <th>6</th>\n",
       "      <td>6</td>\n",
       "      <td>28723</td>\n",
       "      <td>0</td>\n",
       "      <td>0</td>\n",
       "      <td>1234</td>\n",
       "      <td>27489</td>\n",
       "    </tr>\n",
       "  </tbody>\n",
       "</table>\n",
       "</div>"
      ],
      "text/plain": [
       "   days_shipping_real  total  n_advanced  n_on_time  n_late  n_cancelled\n",
       "0                   0   5080           0       4839     241            0\n",
       "1                   1   4657           0          0     203         4454\n",
       "2                   2  56618       20873       6819    2413        26513\n",
       "3                   3  28765       20719          0    1287         6759\n",
       "4                   4  28513           0      20538    1216         6759\n",
       "5                   5  28163           0          0    1160        27003\n",
       "6                   6  28723           0          0    1234        27489"
      ]
     },
     "execution_count": 9,
     "metadata": {},
     "output_type": "execute_result"
    }
   ],
   "source": [
    "shipping_merge = shipping_merge[['days_shipping_real', 'total', 'n_advanced', 'n_on_time', 'n_late', 'n_cancelled']]\n",
    "shipping_merge"
   ]
  },
  {
   "cell_type": "code",
   "execution_count": 89,
   "id": "07b8f75d-f9f1-4c52-a540-c46340e3594b",
   "metadata": {
    "tags": []
   },
   "outputs": [
    {
     "data": {
      "image/png": "[encoded data removed]",
      "text/plain": [
       "<Figure size 1000x600 with 1 Axes>"
      ]
     },
     "metadata": {},
     "output_type": "display_data"
    }
   ],
   "source": [
    "ax = shipping_merge.drop('total', axis=1).plot(kind='bar', x='days_shipping_real', stacked=False, figsize=(10, 6), width=0.8, color=['yellow', 'green', 'red', 'grey'])\n",
    "\n",
    "plt.title('Shipping Status by Days to Ship', fontsize=15)\n",
    "plt.xlabel('Days to Ship', fontsize=12)\n",
    "plt.ylabel('Number of Shipments', fontsize=12)\n",
    "plt.legend(title='Delivery Status', labels=['Advanced', 'On Time', 'Late', 'Cancelled'], title_fontsize=10, fontsize=10)\n",
    "ax.set_xticklabels(ax.get_xticklabels(), rotation=360, horizontalalignment='right', fontsize=12)\n",
    "plt.yticks(fontsize=12)\n",
    "\n",
    "for p in ax.patches:\n",
    "    height = p.get_height()\n",
    "    if height != 0:\n",
    "        ax.annotate(f'{height:.0f}', (p.get_x() + p.get_width() / 2., height),\n",
    "                    ha='center', va='center', xytext=(0, 6), textcoords='offset points', fontsize=12)"
   ]
  },
  {
   "cell_type": "code",
   "execution_count": 90,
   "id": "c80756eb-80fe-42b2-b4fe-f5ee25a4c9cc",
   "metadata": {
    "tags": []
   },
   "outputs": [
    {
     "data": {
      "image/png": "[encoded data removed]",
      "text/plain": [
       "<Figure size 1000x600 with 1 Axes>"
      ]
     },
     "metadata": {},
     "output_type": "display_data"
    }
   ],
   "source": [
    "ax = shipping_merge['n_late'].plot(kind='bar', x='days_shipping_real', stacked=False, figsize=(10, 6), color='red')\n",
    "\n",
    "plt.title('Late Shipments by Days to Ship', fontsize=15)\n",
    "plt.xlabel('Days to Ship', fontsize=12)\n",
    "plt.ylabel('Number of Late Shipments', fontsize=12)\n",
    "ax.set_xticklabels(ax.get_xticklabels(), rotation=360, horizontalalignment='right', fontsize=12)\n",
    "plt.yticks(fontsize=12)\n",
    "\n",
    "for p in ax.patches:\n",
    "    height = p.get_height()\n",
    "    if height != 0:\n",
    "        ax.annotate(f'{height:.0f}', (p.get_x() + p.get_width() / 2., height),\n",
    "                    ha='center', va='center', xytext=(0, 6), textcoords='offset points', fontsize=12)"
   ]
  },
  {
   "cell_type": "code",
   "execution_count": 116,
   "id": "cd005bdc-7fc2-4032-a986-c23d44c71f5c",
   "metadata": {
    "tags": []
   },
   "outputs": [
    {
     "data": {
      "text/html": [
       "<div>\n",
       "<style scoped>\n",
       "    .dataframe tbody tr th:only-of-type {\n",
       "        vertical-align: middle;\n",
       "    }\n",
       "\n",
       "    .dataframe tbody tr th {\n",
       "        vertical-align: top;\n",
       "    }\n",
       "\n",
       "    .dataframe thead th {\n",
       "        text-align: right;\n",
       "    }\n",
       "</style>\n",
       "<table border=\"1\" class=\"dataframe\">\n",
       "  <thead>\n",
       "    <tr style=\"text-align: right;\">\n",
       "      <th></th>\n",
       "      <th>days_shipping_real</th>\n",
       "      <th>n_advanced</th>\n",
       "      <th>n_on_time</th>\n",
       "      <th>n_late</th>\n",
       "      <th>n_cancelled</th>\n",
       "    </tr>\n",
       "  </thead>\n",
       "  <tbody>\n",
       "    <tr>\n",
       "      <th>0</th>\n",
       "      <td>0</td>\n",
       "      <td>0</td>\n",
       "      <td>4839</td>\n",
       "      <td>241</td>\n",
       "      <td>0</td>\n",
       "    </tr>\n",
       "    <tr>\n",
       "      <th>1</th>\n",
       "      <td>1</td>\n",
       "      <td>0</td>\n",
       "      <td>0</td>\n",
       "      <td>203</td>\n",
       "      <td>4454</td>\n",
       "    </tr>\n",
       "    <tr>\n",
       "      <th>2</th>\n",
       "      <td>2</td>\n",
       "      <td>20873</td>\n",
       "      <td>6819</td>\n",
       "      <td>2413</td>\n",
       "      <td>26513</td>\n",
       "    </tr>\n",
       "    <tr>\n",
       "      <th>3</th>\n",
       "      <td>3</td>\n",
       "      <td>20719</td>\n",
       "      <td>0</td>\n",
       "      <td>1287</td>\n",
       "      <td>6759</td>\n",
       "    </tr>\n",
       "    <tr>\n",
       "      <th>4</th>\n",
       "      <td>4</td>\n",
       "      <td>0</td>\n",
       "      <td>20538</td>\n",
       "      <td>1216</td>\n",
       "      <td>6759</td>\n",
       "    </tr>\n",
       "    <tr>\n",
       "      <th>5</th>\n",
       "      <td>5</td>\n",
       "      <td>0</td>\n",
       "      <td>0</td>\n",
       "      <td>1160</td>\n",
       "      <td>27003</td>\n",
       "    </tr>\n",
       "    <tr>\n",
       "      <th>6</th>\n",
       "      <td>6</td>\n",
       "      <td>0</td>\n",
       "      <td>0</td>\n",
       "      <td>1234</td>\n",
       "      <td>27489</td>\n",
       "    </tr>\n",
       "  </tbody>\n",
       "</table>\n",
       "</div>"
      ],
      "text/plain": [
       "   days_shipping_real  n_advanced  n_on_time  n_late  n_cancelled\n",
       "0                   0           0       4839     241            0\n",
       "1                   1           0          0     203         4454\n",
       "2                   2       20873       6819    2413        26513\n",
       "3                   3       20719          0    1287         6759\n",
       "4                   4           0      20538    1216         6759\n",
       "5                   5           0          0    1160        27003\n",
       "6                   6           0          0    1234        27489"
      ]
     },
     "execution_count": 116,
     "metadata": {},
     "output_type": "execute_result"
    }
   ],
   "source": [
    "shipping_merge.drop('total', axis=1)"
   ]
  },
  {
   "cell_type": "code",
   "execution_count": 163,
   "id": "8df99f41-ec12-42c2-acb8-8ae9db189cd6",
   "metadata": {
    "tags": []
   },
   "outputs": [],
   "source": [
    "shipping_melt = pd.melt(shipping_merge, id_vars=['days_shipping_real'], var_name='delivery_status', value_name='value')\n",
    "shipping_pie = shipping_melt.pivot(index='delivery_status', columns='days_shipping_real', values='value').reset_index().rename_axis(columns=None)"
   ]
  },
  {
   "cell_type": "code",
   "execution_count": 168,
   "id": "198f1eee-9f67-4ff6-829e-763d727a93ee",
   "metadata": {
    "tags": []
   },
   "outputs": [
    {
     "data": {
      "text/html": [
       "<div>\n",
       "<style scoped>\n",
       "    .dataframe tbody tr th:only-of-type {\n",
       "        vertical-align: middle;\n",
       "    }\n",
       "\n",
       "    .dataframe tbody tr th {\n",
       "        vertical-align: top;\n",
       "    }\n",
       "\n",
       "    .dataframe thead th {\n",
       "        text-align: right;\n",
       "    }\n",
       "</style>\n",
       "<table border=\"1\" class=\"dataframe\">\n",
       "  <thead>\n",
       "    <tr style=\"text-align: right;\">\n",
       "      <th></th>\n",
       "      <th>delivery_status</th>\n",
       "      <th>0_days_to_ship</th>\n",
       "      <th>1_days_to_ship</th>\n",
       "      <th>2_days_to_ship</th>\n",
       "      <th>3_days_to_ship</th>\n",
       "      <th>4_days_to_ship</th>\n",
       "      <th>5_days_to_ship</th>\n",
       "      <th>6_days_to_ship</th>\n",
       "    </tr>\n",
       "  </thead>\n",
       "  <tbody>\n",
       "    <tr>\n",
       "      <th>0</th>\n",
       "      <td>n_advanced</td>\n",
       "      <td>0</td>\n",
       "      <td>0</td>\n",
       "      <td>20873</td>\n",
       "      <td>20719</td>\n",
       "      <td>0</td>\n",
       "      <td>0</td>\n",
       "      <td>0</td>\n",
       "    </tr>\n",
       "    <tr>\n",
       "      <th>1</th>\n",
       "      <td>n_cancelled</td>\n",
       "      <td>0</td>\n",
       "      <td>4454</td>\n",
       "      <td>26513</td>\n",
       "      <td>6759</td>\n",
       "      <td>6759</td>\n",
       "      <td>27003</td>\n",
       "      <td>27489</td>\n",
       "    </tr>\n",
       "    <tr>\n",
       "      <th>2</th>\n",
       "      <td>n_late</td>\n",
       "      <td>241</td>\n",
       "      <td>203</td>\n",
       "      <td>2413</td>\n",
       "      <td>1287</td>\n",
       "      <td>1216</td>\n",
       "      <td>1160</td>\n",
       "      <td>1234</td>\n",
       "    </tr>\n",
       "    <tr>\n",
       "      <th>3</th>\n",
       "      <td>n_on_time</td>\n",
       "      <td>4839</td>\n",
       "      <td>0</td>\n",
       "      <td>6819</td>\n",
       "      <td>0</td>\n",
       "      <td>20538</td>\n",
       "      <td>0</td>\n",
       "      <td>0</td>\n",
       "    </tr>\n",
       "    <tr>\n",
       "      <th>4</th>\n",
       "      <td>total</td>\n",
       "      <td>5080</td>\n",
       "      <td>4657</td>\n",
       "      <td>56618</td>\n",
       "      <td>28765</td>\n",
       "      <td>28513</td>\n",
       "      <td>28163</td>\n",
       "      <td>28723</td>\n",
       "    </tr>\n",
       "  </tbody>\n",
       "</table>\n",
       "</div>"
      ],
      "text/plain": [
       "  delivery_status  0_days_to_ship  1_days_to_ship  2_days_to_ship  \\\n",
       "0      n_advanced               0               0           20873   \n",
       "1     n_cancelled               0            4454           26513   \n",
       "2          n_late             241             203            2413   \n",
       "3       n_on_time            4839               0            6819   \n",
       "4           total            5080            4657           56618   \n",
       "\n",
       "   3_days_to_ship  4_days_to_ship  5_days_to_ship  6_days_to_ship  \n",
       "0           20719               0               0               0  \n",
       "1            6759            6759           27003           27489  \n",
       "2            1287            1216            1160            1234  \n",
       "3               0           20538               0               0  \n",
       "4           28765           28513           28163           28723  "
      ]
     },
     "execution_count": 168,
     "metadata": {},
     "output_type": "execute_result"
    }
   ],
   "source": [
    "shipping_pie = shipping_pie.rename(columns={0:'0_days_to_ship', 1:'1_days_to_ship', 2:'2_days_to_ship', 3:'3_days_to_ship', 4:'4_days_to_ship', 5:'5_days_to_ship', 6:'6_days_to_ship'})\n",
    "shipping_pie"
   ]
  },
  {
   "cell_type": "code",
   "execution_count": 169,
   "id": "b99ff58c-7b1a-4b9b-b75d-7dff04f1fc8d",
   "metadata": {
    "tags": []
   },
   "outputs": [
    {
     "data": {
      "image/png": "[encoded data removed]",
      "text/plain": [
       "<Figure size 640x480 with 1 Axes>"
      ]
     },
     "metadata": {},
     "output_type": "display_data"
    }
   ],
   "source": [
    "plt.pie(shipping_pie['2_days_to_ship'], autopct='%1.1f%%', startangle=90)\n",
    "\n",
    "\n",
    "\n",
    "plt.show()\n"
   ]
  },
  {
   "cell_type": "markdown",
   "id": "e23412aa-84c3-43e4-ba9e-cffbe2118793",
   "metadata": {},
   "source": [
    "#### A correlation coefficient of 0.401415 indicates a positive correlation between two variables, but the strength of the correlation is moderate."
   ]
  },
  {
   "cell_type": "code",
   "execution_count": 93,
   "id": "e576e520-dc8c-4ffc-b08d-86f950dda305",
   "metadata": {},
   "outputs": [
    {
     "data": {
      "text/html": [
       "<div>\n",
       "<style scoped>\n",
       "    .dataframe tbody tr th:only-of-type {\n",
       "        vertical-align: middle;\n",
       "    }\n",
       "\n",
       "    .dataframe tbody tr th {\n",
       "        vertical-align: top;\n",
       "    }\n",
       "\n",
       "    .dataframe thead th {\n",
       "        text-align: right;\n",
       "    }\n",
       "</style>\n",
       "<table border=\"1\" class=\"dataframe\">\n",
       "  <thead>\n",
       "    <tr style=\"text-align: right;\">\n",
       "      <th></th>\n",
       "      <th>days_shipping_real</th>\n",
       "      <th>risk</th>\n",
       "    </tr>\n",
       "  </thead>\n",
       "  <tbody>\n",
       "    <tr>\n",
       "      <th>days_shipping_real</th>\n",
       "      <td>1.000000</td>\n",
       "      <td>0.401415</td>\n",
       "    </tr>\n",
       "    <tr>\n",
       "      <th>risk</th>\n",
       "      <td>0.401415</td>\n",
       "      <td>1.000000</td>\n",
       "    </tr>\n",
       "  </tbody>\n",
       "</table>\n",
       "</div>"
      ],
      "text/plain": [
       "                    days_shipping_real      risk\n",
       "days_shipping_real            1.000000  0.401415\n",
       "risk                          0.401415  1.000000"
      ]
     },
     "execution_count": 93,
     "metadata": {},
     "output_type": "execute_result"
    }
   ],
   "source": [
    "sc_shipping[['days_shipping_real', 'risk']].corr()"
   ]
  },
  {
   "cell_type": "code",
   "execution_count": null,
   "id": "985ba661-30f6-4bd8-b2b1-64a65c7a4f6b",
   "metadata": {
    "tags": []
   },
   "outputs": [],
   "source": [
    "import matplotlib.pyplot as plt\n",
    "\n",
    "# Example data\n",
    "days_to_ship = [0, 1, 2, 3, 4, 5, 6]\n",
    "advanced = [0, 0, 20873, 20719, 0, 0, 0]\n",
    "on_time = [4839, 0, 6819, 0, 20538, 0, 0]\n",
    "late = [241, 203, 2413, 1287, 1216, 1160, 1234]\n",
    "cancelled = [0, 4454, 26513, 6759, 6759, 27003, 27489]\n",
    "\n",
    "# Create a DataFrame\n",
    "import pandas as pd\n",
    "data = {'days_shipping_real': days_to_ship, 'Advanced': advanced, 'On Time': on_time, 'Late': late, 'Cancelled': cancelled}\n",
    "shipping_merge = pd.DataFrame(data)\n",
    "\n",
    "# Set custom colors\n",
    "colors = ['blue', 'green', 'yellow', 'red']\n",
    "\n",
    "# Plot the bar graph\n",
    "ax = shipping_merge.drop('total', axis=1).plot(\n",
    "    kind='bar', x='days_shipping_real', stacked=True, colormap='viridis', figsize=(10, 6), width=0.8, color=colors\n",
    ")\n",
    "\n",
    "# Customize the legend\n",
    "legend_colors = {'Advanced': 'blue', 'On Time': 'green', 'Late': 'yellow', 'Cancelled': 'red'}\n",
    "handles = [\n",
    "    plt.Line2D([0], [0], marker='o', color='w', markerfacecolor=color, markersize=10) for color in legend_colors.values()\n",
    "]\n",
    "plt.legend(handles, legend_colors.keys(), title='Delivery Status', loc='upper left')\n",
    "\n",
    "# Add labels and title\n",
    "plt.title('Shipping Status by Days to Shipping')\n",
    "plt.xlabel('Days to Ship')\n",
    "plt.ylabel('Number of Orders')\n",
    "\n",
    "# Customize x-axis labels\n",
    "ax.set_xticklabels(ax.get_xticklabels(), rotation=45, horizontalalignment='right')\n",
    "\n",
    "# Annotate the bars with values\n",
    "for p in ax.patches:\n",
    "    height = p.get_height()\n",
    "    if height != 0:\n",
    "        ax.annotate(f'{height:.0f}', (p.get_x() + p.get_width() / 2., height),\n",
    "                    ha='center', va='center', xytext=(0, 10), textcoords='offset points')\n",
    "\n",
    "# Show the plot\n",
    "plt.show()\n"
   ]
  },
  {
   "cell_type": "code",
   "execution_count": null,
   "id": "319ab891-e3e2-4760-9172-814f26fa35e6",
   "metadata": {
    "tags": []
   },
   "outputs": [],
   "source": [
    "shipping_merge['pct_advanced'] = (shipping_merge['n_advanced'] / shipping_merge['total'] * 100).round(2)\n",
    "shipping_merge['pct_on_time'] = (shipping_merge['n_on_time'] / shipping_merge['total'] * 100).round(2)\n",
    "shipping_merge['pct_late'] = (shipping_merge['n_late'] / shipping_merge['total'] * 100).round(2)\n",
    "shipping_merge['pct_cancelled'] = (shipping_merge['n_cancelled'] / shipping_merge['total'] * 100).round(2)\n",
    "shipping_merge = shipping_merge[['days_shipping_real', 'total', 'n_advanced', 'pct_advanced', 'n_on_time', 'pct_on_time', 'n_late', 'pct_late', 'n_cancelled', 'pct_cancelled']]"
   ]
  },
  {
   "cell_type": "code",
   "execution_count": null,
   "id": "30897518-4012-439a-b8b4-9bbf34128b1b",
   "metadata": {},
   "outputs": [],
   "source": []
  },
  {
   "cell_type": "code",
   "execution_count": null,
   "id": "70a753e7-841d-42cb-9ce9-ff478ec60c1e",
   "metadata": {},
   "outputs": [],
   "source": [
    "xxx"
   ]
  },
  {
   "cell_type": "code",
   "execution_count": null,
   "id": "f8c5e387-383a-4817-92a4-cb51c7a4c1aa",
   "metadata": {},
   "outputs": [],
   "source": []
  },
  {
   "cell_type": "code",
   "execution_count": null,
   "id": "304cac4f-a967-426f-aec0-b644fa81f113",
   "metadata": {},
   "outputs": [],
   "source": []
  },
  {
   "cell_type": "code",
   "execution_count": null,
   "id": "8f66d4ff-46d8-4fe6-bd30-e78ca0e3a1aa",
   "metadata": {},
   "outputs": [],
   "source": []
  },
  {
   "cell_type": "code",
   "execution_count": null,
   "id": "fcdde75e-43bf-427f-b180-a708c2245295",
   "metadata": {},
   "outputs": [],
   "source": []
  },
  {
   "cell_type": "code",
   "execution_count": null,
   "id": "f5d9a2e8-a1d6-4b0e-a1b9-c5d4a77c48e5",
   "metadata": {
    "tags": []
   },
   "outputs": [],
   "source": [
    "ax = shipping_merge.drop('total', axis=1).plot(kind='bar', stacked=False, colormap='PuOr', figsize=(10, 6))\n",
    "\n",
    "plt.title('Shipping Status by Days to Shipping')\n",
    "plt.xlabel('Days to Ship')\n",
    "plt.ylabel('Number of Orders')\n",
    "\n",
    "legend_colors = ['blue', 'green', 'orange', 'red', 'purple']\n",
    "handles = [plt.Line2D([0], [0], marker='o', color='w', markerfacecolor=color, markersize=10) for color in legend_colors]\n",
    "\n",
    "plt.legend(title='Delivery Status', labels=['Advanced', 'On Time', 'Late', 'Cancelled'], handles=handles)"
   ]
  },
  {
   "cell_type": "code",
   "execution_count": null,
   "id": "5a63db38-469f-4646-a5fc-0147daef1a1d",
   "metadata": {
    "tags": []
   },
   "outputs": [],
   "source": [
    "ax = shipping_merge.drop('total', axis=1).plot(kind='bar', stacked=False, figsize=(10, 6))\n",
    "\n",
    "plt.title('Shipping Status by Days to Shipping')\n",
    "plt.xlabel('Days to Ship')\n",
    "plt.ylabel('Number of Orders')\n",
    "\n",
    "legend_colors = ['blue', 'green', 'red', 'black']\n",
    "handles = [plt.Line2D([0], [0], marker='o', color='w', markerfacecolor=color, markersize=10) for color in legend_colors]\n",
    "\n",
    "plt.legend(title='Delivery Status', labels=['Advanced', 'On Time', 'Late', 'Cancelled'], handles=handles)"
   ]
  },
  {
   "cell_type": "code",
   "execution_count": null,
   "id": "af04974f-eeb3-4f3f-a022-be33ae781a50",
   "metadata": {
    "tags": []
   },
   "outputs": [],
   "source": [
    "import pandas as pd\n",
    "import matplotlib.pyplot as plt\n",
    "\n",
    "# Create a DataFrame with the provided data\n",
    "data = {\n",
    "    'days_shipping_real': [0, 1, 2, 3, 4, 5, 6],\n",
    "    'total': [5080, 4657, 56618, 28765, 28513, 28163, 28723],\n",
    "    'n_advanced': [0, 0, 20873, 20719, 0, 0, 0],\n",
    "    'n_on_time': [4839, 0, 6819, 0, 20538, 0, 0],\n",
    "    'n_late': [241, 203, 2413, 1287, 1216, 1160, 1234],\n",
    "    'n_cancelled': [0, 4454, 26513, 6759, 6759, 27003, 27489]\n",
    "}\n",
    "\n",
    "df = pd.DataFrame(data)\n",
    "\n",
    "# Set the 'days_shipping_real' column as the index for plotting\n",
    "df.set_index('days_shipping_real', inplace=True)\n",
    "\n",
    "# Plot the data using a grouped bar plot with custom colors\n",
    "ax = df.plot(kind='bar', colormap=['blue', 'green', 'orange', 'red', 'purple'], figsize=(10, 6))\n",
    "\n",
    "# Add labels and title\n",
    "plt.xlabel('Days to Shipping')\n",
    "plt.ylabel('Count')\n",
    "plt.title('Shipping Status by Days to Shipping')\n",
    "\n",
    "# Custom legend with specific colors\n",
    "legend_labels = ['Total', 'Advanced', 'On Time', 'Late', 'Cancelled']\n",
    "legend_colors = ['blue', 'green', 'orange', 'red', 'purple']\n",
    "handles = [plt.Line2D([0], [0], marker='o', color='w', markerfacecolor=color, markersize=10) for color in legend_colors]\n",
    "ax.legend(handles=handles, labels=legend_labels, title='Status', bbox_to_anchor=(1, 1))\n",
    "\n",
    "# Show the plot\n",
    "plt.show()\n"
   ]
  },
  {
   "cell_type": "code",
   "execution_count": null,
   "id": "61291beb-fc9c-4cc1-8b1a-48284278746d",
   "metadata": {},
   "outputs": [],
   "source": []
  }
 ],
 "metadata": {
  "kernelspec": {
   "display_name": "Python 3 (ipykernel)",
   "language": "python",
   "name": "python3"
  },
  "language_info": {
   "codemirror_mode": {
    "name": "ipython",
    "version": 3
   },
   "file_extension": ".py",
   "mimetype": "text/x-python",
   "name": "python",
   "nbconvert_exporter": "python",
   "pygments_lexer": "ipython3",
   "version": "3.11.4"
  }
 },
 "nbformat": 4,
 "nbformat_minor": 5
}
