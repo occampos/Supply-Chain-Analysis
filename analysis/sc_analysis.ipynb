{
 "cells": [
  {
   "cell_type": "markdown",
   "id": "dcd0ac5f-5ad7-4f5a-9233-8fb60271ac11",
   "metadata": {},
   "source": [
    "### import libraries"
   ]
  },
  {
   "cell_type": "code",
   "execution_count": 7,
   "id": "1418cde8-0e65-4d7e-a70a-04bf0b8dd036",
   "metadata": {
    "tags": []
   },
   "outputs": [],
   "source": [
    "import pandas as pd\n",
    "import numpy as np\n",
    "import seaborn as sns\n",
    "import matplotlib.pyplot as plt\n",
    "from matplotlib.ticker import FixedLocator, MaxNLocator"
   ]
  },
  {
   "cell_type": "markdown",
   "id": "336071f1-71f1-41d5-9731-c635da8b65f1",
   "metadata": {},
   "source": [
    "### settings"
   ]
  },
  {
   "cell_type": "code",
   "execution_count": 8,
   "id": "896bb54f-c87e-45a9-85c0-ceec4bb37e6d",
   "metadata": {
    "tags": []
   },
   "outputs": [],
   "source": [
    "%matplotlib inline\n",
    "\n",
    "pd.set_option('display.max_rows', None)"
   ]
  },
  {
   "cell_type": "markdown",
   "id": "94ebb776-d982-436f-b776-652c0ab4ffe3",
   "metadata": {},
   "source": [
    "### import data"
   ]
  },
  {
   "cell_type": "code",
   "execution_count": 9,
   "id": "4bb1432b-29f5-482a-a71a-ede6bd6e8892",
   "metadata": {
    "tags": []
   },
   "outputs": [],
   "source": [
    "%store -r sc_dataframes_cleaned"
   ]
  },
  {
   "cell_type": "code",
   "execution_count": 10,
   "id": "8dac8bc6-1184-40f1-9b46-31f8aacbb322",
   "metadata": {
    "tags": []
   },
   "outputs": [
    {
     "data": {
      "text/plain": [
       "dict_keys(['sc_dim_customer', 'sc_dim_market', 'sc_dim_product', 'sc_fact_forecast_monthly', 'sc_fact_sales_monthly', 'sc_freight_cost', 'sc_gross_price', 'sc_manufacturing_cost', 'sc_post_invoice_deductions_18_20', 'sc_post_invoice_deductions_21_22', 'sc_pre_invoice_deductions'])"
      ]
     },
     "execution_count": 10,
     "metadata": {},
     "output_type": "execute_result"
    }
   ],
   "source": [
    "sc_dataframes_cleaned.keys()"
   ]
  },
  {
   "cell_type": "code",
   "execution_count": 13,
   "id": "6e8898d9-1464-4352-83d8-4d5fe57a10bc",
   "metadata": {
    "tags": []
   },
   "outputs": [],
   "source": [
    "# Create copies of each dataframe\n",
    "\n",
    "sc_dim_customer = sc_dataframes_cleaned['sc_dim_customer'].copy()\n",
    "sc_dim_market = sc_dataframes_cleaned['sc_dim_market'].copy()\n",
    "sc_dim_product = sc_dataframes_cleaned['sc_dim_product'].copy()\n",
    "sc_fact_forecast_monthly = sc_dataframes_cleaned['sc_fact_forecast_monthly'].copy()\n",
    "sc_fact_sales_monthly = sc_dataframes_cleaned['sc_fact_sales_monthly'].copy()\n",
    "sc_freight_cost = sc_dataframes_cleaned['sc_freight_cost'].copy()\n",
    "sc_gross_price = sc_dataframes_cleaned['sc_gross_price'].copy()\n",
    "sc_manufacturing_cost = sc_dataframes_cleaned['sc_manufacturing_cost'].copy()\n",
    "sc_post_invoice_deductions_18_20 = sc_dataframes_cleaned['sc_post_invoice_deductions_18_20'].copy()\n",
    "sc_post_invoice_deductions_21_22 = sc_dataframes_cleaned['sc_post_invoice_deductions_21_22'].copy()\n",
    "sc_pre_invoice_deductions = sc_dataframes_cleaned['sc_pre_invoice_deductions'].copy()"
   ]
  },
  {
   "cell_type": "markdown",
   "id": "089d211a-49ea-4344-be40-7333f0665d55",
   "metadata": {},
   "source": [
    "### Analysis"
   ]
  },
  {
   "cell_type": "code",
   "execution_count": 17,
   "id": "c28007dc-f117-49e9-9ab2-53b734b18437",
   "metadata": {
    "tags": []
   },
   "outputs": [
    {
     "data": {
      "text/plain": [
       "['gross_price',\n",
       " 'forecast_quantity',\n",
       " 'product_code',\n",
       " 'customer',\n",
       " 'category',\n",
       " 'platform',\n",
       " 'date',\n",
       " 'other_cost_pct',\n",
       " 'manufacturing_cost',\n",
       " 'other_deductions_pct',\n",
       " 'sold_quantity',\n",
       " 'division',\n",
       " 'product',\n",
       " 'channel',\n",
       " 'fiscal_year',\n",
       " 'pre_invoice_discount_pct',\n",
       " 'freight_pct',\n",
       " 'sub_zone',\n",
       " 'customer_name',\n",
       " 'discounts_pct',\n",
       " 'market',\n",
       " 'variant',\n",
       " 'segment',\n",
       " 'customer_code',\n",
       " 'region',\n",
       " 'cost_year']"
      ]
     },
     "execution_count": 17,
     "metadata": {},
     "output_type": "execute_result"
    }
   ],
   "source": [
    "# Get all column names to input into large language model\n",
    "\n",
    "# Initialize an empty set to store unique column names\n",
    "all_column_names = set()\n",
    "\n",
    "# Iterate over each key-value pair in the dictionary\n",
    "for df_name, df in sc_dataframes_cleaned.items():\n",
    "    # Get the column names of the current DataFrame and add them to the set\n",
    "    all_column_names.update(df.columns)\n",
    "    \n",
    "# List all column names\n",
    "list(all_column_names)"
   ]
  },
  {
   "cell_type": "markdown",
   "id": "4761c718-acf3-4dc4-b7f4-c201bfa846cd",
   "metadata": {},
   "source": [
    "# Request 1\n",
    "## Can you identify the top three product categories by gross revenue for each fiscal year?"
   ]
  },
  {
   "cell_type": "markdown",
   "id": "de2f06a6-46df-4f89-b756-37639ebf6bca",
   "metadata": {},
   "source": [
    "# Request 2\n",
    "## Analyze the distribution of manufacturing costs across different product divisions and determine which division has the highest average manufacturing cost?"
   ]
  },
  {
   "cell_type": "markdown",
   "id": "2a755d42-ec08-4231-bb0a-25cc4944e8ed",
   "metadata": {
    "tags": []
   },
   "source": [
    "# Request 3\n",
    "## Analyze the relationship between the 'forecast_quantity' and 'sold_quantity' of products. Considering different product variants, identify whether there's a consistent pattern of over-forecasting or under-forecasting across various product variants.\n",
    "\n",
    "## Investigate if certain customer segments or regions tend to have higher discrepancies between forecasted and actual sales quantities\n",
    "\n",
    "## Propose potential strategies to optimize forecasting accuracy based on these findings.\""
   ]
  },
  {
   "cell_type": "code",
   "execution_count": null,
   "id": "960b8b73-a7c8-4b02-9ddd-a0d42c6fc42b",
   "metadata": {},
   "outputs": [],
   "source": []
  }
 ],
 "metadata": {
  "kernelspec": {
   "display_name": "Python 3 (ipykernel)",
   "language": "python",
   "name": "python3"
  },
  "language_info": {
   "codemirror_mode": {
    "name": "ipython",
    "version": 3
   },
   "file_extension": ".py",
   "mimetype": "text/x-python",
   "name": "python",
   "nbconvert_exporter": "python",
   "pygments_lexer": "ipython3",
   "version": "3.11.4"
  }
 },
 "nbformat": 4,
 "nbformat_minor": 5
}
