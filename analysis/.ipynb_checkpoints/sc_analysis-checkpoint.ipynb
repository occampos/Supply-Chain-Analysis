{
 "cells": [
  {
   "cell_type": "markdown",
   "id": "dcd0ac5f-5ad7-4f5a-9233-8fb60271ac11",
   "metadata": {},
   "source": [
    "### import libraries"
   ]
  },
  {
   "cell_type": "code",
   "execution_count": 1,
   "id": "1418cde8-0e65-4d7e-a70a-04bf0b8dd036",
   "metadata": {
    "tags": []
   },
   "outputs": [],
   "source": [
    "import pandas as pd\n",
    "import numpy as np\n",
    "import seaborn as sns\n",
    "import matplotlib.pyplot as plt\n",
    "from matplotlib.ticker import FixedLocator, MaxNLocator"
   ]
  },
  {
   "cell_type": "markdown",
   "id": "336071f1-71f1-41d5-9731-c635da8b65f1",
   "metadata": {},
   "source": [
    "### settings"
   ]
  },
  {
   "cell_type": "code",
   "execution_count": 2,
   "id": "896bb54f-c87e-45a9-85c0-ceec4bb37e6d",
   "metadata": {
    "tags": []
   },
   "outputs": [],
   "source": [
    "%matplotlib inline\n",
    "\n",
    "pd.set_option('display.max_rows', None)"
   ]
  },
  {
   "cell_type": "markdown",
   "id": "94ebb776-d982-436f-b776-652c0ab4ffe3",
   "metadata": {},
   "source": [
    "### import data"
   ]
  },
  {
   "cell_type": "code",
   "execution_count": 3,
   "id": "4bb1432b-29f5-482a-a71a-ede6bd6e8892",
   "metadata": {
    "tags": []
   },
   "outputs": [],
   "source": [
    "%store -r sc_dataframes_cleaned"
   ]
  },
  {
   "cell_type": "code",
   "execution_count": 4,
   "id": "8dac8bc6-1184-40f1-9b46-31f8aacbb322",
   "metadata": {
    "tags": []
   },
   "outputs": [
    {
     "data": {
      "text/plain": [
       "dict_keys(['sc_dim_customer', 'sc_dim_market', 'sc_dim_product', 'sc_fact_forecast_monthly', 'sc_fact_sales_monthly', 'sc_freight_cost', 'sc_gross_price', 'sc_manufacturing_cost', 'sc_post_invoice_deductions_18_20', 'sc_post_invoice_deductions_21_22', 'sc_pre_invoice_deductions'])"
      ]
     },
     "execution_count": 4,
     "metadata": {},
     "output_type": "execute_result"
    }
   ],
   "source": [
    "sc_dataframes_cleaned.keys()"
   ]
  },
  {
   "cell_type": "code",
   "execution_count": 5,
   "id": "6e8898d9-1464-4352-83d8-4d5fe57a10bc",
   "metadata": {
    "tags": []
   },
   "outputs": [],
   "source": [
    "# Create copies of each dataframe\n",
    "\n",
    "sc_dim_customer = sc_dataframes_cleaned['sc_dim_customer'].copy()\n",
    "sc_dim_market = sc_dataframes_cleaned['sc_dim_market'].copy()\n",
    "sc_dim_product = sc_dataframes_cleaned['sc_dim_product'].copy()\n",
    "sc_fact_forecast_monthly = sc_dataframes_cleaned['sc_fact_forecast_monthly'].copy()\n",
    "sc_fact_sales_monthly = sc_dataframes_cleaned['sc_fact_sales_monthly'].copy()\n",
    "sc_freight_cost = sc_dataframes_cleaned['sc_freight_cost'].copy()\n",
    "sc_gross_price = sc_dataframes_cleaned['sc_gross_price'].copy()\n",
    "sc_manufacturing_cost = sc_dataframes_cleaned['sc_manufacturing_cost'].copy()\n",
    "sc_post_invoice_deductions_18_20 = sc_dataframes_cleaned['sc_post_invoice_deductions_18_20'].copy()\n",
    "sc_post_invoice_deductions_21_22 = sc_dataframes_cleaned['sc_post_invoice_deductions_21_22'].copy()\n",
    "sc_pre_invoice_deductions = sc_dataframes_cleaned['sc_pre_invoice_deductions'].copy()"
   ]
  },
  {
   "cell_type": "markdown",
   "id": "089d211a-49ea-4344-be40-7333f0665d55",
   "metadata": {},
   "source": [
    "### Analysis"
   ]
  },
  {
   "cell_type": "code",
   "execution_count": 6,
   "id": "c28007dc-f117-49e9-9ab2-53b734b18437",
   "metadata": {
    "tags": []
   },
   "outputs": [
    {
     "data": {
      "text/plain": [
       "['freight_pct',\n",
       " 'customer_code',\n",
       " 'forecast_quantity',\n",
       " 'region',\n",
       " 'fiscal_year',\n",
       " 'date',\n",
       " 'category',\n",
       " 'other_cost_pct',\n",
       " 'cost_year',\n",
       " 'market',\n",
       " 'sold_quantity',\n",
       " 'product',\n",
       " 'segment',\n",
       " 'channel',\n",
       " 'platform',\n",
       " 'customer',\n",
       " 'variant',\n",
       " 'gross_price',\n",
       " 'sub_zone',\n",
       " 'other_deductions_pct',\n",
       " 'division',\n",
       " 'pre_invoice_discount_pct',\n",
       " 'discounts_pct',\n",
       " 'manufacturing_cost',\n",
       " 'product_code']"
      ]
     },
     "execution_count": 6,
     "metadata": {},
     "output_type": "execute_result"
    }
   ],
   "source": [
    "# Get all column names to input into large language model\n",
    "\n",
    "# Initialize an empty set to store unique column names\n",
    "all_column_names = set()\n",
    "\n",
    "# Iterate over each key-value pair in the dictionary\n",
    "for df_name, df in sc_dataframes_cleaned.items():\n",
    "    # Get the column names of the current DataFrame and add them to the set\n",
    "    all_column_names.update(df.columns)\n",
    "    \n",
    "# List all column names\n",
    "list(all_column_names)"
   ]
  },
  {
   "cell_type": "code",
   "execution_count": 7,
   "id": "dbfc2009-3ff9-44d7-ad96-4b69e5ccb393",
   "metadata": {
    "tags": []
   },
   "outputs": [
    {
     "data": {
      "text/html": [
       "<div>\n",
       "<style scoped>\n",
       "    .dataframe tbody tr th:only-of-type {\n",
       "        vertical-align: middle;\n",
       "    }\n",
       "\n",
       "    .dataframe tbody tr th {\n",
       "        vertical-align: top;\n",
       "    }\n",
       "\n",
       "    .dataframe thead th {\n",
       "        text-align: right;\n",
       "    }\n",
       "</style>\n",
       "<table border=\"1\" class=\"dataframe\">\n",
       "  <thead>\n",
       "    <tr style=\"text-align: right;\">\n",
       "      <th></th>\n",
       "      <th>customer</th>\n",
       "      <th>market</th>\n",
       "      <th>platform</th>\n",
       "      <th>channel</th>\n",
       "      <th>customer_code</th>\n",
       "    </tr>\n",
       "  </thead>\n",
       "  <tbody>\n",
       "    <tr>\n",
       "      <th>0</th>\n",
       "      <td>Brick &amp; Mortar</td>\n",
       "      <td>Brick &amp; Mortar</td>\n",
       "      <td>Brick &amp; Mortar</td>\n",
       "      <td>Retailer</td>\n",
       "      <td>90002012</td>\n",
       "    </tr>\n",
       "    <tr>\n",
       "      <th>1</th>\n",
       "      <td>Brick &amp; Mortar</td>\n",
       "      <td>Brick &amp; Mortar</td>\n",
       "      <td>Brick &amp; Mortar</td>\n",
       "      <td>Retailer</td>\n",
       "      <td>90002013</td>\n",
       "    </tr>\n",
       "    <tr>\n",
       "      <th>2</th>\n",
       "      <td>E-Commerce</td>\n",
       "      <td>E-Commerce</td>\n",
       "      <td>E-Commerce</td>\n",
       "      <td>Retailer</td>\n",
       "      <td>90002010</td>\n",
       "    </tr>\n",
       "    <tr>\n",
       "      <th>3</th>\n",
       "      <td>Brick &amp; Mortar</td>\n",
       "      <td>Brick &amp; Mortar</td>\n",
       "      <td>Brick &amp; Mortar</td>\n",
       "      <td>Retailer</td>\n",
       "      <td>90002011</td>\n",
       "    </tr>\n",
       "    <tr>\n",
       "      <th>4</th>\n",
       "      <td>Brick &amp; Mortar</td>\n",
       "      <td>Brick &amp; Mortar</td>\n",
       "      <td>Brick &amp; Mortar</td>\n",
       "      <td>Retailer</td>\n",
       "      <td>90002014</td>\n",
       "    </tr>\n",
       "  </tbody>\n",
       "</table>\n",
       "</div>"
      ],
      "text/plain": [
       "         customer          market        platform   channel  customer_code\n",
       "0  Brick & Mortar  Brick & Mortar  Brick & Mortar  Retailer       90002012\n",
       "1  Brick & Mortar  Brick & Mortar  Brick & Mortar  Retailer       90002013\n",
       "2      E-Commerce      E-Commerce      E-Commerce  Retailer       90002010\n",
       "3  Brick & Mortar  Brick & Mortar  Brick & Mortar  Retailer       90002011\n",
       "4  Brick & Mortar  Brick & Mortar  Brick & Mortar  Retailer       90002014"
      ]
     },
     "execution_count": 7,
     "metadata": {},
     "output_type": "execute_result"
    }
   ],
   "source": [
    "sc_dim_customer.head(5)"
   ]
  },
  {
   "cell_type": "code",
   "execution_count": 8,
   "id": "752125d1-c3dd-4abc-a3b3-c8581beba767",
   "metadata": {
    "tags": []
   },
   "outputs": [
    {
     "data": {
      "text/html": [
       "<div>\n",
       "<style scoped>\n",
       "    .dataframe tbody tr th:only-of-type {\n",
       "        vertical-align: middle;\n",
       "    }\n",
       "\n",
       "    .dataframe tbody tr th {\n",
       "        vertical-align: top;\n",
       "    }\n",
       "\n",
       "    .dataframe thead th {\n",
       "        text-align: right;\n",
       "    }\n",
       "</style>\n",
       "<table border=\"1\" class=\"dataframe\">\n",
       "  <thead>\n",
       "    <tr style=\"text-align: right;\">\n",
       "      <th></th>\n",
       "      <th>market</th>\n",
       "      <th>sub_zone</th>\n",
       "      <th>region</th>\n",
       "    </tr>\n",
       "  </thead>\n",
       "  <tbody>\n",
       "    <tr>\n",
       "      <th>0</th>\n",
       "      <td>China</td>\n",
       "      <td>ROA</td>\n",
       "      <td>APAC</td>\n",
       "    </tr>\n",
       "    <tr>\n",
       "      <th>1</th>\n",
       "      <td>India</td>\n",
       "      <td>India</td>\n",
       "      <td>APAC</td>\n",
       "    </tr>\n",
       "    <tr>\n",
       "      <th>2</th>\n",
       "      <td>Indonesia</td>\n",
       "      <td>ROA</td>\n",
       "      <td>APAC</td>\n",
       "    </tr>\n",
       "    <tr>\n",
       "      <th>3</th>\n",
       "      <td>Japan</td>\n",
       "      <td>ROA</td>\n",
       "      <td>APAC</td>\n",
       "    </tr>\n",
       "    <tr>\n",
       "      <th>4</th>\n",
       "      <td>Pakistan</td>\n",
       "      <td>ROA</td>\n",
       "      <td>APAC</td>\n",
       "    </tr>\n",
       "  </tbody>\n",
       "</table>\n",
       "</div>"
      ],
      "text/plain": [
       "      market sub_zone region\n",
       "0      China      ROA   APAC\n",
       "1      India    India   APAC\n",
       "2  Indonesia      ROA   APAC\n",
       "3      Japan      ROA   APAC\n",
       "4   Pakistan      ROA   APAC"
      ]
     },
     "execution_count": 8,
     "metadata": {},
     "output_type": "execute_result"
    }
   ],
   "source": [
    "sc_dim_market.head(5)"
   ]
  },
  {
   "cell_type": "code",
   "execution_count": 9,
   "id": "ef0c909d-7602-4a40-8f96-b59e12eb2458",
   "metadata": {
    "tags": []
   },
   "outputs": [
    {
     "data": {
      "text/html": [
       "<div>\n",
       "<style scoped>\n",
       "    .dataframe tbody tr th:only-of-type {\n",
       "        vertical-align: middle;\n",
       "    }\n",
       "\n",
       "    .dataframe tbody tr th {\n",
       "        vertical-align: top;\n",
       "    }\n",
       "\n",
       "    .dataframe thead th {\n",
       "        text-align: right;\n",
       "    }\n",
       "</style>\n",
       "<table border=\"1\" class=\"dataframe\">\n",
       "  <thead>\n",
       "    <tr style=\"text-align: right;\">\n",
       "      <th></th>\n",
       "      <th>product_code</th>\n",
       "      <th>division</th>\n",
       "      <th>segment</th>\n",
       "      <th>category</th>\n",
       "      <th>product</th>\n",
       "      <th>variant</th>\n",
       "    </tr>\n",
       "  </thead>\n",
       "  <tbody>\n",
       "    <tr>\n",
       "      <th>0</th>\n",
       "      <td>A0118150101</td>\n",
       "      <td>P &amp; A</td>\n",
       "      <td>Peripherals</td>\n",
       "      <td>Internal HDD</td>\n",
       "      <td>AQ Dracula HDD – 3.5 Inch SATA 6 Gb/s 5400 RPM...</td>\n",
       "      <td>Standard</td>\n",
       "    </tr>\n",
       "    <tr>\n",
       "      <th>1</th>\n",
       "      <td>A0118150102</td>\n",
       "      <td>P &amp; A</td>\n",
       "      <td>Peripherals</td>\n",
       "      <td>Internal HDD</td>\n",
       "      <td>AQ Dracula HDD – 3.5 Inch SATA 6 Gb/s 5400 RPM...</td>\n",
       "      <td>Plus</td>\n",
       "    </tr>\n",
       "    <tr>\n",
       "      <th>2</th>\n",
       "      <td>A0118150103</td>\n",
       "      <td>P &amp; A</td>\n",
       "      <td>Peripherals</td>\n",
       "      <td>Internal HDD</td>\n",
       "      <td>AQ Dracula HDD – 3.5 Inch SATA 6 Gb/s 5400 RPM...</td>\n",
       "      <td>Premium</td>\n",
       "    </tr>\n",
       "    <tr>\n",
       "      <th>3</th>\n",
       "      <td>A0118150104</td>\n",
       "      <td>P &amp; A</td>\n",
       "      <td>Peripherals</td>\n",
       "      <td>Internal HDD</td>\n",
       "      <td>AQ Dracula HDD – 3.5 Inch SATA 6 Gb/s 5400 RPM...</td>\n",
       "      <td>Premium Plus</td>\n",
       "    </tr>\n",
       "    <tr>\n",
       "      <th>4</th>\n",
       "      <td>A0219150201</td>\n",
       "      <td>P &amp; A</td>\n",
       "      <td>Peripherals</td>\n",
       "      <td>Internal HDD</td>\n",
       "      <td>AQ WereWolf NAS Internal Hard Drive HDD – 8.89 cm</td>\n",
       "      <td>Standard</td>\n",
       "    </tr>\n",
       "  </tbody>\n",
       "</table>\n",
       "</div>"
      ],
      "text/plain": [
       "  product_code division      segment      category  \\\n",
       "0  A0118150101    P & A  Peripherals  Internal HDD   \n",
       "1  A0118150102    P & A  Peripherals  Internal HDD   \n",
       "2  A0118150103    P & A  Peripherals  Internal HDD   \n",
       "3  A0118150104    P & A  Peripherals  Internal HDD   \n",
       "4  A0219150201    P & A  Peripherals  Internal HDD   \n",
       "\n",
       "                                             product       variant  \n",
       "0  AQ Dracula HDD – 3.5 Inch SATA 6 Gb/s 5400 RPM...      Standard  \n",
       "1  AQ Dracula HDD – 3.5 Inch SATA 6 Gb/s 5400 RPM...          Plus  \n",
       "2  AQ Dracula HDD – 3.5 Inch SATA 6 Gb/s 5400 RPM...       Premium  \n",
       "3  AQ Dracula HDD – 3.5 Inch SATA 6 Gb/s 5400 RPM...  Premium Plus  \n",
       "4  AQ WereWolf NAS Internal Hard Drive HDD – 8.89 cm      Standard  "
      ]
     },
     "execution_count": 9,
     "metadata": {},
     "output_type": "execute_result"
    }
   ],
   "source": [
    "sc_dim_product.head(5)"
   ]
  },
  {
   "cell_type": "code",
   "execution_count": 10,
   "id": "f40f464f-0885-461d-a220-a9a59f7862b6",
   "metadata": {
    "tags": []
   },
   "outputs": [
    {
     "data": {
      "text/html": [
       "<div>\n",
       "<style scoped>\n",
       "    .dataframe tbody tr th:only-of-type {\n",
       "        vertical-align: middle;\n",
       "    }\n",
       "\n",
       "    .dataframe tbody tr th {\n",
       "        vertical-align: top;\n",
       "    }\n",
       "\n",
       "    .dataframe thead th {\n",
       "        text-align: right;\n",
       "    }\n",
       "</style>\n",
       "<table border=\"1\" class=\"dataframe\">\n",
       "  <thead>\n",
       "    <tr style=\"text-align: right;\">\n",
       "      <th></th>\n",
       "      <th>date</th>\n",
       "      <th>product_code</th>\n",
       "      <th>customer_code</th>\n",
       "      <th>forecast_quantity</th>\n",
       "      <th>fiscal_year</th>\n",
       "    </tr>\n",
       "  </thead>\n",
       "  <tbody>\n",
       "    <tr>\n",
       "      <th>0</th>\n",
       "      <td>2017-09-01</td>\n",
       "      <td>A6218160101</td>\n",
       "      <td>70008169</td>\n",
       "      <td>146</td>\n",
       "      <td>2018</td>\n",
       "    </tr>\n",
       "    <tr>\n",
       "      <th>1</th>\n",
       "      <td>2017-09-01</td>\n",
       "      <td>A6218160101</td>\n",
       "      <td>90008165</td>\n",
       "      <td>120</td>\n",
       "      <td>2018</td>\n",
       "    </tr>\n",
       "    <tr>\n",
       "      <th>2</th>\n",
       "      <td>2017-09-01</td>\n",
       "      <td>A6218160101</td>\n",
       "      <td>90008166</td>\n",
       "      <td>216</td>\n",
       "      <td>2018</td>\n",
       "    </tr>\n",
       "    <tr>\n",
       "      <th>3</th>\n",
       "      <td>2017-09-01</td>\n",
       "      <td>A6218160101</td>\n",
       "      <td>90008167</td>\n",
       "      <td>141</td>\n",
       "      <td>2018</td>\n",
       "    </tr>\n",
       "    <tr>\n",
       "      <th>4</th>\n",
       "      <td>2017-09-01</td>\n",
       "      <td>A6218160101</td>\n",
       "      <td>70008170</td>\n",
       "      <td>85</td>\n",
       "      <td>2018</td>\n",
       "    </tr>\n",
       "  </tbody>\n",
       "</table>\n",
       "</div>"
      ],
      "text/plain": [
       "        date product_code customer_code  forecast_quantity  fiscal_year\n",
       "0 2017-09-01  A6218160101      70008169                146         2018\n",
       "1 2017-09-01  A6218160101      90008165                120         2018\n",
       "2 2017-09-01  A6218160101      90008166                216         2018\n",
       "3 2017-09-01  A6218160101      90008167                141         2018\n",
       "4 2017-09-01  A6218160101      70008170                 85         2018"
      ]
     },
     "execution_count": 10,
     "metadata": {},
     "output_type": "execute_result"
    }
   ],
   "source": [
    "sc_fact_forecast_monthly.head(5)"
   ]
  },
  {
   "cell_type": "code",
   "execution_count": 11,
   "id": "3638ce81-58e9-477c-9b7a-6d1a194fd591",
   "metadata": {
    "tags": []
   },
   "outputs": [
    {
     "data": {
      "text/html": [
       "<div>\n",
       "<style scoped>\n",
       "    .dataframe tbody tr th:only-of-type {\n",
       "        vertical-align: middle;\n",
       "    }\n",
       "\n",
       "    .dataframe tbody tr th {\n",
       "        vertical-align: top;\n",
       "    }\n",
       "\n",
       "    .dataframe thead th {\n",
       "        text-align: right;\n",
       "    }\n",
       "</style>\n",
       "<table border=\"1\" class=\"dataframe\">\n",
       "  <thead>\n",
       "    <tr style=\"text-align: right;\">\n",
       "      <th></th>\n",
       "      <th>date</th>\n",
       "      <th>product_code</th>\n",
       "      <th>customer_code</th>\n",
       "      <th>sold_quantity</th>\n",
       "      <th>fiscal_year</th>\n",
       "    </tr>\n",
       "  </thead>\n",
       "  <tbody>\n",
       "    <tr>\n",
       "      <th>0</th>\n",
       "      <td>2017-09-01</td>\n",
       "      <td>A6218160101</td>\n",
       "      <td>70008169</td>\n",
       "      <td>81</td>\n",
       "      <td>2018</td>\n",
       "    </tr>\n",
       "    <tr>\n",
       "      <th>1</th>\n",
       "      <td>2017-09-01</td>\n",
       "      <td>A6218160101</td>\n",
       "      <td>90008165</td>\n",
       "      <td>157</td>\n",
       "      <td>2018</td>\n",
       "    </tr>\n",
       "    <tr>\n",
       "      <th>2</th>\n",
       "      <td>2017-09-01</td>\n",
       "      <td>A6218160101</td>\n",
       "      <td>90008166</td>\n",
       "      <td>126</td>\n",
       "      <td>2018</td>\n",
       "    </tr>\n",
       "    <tr>\n",
       "      <th>3</th>\n",
       "      <td>2017-09-01</td>\n",
       "      <td>A6218160101</td>\n",
       "      <td>90008167</td>\n",
       "      <td>160</td>\n",
       "      <td>2018</td>\n",
       "    </tr>\n",
       "    <tr>\n",
       "      <th>4</th>\n",
       "      <td>2017-09-01</td>\n",
       "      <td>A6218160101</td>\n",
       "      <td>70008170</td>\n",
       "      <td>120</td>\n",
       "      <td>2018</td>\n",
       "    </tr>\n",
       "  </tbody>\n",
       "</table>\n",
       "</div>"
      ],
      "text/plain": [
       "        date product_code customer_code  sold_quantity  fiscal_year\n",
       "0 2017-09-01  A6218160101      70008169             81         2018\n",
       "1 2017-09-01  A6218160101      90008165            157         2018\n",
       "2 2017-09-01  A6218160101      90008166            126         2018\n",
       "3 2017-09-01  A6218160101      90008167            160         2018\n",
       "4 2017-09-01  A6218160101      70008170            120         2018"
      ]
     },
     "execution_count": 11,
     "metadata": {},
     "output_type": "execute_result"
    }
   ],
   "source": [
    "sc_fact_sales_monthly.head(5)"
   ]
  },
  {
   "cell_type": "code",
   "execution_count": 12,
   "id": "a01d747d-929d-452f-b9d0-86506610ec60",
   "metadata": {
    "tags": []
   },
   "outputs": [
    {
     "data": {
      "text/html": [
       "<div>\n",
       "<style scoped>\n",
       "    .dataframe tbody tr th:only-of-type {\n",
       "        vertical-align: middle;\n",
       "    }\n",
       "\n",
       "    .dataframe tbody tr th {\n",
       "        vertical-align: top;\n",
       "    }\n",
       "\n",
       "    .dataframe thead th {\n",
       "        text-align: right;\n",
       "    }\n",
       "</style>\n",
       "<table border=\"1\" class=\"dataframe\">\n",
       "  <thead>\n",
       "    <tr style=\"text-align: right;\">\n",
       "      <th></th>\n",
       "      <th>market</th>\n",
       "      <th>fiscal_year</th>\n",
       "      <th>freight_pct</th>\n",
       "      <th>other_cost_pct</th>\n",
       "    </tr>\n",
       "  </thead>\n",
       "  <tbody>\n",
       "    <tr>\n",
       "      <th>0</th>\n",
       "      <td>Australia</td>\n",
       "      <td>2018</td>\n",
       "      <td>0.0188</td>\n",
       "      <td>0.0050</td>\n",
       "    </tr>\n",
       "    <tr>\n",
       "      <th>1</th>\n",
       "      <td>Austria</td>\n",
       "      <td>2018</td>\n",
       "      <td>0.0272</td>\n",
       "      <td>0.0053</td>\n",
       "    </tr>\n",
       "    <tr>\n",
       "      <th>2</th>\n",
       "      <td>Bangladesh</td>\n",
       "      <td>2018</td>\n",
       "      <td>0.0219</td>\n",
       "      <td>0.0058</td>\n",
       "    </tr>\n",
       "    <tr>\n",
       "      <th>3</th>\n",
       "      <td>Brazil</td>\n",
       "      <td>2018</td>\n",
       "      <td>0.0239</td>\n",
       "      <td>0.0033</td>\n",
       "    </tr>\n",
       "    <tr>\n",
       "      <th>4</th>\n",
       "      <td>Canada</td>\n",
       "      <td>2018</td>\n",
       "      <td>0.0264</td>\n",
       "      <td>0.0054</td>\n",
       "    </tr>\n",
       "  </tbody>\n",
       "</table>\n",
       "</div>"
      ],
      "text/plain": [
       "       market  fiscal_year  freight_pct  other_cost_pct\n",
       "0   Australia         2018       0.0188          0.0050\n",
       "1     Austria         2018       0.0272          0.0053\n",
       "2  Bangladesh         2018       0.0219          0.0058\n",
       "3      Brazil         2018       0.0239          0.0033\n",
       "4      Canada         2018       0.0264          0.0054"
      ]
     },
     "execution_count": 12,
     "metadata": {},
     "output_type": "execute_result"
    }
   ],
   "source": [
    "sc_freight_cost.head(5)"
   ]
  },
  {
   "cell_type": "code",
   "execution_count": 13,
   "id": "b320568c-8577-4154-8c26-1014435f4d71",
   "metadata": {
    "tags": []
   },
   "outputs": [
    {
     "data": {
      "text/html": [
       "<div>\n",
       "<style scoped>\n",
       "    .dataframe tbody tr th:only-of-type {\n",
       "        vertical-align: middle;\n",
       "    }\n",
       "\n",
       "    .dataframe tbody tr th {\n",
       "        vertical-align: top;\n",
       "    }\n",
       "\n",
       "    .dataframe thead th {\n",
       "        text-align: right;\n",
       "    }\n",
       "</style>\n",
       "<table border=\"1\" class=\"dataframe\">\n",
       "  <thead>\n",
       "    <tr style=\"text-align: right;\">\n",
       "      <th></th>\n",
       "      <th>product_code</th>\n",
       "      <th>fiscal_year</th>\n",
       "      <th>gross_price</th>\n",
       "    </tr>\n",
       "  </thead>\n",
       "  <tbody>\n",
       "    <tr>\n",
       "      <th>0</th>\n",
       "      <td>A0118150101</td>\n",
       "      <td>2018</td>\n",
       "      <td>15.3952</td>\n",
       "    </tr>\n",
       "    <tr>\n",
       "      <th>1</th>\n",
       "      <td>A0118150101</td>\n",
       "      <td>2019</td>\n",
       "      <td>14.4392</td>\n",
       "    </tr>\n",
       "    <tr>\n",
       "      <th>2</th>\n",
       "      <td>A0118150101</td>\n",
       "      <td>2020</td>\n",
       "      <td>16.2323</td>\n",
       "    </tr>\n",
       "    <tr>\n",
       "      <th>3</th>\n",
       "      <td>A0118150101</td>\n",
       "      <td>2021</td>\n",
       "      <td>19.0573</td>\n",
       "    </tr>\n",
       "    <tr>\n",
       "      <th>4</th>\n",
       "      <td>A0118150102</td>\n",
       "      <td>2018</td>\n",
       "      <td>19.5875</td>\n",
       "    </tr>\n",
       "  </tbody>\n",
       "</table>\n",
       "</div>"
      ],
      "text/plain": [
       "  product_code  fiscal_year  gross_price\n",
       "0  A0118150101         2018      15.3952\n",
       "1  A0118150101         2019      14.4392\n",
       "2  A0118150101         2020      16.2323\n",
       "3  A0118150101         2021      19.0573\n",
       "4  A0118150102         2018      19.5875"
      ]
     },
     "execution_count": 13,
     "metadata": {},
     "output_type": "execute_result"
    }
   ],
   "source": [
    "sc_gross_price.head(5)"
   ]
  },
  {
   "cell_type": "code",
   "execution_count": 14,
   "id": "78884317-7a9d-409f-a4f2-d8e947a7ca65",
   "metadata": {
    "tags": []
   },
   "outputs": [
    {
     "data": {
      "text/html": [
       "<div>\n",
       "<style scoped>\n",
       "    .dataframe tbody tr th:only-of-type {\n",
       "        vertical-align: middle;\n",
       "    }\n",
       "\n",
       "    .dataframe tbody tr th {\n",
       "        vertical-align: top;\n",
       "    }\n",
       "\n",
       "    .dataframe thead th {\n",
       "        text-align: right;\n",
       "    }\n",
       "</style>\n",
       "<table border=\"1\" class=\"dataframe\">\n",
       "  <thead>\n",
       "    <tr style=\"text-align: right;\">\n",
       "      <th></th>\n",
       "      <th>product_code</th>\n",
       "      <th>cost_year</th>\n",
       "      <th>manufacturing_cost</th>\n",
       "    </tr>\n",
       "  </thead>\n",
       "  <tbody>\n",
       "    <tr>\n",
       "      <th>0</th>\n",
       "      <td>A0118150101</td>\n",
       "      <td>2018</td>\n",
       "      <td>4.6190</td>\n",
       "    </tr>\n",
       "    <tr>\n",
       "      <th>1</th>\n",
       "      <td>A0118150101</td>\n",
       "      <td>2019</td>\n",
       "      <td>4.2033</td>\n",
       "    </tr>\n",
       "    <tr>\n",
       "      <th>2</th>\n",
       "      <td>A0118150101</td>\n",
       "      <td>2020</td>\n",
       "      <td>5.0207</td>\n",
       "    </tr>\n",
       "    <tr>\n",
       "      <th>3</th>\n",
       "      <td>A0118150101</td>\n",
       "      <td>2021</td>\n",
       "      <td>5.5172</td>\n",
       "    </tr>\n",
       "    <tr>\n",
       "      <th>4</th>\n",
       "      <td>A0118150102</td>\n",
       "      <td>2018</td>\n",
       "      <td>5.6036</td>\n",
       "    </tr>\n",
       "  </tbody>\n",
       "</table>\n",
       "</div>"
      ],
      "text/plain": [
       "  product_code  cost_year  manufacturing_cost\n",
       "0  A0118150101       2018              4.6190\n",
       "1  A0118150101       2019              4.2033\n",
       "2  A0118150101       2020              5.0207\n",
       "3  A0118150101       2021              5.5172\n",
       "4  A0118150102       2018              5.6036"
      ]
     },
     "execution_count": 14,
     "metadata": {},
     "output_type": "execute_result"
    }
   ],
   "source": [
    "sc_manufacturing_cost.head(5)"
   ]
  },
  {
   "cell_type": "code",
   "execution_count": 15,
   "id": "c0feff72-5183-4bbc-a896-7311b619b437",
   "metadata": {
    "tags": []
   },
   "outputs": [
    {
     "data": {
      "text/html": [
       "<div>\n",
       "<style scoped>\n",
       "    .dataframe tbody tr th:only-of-type {\n",
       "        vertical-align: middle;\n",
       "    }\n",
       "\n",
       "    .dataframe tbody tr th {\n",
       "        vertical-align: top;\n",
       "    }\n",
       "\n",
       "    .dataframe thead th {\n",
       "        text-align: right;\n",
       "    }\n",
       "</style>\n",
       "<table border=\"1\" class=\"dataframe\">\n",
       "  <thead>\n",
       "    <tr style=\"text-align: right;\">\n",
       "      <th></th>\n",
       "      <th>customer_code</th>\n",
       "      <th>product_code</th>\n",
       "      <th>date</th>\n",
       "      <th>discounts_pct</th>\n",
       "      <th>other_deductions_pct</th>\n",
       "      <th>fiscal_year</th>\n",
       "    </tr>\n",
       "  </thead>\n",
       "  <tbody>\n",
       "    <tr>\n",
       "      <th>0</th>\n",
       "      <td>70002017</td>\n",
       "      <td>A0118150101</td>\n",
       "      <td>2017-09-01</td>\n",
       "      <td>0.265957</td>\n",
       "      <td>0.071871</td>\n",
       "      <td>2018</td>\n",
       "    </tr>\n",
       "    <tr>\n",
       "      <th>1</th>\n",
       "      <td>70002017</td>\n",
       "      <td>A0118150101</td>\n",
       "      <td>2017-10-01</td>\n",
       "      <td>0.308992</td>\n",
       "      <td>0.097627</td>\n",
       "      <td>2018</td>\n",
       "    </tr>\n",
       "    <tr>\n",
       "      <th>2</th>\n",
       "      <td>70002017</td>\n",
       "      <td>A0118150101</td>\n",
       "      <td>2017-11-01</td>\n",
       "      <td>0.331268</td>\n",
       "      <td>0.075211</td>\n",
       "      <td>2018</td>\n",
       "    </tr>\n",
       "    <tr>\n",
       "      <th>3</th>\n",
       "      <td>70002017</td>\n",
       "      <td>A0118150101</td>\n",
       "      <td>2018-01-01</td>\n",
       "      <td>0.295792</td>\n",
       "      <td>0.072036</td>\n",
       "      <td>2018</td>\n",
       "    </tr>\n",
       "    <tr>\n",
       "      <th>4</th>\n",
       "      <td>70002017</td>\n",
       "      <td>A0118150101</td>\n",
       "      <td>2018-02-01</td>\n",
       "      <td>0.320787</td>\n",
       "      <td>0.079335</td>\n",
       "      <td>2018</td>\n",
       "    </tr>\n",
       "  </tbody>\n",
       "</table>\n",
       "</div>"
      ],
      "text/plain": [
       "  customer_code product_code       date  discounts_pct  other_deductions_pct  \\\n",
       "0      70002017  A0118150101 2017-09-01       0.265957              0.071871   \n",
       "1      70002017  A0118150101 2017-10-01       0.308992              0.097627   \n",
       "2      70002017  A0118150101 2017-11-01       0.331268              0.075211   \n",
       "3      70002017  A0118150101 2018-01-01       0.295792              0.072036   \n",
       "4      70002017  A0118150101 2018-02-01       0.320787              0.079335   \n",
       "\n",
       "   fiscal_year  \n",
       "0         2018  \n",
       "1         2018  \n",
       "2         2018  \n",
       "3         2018  \n",
       "4         2018  "
      ]
     },
     "execution_count": 15,
     "metadata": {},
     "output_type": "execute_result"
    }
   ],
   "source": [
    "sc_post_invoice_deductions_18_20.head(5)"
   ]
  },
  {
   "cell_type": "code",
   "execution_count": 16,
   "id": "e225e485-2f56-48ed-a24d-9048fcd8840d",
   "metadata": {
    "tags": []
   },
   "outputs": [
    {
     "data": {
      "text/html": [
       "<div>\n",
       "<style scoped>\n",
       "    .dataframe tbody tr th:only-of-type {\n",
       "        vertical-align: middle;\n",
       "    }\n",
       "\n",
       "    .dataframe tbody tr th {\n",
       "        vertical-align: top;\n",
       "    }\n",
       "\n",
       "    .dataframe thead th {\n",
       "        text-align: right;\n",
       "    }\n",
       "</style>\n",
       "<table border=\"1\" class=\"dataframe\">\n",
       "  <thead>\n",
       "    <tr style=\"text-align: right;\">\n",
       "      <th></th>\n",
       "      <th>customer_code</th>\n",
       "      <th>product_code</th>\n",
       "      <th>date</th>\n",
       "      <th>discounts_pct</th>\n",
       "      <th>other_deductions_pct</th>\n",
       "      <th>fiscal_year</th>\n",
       "    </tr>\n",
       "  </thead>\n",
       "  <tbody>\n",
       "    <tr>\n",
       "      <th>0</th>\n",
       "      <td>70002017</td>\n",
       "      <td>A0118150101</td>\n",
       "      <td>2021-01-01</td>\n",
       "      <td>0.265561</td>\n",
       "      <td>0.135387</td>\n",
       "      <td>2021</td>\n",
       "    </tr>\n",
       "    <tr>\n",
       "      <th>1</th>\n",
       "      <td>70002017</td>\n",
       "      <td>A0118150101</td>\n",
       "      <td>2021-02-01</td>\n",
       "      <td>0.231823</td>\n",
       "      <td>0.125004</td>\n",
       "      <td>2021</td>\n",
       "    </tr>\n",
       "    <tr>\n",
       "      <th>2</th>\n",
       "      <td>70002017</td>\n",
       "      <td>A0118150101</td>\n",
       "      <td>2021-03-01</td>\n",
       "      <td>0.265881</td>\n",
       "      <td>0.140936</td>\n",
       "      <td>2021</td>\n",
       "    </tr>\n",
       "    <tr>\n",
       "      <th>3</th>\n",
       "      <td>70002017</td>\n",
       "      <td>A0118150101</td>\n",
       "      <td>2021-05-01</td>\n",
       "      <td>0.245106</td>\n",
       "      <td>0.138077</td>\n",
       "      <td>2021</td>\n",
       "    </tr>\n",
       "    <tr>\n",
       "      <th>4</th>\n",
       "      <td>70002017</td>\n",
       "      <td>A0118150101</td>\n",
       "      <td>2021-06-01</td>\n",
       "      <td>0.253668</td>\n",
       "      <td>0.130621</td>\n",
       "      <td>2021</td>\n",
       "    </tr>\n",
       "  </tbody>\n",
       "</table>\n",
       "</div>"
      ],
      "text/plain": [
       "  customer_code product_code       date  discounts_pct  other_deductions_pct  \\\n",
       "0      70002017  A0118150101 2021-01-01       0.265561              0.135387   \n",
       "1      70002017  A0118150101 2021-02-01       0.231823              0.125004   \n",
       "2      70002017  A0118150101 2021-03-01       0.265881              0.140936   \n",
       "3      70002017  A0118150101 2021-05-01       0.245106              0.138077   \n",
       "4      70002017  A0118150101 2021-06-01       0.253668              0.130621   \n",
       "\n",
       "   fiscal_year  \n",
       "0         2021  \n",
       "1         2021  \n",
       "2         2021  \n",
       "3         2021  \n",
       "4         2021  "
      ]
     },
     "execution_count": 16,
     "metadata": {},
     "output_type": "execute_result"
    }
   ],
   "source": [
    "sc_post_invoice_deductions_21_22.head(5)"
   ]
  },
  {
   "cell_type": "code",
   "execution_count": 17,
   "id": "5222f04f-0c91-4e38-9815-19b2317443d8",
   "metadata": {
    "tags": []
   },
   "outputs": [
    {
     "data": {
      "text/html": [
       "<div>\n",
       "<style scoped>\n",
       "    .dataframe tbody tr th:only-of-type {\n",
       "        vertical-align: middle;\n",
       "    }\n",
       "\n",
       "    .dataframe tbody tr th {\n",
       "        vertical-align: top;\n",
       "    }\n",
       "\n",
       "    .dataframe thead th {\n",
       "        text-align: right;\n",
       "    }\n",
       "</style>\n",
       "<table border=\"1\" class=\"dataframe\">\n",
       "  <thead>\n",
       "    <tr style=\"text-align: right;\">\n",
       "      <th></th>\n",
       "      <th>customer_code</th>\n",
       "      <th>fiscal_year</th>\n",
       "      <th>pre_invoice_discount_pct</th>\n",
       "    </tr>\n",
       "  </thead>\n",
       "  <tbody>\n",
       "    <tr>\n",
       "      <th>0</th>\n",
       "      <td>70002017</td>\n",
       "      <td>2018</td>\n",
       "      <td>0.082442</td>\n",
       "    </tr>\n",
       "    <tr>\n",
       "      <th>1</th>\n",
       "      <td>70002017</td>\n",
       "      <td>2019</td>\n",
       "      <td>0.077659</td>\n",
       "    </tr>\n",
       "    <tr>\n",
       "      <th>2</th>\n",
       "      <td>70002017</td>\n",
       "      <td>2020</td>\n",
       "      <td>0.073458</td>\n",
       "    </tr>\n",
       "    <tr>\n",
       "      <th>3</th>\n",
       "      <td>70002017</td>\n",
       "      <td>2021</td>\n",
       "      <td>0.070269</td>\n",
       "    </tr>\n",
       "    <tr>\n",
       "      <th>4</th>\n",
       "      <td>70002017</td>\n",
       "      <td>2022</td>\n",
       "      <td>0.105678</td>\n",
       "    </tr>\n",
       "  </tbody>\n",
       "</table>\n",
       "</div>"
      ],
      "text/plain": [
       "  customer_code  fiscal_year  pre_invoice_discount_pct\n",
       "0      70002017         2018                  0.082442\n",
       "1      70002017         2019                  0.077659\n",
       "2      70002017         2020                  0.073458\n",
       "3      70002017         2021                  0.070269\n",
       "4      70002017         2022                  0.105678"
      ]
     },
     "execution_count": 17,
     "metadata": {},
     "output_type": "execute_result"
    }
   ],
   "source": [
    "sc_pre_invoice_deductions.head(5)"
   ]
  },
  {
   "cell_type": "markdown",
   "id": "4b00c860-d7f8-4325-9409-d5c1adf6044e",
   "metadata": {},
   "source": [
    "# Request 1\n",
    "## Can you identify the top three product categories by gross revenue for each fiscal year?"
   ]
  },
  {
   "cell_type": "code",
   "execution_count": 18,
   "id": "a84c0c20-c5ce-4bfc-a9a0-da6bea438cf1",
   "metadata": {},
   "outputs": [],
   "source": []
  },
  {
   "cell_type": "code",
   "execution_count": null,
   "id": "b8ea8467-b5f9-4024-aa7e-5b05421cdde2",
   "metadata": {},
   "outputs": [],
   "source": []
  },
  {
   "cell_type": "code",
   "execution_count": null,
   "id": "25c49b9d-234e-4dd8-9433-585e0ae0db62",
   "metadata": {},
   "outputs": [],
   "source": []
  },
  {
   "cell_type": "code",
   "execution_count": null,
   "id": "18904a56-65b0-4401-8797-64eef943881d",
   "metadata": {},
   "outputs": [],
   "source": []
  },
  {
   "cell_type": "code",
   "execution_count": null,
   "id": "e3e5904d-b5d7-4524-bd54-d4357909f0ac",
   "metadata": {},
   "outputs": [],
   "source": []
  },
  {
   "cell_type": "code",
   "execution_count": null,
   "id": "d40b6788-46bf-4a19-ba42-4f4624f3c542",
   "metadata": {},
   "outputs": [],
   "source": []
  },
  {
   "cell_type": "code",
   "execution_count": null,
   "id": "3786e41b-0d11-4b3a-8136-28524cc04cdc",
   "metadata": {},
   "outputs": [],
   "source": []
  },
  {
   "cell_type": "code",
   "execution_count": null,
   "id": "2f0c6561-ae7f-4640-8f8f-12bc254a93b0",
   "metadata": {},
   "outputs": [],
   "source": []
  },
  {
   "cell_type": "code",
   "execution_count": null,
   "id": "d62fdb22-aab8-443b-bdbd-a0b543be3335",
   "metadata": {},
   "outputs": [],
   "source": []
  },
  {
   "cell_type": "code",
   "execution_count": null,
   "id": "49cf8d55-0cdc-4eca-b624-d3dc5c6eed40",
   "metadata": {},
   "outputs": [],
   "source": []
  },
  {
   "cell_type": "code",
   "execution_count": null,
   "id": "8a7874a2-115d-409e-8571-cb857970e598",
   "metadata": {},
   "outputs": [],
   "source": []
  },
  {
   "cell_type": "code",
   "execution_count": null,
   "id": "7573bc90-47a0-44d3-a8b2-d69ee27bbe8d",
   "metadata": {},
   "outputs": [],
   "source": []
  },
  {
   "cell_type": "code",
   "execution_count": null,
   "id": "3d567c48-2a03-40c1-bda8-c0ffcdc79143",
   "metadata": {},
   "outputs": [],
   "source": []
  },
  {
   "cell_type": "code",
   "execution_count": null,
   "id": "22f32c20-b387-4d0a-9277-81e084aa303c",
   "metadata": {},
   "outputs": [],
   "source": []
  },
  {
   "cell_type": "code",
   "execution_count": null,
   "id": "4fe5760a-d81f-4424-93a0-e7c5ddf1288b",
   "metadata": {},
   "outputs": [],
   "source": []
  },
  {
   "cell_type": "code",
   "execution_count": null,
   "id": "ae1150d5-7cdd-4699-a98c-7e8f8cf15a1f",
   "metadata": {},
   "outputs": [],
   "source": []
  },
  {
   "cell_type": "code",
   "execution_count": null,
   "id": "e1ff8386-2d18-41c0-bbf8-398c2c6c1a5f",
   "metadata": {},
   "outputs": [],
   "source": []
  },
  {
   "cell_type": "code",
   "execution_count": null,
   "id": "83676c94-22bc-43bf-be84-abb47ebf5b4d",
   "metadata": {},
   "outputs": [],
   "source": []
  },
  {
   "cell_type": "code",
   "execution_count": null,
   "id": "7a1d9cbb-eada-4efc-b37e-b4e2c928d10d",
   "metadata": {},
   "outputs": [],
   "source": []
  },
  {
   "cell_type": "code",
   "execution_count": null,
   "id": "d92ad289-a338-4f08-a6e9-3a4f9afda493",
   "metadata": {},
   "outputs": [],
   "source": []
  },
  {
   "cell_type": "code",
   "execution_count": null,
   "id": "0f71a7da-df7b-459a-9b54-e447733b09ba",
   "metadata": {},
   "outputs": [],
   "source": []
  },
  {
   "cell_type": "code",
   "execution_count": null,
   "id": "9960562d-526c-4566-9a9e-390cc3df88e9",
   "metadata": {},
   "outputs": [],
   "source": []
  },
  {
   "cell_type": "markdown",
   "id": "de2f06a6-46df-4f89-b756-37639ebf6bca",
   "metadata": {},
   "source": [
    "# Request 2\n",
    "## Analyze the distribution of manufacturing costs across different product divisions and determine which division has the highest average manufacturing cost?"
   ]
  },
  {
   "cell_type": "code",
   "execution_count": null,
   "id": "5982f938-082c-4065-9536-707ffb6fb0dd",
   "metadata": {},
   "outputs": [],
   "source": []
  },
  {
   "cell_type": "code",
   "execution_count": null,
   "id": "1eba1640-302a-40a7-a6ee-3170d626df7a",
   "metadata": {},
   "outputs": [],
   "source": []
  },
  {
   "cell_type": "code",
   "execution_count": null,
   "id": "03b4f0ad-3d59-423e-8ec7-709a8f1ce516",
   "metadata": {},
   "outputs": [],
   "source": []
  },
  {
   "cell_type": "code",
   "execution_count": null,
   "id": "489a848b-58d9-4e5d-8e49-b62a9291ce3a",
   "metadata": {},
   "outputs": [],
   "source": []
  },
  {
   "cell_type": "code",
   "execution_count": null,
   "id": "a437c162-be12-4a0e-889b-2a2eb81653e2",
   "metadata": {},
   "outputs": [],
   "source": []
  },
  {
   "cell_type": "code",
   "execution_count": null,
   "id": "c0434ac9-d4cb-488b-9044-83feb6c177f1",
   "metadata": {},
   "outputs": [],
   "source": []
  },
  {
   "cell_type": "code",
   "execution_count": null,
   "id": "ddd07ed1-104c-4866-a43b-37ebf3e24d37",
   "metadata": {},
   "outputs": [],
   "source": []
  },
  {
   "cell_type": "markdown",
   "id": "2a755d42-ec08-4231-bb0a-25cc4944e8ed",
   "metadata": {
    "tags": []
   },
   "source": [
    "# Request 3\n",
    "## Analyze the relationship between the 'forecast_quantity' and 'sold_quantity' of products. Considering different product variants, identify whether there's a consistent pattern of over-forecasting or under-forecasting across various product variants.\n",
    "\n",
    "## Investigate if certain customer segments or regions tend to have higher discrepancies between forecasted and actual sales quantities\n",
    "\n",
    "## Propose potential strategies to optimize forecasting accuracy based on these findings.\""
   ]
  },
  {
   "cell_type": "code",
   "execution_count": null,
   "id": "960b8b73-a7c8-4b02-9ddd-a0d42c6fc42b",
   "metadata": {},
   "outputs": [],
   "source": []
  },
  {
   "cell_type": "code",
   "execution_count": null,
   "id": "e2cf8fa3-1fbb-411c-a35e-c4afc79a3dba",
   "metadata": {},
   "outputs": [],
   "source": []
  },
  {
   "cell_type": "code",
   "execution_count": null,
   "id": "c8dd0f00-a0a9-4aab-a961-194eeb8c0439",
   "metadata": {},
   "outputs": [],
   "source": []
  },
  {
   "cell_type": "code",
   "execution_count": null,
   "id": "aa6fcf72-7038-4fe3-9197-efdf9f2be29b",
   "metadata": {},
   "outputs": [],
   "source": []
  },
  {
   "cell_type": "code",
   "execution_count": null,
   "id": "36d6abf0-878f-4656-970e-2c9408f084d9",
   "metadata": {},
   "outputs": [],
   "source": []
  },
  {
   "cell_type": "code",
   "execution_count": null,
   "id": "6e1ad4c9-bf52-47de-8982-397ac3341d1a",
   "metadata": {},
   "outputs": [],
   "source": []
  }
 ],
 "metadata": {
  "kernelspec": {
   "display_name": "Python 3 (ipykernel)",
   "language": "python",
   "name": "python3"
  },
  "language_info": {
   "codemirror_mode": {
    "name": "ipython",
    "version": 3
   },
   "file_extension": ".py",
   "mimetype": "text/x-python",
   "name": "python",
   "nbconvert_exporter": "python",
   "pygments_lexer": "ipython3",
   "version": "3.11.4"
  }
 },
 "nbformat": 4,
 "nbformat_minor": 5
}
