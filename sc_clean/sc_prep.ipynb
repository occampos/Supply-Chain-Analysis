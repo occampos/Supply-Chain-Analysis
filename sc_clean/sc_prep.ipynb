{
 "cells": [
  {
   "cell_type": "markdown",
   "id": "8949fe3e-7c5a-4d0c-9b9a-4a04289abca6",
   "metadata": {
    "tags": []
   },
   "source": [
    "# Supply Chain Preparation "
   ]
  },
  {
   "cell_type": "markdown",
   "id": "b93cabb8-57f2-4d0f-b4ec-ef351f75a3ed",
   "metadata": {
    "tags": []
   },
   "source": [
    "## Import libraries"
   ]
  },
  {
   "cell_type": "code",
   "execution_count": 1,
   "id": "9deed6f4-8a95-496d-909f-22f93655a4a5",
   "metadata": {
    "tags": []
   },
   "outputs": [],
   "source": [
    "import pandas as pd\n",
    "import numpy as np\n",
    "import seaborn as sns\n",
    "import matplotlib.pyplot as plt\n",
    "from matplotlib.ticker import FixedLocator, MaxNLocator"
   ]
  },
  {
   "cell_type": "markdown",
   "id": "076075f7-d5dc-488c-8f76-1db7fa788415",
   "metadata": {
    "tags": []
   },
   "source": [
    "## Settings"
   ]
  },
  {
   "cell_type": "code",
   "execution_count": 2,
   "id": "169ba364-a276-4107-934e-879ed1f1ada8",
   "metadata": {
    "tags": []
   },
   "outputs": [],
   "source": [
    "pd.set_option('display.max_rows', 20)\n",
    "\n",
    "%matplotlib inline"
   ]
  },
  {
   "cell_type": "markdown",
   "id": "7924c4f2-60dc-4084-b977-66d1d370b364",
   "metadata": {
    "tags": []
   },
   "source": [
    "## Import data"
   ]
  },
  {
   "cell_type": "code",
   "execution_count": 3,
   "id": "cde857bc-5547-49bc-a8c0-a9a44a782b0f",
   "metadata": {
    "tags": []
   },
   "outputs": [],
   "source": [
    "%store -r sc_dataframes"
   ]
  },
  {
   "cell_type": "code",
   "execution_count": 4,
   "id": "93be97a8-dd88-4f74-852a-3fe0f9951983",
   "metadata": {
    "tags": []
   },
   "outputs": [
    {
     "data": {
      "text/plain": [
       "dict_keys(['dim_customer', 'dim_market', 'dim_product', 'fact_forecast_monthly', 'fact_sales_monthly', 'freight_cost', 'gross_price', 'manufacturing_cost', 'post_invoice_deductions', 'pre_invoice_deductions'])"
      ]
     },
     "execution_count": 4,
     "metadata": {},
     "output_type": "execute_result"
    }
   ],
   "source": [
    "sc_dataframes.keys()"
   ]
  },
  {
   "cell_type": "code",
   "execution_count": 5,
   "id": "8f2a16bb-f580-47da-b8b4-9c3585dd929e",
   "metadata": {
    "tags": []
   },
   "outputs": [],
   "source": [
    "# Create dataframes from dictionary\n",
    "\n",
    "sc_dim_customer = sc_dataframes['dim_customer'].copy()\n",
    "sc_dim_market = sc_dataframes['dim_market'].copy()\n",
    "sc_dim_product = sc_dataframes['dim_product'].copy()\n",
    "sc_fact_forecast_monthly = sc_dataframes['fact_forecast_monthly'].copy()\n",
    "sc_fact_sales_monthly = sc_dataframes['fact_sales_monthly'].copy()\n",
    "sc_freight_cost = sc_dataframes['freight_cost'].copy()\n",
    "sc_gross_price = sc_dataframes['gross_price'].copy()\n",
    "sc_manufacturing_cost = sc_dataframes['manufacturing_cost'].copy()\n",
    "sc_post_invoice_deductions = sc_dataframes['post_invoice_deductions'].copy()\n",
    "sc_pre_invoice_deductions = sc_dataframes['pre_invoice_deductions'].copy()"
   ]
  },
  {
   "cell_type": "markdown",
   "id": "690d2c6d-6ecb-4e24-81d4-8bf8fd0a349d",
   "metadata": {
    "tags": []
   },
   "source": [
    "## Optimize datatypes"
   ]
  },
  {
   "cell_type": "markdown",
   "id": "4adacf26-5f29-4ef8-a102-9dc7dc365b8c",
   "metadata": {
    "tags": []
   },
   "source": [
    "### sc_dim_customer"
   ]
  },
  {
   "cell_type": "code",
   "execution_count": 6,
   "id": "d595f7d5-a72b-469d-8dc5-bbaf12836e3e",
   "metadata": {
    "tags": []
   },
   "outputs": [
    {
     "data": {
      "text/html": [
       "<div>\n",
       "<style scoped>\n",
       "    .dataframe tbody tr th:only-of-type {\n",
       "        vertical-align: middle;\n",
       "    }\n",
       "\n",
       "    .dataframe tbody tr th {\n",
       "        vertical-align: top;\n",
       "    }\n",
       "\n",
       "    .dataframe thead th {\n",
       "        text-align: right;\n",
       "    }\n",
       "</style>\n",
       "<table border=\"1\" class=\"dataframe\">\n",
       "  <thead>\n",
       "    <tr style=\"text-align: right;\">\n",
       "      <th></th>\n",
       "      <th>customer</th>\n",
       "      <th>market</th>\n",
       "      <th>platform</th>\n",
       "      <th>channel</th>\n",
       "      <th>customer_code</th>\n",
       "    </tr>\n",
       "  </thead>\n",
       "  <tbody>\n",
       "    <tr>\n",
       "      <th>0</th>\n",
       "      <td>Electricalsocity</td>\n",
       "      <td>India</td>\n",
       "      <td>Brick &amp; Mortar</td>\n",
       "      <td>Retailer</td>\n",
       "      <td>90002012</td>\n",
       "    </tr>\n",
       "    <tr>\n",
       "      <th>1</th>\n",
       "      <td>Electricalslytical</td>\n",
       "      <td>India</td>\n",
       "      <td>Brick &amp; Mortar</td>\n",
       "      <td>Retailer</td>\n",
       "      <td>90002013</td>\n",
       "    </tr>\n",
       "    <tr>\n",
       "      <th>2</th>\n",
       "      <td>Ebay</td>\n",
       "      <td>India</td>\n",
       "      <td>E-Commerce</td>\n",
       "      <td>Retailer</td>\n",
       "      <td>90002010</td>\n",
       "    </tr>\n",
       "    <tr>\n",
       "      <th>3</th>\n",
       "      <td>Atliq Exclusive</td>\n",
       "      <td>India</td>\n",
       "      <td>Brick &amp; Mortar</td>\n",
       "      <td>Retailer</td>\n",
       "      <td>90002011</td>\n",
       "    </tr>\n",
       "    <tr>\n",
       "      <th>4</th>\n",
       "      <td>Expression</td>\n",
       "      <td>India</td>\n",
       "      <td>Brick &amp; Mortar</td>\n",
       "      <td>Retailer</td>\n",
       "      <td>90002014</td>\n",
       "    </tr>\n",
       "    <tr>\n",
       "      <th>5</th>\n",
       "      <td>AltiQ Exclusive</td>\n",
       "      <td>India</td>\n",
       "      <td>Brick &amp; Mortar</td>\n",
       "      <td>Direct</td>\n",
       "      <td>70002017</td>\n",
       "    </tr>\n",
       "    <tr>\n",
       "      <th>6</th>\n",
       "      <td>Atliq e Store</td>\n",
       "      <td>India</td>\n",
       "      <td>E-Commerce</td>\n",
       "      <td>Direct</td>\n",
       "      <td>70002018</td>\n",
       "    </tr>\n",
       "    <tr>\n",
       "      <th>7</th>\n",
       "      <td>Propel</td>\n",
       "      <td>India</td>\n",
       "      <td>Brick &amp; Mortar</td>\n",
       "      <td>Retailer</td>\n",
       "      <td>90002015</td>\n",
       "    </tr>\n",
       "    <tr>\n",
       "      <th>8</th>\n",
       "      <td>Amazon</td>\n",
       "      <td>India</td>\n",
       "      <td>E-Commerce</td>\n",
       "      <td>Retailer</td>\n",
       "      <td>90002016</td>\n",
       "    </tr>\n",
       "    <tr>\n",
       "      <th>9</th>\n",
       "      <td>Ezone</td>\n",
       "      <td>India</td>\n",
       "      <td>Brick &amp; Mortar</td>\n",
       "      <td>Retailer</td>\n",
       "      <td>90002003</td>\n",
       "    </tr>\n",
       "  </tbody>\n",
       "</table>\n",
       "</div>"
      ],
      "text/plain": [
       "             customer market        platform   channel customer_code\n",
       "0    Electricalsocity  India  Brick & Mortar  Retailer      90002012\n",
       "1  Electricalslytical  India  Brick & Mortar  Retailer      90002013\n",
       "2                Ebay  India      E-Commerce  Retailer      90002010\n",
       "3     Atliq Exclusive  India  Brick & Mortar  Retailer      90002011\n",
       "4          Expression  India  Brick & Mortar  Retailer      90002014\n",
       "5     AltiQ Exclusive  India  Brick & Mortar    Direct      70002017\n",
       "6       Atliq e Store  India      E-Commerce    Direct      70002018\n",
       "7              Propel  India  Brick & Mortar  Retailer      90002015\n",
       "8             Amazon   India      E-Commerce  Retailer      90002016\n",
       "9               Ezone  India  Brick & Mortar  Retailer      90002003"
      ]
     },
     "execution_count": 6,
     "metadata": {},
     "output_type": "execute_result"
    }
   ],
   "source": [
    "sc_dim_customer.head(10)"
   ]
  },
  {
   "cell_type": "code",
   "execution_count": 7,
   "id": "9a1aa634-030b-4865-848f-02f1e1e551f0",
   "metadata": {
    "tags": []
   },
   "outputs": [
    {
     "data": {
      "text/plain": [
       "Index              132\n",
       "customer         14138\n",
       "market           13395\n",
       "platform         14603\n",
       "channel          13520\n",
       "customer_code    13585\n",
       "dtype: int64"
      ]
     },
     "execution_count": 7,
     "metadata": {},
     "output_type": "execute_result"
    }
   ],
   "source": [
    "# check memory usage by column\n",
    "\n",
    "sc_dim_customer.memory_usage(deep=True)"
   ]
  },
  {
   "cell_type": "code",
   "execution_count": 8,
   "id": "0f098661-8630-4678-88d9-6f771f5a0763",
   "metadata": {
    "tags": []
   },
   "outputs": [
    {
     "data": {
      "text/plain": [
       "customer         object\n",
       "market           object\n",
       "platform         object\n",
       "channel          object\n",
       "customer_code    object\n",
       "dtype: object"
      ]
     },
     "execution_count": 8,
     "metadata": {},
     "output_type": "execute_result"
    }
   ],
   "source": [
    "# check datatypes\n",
    "\n",
    "sc_dim_customer.dtypes"
   ]
  },
  {
   "cell_type": "code",
   "execution_count": 9,
   "id": "3e68723e-7b16-4cf3-a12d-36e525a9789a",
   "metadata": {
    "tags": []
   },
   "outputs": [
    {
     "name": "stdout",
     "output_type": "stream",
     "text": [
      "76\n"
     ]
    },
    {
     "data": {
      "text/plain": [
       "Amazon             25\n",
       "Atliq e Store      24\n",
       "AltiQ Exclusive    16\n",
       "Expert              5\n",
       "Euronics            4\n",
       "                   ..\n",
       "Otto                1\n",
       "Notebillig          1\n",
       "BestBuy             1\n",
       "Circuit City        1\n",
       "Taobao              1\n",
       "Name: customer, Length: 76, dtype: int64"
      ]
     },
     "execution_count": 9,
     "metadata": {},
     "output_type": "execute_result"
    }
   ],
   "source": [
    "# ensure datatype 'category' is apropriate by counting unique values\n",
    "\n",
    "print(sc_dim_customer['customer'].nunique())\n",
    "sc_dim_customer['customer'].value_counts()"
   ]
  },
  {
   "cell_type": "code",
   "execution_count": 10,
   "id": "e28955ea-0086-42ff-b9b6-52a3e4c43aca",
   "metadata": {
    "tags": []
   },
   "outputs": [
    {
     "name": "stdout",
     "output_type": "stream",
     "text": [
      "27\n"
     ]
    },
    {
     "data": {
      "text/plain": [
       "India             18\n",
       "USA               15\n",
       "Portugal          12\n",
       "Spain             11\n",
       "United Kingdom    11\n",
       "                  ..\n",
       "China              3\n",
       "Mexico             2\n",
       "Brazil             2\n",
       "Chile              2\n",
       "Columbia           1\n",
       "Name: market, Length: 27, dtype: int64"
      ]
     },
     "execution_count": 10,
     "metadata": {},
     "output_type": "execute_result"
    }
   ],
   "source": [
    "# ensure datatype 'category' is apropriate by counting unique values\n",
    "\n",
    "print(sc_dim_customer['market'].nunique())\n",
    "sc_dim_customer['market'].value_counts()"
   ]
  },
  {
   "cell_type": "code",
   "execution_count": 11,
   "id": "04d28d90-d4b4-4b91-81f0-ce41e86b104d",
   "metadata": {
    "tags": []
   },
   "outputs": [
    {
     "name": "stdout",
     "output_type": "stream",
     "text": [
      "2\n"
     ]
    },
    {
     "data": {
      "text/plain": [
       "Brick & Mortar    150\n",
       "E-Commerce         59\n",
       "Name: platform, dtype: int64"
      ]
     },
     "execution_count": 11,
     "metadata": {},
     "output_type": "execute_result"
    }
   ],
   "source": [
    "# ensure datatype 'category' is apropriate by counting unique values\n",
    "\n",
    "print(sc_dim_customer['platform'].nunique())\n",
    "sc_dim_customer['platform'].value_counts()"
   ]
  },
  {
   "cell_type": "code",
   "execution_count": 12,
   "id": "a580eb6b-66e3-48b2-8ad6-da52e0578265",
   "metadata": {
    "tags": []
   },
   "outputs": [
    {
     "name": "stdout",
     "output_type": "stream",
     "text": [
      "3\n"
     ]
    },
    {
     "data": {
      "text/plain": [
       "Retailer       164\n",
       "Direct          40\n",
       "Distributor      5\n",
       "Name: channel, dtype: int64"
      ]
     },
     "execution_count": 12,
     "metadata": {},
     "output_type": "execute_result"
    }
   ],
   "source": [
    "# ensure datatype 'category' is apropriate by counting unique values\n",
    "\n",
    "print(sc_dim_customer['channel'].nunique())\n",
    "sc_dim_customer['channel'].value_counts()"
   ]
  },
  {
   "cell_type": "code",
   "execution_count": 13,
   "id": "e41d7494-e96a-49c5-8eb4-ce9b298de1bf",
   "metadata": {
    "tags": []
   },
   "outputs": [
    {
     "name": "stdout",
     "output_type": "stream",
     "text": [
      "70002017\n",
      "90027207\n"
     ]
    }
   ],
   "source": [
    "# ensure datype 'int32' is apropriate by checking the range\n",
    "\n",
    "print(sc_dim_customer['customer_code'].min())\n",
    "print(sc_dim_customer['customer_code'].max())"
   ]
  },
  {
   "cell_type": "code",
   "execution_count": 14,
   "id": "2d05cc18-7172-4175-8cb0-e1bea9c7fe36",
   "metadata": {
    "tags": []
   },
   "outputs": [],
   "source": [
    "# change datatypes\n",
    "\n",
    "sc_dim_customer['customer'] = sc_dim_customer['customer'].astype('category')\n",
    "sc_dim_customer['platform'] = sc_dim_customer['platform'].astype('category')\n",
    "sc_dim_customer['market'] = sc_dim_customer['market'].astype('category')\n",
    "sc_dim_customer['channel'] = sc_dim_customer['channel'].astype('category')\n",
    "sc_dim_customer['customer_code'] = sc_dim_customer['customer_code'].astype('int32')"
   ]
  },
  {
   "cell_type": "code",
   "execution_count": 15,
   "id": "ca189610-7ea3-4fd2-9902-e9bd0c05e12b",
   "metadata": {
    "tags": []
   },
   "outputs": [
    {
     "data": {
      "text/plain": [
       "Index             132\n",
       "customer         7419\n",
       "market           3018\n",
       "platform          455\n",
       "channel           513\n",
       "customer_code     836\n",
       "dtype: int64"
      ]
     },
     "execution_count": 15,
     "metadata": {},
     "output_type": "execute_result"
    }
   ],
   "source": [
    "# check memory usage by column\n",
    "\n",
    "sc_dim_customer.memory_usage(deep=True)"
   ]
  },
  {
   "cell_type": "code",
   "execution_count": 16,
   "id": "dbdb6d29-174e-4890-bc49-5e183ab5fe8a",
   "metadata": {
    "tags": []
   },
   "outputs": [
    {
     "data": {
      "text/plain": [
       "customer         category\n",
       "market           category\n",
       "platform         category\n",
       "channel          category\n",
       "customer_code       int32\n",
       "dtype: object"
      ]
     },
     "execution_count": 16,
     "metadata": {},
     "output_type": "execute_result"
    }
   ],
   "source": [
    "# check datatypes\n",
    "\n",
    "sc_dim_customer.dtypes"
   ]
  },
  {
   "cell_type": "markdown",
   "id": "5713ec6a-1010-44ef-857b-a1ea9d20a172",
   "metadata": {
    "tags": []
   },
   "source": [
    "### sc_dim_market"
   ]
  },
  {
   "cell_type": "code",
   "execution_count": 17,
   "id": "1f47ea7d-0d2f-4f7d-9917-ac942c14ef50",
   "metadata": {
    "tags": []
   },
   "outputs": [
    {
     "data": {
      "text/html": [
       "<div>\n",
       "<style scoped>\n",
       "    .dataframe tbody tr th:only-of-type {\n",
       "        vertical-align: middle;\n",
       "    }\n",
       "\n",
       "    .dataframe tbody tr th {\n",
       "        vertical-align: top;\n",
       "    }\n",
       "\n",
       "    .dataframe thead th {\n",
       "        text-align: right;\n",
       "    }\n",
       "</style>\n",
       "<table border=\"1\" class=\"dataframe\">\n",
       "  <thead>\n",
       "    <tr style=\"text-align: right;\">\n",
       "      <th></th>\n",
       "      <th>market</th>\n",
       "      <th>sub_zone</th>\n",
       "      <th>region</th>\n",
       "    </tr>\n",
       "  </thead>\n",
       "  <tbody>\n",
       "    <tr>\n",
       "      <th>0</th>\n",
       "      <td>China</td>\n",
       "      <td>ROA</td>\n",
       "      <td>APAC</td>\n",
       "    </tr>\n",
       "    <tr>\n",
       "      <th>1</th>\n",
       "      <td>India</td>\n",
       "      <td>India</td>\n",
       "      <td>APAC</td>\n",
       "    </tr>\n",
       "    <tr>\n",
       "      <th>2</th>\n",
       "      <td>Indonesia</td>\n",
       "      <td>ROA</td>\n",
       "      <td>APAC</td>\n",
       "    </tr>\n",
       "    <tr>\n",
       "      <th>3</th>\n",
       "      <td>Japan</td>\n",
       "      <td>ROA</td>\n",
       "      <td>APAC</td>\n",
       "    </tr>\n",
       "    <tr>\n",
       "      <th>4</th>\n",
       "      <td>Pakistan</td>\n",
       "      <td>ROA</td>\n",
       "      <td>APAC</td>\n",
       "    </tr>\n",
       "    <tr>\n",
       "      <th>5</th>\n",
       "      <td>Philiphines</td>\n",
       "      <td>ROA</td>\n",
       "      <td>APAC</td>\n",
       "    </tr>\n",
       "    <tr>\n",
       "      <th>6</th>\n",
       "      <td>South Korea</td>\n",
       "      <td>ROA</td>\n",
       "      <td>APAC</td>\n",
       "    </tr>\n",
       "    <tr>\n",
       "      <th>7</th>\n",
       "      <td>Australia</td>\n",
       "      <td>ANZ</td>\n",
       "      <td>APAC</td>\n",
       "    </tr>\n",
       "    <tr>\n",
       "      <th>8</th>\n",
       "      <td>Newzealand</td>\n",
       "      <td>ANZ</td>\n",
       "      <td>APAC</td>\n",
       "    </tr>\n",
       "    <tr>\n",
       "      <th>9</th>\n",
       "      <td>Bangladesh</td>\n",
       "      <td>ROA</td>\n",
       "      <td>APAC</td>\n",
       "    </tr>\n",
       "  </tbody>\n",
       "</table>\n",
       "</div>"
      ],
      "text/plain": [
       "        market sub_zone region\n",
       "0        China      ROA   APAC\n",
       "1        India    India   APAC\n",
       "2    Indonesia      ROA   APAC\n",
       "3        Japan      ROA   APAC\n",
       "4     Pakistan      ROA   APAC\n",
       "5  Philiphines      ROA   APAC\n",
       "6  South Korea      ROA   APAC\n",
       "7    Australia      ANZ   APAC\n",
       "8   Newzealand      ANZ   APAC\n",
       "9   Bangladesh      ROA   APAC"
      ]
     },
     "execution_count": 17,
     "metadata": {},
     "output_type": "execute_result"
    }
   ],
   "source": [
    "sc_dim_market.head(10)"
   ]
  },
  {
   "cell_type": "code",
   "execution_count": 18,
   "id": "fa5fc9c7-2e59-42fd-ae6f-76a98d9ae673",
   "metadata": {
    "tags": []
   },
   "outputs": [
    {
     "data": {
      "text/plain": [
       "Index        132\n",
       "market      1737\n",
       "sub_zone    1619\n",
       "region      1627\n",
       "dtype: int64"
      ]
     },
     "execution_count": 18,
     "metadata": {},
     "output_type": "execute_result"
    }
   ],
   "source": [
    "# check memory usage by column\n",
    "\n",
    "sc_dim_market.memory_usage(deep=True)"
   ]
  },
  {
   "cell_type": "code",
   "execution_count": 19,
   "id": "8bd6c883-c4c1-4ee5-a171-4a04f6fcc4a5",
   "metadata": {
    "tags": []
   },
   "outputs": [
    {
     "data": {
      "text/plain": [
       "market      object\n",
       "sub_zone    object\n",
       "region      object\n",
       "dtype: object"
      ]
     },
     "execution_count": 19,
     "metadata": {},
     "output_type": "execute_result"
    }
   ],
   "source": [
    "# check datatypes\n",
    "\n",
    "sc_dim_market.dtypes"
   ]
  },
  {
   "cell_type": "code",
   "execution_count": 20,
   "id": "ad8e570b-7a6a-4c2a-bd21-4ddb00c33a1b",
   "metadata": {
    "tags": []
   },
   "outputs": [
    {
     "name": "stdout",
     "output_type": "stream",
     "text": [
      "27\n"
     ]
    },
    {
     "data": {
      "text/plain": [
       "China          1\n",
       "Norway         1\n",
       "Mexico         1\n",
       "Columbia       1\n",
       "Chile          1\n",
       "              ..\n",
       "Philiphines    1\n",
       "Pakistan       1\n",
       "Japan          1\n",
       "Indonesia      1\n",
       "Brazil         1\n",
       "Name: market, Length: 27, dtype: int64"
      ]
     },
     "execution_count": 20,
     "metadata": {},
     "output_type": "execute_result"
    }
   ],
   "source": [
    "# ensure datatype 'category' is apropriate by counting unique values\n",
    "\n",
    "print(sc_dim_market['market'].nunique())\n",
    "sc_dim_market['market'].value_counts()"
   ]
  },
  {
   "cell_type": "code",
   "execution_count": 21,
   "id": "c8d49ec1-76a1-4b53-b4a4-fe43379a8243",
   "metadata": {
    "tags": []
   },
   "outputs": [
    {
     "name": "stdout",
     "output_type": "stream",
     "text": [
      "7\n"
     ]
    },
    {
     "data": {
      "text/plain": [
       "ROA      7\n",
       "NE       7\n",
       "SE       4\n",
       "LATAM    4\n",
       "ANZ      2\n",
       "nan      2\n",
       "India    1\n",
       "Name: sub_zone, dtype: int64"
      ]
     },
     "execution_count": 21,
     "metadata": {},
     "output_type": "execute_result"
    }
   ],
   "source": [
    "# ensure datatype 'category' is apropriate by counting unique values\n",
    "\n",
    "print(sc_dim_market['sub_zone'].nunique())\n",
    "sc_dim_market['sub_zone'].value_counts()"
   ]
  },
  {
   "cell_type": "code",
   "execution_count": 22,
   "id": "65162d9e-32d4-4a3c-8be9-ebc8e5eea688",
   "metadata": {
    "tags": []
   },
   "outputs": [
    {
     "name": "stdout",
     "output_type": "stream",
     "text": [
      "4\n"
     ]
    },
    {
     "data": {
      "text/plain": [
       "EU       11\n",
       "APAC     10\n",
       "LATAM     4\n",
       "nan       2\n",
       "Name: region, dtype: int64"
      ]
     },
     "execution_count": 22,
     "metadata": {},
     "output_type": "execute_result"
    }
   ],
   "source": [
    "# ensure datatype 'category' is apropriate by counting unique values\n",
    "\n",
    "print(sc_dim_market['region'].nunique())\n",
    "sc_dim_market['region'].value_counts()"
   ]
  },
  {
   "cell_type": "code",
   "execution_count": 23,
   "id": "6158f017-766b-4420-9500-533706e3515f",
   "metadata": {
    "tags": []
   },
   "outputs": [],
   "source": [
    "# change datatypes\n",
    "\n",
    "sc_dim_market['market'] = sc_dim_market['market'].astype('category')\n",
    "sc_dim_market['sub_zone'] = sc_dim_market['sub_zone'].astype('category')\n",
    "sc_dim_market['region'] = sc_dim_market['region'].astype('category')"
   ]
  },
  {
   "cell_type": "code",
   "execution_count": 24,
   "id": "fa39cae0-8b46-4d9c-8ed1-0b90028cb306",
   "metadata": {
    "tags": []
   },
   "outputs": [
    {
     "data": {
      "text/plain": [
       "Index        132\n",
       "market      2836\n",
       "sub_zone     749\n",
       "region       441\n",
       "dtype: int64"
      ]
     },
     "execution_count": 24,
     "metadata": {},
     "output_type": "execute_result"
    }
   ],
   "source": [
    "# check memory usage by column\n",
    "\n",
    "sc_dim_market.memory_usage(deep=True)"
   ]
  },
  {
   "cell_type": "code",
   "execution_count": 25,
   "id": "665bb02b-cd2b-4887-b8a3-ca03ca46129d",
   "metadata": {
    "tags": []
   },
   "outputs": [
    {
     "data": {
      "text/plain": [
       "market      category\n",
       "sub_zone    category\n",
       "region      category\n",
       "dtype: object"
      ]
     },
     "execution_count": 25,
     "metadata": {},
     "output_type": "execute_result"
    }
   ],
   "source": [
    "# check datatypes\n",
    "\n",
    "sc_dim_market.dtypes"
   ]
  },
  {
   "cell_type": "markdown",
   "id": "5a8e09a0-cf9f-4f56-90d4-10c309dced24",
   "metadata": {
    "tags": []
   },
   "source": [
    "### sc_dim_product"
   ]
  },
  {
   "cell_type": "code",
   "execution_count": 26,
   "id": "86e2a10f-0ca1-4244-a65b-a3b9070c3dab",
   "metadata": {
    "tags": []
   },
   "outputs": [
    {
     "data": {
      "text/html": [
       "<div>\n",
       "<style scoped>\n",
       "    .dataframe tbody tr th:only-of-type {\n",
       "        vertical-align: middle;\n",
       "    }\n",
       "\n",
       "    .dataframe tbody tr th {\n",
       "        vertical-align: top;\n",
       "    }\n",
       "\n",
       "    .dataframe thead th {\n",
       "        text-align: right;\n",
       "    }\n",
       "</style>\n",
       "<table border=\"1\" class=\"dataframe\">\n",
       "  <thead>\n",
       "    <tr style=\"text-align: right;\">\n",
       "      <th></th>\n",
       "      <th>product_code</th>\n",
       "      <th>division</th>\n",
       "      <th>segment</th>\n",
       "      <th>category</th>\n",
       "      <th>product</th>\n",
       "      <th>variant</th>\n",
       "    </tr>\n",
       "  </thead>\n",
       "  <tbody>\n",
       "    <tr>\n",
       "      <th>0</th>\n",
       "      <td>A0118150101</td>\n",
       "      <td>P &amp; A</td>\n",
       "      <td>Peripherals</td>\n",
       "      <td>Internal HDD</td>\n",
       "      <td>AQ Dracula HDD – 3.5 Inch SATA 6 Gb/s 5400 RPM...</td>\n",
       "      <td>Standard</td>\n",
       "    </tr>\n",
       "    <tr>\n",
       "      <th>1</th>\n",
       "      <td>A0118150102</td>\n",
       "      <td>P &amp; A</td>\n",
       "      <td>Peripherals</td>\n",
       "      <td>Internal HDD</td>\n",
       "      <td>AQ Dracula HDD – 3.5 Inch SATA 6 Gb/s 5400 RPM...</td>\n",
       "      <td>Plus</td>\n",
       "    </tr>\n",
       "    <tr>\n",
       "      <th>2</th>\n",
       "      <td>A0118150103</td>\n",
       "      <td>P &amp; A</td>\n",
       "      <td>Peripherals</td>\n",
       "      <td>Internal HDD</td>\n",
       "      <td>AQ Dracula HDD – 3.5 Inch SATA 6 Gb/s 5400 RPM...</td>\n",
       "      <td>Premium</td>\n",
       "    </tr>\n",
       "    <tr>\n",
       "      <th>3</th>\n",
       "      <td>A0118150104</td>\n",
       "      <td>P &amp; A</td>\n",
       "      <td>Peripherals</td>\n",
       "      <td>Internal HDD</td>\n",
       "      <td>AQ Dracula HDD – 3.5 Inch SATA 6 Gb/s 5400 RPM...</td>\n",
       "      <td>Premium Plus</td>\n",
       "    </tr>\n",
       "    <tr>\n",
       "      <th>4</th>\n",
       "      <td>A0219150201</td>\n",
       "      <td>P &amp; A</td>\n",
       "      <td>Peripherals</td>\n",
       "      <td>Internal HDD</td>\n",
       "      <td>AQ WereWolf NAS Internal Hard Drive HDD – 8.89 cm</td>\n",
       "      <td>Standard</td>\n",
       "    </tr>\n",
       "    <tr>\n",
       "      <th>5</th>\n",
       "      <td>A0219150202</td>\n",
       "      <td>P &amp; A</td>\n",
       "      <td>Peripherals</td>\n",
       "      <td>Internal HDD</td>\n",
       "      <td>AQ WereWolf NAS Internal Hard Drive HDD – 8.89 cm</td>\n",
       "      <td>Plus</td>\n",
       "    </tr>\n",
       "    <tr>\n",
       "      <th>6</th>\n",
       "      <td>A0220150203</td>\n",
       "      <td>P &amp; A</td>\n",
       "      <td>Peripherals</td>\n",
       "      <td>Internal HDD</td>\n",
       "      <td>AQ WereWolf NAS Internal Hard Drive HDD – 8.89 cm</td>\n",
       "      <td>Premium</td>\n",
       "    </tr>\n",
       "    <tr>\n",
       "      <th>7</th>\n",
       "      <td>A0320150301</td>\n",
       "      <td>P &amp; A</td>\n",
       "      <td>Peripherals</td>\n",
       "      <td>Internal HDD</td>\n",
       "      <td>AQ Zion Saga</td>\n",
       "      <td>Standard</td>\n",
       "    </tr>\n",
       "    <tr>\n",
       "      <th>8</th>\n",
       "      <td>A0321150302</td>\n",
       "      <td>P &amp; A</td>\n",
       "      <td>Peripherals</td>\n",
       "      <td>Internal HDD</td>\n",
       "      <td>AQ Zion Saga</td>\n",
       "      <td>Plus</td>\n",
       "    </tr>\n",
       "    <tr>\n",
       "      <th>9</th>\n",
       "      <td>A0321150303</td>\n",
       "      <td>P &amp; A</td>\n",
       "      <td>Peripherals</td>\n",
       "      <td>Internal HDD</td>\n",
       "      <td>AQ Zion Saga</td>\n",
       "      <td>Premium</td>\n",
       "    </tr>\n",
       "  </tbody>\n",
       "</table>\n",
       "</div>"
      ],
      "text/plain": [
       "  product_code division      segment      category  \\\n",
       "0  A0118150101    P & A  Peripherals  Internal HDD   \n",
       "1  A0118150102    P & A  Peripherals  Internal HDD   \n",
       "2  A0118150103    P & A  Peripherals  Internal HDD   \n",
       "3  A0118150104    P & A  Peripherals  Internal HDD   \n",
       "4  A0219150201    P & A  Peripherals  Internal HDD   \n",
       "5  A0219150202    P & A  Peripherals  Internal HDD   \n",
       "6  A0220150203    P & A  Peripherals  Internal HDD   \n",
       "7  A0320150301    P & A  Peripherals  Internal HDD   \n",
       "8  A0321150302    P & A  Peripherals  Internal HDD   \n",
       "9  A0321150303    P & A  Peripherals  Internal HDD   \n",
       "\n",
       "                                             product       variant  \n",
       "0  AQ Dracula HDD – 3.5 Inch SATA 6 Gb/s 5400 RPM...      Standard  \n",
       "1  AQ Dracula HDD – 3.5 Inch SATA 6 Gb/s 5400 RPM...          Plus  \n",
       "2  AQ Dracula HDD – 3.5 Inch SATA 6 Gb/s 5400 RPM...       Premium  \n",
       "3  AQ Dracula HDD – 3.5 Inch SATA 6 Gb/s 5400 RPM...  Premium Plus  \n",
       "4  AQ WereWolf NAS Internal Hard Drive HDD – 8.89 cm      Standard  \n",
       "5  AQ WereWolf NAS Internal Hard Drive HDD – 8.89 cm          Plus  \n",
       "6  AQ WereWolf NAS Internal Hard Drive HDD – 8.89 cm       Premium  \n",
       "7                                       AQ Zion Saga      Standard  \n",
       "8                                       AQ Zion Saga          Plus  \n",
       "9                                       AQ Zion Saga       Premium  "
      ]
     },
     "execution_count": 26,
     "metadata": {},
     "output_type": "execute_result"
    }
   ],
   "source": [
    "sc_dim_product.head(10)"
   ]
  },
  {
   "cell_type": "code",
   "execution_count": 27,
   "id": "840e7432-78d8-4b4e-83a5-055ff4b77983",
   "metadata": {
    "tags": []
   },
   "outputs": [
    {
     "data": {
      "text/plain": [
       "Index             132\n",
       "product_code    26996\n",
       "division        24131\n",
       "segment         26364\n",
       "category        27459\n",
       "product         28750\n",
       "variant         26317\n",
       "dtype: int64"
      ]
     },
     "execution_count": 27,
     "metadata": {},
     "output_type": "execute_result"
    }
   ],
   "source": [
    "# check memory usage by column\n",
    "\n",
    "sc_dim_product.memory_usage(deep=True)"
   ]
  },
  {
   "cell_type": "code",
   "execution_count": 28,
   "id": "ece2a281-6c56-4afd-bb2b-05cbd786dc91",
   "metadata": {
    "tags": []
   },
   "outputs": [
    {
     "data": {
      "text/plain": [
       "product_code    object\n",
       "division        object\n",
       "segment         object\n",
       "category        object\n",
       "product         object\n",
       "variant         object\n",
       "dtype: object"
      ]
     },
     "execution_count": 28,
     "metadata": {},
     "output_type": "execute_result"
    }
   ],
   "source": [
    "# check datatypes\n",
    "\n",
    "sc_dim_product.dtypes"
   ]
  },
  {
   "cell_type": "code",
   "execution_count": 29,
   "id": "e3d4df53-7a49-4a02-b601-131086ac3c82",
   "metadata": {
    "tags": []
   },
   "outputs": [
    {
     "name": "stdout",
     "output_type": "stream",
     "text": [
      "3\n"
     ]
    },
    {
     "data": {
      "text/plain": [
       "P & A    200\n",
       "PC       161\n",
       "N & S     36\n",
       "Name: division, dtype: int64"
      ]
     },
     "execution_count": 29,
     "metadata": {},
     "output_type": "execute_result"
    }
   ],
   "source": [
    "# ensure datatype 'category' is apropriate by counting unique values\n",
    "\n",
    "print(sc_dim_product['division'].nunique())\n",
    "sc_dim_product['division'].value_counts()"
   ]
  },
  {
   "cell_type": "code",
   "execution_count": 30,
   "id": "9814e3c9-48c6-463d-9f83-52614643edc1",
   "metadata": {
    "tags": []
   },
   "outputs": [
    {
     "name": "stdout",
     "output_type": "stream",
     "text": [
      "6\n"
     ]
    },
    {
     "data": {
      "text/plain": [
       "Notebook       129\n",
       "Accessories    116\n",
       "Peripherals     84\n",
       "Desktop         32\n",
       "Storage         27\n",
       "Networking       9\n",
       "Name: segment, dtype: int64"
      ]
     },
     "execution_count": 30,
     "metadata": {},
     "output_type": "execute_result"
    }
   ],
   "source": [
    "# ensure datatype 'category' is apropriate by counting unique values\n",
    "\n",
    "print(sc_dim_product['segment'].nunique())\n",
    "sc_dim_product['segment'].value_counts()"
   ]
  },
  {
   "cell_type": "code",
   "execution_count": 31,
   "id": "640d376d-f758-4b08-94df-84aa90f2da1d",
   "metadata": {
    "tags": []
   },
   "outputs": [
    {
     "name": "stdout",
     "output_type": "stream",
     "text": [
      "14\n"
     ]
    },
    {
     "data": {
      "text/plain": [
       "Personal Laptop                61\n",
       "Mouse                          48\n",
       "Keyboard                       48\n",
       "Business Laptop                44\n",
       "Gaming Laptop                  40\n",
       "Graphic Card                   36\n",
       "MotherBoard                    20\n",
       "Batteries                      20\n",
       "Processors                     18\n",
       "Personal Desktop               16\n",
       "External Solid State Drives    15\n",
       "USB Flash Drives               12\n",
       "Internal HDD                   10\n",
       "Wi fi extender                  9\n",
       "Name: category, dtype: int64"
      ]
     },
     "execution_count": 31,
     "metadata": {},
     "output_type": "execute_result"
    }
   ],
   "source": [
    "# ensure datatype 'category' is apropriate by counting unique values\n",
    "\n",
    "print(sc_dim_product['category'].nunique())\n",
    "sc_dim_product['category'].value_counts()"
   ]
  },
  {
   "cell_type": "code",
   "execution_count": 32,
   "id": "79cd39dd-705f-4806-b99b-04d6161748f4",
   "metadata": {
    "tags": []
   },
   "outputs": [
    {
     "name": "stdout",
     "output_type": "stream",
     "text": [
      "73\n"
     ]
    },
    {
     "data": {
      "text/plain": [
       "AQ Elite                                           8\n",
       "AQ Gamer 3                                         8\n",
       "AQ Gen Y                                           8\n",
       "AQ Gen X                                           8\n",
       "AQ Digit                                           8\n",
       "                                                  ..\n",
       "AQ 5000 Series Ultron 8 5900X Desktop Processor    3\n",
       "AQ Electron 5 3600 Desktop Processor               3\n",
       "AQ Electron 4 3600 Desktop Processor               3\n",
       "AQ Electron 3 3600 Desktop Processor               3\n",
       "AQ Wi Power Dx3                                    3\n",
       "Name: product, Length: 73, dtype: int64"
      ]
     },
     "execution_count": 32,
     "metadata": {},
     "output_type": "execute_result"
    }
   ],
   "source": [
    "# ensure datatype 'category' is apropriate by counting unique values\n",
    "\n",
    "print(sc_dim_product['product'].nunique())\n",
    "sc_dim_product['product'].value_counts()"
   ]
  },
  {
   "cell_type": "code",
   "execution_count": 33,
   "id": "4a95665d-4269-4bd0-b5dc-1ef014dcbf6b",
   "metadata": {
    "tags": []
   },
   "outputs": [
    {
     "name": "stdout",
     "output_type": "stream",
     "text": [
      "27\n"
     ]
    },
    {
     "data": {
      "text/plain": [
       "Plus 2            35\n",
       "Standard          33\n",
       "Premium           33\n",
       "Plus 1            31\n",
       "Standard 1        23\n",
       "                  ..\n",
       "Plus Firey Red     5\n",
       "Plus Cool Blue     5\n",
       "Plus Black         5\n",
       "Plus 1             4\n",
       "Premium Plus       1\n",
       "Name: variant, Length: 27, dtype: int64"
      ]
     },
     "execution_count": 33,
     "metadata": {},
     "output_type": "execute_result"
    }
   ],
   "source": [
    "# ensure datatype 'category' is apropriate by counting unique values\n",
    "\n",
    "print(sc_dim_product['variant'].nunique())\n",
    "sc_dim_product['variant'].value_counts()"
   ]
  },
  {
   "cell_type": "code",
   "execution_count": 34,
   "id": "bd9d7941-90e2-49af-9c82-562c543f2441",
   "metadata": {
    "tags": []
   },
   "outputs": [],
   "source": [
    "# change datatypes\n",
    "\n",
    "sc_dim_product['division'] = sc_dim_product['division'].astype('category')\n",
    "sc_dim_product['segment'] = sc_dim_product['segment'].astype('category')\n",
    "sc_dim_product['category'] = sc_dim_product['category'].astype('category')\n",
    "sc_dim_product['product'] = sc_dim_product['product'].astype('category')\n",
    "sc_dim_product['variant'] = sc_dim_product['variant'].astype('category')"
   ]
  },
  {
   "cell_type": "code",
   "execution_count": 35,
   "id": "1324d833-65f8-4b98-8900-cb2fd9f075fe",
   "metadata": {
    "tags": []
   },
   "outputs": [
    {
     "data": {
      "text/plain": [
       "Index             132\n",
       "product_code    26996\n",
       "division          688\n",
       "segment           965\n",
       "category         1934\n",
       "product          8076\n",
       "variant          3296\n",
       "dtype: int64"
      ]
     },
     "execution_count": 35,
     "metadata": {},
     "output_type": "execute_result"
    }
   ],
   "source": [
    "# check memory usage by column\n",
    "\n",
    "sc_dim_product.memory_usage(deep=True)"
   ]
  },
  {
   "cell_type": "code",
   "execution_count": 36,
   "id": "8d510cfb-3f1e-4594-bd56-dd3136f02661",
   "metadata": {
    "tags": []
   },
   "outputs": [
    {
     "data": {
      "text/plain": [
       "product_code      object\n",
       "division        category\n",
       "segment         category\n",
       "category        category\n",
       "product         category\n",
       "variant         category\n",
       "dtype: object"
      ]
     },
     "execution_count": 36,
     "metadata": {},
     "output_type": "execute_result"
    }
   ],
   "source": [
    "# check datatypes\n",
    "\n",
    "sc_dim_product.dtypes"
   ]
  },
  {
   "cell_type": "markdown",
   "id": "89c1ed38-dbe8-4574-a425-4cb6cfe9beb3",
   "metadata": {
    "tags": []
   },
   "source": [
    "### sc_fact_forecast_monthly"
   ]
  },
  {
   "cell_type": "code",
   "execution_count": 37,
   "id": "e8baf00a-1c83-4dc9-8fac-5daeb4cca6d2",
   "metadata": {
    "tags": []
   },
   "outputs": [
    {
     "data": {
      "text/html": [
       "<div>\n",
       "<style scoped>\n",
       "    .dataframe tbody tr th:only-of-type {\n",
       "        vertical-align: middle;\n",
       "    }\n",
       "\n",
       "    .dataframe tbody tr th {\n",
       "        vertical-align: top;\n",
       "    }\n",
       "\n",
       "    .dataframe thead th {\n",
       "        text-align: right;\n",
       "    }\n",
       "</style>\n",
       "<table border=\"1\" class=\"dataframe\">\n",
       "  <thead>\n",
       "    <tr style=\"text-align: right;\">\n",
       "      <th></th>\n",
       "      <th>date</th>\n",
       "      <th>product_code</th>\n",
       "      <th>customer_code</th>\n",
       "      <th>forecast_quantity</th>\n",
       "      <th>fiscal_year</th>\n",
       "    </tr>\n",
       "  </thead>\n",
       "  <tbody>\n",
       "    <tr>\n",
       "      <th>0</th>\n",
       "      <td>2017-09-01</td>\n",
       "      <td>A6218160101</td>\n",
       "      <td>70008169</td>\n",
       "      <td>146</td>\n",
       "      <td>2018</td>\n",
       "    </tr>\n",
       "    <tr>\n",
       "      <th>1</th>\n",
       "      <td>2017-09-01</td>\n",
       "      <td>A6218160101</td>\n",
       "      <td>90008165</td>\n",
       "      <td>120</td>\n",
       "      <td>2018</td>\n",
       "    </tr>\n",
       "    <tr>\n",
       "      <th>2</th>\n",
       "      <td>2017-09-01</td>\n",
       "      <td>A6218160101</td>\n",
       "      <td>90008166</td>\n",
       "      <td>216</td>\n",
       "      <td>2018</td>\n",
       "    </tr>\n",
       "    <tr>\n",
       "      <th>3</th>\n",
       "      <td>2017-09-01</td>\n",
       "      <td>A6218160101</td>\n",
       "      <td>90008167</td>\n",
       "      <td>141</td>\n",
       "      <td>2018</td>\n",
       "    </tr>\n",
       "    <tr>\n",
       "      <th>4</th>\n",
       "      <td>2017-09-01</td>\n",
       "      <td>A6218160101</td>\n",
       "      <td>70008170</td>\n",
       "      <td>85</td>\n",
       "      <td>2018</td>\n",
       "    </tr>\n",
       "    <tr>\n",
       "      <th>5</th>\n",
       "      <td>2017-09-01</td>\n",
       "      <td>A6218160101</td>\n",
       "      <td>70010047</td>\n",
       "      <td>0</td>\n",
       "      <td>2018</td>\n",
       "    </tr>\n",
       "    <tr>\n",
       "      <th>6</th>\n",
       "      <td>2017-09-01</td>\n",
       "      <td>A6218160101</td>\n",
       "      <td>90027207</td>\n",
       "      <td>14</td>\n",
       "      <td>2018</td>\n",
       "    </tr>\n",
       "    <tr>\n",
       "      <th>7</th>\n",
       "      <td>2017-09-01</td>\n",
       "      <td>A6218160101</td>\n",
       "      <td>70023031</td>\n",
       "      <td>30</td>\n",
       "      <td>2018</td>\n",
       "    </tr>\n",
       "    <tr>\n",
       "      <th>8</th>\n",
       "      <td>2017-09-01</td>\n",
       "      <td>A6218160101</td>\n",
       "      <td>90023022</td>\n",
       "      <td>8</td>\n",
       "      <td>2018</td>\n",
       "    </tr>\n",
       "    <tr>\n",
       "      <th>9</th>\n",
       "      <td>2017-09-01</td>\n",
       "      <td>A6218160101</td>\n",
       "      <td>90023025</td>\n",
       "      <td>25</td>\n",
       "      <td>2018</td>\n",
       "    </tr>\n",
       "  </tbody>\n",
       "</table>\n",
       "</div>"
      ],
      "text/plain": [
       "        date product_code customer_code  forecast_quantity  fiscal_year\n",
       "0 2017-09-01  A6218160101      70008169                146         2018\n",
       "1 2017-09-01  A6218160101      90008165                120         2018\n",
       "2 2017-09-01  A6218160101      90008166                216         2018\n",
       "3 2017-09-01  A6218160101      90008167                141         2018\n",
       "4 2017-09-01  A6218160101      70008170                 85         2018\n",
       "5 2017-09-01  A6218160101      70010047                  0         2018\n",
       "6 2017-09-01  A6218160101      90027207                 14         2018\n",
       "7 2017-09-01  A6218160101      70023031                 30         2018\n",
       "8 2017-09-01  A6218160101      90023022                  8         2018\n",
       "9 2017-09-01  A6218160101      90023025                 25         2018"
      ]
     },
     "execution_count": 37,
     "metadata": {},
     "output_type": "execute_result"
    }
   ],
   "source": [
    "sc_fact_forecast_monthly.head(10)"
   ]
  },
  {
   "cell_type": "code",
   "execution_count": 38,
   "id": "999c8aac-c50f-44a9-a20b-f002105edb8a",
   "metadata": {
    "tags": []
   },
   "outputs": [
    {
     "data": {
      "text/plain": [
       "Index                      132\n",
       "date                  15087528\n",
       "product_code         128243988\n",
       "customer_code        122586165\n",
       "forecast_quantity     15087528\n",
       "fiscal_year           15087528\n",
       "dtype: int64"
      ]
     },
     "execution_count": 38,
     "metadata": {},
     "output_type": "execute_result"
    }
   ],
   "source": [
    "# check memory usage by column\n",
    "\n",
    "sc_fact_forecast_monthly.memory_usage(deep=True)"
   ]
  },
  {
   "cell_type": "code",
   "execution_count": 39,
   "id": "c4934923-39d7-4c99-a27a-762f2cfe9a31",
   "metadata": {
    "tags": []
   },
   "outputs": [
    {
     "data": {
      "text/plain": [
       "date                 datetime64[ns]\n",
       "product_code                 object\n",
       "customer_code                object\n",
       "forecast_quantity             int64\n",
       "fiscal_year                   int64\n",
       "dtype: object"
      ]
     },
     "execution_count": 39,
     "metadata": {},
     "output_type": "execute_result"
    }
   ],
   "source": [
    "# check datatypes\n",
    "\n",
    "sc_fact_forecast_monthly.dtypes"
   ]
  },
  {
   "cell_type": "code",
   "execution_count": 40,
   "id": "c675c41c-d3e9-4e66-936c-9064beb7aacd",
   "metadata": {
    "tags": []
   },
   "outputs": [
    {
     "name": "stdout",
     "output_type": "stream",
     "text": [
      "389\n"
     ]
    },
    {
     "data": {
      "text/plain": [
       "A2218150201    7982\n",
       "A2118150103    7982\n",
       "A2118150105    7982\n",
       "A3019150206    7982\n",
       "A3019150204    7982\n",
       "               ... \n",
       "A5318110102    1638\n",
       "A5318110101    1635\n",
       "A6018110101    1462\n",
       "A6018110102    1454\n",
       "A3718150104    1248\n",
       "Name: product_code, Length: 389, dtype: int64"
      ]
     },
     "execution_count": 40,
     "metadata": {},
     "output_type": "execute_result"
    }
   ],
   "source": [
    "# ensure datatype 'category' is apropriate by counting unique values\n",
    "\n",
    "print(sc_fact_forecast_monthly['product_code'].nunique())\n",
    "sc_fact_forecast_monthly['product_code'].value_counts()"
   ]
  },
  {
   "cell_type": "code",
   "execution_count": 41,
   "id": "8b79cf2b-acda-4095-b874-a8d1c97ebad6",
   "metadata": {
    "tags": []
   },
   "outputs": [
    {
     "name": "stdout",
     "output_type": "stream",
     "text": [
      "209\n"
     ]
    },
    {
     "data": {
      "text/plain": [
       "90002008    10402\n",
       "80007195    10392\n",
       "80007196    10392\n",
       "90002009    10386\n",
       "90002004    10375\n",
       "            ...  \n",
       "90020101     6686\n",
       "90020097     6678\n",
       "90024184     6574\n",
       "90024183     6570\n",
       "90025209     6258\n",
       "Name: customer_code, Length: 209, dtype: int64"
      ]
     },
     "execution_count": 41,
     "metadata": {},
     "output_type": "execute_result"
    }
   ],
   "source": [
    "# ensure datatype 'category' is apropriate by counting unique values\n",
    "\n",
    "print(sc_fact_forecast_monthly['customer_code'].nunique())\n",
    "sc_fact_forecast_monthly['customer_code'].value_counts()"
   ]
  },
  {
   "cell_type": "code",
   "execution_count": 42,
   "id": "eb74e8fe-613e-44b9-a9c0-77c48da3e071",
   "metadata": {
    "tags": []
   },
   "outputs": [
    {
     "name": "stdout",
     "output_type": "stream",
     "text": [
      "0\n",
      "7554\n"
     ]
    }
   ],
   "source": [
    "# ensure datype 'int16' is apropriate by checking the range\n",
    "\n",
    "print(sc_fact_forecast_monthly['forecast_quantity'].min())\n",
    "print(sc_fact_forecast_monthly['forecast_quantity'].max())"
   ]
  },
  {
   "cell_type": "code",
   "execution_count": 43,
   "id": "03f75b72-da32-483f-965b-a70c72f869ed",
   "metadata": {
    "tags": []
   },
   "outputs": [],
   "source": [
    "# change datatypes\n",
    "\n",
    "sc_fact_forecast_monthly['customer_code'] = sc_fact_forecast_monthly['customer_code'].astype('int32')\n",
    "sc_fact_forecast_monthly['forecast_quantity'] = sc_fact_forecast_monthly['forecast_quantity'].astype('int16')\n",
    "sc_fact_forecast_monthly['fiscal_year'] = sc_fact_forecast_monthly['fiscal_year'].astype('int16')"
   ]
  },
  {
   "cell_type": "code",
   "execution_count": 44,
   "id": "90541940-f3ff-4284-bd2f-3db5b9fd6e01",
   "metadata": {
    "tags": []
   },
   "outputs": [
    {
     "data": {
      "text/plain": [
       "Index                      132\n",
       "date                  15087528\n",
       "product_code         128243988\n",
       "customer_code          7543764\n",
       "forecast_quantity      3771882\n",
       "fiscal_year            3771882\n",
       "dtype: int64"
      ]
     },
     "execution_count": 44,
     "metadata": {},
     "output_type": "execute_result"
    }
   ],
   "source": [
    "# check memory usage by column\n",
    "\n",
    "sc_fact_forecast_monthly.memory_usage(deep=True)"
   ]
  },
  {
   "cell_type": "code",
   "execution_count": 45,
   "id": "60c6e4e3-0b87-407b-9337-bb25d27323d5",
   "metadata": {
    "tags": []
   },
   "outputs": [
    {
     "data": {
      "text/plain": [
       "date                 datetime64[ns]\n",
       "product_code                 object\n",
       "customer_code                 int32\n",
       "forecast_quantity             int16\n",
       "fiscal_year                   int16\n",
       "dtype: object"
      ]
     },
     "execution_count": 45,
     "metadata": {},
     "output_type": "execute_result"
    }
   ],
   "source": [
    "# check datatypes\n",
    "\n",
    "sc_fact_forecast_monthly.dtypes"
   ]
  },
  {
   "cell_type": "markdown",
   "id": "ad374e3d-cda6-45a3-8e48-2138b3989c66",
   "metadata": {
    "tags": []
   },
   "source": [
    "### sc_fact_sales_monthly"
   ]
  },
  {
   "cell_type": "code",
   "execution_count": 46,
   "id": "15ec9072-616d-40cf-ba0f-5a697d5eab91",
   "metadata": {
    "tags": []
   },
   "outputs": [
    {
     "data": {
      "text/html": [
       "<div>\n",
       "<style scoped>\n",
       "    .dataframe tbody tr th:only-of-type {\n",
       "        vertical-align: middle;\n",
       "    }\n",
       "\n",
       "    .dataframe tbody tr th {\n",
       "        vertical-align: top;\n",
       "    }\n",
       "\n",
       "    .dataframe thead th {\n",
       "        text-align: right;\n",
       "    }\n",
       "</style>\n",
       "<table border=\"1\" class=\"dataframe\">\n",
       "  <thead>\n",
       "    <tr style=\"text-align: right;\">\n",
       "      <th></th>\n",
       "      <th>date</th>\n",
       "      <th>product_code</th>\n",
       "      <th>customer_code</th>\n",
       "      <th>sold_quantity</th>\n",
       "      <th>fiscal_year</th>\n",
       "    </tr>\n",
       "  </thead>\n",
       "  <tbody>\n",
       "    <tr>\n",
       "      <th>0</th>\n",
       "      <td>2017-09-01</td>\n",
       "      <td>A6218160101</td>\n",
       "      <td>70008169</td>\n",
       "      <td>81</td>\n",
       "      <td>2018</td>\n",
       "    </tr>\n",
       "    <tr>\n",
       "      <th>1</th>\n",
       "      <td>2017-09-01</td>\n",
       "      <td>A6218160101</td>\n",
       "      <td>90008165</td>\n",
       "      <td>157</td>\n",
       "      <td>2018</td>\n",
       "    </tr>\n",
       "    <tr>\n",
       "      <th>2</th>\n",
       "      <td>2017-09-01</td>\n",
       "      <td>A6218160101</td>\n",
       "      <td>90008166</td>\n",
       "      <td>126</td>\n",
       "      <td>2018</td>\n",
       "    </tr>\n",
       "    <tr>\n",
       "      <th>3</th>\n",
       "      <td>2017-09-01</td>\n",
       "      <td>A6218160101</td>\n",
       "      <td>90008167</td>\n",
       "      <td>160</td>\n",
       "      <td>2018</td>\n",
       "    </tr>\n",
       "    <tr>\n",
       "      <th>4</th>\n",
       "      <td>2017-09-01</td>\n",
       "      <td>A6218160101</td>\n",
       "      <td>70008170</td>\n",
       "      <td>120</td>\n",
       "      <td>2018</td>\n",
       "    </tr>\n",
       "    <tr>\n",
       "      <th>5</th>\n",
       "      <td>2017-09-01</td>\n",
       "      <td>A6218160101</td>\n",
       "      <td>90027207</td>\n",
       "      <td>9</td>\n",
       "      <td>2018</td>\n",
       "    </tr>\n",
       "    <tr>\n",
       "      <th>6</th>\n",
       "      <td>2017-09-01</td>\n",
       "      <td>A6218160101</td>\n",
       "      <td>70023031</td>\n",
       "      <td>9</td>\n",
       "      <td>2018</td>\n",
       "    </tr>\n",
       "    <tr>\n",
       "      <th>7</th>\n",
       "      <td>2017-09-01</td>\n",
       "      <td>A6218160101</td>\n",
       "      <td>90023022</td>\n",
       "      <td>24</td>\n",
       "      <td>2018</td>\n",
       "    </tr>\n",
       "    <tr>\n",
       "      <th>8</th>\n",
       "      <td>2017-09-01</td>\n",
       "      <td>A6218160101</td>\n",
       "      <td>90023025</td>\n",
       "      <td>22</td>\n",
       "      <td>2018</td>\n",
       "    </tr>\n",
       "    <tr>\n",
       "      <th>9</th>\n",
       "      <td>2017-09-01</td>\n",
       "      <td>A6218160101</td>\n",
       "      <td>90023026</td>\n",
       "      <td>37</td>\n",
       "      <td>2018</td>\n",
       "    </tr>\n",
       "  </tbody>\n",
       "</table>\n",
       "</div>"
      ],
      "text/plain": [
       "        date product_code customer_code  sold_quantity  fiscal_year\n",
       "0 2017-09-01  A6218160101      70008169             81         2018\n",
       "1 2017-09-01  A6218160101      90008165            157         2018\n",
       "2 2017-09-01  A6218160101      90008166            126         2018\n",
       "3 2017-09-01  A6218160101      90008167            160         2018\n",
       "4 2017-09-01  A6218160101      70008170            120         2018\n",
       "5 2017-09-01  A6218160101      90027207              9         2018\n",
       "6 2017-09-01  A6218160101      70023031              9         2018\n",
       "7 2017-09-01  A6218160101      90023022             24         2018\n",
       "8 2017-09-01  A6218160101      90023025             22         2018\n",
       "9 2017-09-01  A6218160101      90023026             37         2018"
      ]
     },
     "execution_count": 46,
     "metadata": {},
     "output_type": "execute_result"
    }
   ],
   "source": [
    "sc_fact_sales_monthly.head(10)"
   ]
  },
  {
   "cell_type": "code",
   "execution_count": 47,
   "id": "4cf0dfe7-1cae-420b-883e-b01c5411cae6",
   "metadata": {
    "tags": []
   },
   "outputs": [
    {
     "data": {
      "text/plain": [
       "Index                 132\n",
       "date             11405648\n",
       "product_code     96948008\n",
       "customer_code    92670890\n",
       "sold_quantity    11405648\n",
       "fiscal_year      11405648\n",
       "dtype: int64"
      ]
     },
     "execution_count": 47,
     "metadata": {},
     "output_type": "execute_result"
    }
   ],
   "source": [
    "# check memory usage by column\n",
    "\n",
    "sc_fact_sales_monthly.memory_usage(deep=True)"
   ]
  },
  {
   "cell_type": "code",
   "execution_count": 48,
   "id": "4734f0a0-abef-4cde-a82e-a0fb43134e1a",
   "metadata": {
    "tags": []
   },
   "outputs": [
    {
     "data": {
      "text/plain": [
       "date             datetime64[ns]\n",
       "product_code             object\n",
       "customer_code            object\n",
       "sold_quantity             int64\n",
       "fiscal_year               int64\n",
       "dtype: object"
      ]
     },
     "execution_count": 48,
     "metadata": {},
     "output_type": "execute_result"
    }
   ],
   "source": [
    "# check datatypes\n",
    "\n",
    "sc_fact_sales_monthly.dtypes"
   ]
  },
  {
   "cell_type": "code",
   "execution_count": 49,
   "id": "c141b8c6-1f1c-4d22-9ec1-e0fe578f94a1",
   "metadata": {
    "tags": []
   },
   "outputs": [
    {
     "name": "stdout",
     "output_type": "stream",
     "text": [
      "389\n"
     ]
    },
    {
     "data": {
      "text/plain": [
       "A2118150103    6729\n",
       "A2218150201    6728\n",
       "A2219150203    6726\n",
       "A2118150104    6725\n",
       "A2118150105    6724\n",
       "               ... \n",
       "A2821150804     627\n",
       "A2821150805     627\n",
       "A2821150806     627\n",
       "A1521150603     627\n",
       "A4821110808     627\n",
       "Name: product_code, Length: 389, dtype: int64"
      ]
     },
     "execution_count": 49,
     "metadata": {},
     "output_type": "execute_result"
    }
   ],
   "source": [
    "# ensure datatype 'category' is apropriate by counting unique values\n",
    "\n",
    "print(sc_fact_sales_monthly['product_code'].nunique())\n",
    "sc_fact_sales_monthly['product_code'].value_counts()"
   ]
  },
  {
   "cell_type": "code",
   "execution_count": 50,
   "id": "3691d4dc-672f-4c8f-ac29-1edf31674a4a",
   "metadata": {
    "tags": []
   },
   "outputs": [
    {
     "name": "stdout",
     "output_type": "stream",
     "text": [
      "209\n"
     ]
    },
    {
     "data": {
      "text/plain": [
       "80007196    8295\n",
       "90002008    8289\n",
       "80007195    8287\n",
       "90002009    8265\n",
       "70002018    8261\n",
       "            ... \n",
       "90020097    4328\n",
       "90020101    4322\n",
       "90020099    4312\n",
       "90024183    4287\n",
       "90025209    3782\n",
       "Name: customer_code, Length: 209, dtype: int64"
      ]
     },
     "execution_count": 50,
     "metadata": {},
     "output_type": "execute_result"
    }
   ],
   "source": [
    "# ensure datatype 'category' is apropriate by counting unique values\n",
    "\n",
    "print(sc_fact_sales_monthly['customer_code'].nunique())\n",
    "sc_fact_sales_monthly['customer_code'].value_counts()"
   ]
  },
  {
   "cell_type": "code",
   "execution_count": 51,
   "id": "f2d39c4a-ea50-4472-9cc5-225ed2ce64f2",
   "metadata": {
    "tags": []
   },
   "outputs": [
    {
     "name": "stdout",
     "output_type": "stream",
     "text": [
      "0\n",
      "5832\n"
     ]
    }
   ],
   "source": [
    "# ensure datype 'int16' is apropriate by checking the range\n",
    "\n",
    "print(sc_fact_sales_monthly['sold_quantity'].min())\n",
    "print(sc_fact_sales_monthly['sold_quantity'].max())"
   ]
  },
  {
   "cell_type": "code",
   "execution_count": 52,
   "id": "b761fb12-2498-4dd6-875b-4bc66d0d24de",
   "metadata": {
    "tags": []
   },
   "outputs": [],
   "source": [
    "# change datatypes\n",
    "\n",
    "sc_fact_sales_monthly['customer_code'] = sc_fact_sales_monthly['customer_code'].astype('int32')\n",
    "sc_fact_sales_monthly['sold_quantity'] = sc_fact_sales_monthly['sold_quantity'].astype('int16')\n",
    "sc_fact_sales_monthly['fiscal_year'] = sc_fact_sales_monthly['fiscal_year'].astype('int16')"
   ]
  },
  {
   "cell_type": "code",
   "execution_count": 53,
   "id": "d7c1014b-00e1-4259-a681-72e21755f3c8",
   "metadata": {
    "tags": []
   },
   "outputs": [
    {
     "data": {
      "text/plain": [
       "Index                 132\n",
       "date             11405648\n",
       "product_code     96948008\n",
       "customer_code     5702824\n",
       "sold_quantity     2851412\n",
       "fiscal_year       2851412\n",
       "dtype: int64"
      ]
     },
     "execution_count": 53,
     "metadata": {},
     "output_type": "execute_result"
    }
   ],
   "source": [
    "# check memory usage by column\n",
    "\n",
    "sc_fact_sales_monthly.memory_usage(deep=True)"
   ]
  },
  {
   "cell_type": "code",
   "execution_count": 54,
   "id": "846832c2-52d6-4117-a384-333c43fd95dc",
   "metadata": {
    "tags": []
   },
   "outputs": [
    {
     "data": {
      "text/plain": [
       "date             datetime64[ns]\n",
       "product_code             object\n",
       "customer_code             int32\n",
       "sold_quantity             int16\n",
       "fiscal_year               int16\n",
       "dtype: object"
      ]
     },
     "execution_count": 54,
     "metadata": {},
     "output_type": "execute_result"
    }
   ],
   "source": [
    "# check datatypes\n",
    "\n",
    "sc_fact_sales_monthly.dtypes"
   ]
  },
  {
   "cell_type": "markdown",
   "id": "022bf111-680d-4718-b545-92ac3e32ca00",
   "metadata": {
    "tags": []
   },
   "source": [
    "### sc_freight_cost"
   ]
  },
  {
   "cell_type": "code",
   "execution_count": 55,
   "id": "7ad5f14b-7508-4b03-986d-4f47f6fb668b",
   "metadata": {
    "tags": []
   },
   "outputs": [
    {
     "data": {
      "text/html": [
       "<div>\n",
       "<style scoped>\n",
       "    .dataframe tbody tr th:only-of-type {\n",
       "        vertical-align: middle;\n",
       "    }\n",
       "\n",
       "    .dataframe tbody tr th {\n",
       "        vertical-align: top;\n",
       "    }\n",
       "\n",
       "    .dataframe thead th {\n",
       "        text-align: right;\n",
       "    }\n",
       "</style>\n",
       "<table border=\"1\" class=\"dataframe\">\n",
       "  <thead>\n",
       "    <tr style=\"text-align: right;\">\n",
       "      <th></th>\n",
       "      <th>market</th>\n",
       "      <th>fiscal_year</th>\n",
       "      <th>freight_pct</th>\n",
       "      <th>other_cost_pct</th>\n",
       "    </tr>\n",
       "  </thead>\n",
       "  <tbody>\n",
       "    <tr>\n",
       "      <th>0</th>\n",
       "      <td>Australia</td>\n",
       "      <td>2018</td>\n",
       "      <td>0.0188000000</td>\n",
       "      <td>0.0050000000</td>\n",
       "    </tr>\n",
       "    <tr>\n",
       "      <th>1</th>\n",
       "      <td>Austria</td>\n",
       "      <td>2018</td>\n",
       "      <td>0.0272000000</td>\n",
       "      <td>0.0053000000</td>\n",
       "    </tr>\n",
       "    <tr>\n",
       "      <th>2</th>\n",
       "      <td>Bangladesh</td>\n",
       "      <td>2018</td>\n",
       "      <td>0.0219000000</td>\n",
       "      <td>0.0058000000</td>\n",
       "    </tr>\n",
       "    <tr>\n",
       "      <th>3</th>\n",
       "      <td>Brazil</td>\n",
       "      <td>2018</td>\n",
       "      <td>0.0239000000</td>\n",
       "      <td>0.0033000000</td>\n",
       "    </tr>\n",
       "    <tr>\n",
       "      <th>4</th>\n",
       "      <td>Canada</td>\n",
       "      <td>2018</td>\n",
       "      <td>0.0264000000</td>\n",
       "      <td>0.0054000000</td>\n",
       "    </tr>\n",
       "    <tr>\n",
       "      <th>5</th>\n",
       "      <td>Chile</td>\n",
       "      <td>2018</td>\n",
       "      <td>0.0267000000</td>\n",
       "      <td>0.0022000000</td>\n",
       "    </tr>\n",
       "    <tr>\n",
       "      <th>6</th>\n",
       "      <td>China</td>\n",
       "      <td>2018</td>\n",
       "      <td>0.0204000000</td>\n",
       "      <td>0.0043000000</td>\n",
       "    </tr>\n",
       "    <tr>\n",
       "      <th>7</th>\n",
       "      <td>Columbia</td>\n",
       "      <td>2018</td>\n",
       "      <td>0.0216000000</td>\n",
       "      <td>0.0028000000</td>\n",
       "    </tr>\n",
       "    <tr>\n",
       "      <th>8</th>\n",
       "      <td>France</td>\n",
       "      <td>2018</td>\n",
       "      <td>0.0190000000</td>\n",
       "      <td>0.0038000000</td>\n",
       "    </tr>\n",
       "    <tr>\n",
       "      <th>9</th>\n",
       "      <td>Germany</td>\n",
       "      <td>2018</td>\n",
       "      <td>0.0301000000</td>\n",
       "      <td>0.0061000000</td>\n",
       "    </tr>\n",
       "  </tbody>\n",
       "</table>\n",
       "</div>"
      ],
      "text/plain": [
       "       market  fiscal_year   freight_pct other_cost_pct\n",
       "0   Australia         2018  0.0188000000   0.0050000000\n",
       "1     Austria         2018  0.0272000000   0.0053000000\n",
       "2  Bangladesh         2018  0.0219000000   0.0058000000\n",
       "3      Brazil         2018  0.0239000000   0.0033000000\n",
       "4      Canada         2018  0.0264000000   0.0054000000\n",
       "5       Chile         2018  0.0267000000   0.0022000000\n",
       "6       China         2018  0.0204000000   0.0043000000\n",
       "7    Columbia         2018  0.0216000000   0.0028000000\n",
       "8      France         2018  0.0190000000   0.0038000000\n",
       "9     Germany         2018  0.0301000000   0.0061000000"
      ]
     },
     "execution_count": 55,
     "metadata": {},
     "output_type": "execute_result"
    }
   ],
   "source": [
    "sc_freight_cost.head(10)"
   ]
  },
  {
   "cell_type": "code",
   "execution_count": 56,
   "id": "675a0274-50c7-41f6-9e0b-74160e17e6d8",
   "metadata": {
    "tags": []
   },
   "outputs": [
    {
     "data": {
      "text/plain": [
       "Index               132\n",
       "market             8685\n",
       "fiscal_year        1080\n",
       "freight_pct       15120\n",
       "other_cost_pct    15120\n",
       "dtype: int64"
      ]
     },
     "execution_count": 56,
     "metadata": {},
     "output_type": "execute_result"
    }
   ],
   "source": [
    "# check memory usage by column\n",
    "\n",
    "sc_freight_cost.memory_usage(deep=True)"
   ]
  },
  {
   "cell_type": "code",
   "execution_count": 57,
   "id": "2b180bdf-76d8-4e62-a471-1c5735378fff",
   "metadata": {
    "tags": []
   },
   "outputs": [
    {
     "data": {
      "text/plain": [
       "market            object\n",
       "fiscal_year        int64\n",
       "freight_pct       object\n",
       "other_cost_pct    object\n",
       "dtype: object"
      ]
     },
     "execution_count": 57,
     "metadata": {},
     "output_type": "execute_result"
    }
   ],
   "source": [
    "# check datatypes\n",
    "\n",
    "sc_freight_cost.dtypes"
   ]
  },
  {
   "cell_type": "code",
   "execution_count": 58,
   "id": "6b0ab01d-7b99-4e1a-9280-b455863dce3a",
   "metadata": {
    "tags": []
   },
   "outputs": [
    {
     "name": "stdout",
     "output_type": "stream",
     "text": [
      "27\n"
     ]
    },
    {
     "data": {
      "text/plain": [
       "Australia         5\n",
       "Mexico            5\n",
       "United Kingdom    5\n",
       "Sweden            5\n",
       "Spain             5\n",
       "                 ..\n",
       "Chile             5\n",
       "Canada            5\n",
       "Brazil            5\n",
       "Bangladesh        5\n",
       "USA               5\n",
       "Name: market, Length: 27, dtype: int64"
      ]
     },
     "execution_count": 58,
     "metadata": {},
     "output_type": "execute_result"
    }
   ],
   "source": [
    "# ensure datatype 'category' is apropriate by counting unique values\n",
    "\n",
    "print(sc_freight_cost['market'].nunique())\n",
    "sc_freight_cost['market'].value_counts()"
   ]
  },
  {
   "cell_type": "code",
   "execution_count": 59,
   "id": "e3395358-a680-471e-872e-e155d2767de4",
   "metadata": {
    "tags": []
   },
   "outputs": [
    {
     "name": "stdout",
     "output_type": "stream",
     "text": [
      "5\n"
     ]
    },
    {
     "data": {
      "text/plain": [
       "2018    27\n",
       "2019    27\n",
       "2020    27\n",
       "2021    27\n",
       "2022    27\n",
       "Name: fiscal_year, dtype: int64"
      ]
     },
     "execution_count": 59,
     "metadata": {},
     "output_type": "execute_result"
    }
   ],
   "source": [
    "# ensure datatype 'category' is apropriate by counting unique values\n",
    "\n",
    "print(sc_freight_cost['fiscal_year'].nunique())\n",
    "sc_freight_cost['fiscal_year'].value_counts()"
   ]
  },
  {
   "cell_type": "code",
   "execution_count": 60,
   "id": "bb19677c-c50d-45bb-a0e2-8a985ff09a49",
   "metadata": {
    "tags": []
   },
   "outputs": [
    {
     "name": "stdout",
     "output_type": "stream",
     "text": [
      "0.0187000000\n",
      "0.0312000000\n"
     ]
    }
   ],
   "source": [
    "# ensure datype 'int16' is apropriate by checking the range\n",
    "\n",
    "print(sc_freight_cost['freight_pct'].min())\n",
    "print(sc_freight_cost['freight_pct'].max())"
   ]
  },
  {
   "cell_type": "code",
   "execution_count": 61,
   "id": "5c574516-b882-4b27-ace5-56378acfc229",
   "metadata": {
    "tags": []
   },
   "outputs": [
    {
     "name": "stdout",
     "output_type": "stream",
     "text": [
      "0.0022000000\n",
      "0.0061000000\n"
     ]
    }
   ],
   "source": [
    "# ensure datype 'int16' is apropriate by checking the range\n",
    "\n",
    "print(sc_freight_cost['other_cost_pct'].min())\n",
    "print(sc_freight_cost['other_cost_pct'].max())"
   ]
  },
  {
   "cell_type": "code",
   "execution_count": 62,
   "id": "9c50f7f1-c050-4e7d-85c4-8d7127c4bca9",
   "metadata": {
    "tags": []
   },
   "outputs": [],
   "source": [
    "# change datatypes\n",
    "\n",
    "sc_freight_cost['market'] = sc_freight_cost['market'].astype('category')\n",
    "sc_freight_cost['fiscal_year'] = sc_freight_cost['fiscal_year'].astype('int16')\n",
    "sc_freight_cost['freight_pct'] = sc_freight_cost['freight_pct'].astype('float64')\n",
    "sc_freight_cost['other_cost_pct'] = sc_freight_cost['other_cost_pct'].astype('float64')"
   ]
  },
  {
   "cell_type": "code",
   "execution_count": 63,
   "id": "b7c54280-d744-426f-93b3-2be2da28f2e2",
   "metadata": {
    "tags": []
   },
   "outputs": [
    {
     "data": {
      "text/plain": [
       "Index              132\n",
       "market            2944\n",
       "fiscal_year        270\n",
       "freight_pct       1080\n",
       "other_cost_pct    1080\n",
       "dtype: int64"
      ]
     },
     "execution_count": 63,
     "metadata": {},
     "output_type": "execute_result"
    }
   ],
   "source": [
    "# check memory usage by column\n",
    "\n",
    "sc_freight_cost.memory_usage(deep=True)"
   ]
  },
  {
   "cell_type": "code",
   "execution_count": 64,
   "id": "63bb76ce-c396-42c8-8003-5fd5e1ea1605",
   "metadata": {},
   "outputs": [
    {
     "data": {
      "text/plain": [
       "market            category\n",
       "fiscal_year          int16\n",
       "freight_pct        float64\n",
       "other_cost_pct     float64\n",
       "dtype: object"
      ]
     },
     "execution_count": 64,
     "metadata": {},
     "output_type": "execute_result"
    }
   ],
   "source": [
    "# check datatypes\n",
    "\n",
    "sc_freight_cost.dtypes"
   ]
  },
  {
   "cell_type": "markdown",
   "id": "6c24cce0-998a-4e55-a79d-08268947ac18",
   "metadata": {
    "tags": []
   },
   "source": [
    "### sc_gross_price"
   ]
  },
  {
   "cell_type": "code",
   "execution_count": 65,
   "id": "5dd67040-05ca-4316-9632-1d9f5c3ea8f2",
   "metadata": {
    "tags": []
   },
   "outputs": [
    {
     "data": {
      "text/html": [
       "<div>\n",
       "<style scoped>\n",
       "    .dataframe tbody tr th:only-of-type {\n",
       "        vertical-align: middle;\n",
       "    }\n",
       "\n",
       "    .dataframe tbody tr th {\n",
       "        vertical-align: top;\n",
       "    }\n",
       "\n",
       "    .dataframe thead th {\n",
       "        text-align: right;\n",
       "    }\n",
       "</style>\n",
       "<table border=\"1\" class=\"dataframe\">\n",
       "  <thead>\n",
       "    <tr style=\"text-align: right;\">\n",
       "      <th></th>\n",
       "      <th>product_code</th>\n",
       "      <th>fiscal_year</th>\n",
       "      <th>gross_price</th>\n",
       "    </tr>\n",
       "  </thead>\n",
       "  <tbody>\n",
       "    <tr>\n",
       "      <th>0</th>\n",
       "      <td>A0118150101</td>\n",
       "      <td>2018</td>\n",
       "      <td>15.3952000000</td>\n",
       "    </tr>\n",
       "    <tr>\n",
       "      <th>1</th>\n",
       "      <td>A0118150101</td>\n",
       "      <td>2019</td>\n",
       "      <td>14.4392000000</td>\n",
       "    </tr>\n",
       "    <tr>\n",
       "      <th>2</th>\n",
       "      <td>A0118150101</td>\n",
       "      <td>2020</td>\n",
       "      <td>16.2323000000</td>\n",
       "    </tr>\n",
       "    <tr>\n",
       "      <th>3</th>\n",
       "      <td>A0118150101</td>\n",
       "      <td>2021</td>\n",
       "      <td>19.0573000000</td>\n",
       "    </tr>\n",
       "    <tr>\n",
       "      <th>4</th>\n",
       "      <td>A0118150102</td>\n",
       "      <td>2018</td>\n",
       "      <td>19.5875000000</td>\n",
       "    </tr>\n",
       "    <tr>\n",
       "      <th>5</th>\n",
       "      <td>A0118150102</td>\n",
       "      <td>2019</td>\n",
       "      <td>18.5595000000</td>\n",
       "    </tr>\n",
       "    <tr>\n",
       "      <th>6</th>\n",
       "      <td>A0118150102</td>\n",
       "      <td>2020</td>\n",
       "      <td>19.8577000000</td>\n",
       "    </tr>\n",
       "    <tr>\n",
       "      <th>7</th>\n",
       "      <td>A0118150102</td>\n",
       "      <td>2021</td>\n",
       "      <td>21.4565000000</td>\n",
       "    </tr>\n",
       "    <tr>\n",
       "      <th>8</th>\n",
       "      <td>A0118150103</td>\n",
       "      <td>2018</td>\n",
       "      <td>19.3630000000</td>\n",
       "    </tr>\n",
       "    <tr>\n",
       "      <th>9</th>\n",
       "      <td>A0118150103</td>\n",
       "      <td>2019</td>\n",
       "      <td>19.3442000000</td>\n",
       "    </tr>\n",
       "  </tbody>\n",
       "</table>\n",
       "</div>"
      ],
      "text/plain": [
       "  product_code  fiscal_year    gross_price\n",
       "0  A0118150101         2018  15.3952000000\n",
       "1  A0118150101         2019  14.4392000000\n",
       "2  A0118150101         2020  16.2323000000\n",
       "3  A0118150101         2021  19.0573000000\n",
       "4  A0118150102         2018  19.5875000000\n",
       "5  A0118150102         2019  18.5595000000\n",
       "6  A0118150102         2020  19.8577000000\n",
       "7  A0118150102         2021  21.4565000000\n",
       "8  A0118150103         2018  19.3630000000\n",
       "9  A0118150103         2019  19.3442000000"
      ]
     },
     "execution_count": 65,
     "metadata": {},
     "output_type": "execute_result"
    }
   ],
   "source": [
    "sc_gross_price.head(10)"
   ]
  },
  {
   "cell_type": "code",
   "execution_count": 66,
   "id": "190aa58c-9413-42be-a474-6fbad3ac2048",
   "metadata": {
    "tags": []
   },
   "outputs": [
    {
     "data": {
      "text/plain": [
       "Index              132\n",
       "product_code     81396\n",
       "fiscal_year       9576\n",
       "gross_price     134064\n",
       "dtype: int64"
      ]
     },
     "execution_count": 66,
     "metadata": {},
     "output_type": "execute_result"
    }
   ],
   "source": [
    "# check memory usage by column\n",
    "\n",
    "sc_gross_price.memory_usage(deep=True)"
   ]
  },
  {
   "cell_type": "code",
   "execution_count": 67,
   "id": "ecc17ab4-c293-495e-8ee3-e2a426087345",
   "metadata": {
    "tags": []
   },
   "outputs": [
    {
     "data": {
      "text/plain": [
       "product_code    object\n",
       "fiscal_year      int64\n",
       "gross_price     object\n",
       "dtype: object"
      ]
     },
     "execution_count": 67,
     "metadata": {},
     "output_type": "execute_result"
    }
   ],
   "source": [
    "# check datatypes\n",
    "\n",
    "sc_gross_price.dtypes"
   ]
  },
  {
   "cell_type": "code",
   "execution_count": 68,
   "id": "d4cea3eb-b1d6-4d60-9867-a27e46220d8b",
   "metadata": {
    "tags": []
   },
   "outputs": [
    {
     "name": "stdout",
     "output_type": "stream",
     "text": [
      "397\n"
     ]
    },
    {
     "data": {
      "text/plain": [
       "A2918150105    5\n",
       "A1219150301    5\n",
       "A3718150102    5\n",
       "A3718150103    5\n",
       "A3718150105    5\n",
       "              ..\n",
       "A5820110105    1\n",
       "A2821150802    1\n",
       "A2821150803    1\n",
       "A2821150804    1\n",
       "A4821110808    1\n",
       "Name: product_code, Length: 397, dtype: int64"
      ]
     },
     "execution_count": 68,
     "metadata": {},
     "output_type": "execute_result"
    }
   ],
   "source": [
    "# ensure datatype 'category' is apropriate by counting unique values\n",
    "\n",
    "print(sc_gross_price['product_code'].nunique())\n",
    "sc_gross_price['product_code'].value_counts()"
   ]
  },
  {
   "cell_type": "code",
   "execution_count": 69,
   "id": "2f02fbf8-4baf-4b5f-9ad9-8d45c63e15a1",
   "metadata": {
    "tags": []
   },
   "outputs": [
    {
     "name": "stdout",
     "output_type": "stream",
     "text": [
      "5\n"
     ]
    },
    {
     "data": {
      "text/plain": [
       "2022    353\n",
       "2021    338\n",
       "2020    247\n",
       "2019    172\n",
       "2018     87\n",
       "Name: fiscal_year, dtype: int64"
      ]
     },
     "execution_count": 69,
     "metadata": {},
     "output_type": "execute_result"
    }
   ],
   "source": [
    "# ensure datatype 'category' is apropriate by counting unique values\n",
    "\n",
    "print(sc_gross_price['fiscal_year'].nunique())\n",
    "sc_gross_price['fiscal_year'].value_counts()"
   ]
  },
  {
   "cell_type": "code",
   "execution_count": 70,
   "id": "5ec6a78e-e74b-4fa0-a354-ad6d65d1449e",
   "metadata": {
    "tags": []
   },
   "outputs": [
    {
     "name": "stdout",
     "output_type": "stream",
     "text": [
      "2.2831000000\n",
      "890.1364000000\n"
     ]
    }
   ],
   "source": [
    "# ensure datype 'int16' is apropriate by checking the range\n",
    "\n",
    "print(sc_gross_price['gross_price'].min())\n",
    "print(sc_gross_price['gross_price'].max())"
   ]
  },
  {
   "cell_type": "code",
   "execution_count": 71,
   "id": "cdd98075-2e7f-4fd1-847e-fe7659e4bfff",
   "metadata": {
    "tags": []
   },
   "outputs": [],
   "source": [
    "# change datatypes\n",
    "\n",
    "sc_gross_price['fiscal_year'] = sc_gross_price['fiscal_year'].astype('int16')\n",
    "sc_gross_price['gross_price'] = sc_gross_price['gross_price'].astype('float64')"
   ]
  },
  {
   "cell_type": "code",
   "execution_count": 72,
   "id": "958a5e41-ecdc-4b0a-a3e3-00d765093e23",
   "metadata": {
    "tags": []
   },
   "outputs": [
    {
     "data": {
      "text/plain": [
       "Index             132\n",
       "product_code    81396\n",
       "fiscal_year      2394\n",
       "gross_price      9576\n",
       "dtype: int64"
      ]
     },
     "execution_count": 72,
     "metadata": {},
     "output_type": "execute_result"
    }
   ],
   "source": [
    "# check memory usage by column\n",
    "\n",
    "sc_gross_price.memory_usage(deep=True)"
   ]
  },
  {
   "cell_type": "code",
   "execution_count": 73,
   "id": "dcc2ed45-f5d9-43e0-a18d-9724dd7a3b1c",
   "metadata": {},
   "outputs": [
    {
     "data": {
      "text/plain": [
       "product_code     object\n",
       "fiscal_year       int16\n",
       "gross_price     float64\n",
       "dtype: object"
      ]
     },
     "execution_count": 73,
     "metadata": {},
     "output_type": "execute_result"
    }
   ],
   "source": [
    "# check datatypes\n",
    "\n",
    "sc_gross_price.dtypes"
   ]
  },
  {
   "cell_type": "markdown",
   "id": "906c6a3a-48ef-4758-8e47-a2b95d2bf901",
   "metadata": {
    "tags": []
   },
   "source": [
    "### sc_manufacturing_cost"
   ]
  },
  {
   "cell_type": "code",
   "execution_count": 74,
   "id": "bc1bd7e7-ea2b-4285-8db1-77a81192928e",
   "metadata": {
    "tags": []
   },
   "outputs": [
    {
     "data": {
      "text/html": [
       "<div>\n",
       "<style scoped>\n",
       "    .dataframe tbody tr th:only-of-type {\n",
       "        vertical-align: middle;\n",
       "    }\n",
       "\n",
       "    .dataframe tbody tr th {\n",
       "        vertical-align: top;\n",
       "    }\n",
       "\n",
       "    .dataframe thead th {\n",
       "        text-align: right;\n",
       "    }\n",
       "</style>\n",
       "<table border=\"1\" class=\"dataframe\">\n",
       "  <thead>\n",
       "    <tr style=\"text-align: right;\">\n",
       "      <th></th>\n",
       "      <th>product_code</th>\n",
       "      <th>cost_year</th>\n",
       "      <th>manufacturing_cost</th>\n",
       "    </tr>\n",
       "  </thead>\n",
       "  <tbody>\n",
       "    <tr>\n",
       "      <th>0</th>\n",
       "      <td>A0118150101</td>\n",
       "      <td>2018</td>\n",
       "      <td>4.6190000000</td>\n",
       "    </tr>\n",
       "    <tr>\n",
       "      <th>1</th>\n",
       "      <td>A0118150101</td>\n",
       "      <td>2019</td>\n",
       "      <td>4.2033000000</td>\n",
       "    </tr>\n",
       "    <tr>\n",
       "      <th>2</th>\n",
       "      <td>A0118150101</td>\n",
       "      <td>2020</td>\n",
       "      <td>5.0207000000</td>\n",
       "    </tr>\n",
       "    <tr>\n",
       "      <th>3</th>\n",
       "      <td>A0118150101</td>\n",
       "      <td>2021</td>\n",
       "      <td>5.5172000000</td>\n",
       "    </tr>\n",
       "    <tr>\n",
       "      <th>4</th>\n",
       "      <td>A0118150102</td>\n",
       "      <td>2018</td>\n",
       "      <td>5.6036000000</td>\n",
       "    </tr>\n",
       "    <tr>\n",
       "      <th>5</th>\n",
       "      <td>A0118150102</td>\n",
       "      <td>2019</td>\n",
       "      <td>5.3235000000</td>\n",
       "    </tr>\n",
       "    <tr>\n",
       "      <th>6</th>\n",
       "      <td>A0118150102</td>\n",
       "      <td>2020</td>\n",
       "      <td>5.7180000000</td>\n",
       "    </tr>\n",
       "    <tr>\n",
       "      <th>7</th>\n",
       "      <td>A0118150102</td>\n",
       "      <td>2021</td>\n",
       "      <td>6.2835000000</td>\n",
       "    </tr>\n",
       "    <tr>\n",
       "      <th>8</th>\n",
       "      <td>A0118150103</td>\n",
       "      <td>2018</td>\n",
       "      <td>5.9469000000</td>\n",
       "    </tr>\n",
       "    <tr>\n",
       "      <th>9</th>\n",
       "      <td>A0118150103</td>\n",
       "      <td>2019</td>\n",
       "      <td>5.5306000000</td>\n",
       "    </tr>\n",
       "  </tbody>\n",
       "</table>\n",
       "</div>"
      ],
      "text/plain": [
       "  product_code  cost_year manufacturing_cost\n",
       "0  A0118150101       2018       4.6190000000\n",
       "1  A0118150101       2019       4.2033000000\n",
       "2  A0118150101       2020       5.0207000000\n",
       "3  A0118150101       2021       5.5172000000\n",
       "4  A0118150102       2018       5.6036000000\n",
       "5  A0118150102       2019       5.3235000000\n",
       "6  A0118150102       2020       5.7180000000\n",
       "7  A0118150102       2021       6.2835000000\n",
       "8  A0118150103       2018       5.9469000000\n",
       "9  A0118150103       2019       5.5306000000"
      ]
     },
     "execution_count": 74,
     "metadata": {},
     "output_type": "execute_result"
    }
   ],
   "source": [
    "sc_manufacturing_cost.head(10)"
   ]
  },
  {
   "cell_type": "code",
   "execution_count": 75,
   "id": "283f182e-a277-4161-9db5-4456a16f50c8",
   "metadata": {
    "tags": []
   },
   "outputs": [
    {
     "data": {
      "text/plain": [
       "Index                    132\n",
       "product_code           81396\n",
       "cost_year               9576\n",
       "manufacturing_cost    134064\n",
       "dtype: int64"
      ]
     },
     "execution_count": 75,
     "metadata": {},
     "output_type": "execute_result"
    }
   ],
   "source": [
    "# check memory usage by column\n",
    "\n",
    "sc_manufacturing_cost.memory_usage(deep=True)"
   ]
  },
  {
   "cell_type": "code",
   "execution_count": 76,
   "id": "c9d14607-a75d-435e-9f2a-5ce29f943bfe",
   "metadata": {
    "tags": []
   },
   "outputs": [
    {
     "data": {
      "text/plain": [
       "product_code          object\n",
       "cost_year              int64\n",
       "manufacturing_cost    object\n",
       "dtype: object"
      ]
     },
     "execution_count": 76,
     "metadata": {},
     "output_type": "execute_result"
    }
   ],
   "source": [
    "# check datatypes\n",
    "\n",
    "sc_manufacturing_cost.dtypes"
   ]
  },
  {
   "cell_type": "code",
   "execution_count": 77,
   "id": "dff91943-8eab-4e95-9935-39d1c61d19f6",
   "metadata": {
    "tags": []
   },
   "outputs": [
    {
     "name": "stdout",
     "output_type": "stream",
     "text": [
      "397\n"
     ]
    },
    {
     "data": {
      "text/plain": [
       "A2918150105    5\n",
       "A1219150301    5\n",
       "A3718150102    5\n",
       "A3718150103    5\n",
       "A3718150105    5\n",
       "              ..\n",
       "A5820110105    1\n",
       "A2821150802    1\n",
       "A2821150803    1\n",
       "A2821150804    1\n",
       "A4821110808    1\n",
       "Name: product_code, Length: 397, dtype: int64"
      ]
     },
     "execution_count": 77,
     "metadata": {},
     "output_type": "execute_result"
    }
   ],
   "source": [
    "# ensure datatype 'category' is apropriate by counting unique values\n",
    "\n",
    "print(sc_manufacturing_cost['product_code'].nunique())\n",
    "sc_manufacturing_cost['product_code'].value_counts()"
   ]
  },
  {
   "cell_type": "code",
   "execution_count": 78,
   "id": "67eed7dd-12cd-4ff5-af4d-b3ca797b9230",
   "metadata": {
    "tags": []
   },
   "outputs": [
    {
     "name": "stdout",
     "output_type": "stream",
     "text": [
      "5\n"
     ]
    },
    {
     "data": {
      "text/plain": [
       "2022    353\n",
       "2021    338\n",
       "2020    247\n",
       "2019    172\n",
       "2018     87\n",
       "Name: cost_year, dtype: int64"
      ]
     },
     "execution_count": 78,
     "metadata": {},
     "output_type": "execute_result"
    }
   ],
   "source": [
    "# ensure datatype 'category' is apropriate by counting unique values\n",
    "\n",
    "print(sc_manufacturing_cost['cost_year'].nunique())\n",
    "sc_manufacturing_cost['cost_year'].value_counts()"
   ]
  },
  {
   "cell_type": "code",
   "execution_count": 79,
   "id": "809bf473-b91d-4fbf-928f-2c071906c230",
   "metadata": {},
   "outputs": [
    {
     "name": "stdout",
     "output_type": "stream",
     "text": [
      "0.7064000000\n",
      "263.4207000000\n"
     ]
    }
   ],
   "source": [
    "# ensure datype 'int16' is apropriate by checking the range\n",
    "\n",
    "print(sc_manufacturing_cost['manufacturing_cost'].min())\n",
    "print(sc_manufacturing_cost['manufacturing_cost'].max())"
   ]
  },
  {
   "cell_type": "code",
   "execution_count": 80,
   "id": "a87cef5d-54bb-46a3-926d-3875a0a32b39",
   "metadata": {
    "tags": []
   },
   "outputs": [],
   "source": [
    "# change datatypes\n",
    "\n",
    "sc_manufacturing_cost['cost_year'] = sc_manufacturing_cost['cost_year'].astype('int16')\n",
    "sc_manufacturing_cost['manufacturing_cost'] = sc_manufacturing_cost['manufacturing_cost'].astype('float64')"
   ]
  },
  {
   "cell_type": "code",
   "execution_count": 81,
   "id": "c96755ac-d4ef-4ec1-a8f0-8e8c83159a16",
   "metadata": {
    "tags": []
   },
   "outputs": [
    {
     "data": {
      "text/plain": [
       "Index                   132\n",
       "product_code          81396\n",
       "cost_year              2394\n",
       "manufacturing_cost     9576\n",
       "dtype: int64"
      ]
     },
     "execution_count": 81,
     "metadata": {},
     "output_type": "execute_result"
    }
   ],
   "source": [
    "# check memory usage by column\n",
    "\n",
    "sc_manufacturing_cost.memory_usage(deep=True)"
   ]
  },
  {
   "cell_type": "code",
   "execution_count": 82,
   "id": "09ae054d-6303-49aa-a541-dc739c60f556",
   "metadata": {},
   "outputs": [
    {
     "data": {
      "text/plain": [
       "product_code           object\n",
       "cost_year               int16\n",
       "manufacturing_cost    float64\n",
       "dtype: object"
      ]
     },
     "execution_count": 82,
     "metadata": {},
     "output_type": "execute_result"
    }
   ],
   "source": [
    "# check datatypes\n",
    "\n",
    "sc_manufacturing_cost.dtypes"
   ]
  },
  {
   "cell_type": "markdown",
   "id": "df7eb709-22c3-4efe-9030-da0d91ab5602",
   "metadata": {
    "tags": []
   },
   "source": [
    "### sc_post_invoice_deductions"
   ]
  },
  {
   "cell_type": "code",
   "execution_count": 83,
   "id": "915f8863-b87d-4410-8fe9-dbaa2f542687",
   "metadata": {
    "tags": []
   },
   "outputs": [
    {
     "data": {
      "text/html": [
       "<div>\n",
       "<style scoped>\n",
       "    .dataframe tbody tr th:only-of-type {\n",
       "        vertical-align: middle;\n",
       "    }\n",
       "\n",
       "    .dataframe tbody tr th {\n",
       "        vertical-align: top;\n",
       "    }\n",
       "\n",
       "    .dataframe thead th {\n",
       "        text-align: right;\n",
       "    }\n",
       "</style>\n",
       "<table border=\"1\" class=\"dataframe\">\n",
       "  <thead>\n",
       "    <tr style=\"text-align: right;\">\n",
       "      <th></th>\n",
       "      <th>customer_code</th>\n",
       "      <th>product_code</th>\n",
       "      <th>date</th>\n",
       "      <th>discounts_pct</th>\n",
       "      <th>other_deductions_pct</th>\n",
       "      <th>fiscal_year</th>\n",
       "    </tr>\n",
       "  </thead>\n",
       "  <tbody>\n",
       "    <tr>\n",
       "      <th>0</th>\n",
       "      <td>70002017</td>\n",
       "      <td>A0118150101</td>\n",
       "      <td>2017-09-01</td>\n",
       "      <td>0.2659568373</td>\n",
       "      <td>0.0718706275</td>\n",
       "      <td>2018</td>\n",
       "    </tr>\n",
       "    <tr>\n",
       "      <th>1</th>\n",
       "      <td>70002017</td>\n",
       "      <td>A0118150101</td>\n",
       "      <td>2017-10-01</td>\n",
       "      <td>0.3089921425</td>\n",
       "      <td>0.0976271962</td>\n",
       "      <td>2018</td>\n",
       "    </tr>\n",
       "    <tr>\n",
       "      <th>2</th>\n",
       "      <td>70002017</td>\n",
       "      <td>A0118150101</td>\n",
       "      <td>2017-11-01</td>\n",
       "      <td>0.3312678749</td>\n",
       "      <td>0.0752107404</td>\n",
       "      <td>2018</td>\n",
       "    </tr>\n",
       "    <tr>\n",
       "      <th>3</th>\n",
       "      <td>70002017</td>\n",
       "      <td>A0118150101</td>\n",
       "      <td>2018-01-01</td>\n",
       "      <td>0.2957916324</td>\n",
       "      <td>0.0720356315</td>\n",
       "      <td>2018</td>\n",
       "    </tr>\n",
       "    <tr>\n",
       "      <th>4</th>\n",
       "      <td>70002017</td>\n",
       "      <td>A0118150101</td>\n",
       "      <td>2018-02-01</td>\n",
       "      <td>0.3207865527</td>\n",
       "      <td>0.0793345762</td>\n",
       "      <td>2018</td>\n",
       "    </tr>\n",
       "    <tr>\n",
       "      <th>5</th>\n",
       "      <td>70002017</td>\n",
       "      <td>A0118150101</td>\n",
       "      <td>2018-03-01</td>\n",
       "      <td>0.2634826863</td>\n",
       "      <td>0.1007454661</td>\n",
       "      <td>2018</td>\n",
       "    </tr>\n",
       "    <tr>\n",
       "      <th>6</th>\n",
       "      <td>70002017</td>\n",
       "      <td>A0118150101</td>\n",
       "      <td>2018-05-01</td>\n",
       "      <td>0.2231491730</td>\n",
       "      <td>0.0819604740</td>\n",
       "      <td>2018</td>\n",
       "    </tr>\n",
       "    <tr>\n",
       "      <th>7</th>\n",
       "      <td>70002017</td>\n",
       "      <td>A0118150101</td>\n",
       "      <td>2018-06-01</td>\n",
       "      <td>0.3019501683</td>\n",
       "      <td>0.0791333546</td>\n",
       "      <td>2018</td>\n",
       "    </tr>\n",
       "    <tr>\n",
       "      <th>8</th>\n",
       "      <td>70002017</td>\n",
       "      <td>A0118150101</td>\n",
       "      <td>2018-07-01</td>\n",
       "      <td>0.3123406450</td>\n",
       "      <td>0.0929448730</td>\n",
       "      <td>2018</td>\n",
       "    </tr>\n",
       "    <tr>\n",
       "      <th>9</th>\n",
       "      <td>70002017</td>\n",
       "      <td>A0118150102</td>\n",
       "      <td>2017-09-01</td>\n",
       "      <td>0.2302247453</td>\n",
       "      <td>0.0868821520</td>\n",
       "      <td>2018</td>\n",
       "    </tr>\n",
       "  </tbody>\n",
       "</table>\n",
       "</div>"
      ],
      "text/plain": [
       "  customer_code product_code        date discounts_pct other_deductions_pct  \\\n",
       "0      70002017  A0118150101  2017-09-01  0.2659568373         0.0718706275   \n",
       "1      70002017  A0118150101  2017-10-01  0.3089921425         0.0976271962   \n",
       "2      70002017  A0118150101  2017-11-01  0.3312678749         0.0752107404   \n",
       "3      70002017  A0118150101  2018-01-01  0.2957916324         0.0720356315   \n",
       "4      70002017  A0118150101  2018-02-01  0.3207865527         0.0793345762   \n",
       "5      70002017  A0118150101  2018-03-01  0.2634826863         0.1007454661   \n",
       "6      70002017  A0118150101  2018-05-01  0.2231491730         0.0819604740   \n",
       "7      70002017  A0118150101  2018-06-01  0.3019501683         0.0791333546   \n",
       "8      70002017  A0118150101  2018-07-01  0.3123406450         0.0929448730   \n",
       "9      70002017  A0118150102  2017-09-01  0.2302247453         0.0868821520   \n",
       "\n",
       "   fiscal_year  \n",
       "0         2018  \n",
       "1         2018  \n",
       "2         2018  \n",
       "3         2018  \n",
       "4         2018  \n",
       "5         2018  \n",
       "6         2018  \n",
       "7         2018  \n",
       "8         2018  \n",
       "9         2018  "
      ]
     },
     "execution_count": 83,
     "metadata": {},
     "output_type": "execute_result"
    }
   ],
   "source": [
    "sc_post_invoice_deductions.head(10)"
   ]
  },
  {
   "cell_type": "code",
   "execution_count": 84,
   "id": "e0f07d74-e0fc-4926-9808-badb7ddc88c0",
   "metadata": {
    "tags": []
   },
   "outputs": [
    {
     "data": {
      "text/plain": [
       "Index                         132\n",
       "customer_code           134099940\n",
       "product_code            140289168\n",
       "date                     82523040\n",
       "discounts_pct           231064512\n",
       "other_deductions_pct    231064512\n",
       "fiscal_year              16504608\n",
       "dtype: int64"
      ]
     },
     "execution_count": 84,
     "metadata": {},
     "output_type": "execute_result"
    }
   ],
   "source": [
    "# check memory usage by column\n",
    "\n",
    "sc_post_invoice_deductions.memory_usage(deep=True)"
   ]
  },
  {
   "cell_type": "code",
   "execution_count": 85,
   "id": "bc77d613-b08f-4690-b3e9-e53ff3f9f761",
   "metadata": {
    "tags": []
   },
   "outputs": [
    {
     "data": {
      "text/plain": [
       "customer_code           object\n",
       "product_code            object\n",
       "date                    object\n",
       "discounts_pct           object\n",
       "other_deductions_pct    object\n",
       "fiscal_year              int64\n",
       "dtype: object"
      ]
     },
     "execution_count": 85,
     "metadata": {},
     "output_type": "execute_result"
    }
   ],
   "source": [
    "# check datatypes\n",
    "\n",
    "sc_post_invoice_deductions.dtypes"
   ]
  },
  {
   "cell_type": "code",
   "execution_count": 86,
   "id": "80371673-8f0d-49cf-a227-d81abaf26aeb",
   "metadata": {
    "tags": []
   },
   "outputs": [
    {
     "name": "stdout",
     "output_type": "stream",
     "text": [
      "209\n"
     ]
    },
    {
     "data": {
      "text/plain": [
       "70002017    10638\n",
       "90011188    10638\n",
       "90013123    10638\n",
       "90013122    10638\n",
       "90013121    10638\n",
       "            ...  \n",
       "90009129     8316\n",
       "90004061     8316\n",
       "70009133     8316\n",
       "70004069     8316\n",
       "90025209     8316\n",
       "Name: customer_code, Length: 209, dtype: int64"
      ]
     },
     "execution_count": 86,
     "metadata": {},
     "output_type": "execute_result"
    }
   ],
   "source": [
    "# ensure datatype 'category' is apropriate by counting unique values\n",
    "\n",
    "print(sc_post_invoice_deductions['customer_code'].nunique())\n",
    "sc_post_invoice_deductions['customer_code'].value_counts()"
   ]
  },
  {
   "cell_type": "code",
   "execution_count": 87,
   "id": "54a644ae-ae32-4eaf-a12f-989249c714a3",
   "metadata": {
    "tags": []
   },
   "outputs": [
    {
     "name": "stdout",
     "output_type": "stream",
     "text": [
      "389\n"
     ]
    },
    {
     "data": {
      "text/plain": [
       "A3019150205    8065\n",
       "A3019150204    8065\n",
       "A1219150301    8065\n",
       "A0418150104    8065\n",
       "A0418150105    8065\n",
       "               ... \n",
       "A3621150803    1881\n",
       "A3621150804    1881\n",
       "A3621150805    1881\n",
       "A3621150806    1881\n",
       "A6621160503    1881\n",
       "Name: product_code, Length: 389, dtype: int64"
      ]
     },
     "execution_count": 87,
     "metadata": {},
     "output_type": "execute_result"
    }
   ],
   "source": [
    "# ensure datatype 'category' is apropriate by counting unique values\n",
    "\n",
    "print(sc_post_invoice_deductions['product_code'].nunique())\n",
    "sc_post_invoice_deductions['product_code'].value_counts()"
   ]
  },
  {
   "cell_type": "code",
   "execution_count": 88,
   "id": "aae0f03b-de0f-4698-b6f4-88e0f9a7635a",
   "metadata": {
    "tags": []
   },
   "outputs": [
    {
     "name": "stdout",
     "output_type": "stream",
     "text": [
      "0E-10\n",
      "0.3597894498\n"
     ]
    }
   ],
   "source": [
    "# ensure datype 'int16' is apropriate by checking the range\n",
    "\n",
    "print(sc_post_invoice_deductions['discounts_pct'].min())\n",
    "print(sc_post_invoice_deductions['discounts_pct'].max())"
   ]
  },
  {
   "cell_type": "code",
   "execution_count": 89,
   "id": "d19f83d4-0e3c-402d-95a8-f61d043cab8b",
   "metadata": {
    "tags": []
   },
   "outputs": [
    {
     "name": "stdout",
     "output_type": "stream",
     "text": [
      "0E-10\n",
      "0.2076698904\n"
     ]
    }
   ],
   "source": [
    "# ensure datype 'int16' is apropriate by checking the range\n",
    "\n",
    "print(sc_post_invoice_deductions['other_deductions_pct'].min())\n",
    "print(sc_post_invoice_deductions['other_deductions_pct'].max())"
   ]
  },
  {
   "cell_type": "code",
   "execution_count": 90,
   "id": "0485a2fa-3030-4bf9-b45a-7c2987669df3",
   "metadata": {
    "tags": []
   },
   "outputs": [],
   "source": [
    "# change datatypes\n",
    "\n",
    "sc_post_invoice_deductions['date'] = sc_post_invoice_deductions['date'].astype('datetime64')\n",
    "sc_post_invoice_deductions['customer_code'] = sc_post_invoice_deductions['customer_code'].astype('int32')\n",
    "sc_post_invoice_deductions['discounts_pct'] = sc_post_invoice_deductions['discounts_pct'].astype('float64')\n",
    "sc_post_invoice_deductions['other_deductions_pct'] = sc_post_invoice_deductions['other_deductions_pct'].astype('float64')\n",
    "sc_post_invoice_deductions['fiscal_year'] = sc_post_invoice_deductions['fiscal_year'].astype('int16')"
   ]
  },
  {
   "cell_type": "code",
   "execution_count": 91,
   "id": "e2e99b9e-ae1c-402f-b96d-4b80b7a75761",
   "metadata": {
    "tags": []
   },
   "outputs": [
    {
     "data": {
      "text/plain": [
       "Index                         132\n",
       "customer_code             8252304\n",
       "product_code            140289168\n",
       "date                     16504608\n",
       "discounts_pct            16504608\n",
       "other_deductions_pct     16504608\n",
       "fiscal_year               4126152\n",
       "dtype: int64"
      ]
     },
     "execution_count": 91,
     "metadata": {},
     "output_type": "execute_result"
    }
   ],
   "source": [
    "# check memory usage by column\n",
    "\n",
    "sc_post_invoice_deductions.memory_usage(deep=True)"
   ]
  },
  {
   "cell_type": "code",
   "execution_count": 92,
   "id": "43406277-207a-4a3e-9c38-4c14eb256803",
   "metadata": {},
   "outputs": [
    {
     "data": {
      "text/plain": [
       "customer_code                    int32\n",
       "product_code                    object\n",
       "date                    datetime64[ns]\n",
       "discounts_pct                  float64\n",
       "other_deductions_pct           float64\n",
       "fiscal_year                      int16\n",
       "dtype: object"
      ]
     },
     "execution_count": 92,
     "metadata": {},
     "output_type": "execute_result"
    }
   ],
   "source": [
    "# check datatypes\n",
    "\n",
    "sc_post_invoice_deductions.dtypes"
   ]
  },
  {
   "cell_type": "markdown",
   "id": "a3bf4d6f-5947-4f0f-a343-d227c290435c",
   "metadata": {
    "tags": []
   },
   "source": [
    "### sc_pre_invoice_deductions"
   ]
  },
  {
   "cell_type": "code",
   "execution_count": 93,
   "id": "44bd80a2-46eb-4eb9-b2a4-28b69173fbd7",
   "metadata": {
    "tags": []
   },
   "outputs": [
    {
     "data": {
      "text/html": [
       "<div>\n",
       "<style scoped>\n",
       "    .dataframe tbody tr th:only-of-type {\n",
       "        vertical-align: middle;\n",
       "    }\n",
       "\n",
       "    .dataframe tbody tr th {\n",
       "        vertical-align: top;\n",
       "    }\n",
       "\n",
       "    .dataframe thead th {\n",
       "        text-align: right;\n",
       "    }\n",
       "</style>\n",
       "<table border=\"1\" class=\"dataframe\">\n",
       "  <thead>\n",
       "    <tr style=\"text-align: right;\">\n",
       "      <th></th>\n",
       "      <th>customer_code</th>\n",
       "      <th>fiscal_year</th>\n",
       "      <th>pre_invoice_discount_pct</th>\n",
       "    </tr>\n",
       "  </thead>\n",
       "  <tbody>\n",
       "    <tr>\n",
       "      <th>0</th>\n",
       "      <td>70002017</td>\n",
       "      <td>2018</td>\n",
       "      <td>0.0824421975</td>\n",
       "    </tr>\n",
       "    <tr>\n",
       "      <th>1</th>\n",
       "      <td>70002017</td>\n",
       "      <td>2019</td>\n",
       "      <td>0.0776586135</td>\n",
       "    </tr>\n",
       "    <tr>\n",
       "      <th>2</th>\n",
       "      <td>70002017</td>\n",
       "      <td>2020</td>\n",
       "      <td>0.0734578107</td>\n",
       "    </tr>\n",
       "    <tr>\n",
       "      <th>3</th>\n",
       "      <td>70002017</td>\n",
       "      <td>2021</td>\n",
       "      <td>0.0702694757</td>\n",
       "    </tr>\n",
       "    <tr>\n",
       "      <th>4</th>\n",
       "      <td>70002017</td>\n",
       "      <td>2022</td>\n",
       "      <td>0.1056778298</td>\n",
       "    </tr>\n",
       "    <tr>\n",
       "      <th>5</th>\n",
       "      <td>70002018</td>\n",
       "      <td>2018</td>\n",
       "      <td>0.2955677085</td>\n",
       "    </tr>\n",
       "    <tr>\n",
       "      <th>6</th>\n",
       "      <td>70002018</td>\n",
       "      <td>2019</td>\n",
       "      <td>0.2576548034</td>\n",
       "    </tr>\n",
       "    <tr>\n",
       "      <th>7</th>\n",
       "      <td>70002018</td>\n",
       "      <td>2020</td>\n",
       "      <td>0.2254809791</td>\n",
       "    </tr>\n",
       "    <tr>\n",
       "      <th>8</th>\n",
       "      <td>70002018</td>\n",
       "      <td>2021</td>\n",
       "      <td>0.2061071236</td>\n",
       "    </tr>\n",
       "    <tr>\n",
       "      <th>9</th>\n",
       "      <td>70002018</td>\n",
       "      <td>2022</td>\n",
       "      <td>0.2930927104</td>\n",
       "    </tr>\n",
       "  </tbody>\n",
       "</table>\n",
       "</div>"
      ],
      "text/plain": [
       "  customer_code  fiscal_year pre_invoice_discount_pct\n",
       "0      70002017         2018             0.0824421975\n",
       "1      70002017         2019             0.0776586135\n",
       "2      70002017         2020             0.0734578107\n",
       "3      70002017         2021             0.0702694757\n",
       "4      70002017         2022             0.1056778298\n",
       "5      70002018         2018             0.2955677085\n",
       "6      70002018         2019             0.2576548034\n",
       "7      70002018         2020             0.2254809791\n",
       "8      70002018         2021             0.2061071236\n",
       "9      70002018         2022             0.2930927104"
      ]
     },
     "execution_count": 93,
     "metadata": {},
     "output_type": "execute_result"
    }
   ],
   "source": [
    "sc_pre_invoice_deductions.head(10)"
   ]
  },
  {
   "cell_type": "code",
   "execution_count": 94,
   "id": "c4e0d9eb-89d6-462b-b297-9871efdb2db0",
   "metadata": {
    "tags": []
   },
   "outputs": [
    {
     "data": {
      "text/plain": [
       "Index                          132\n",
       "customer_code                67925\n",
       "fiscal_year                   8360\n",
       "pre_invoice_discount_pct    117040\n",
       "dtype: int64"
      ]
     },
     "execution_count": 94,
     "metadata": {},
     "output_type": "execute_result"
    }
   ],
   "source": [
    "# check memory usage by column\n",
    "\n",
    "sc_pre_invoice_deductions.memory_usage(deep=True)"
   ]
  },
  {
   "cell_type": "code",
   "execution_count": 95,
   "id": "4aaf06cb-0db3-4aa1-99f4-be321f672691",
   "metadata": {
    "tags": []
   },
   "outputs": [
    {
     "data": {
      "text/plain": [
       "customer_code               object\n",
       "fiscal_year                  int64\n",
       "pre_invoice_discount_pct    object\n",
       "dtype: object"
      ]
     },
     "execution_count": 95,
     "metadata": {},
     "output_type": "execute_result"
    }
   ],
   "source": [
    "# check datatypes\n",
    "\n",
    "sc_pre_invoice_deductions.dtypes"
   ]
  },
  {
   "cell_type": "code",
   "execution_count": 96,
   "id": "402df00f-52ba-403f-849f-d960b0316e41",
   "metadata": {
    "tags": []
   },
   "outputs": [
    {
     "name": "stdout",
     "output_type": "stream",
     "text": [
      "0.0510158648\n",
      "0.3099080202\n"
     ]
    }
   ],
   "source": [
    "# ensure datype 'int16' is apropriate by checking the range\n",
    "\n",
    "print(sc_pre_invoice_deductions['pre_invoice_discount_pct'].min())\n",
    "print(sc_pre_invoice_deductions['pre_invoice_discount_pct'].max())"
   ]
  },
  {
   "cell_type": "code",
   "execution_count": 97,
   "id": "dcf04bbc-a449-4b19-8c19-7cb554115b2f",
   "metadata": {
    "tags": []
   },
   "outputs": [],
   "source": [
    "# change datatypes\n",
    "\n",
    "sc_pre_invoice_deductions['customer_code'] = sc_pre_invoice_deductions['customer_code'].astype('int32')\n",
    "sc_pre_invoice_deductions['fiscal_year'] = sc_pre_invoice_deductions['fiscal_year'].astype('int16')\n",
    "sc_pre_invoice_deductions['pre_invoice_discount_pct'] = sc_pre_invoice_deductions['pre_invoice_discount_pct'].astype('float64')"
   ]
  },
  {
   "cell_type": "code",
   "execution_count": 98,
   "id": "54719e79-bf6d-4fdd-b86a-57a1ef2bb55d",
   "metadata": {
    "tags": []
   },
   "outputs": [
    {
     "data": {
      "text/plain": [
       "Index                        132\n",
       "customer_code               4180\n",
       "fiscal_year                 2090\n",
       "pre_invoice_discount_pct    8360\n",
       "dtype: int64"
      ]
     },
     "execution_count": 98,
     "metadata": {},
     "output_type": "execute_result"
    }
   ],
   "source": [
    "# check memory usage by column\n",
    "\n",
    "sc_pre_invoice_deductions.memory_usage(deep=True)"
   ]
  },
  {
   "cell_type": "code",
   "execution_count": 99,
   "id": "646e91f9-5166-4e61-8bb0-25c10a29d8e5",
   "metadata": {},
   "outputs": [
    {
     "data": {
      "text/plain": [
       "customer_code                 int32\n",
       "fiscal_year                   int16\n",
       "pre_invoice_discount_pct    float64\n",
       "dtype: object"
      ]
     },
     "execution_count": 99,
     "metadata": {},
     "output_type": "execute_result"
    }
   ],
   "source": [
    "# check datatypes\n",
    "\n",
    "sc_pre_invoice_deductions.dtypes"
   ]
  },
  {
   "cell_type": "code",
   "execution_count": null,
   "id": "4581a3d7-a4cd-4f01-a02c-fdee488efaf2",
   "metadata": {},
   "outputs": [],
   "source": []
  },
  {
   "cell_type": "markdown",
   "id": "7d684b95-22a7-4f32-94cc-3b326dcce4f2",
   "metadata": {
    "tags": []
   },
   "source": [
    "## Create calculated columns: gross_sales, net_invoice_sales, net_sales, cost_of_goods, gross_margin, net_profit"
   ]
  },
  {
   "cell_type": "code",
   "execution_count": 100,
   "id": "02bb64f1-feb8-4fee-9687-95943e8e53bf",
   "metadata": {
    "tags": []
   },
   "outputs": [
    {
     "data": {
      "text/plain": [
       "dict_keys(['dim_customer', 'dim_market', 'dim_product', 'fact_forecast_monthly', 'fact_sales_monthly', 'freight_cost', 'gross_price', 'manufacturing_cost', 'post_invoice_deductions', 'pre_invoice_deductions'])"
      ]
     },
     "execution_count": 100,
     "metadata": {},
     "output_type": "execute_result"
    }
   ],
   "source": [
    "sc_dataframes.keys()"
   ]
  },
  {
   "cell_type": "markdown",
   "id": "99a80975-46b1-4e92-b21f-48d223c9b6f0",
   "metadata": {
    "tags": []
   },
   "source": [
    "### gross_sales"
   ]
  },
  {
   "cell_type": "code",
   "execution_count": 101,
   "id": "680074f1-6e16-4ff6-b4f7-f452b8919bd2",
   "metadata": {},
   "outputs": [
    {
     "data": {
      "text/html": [
       "<div>\n",
       "<style scoped>\n",
       "    .dataframe tbody tr th:only-of-type {\n",
       "        vertical-align: middle;\n",
       "    }\n",
       "\n",
       "    .dataframe tbody tr th {\n",
       "        vertical-align: top;\n",
       "    }\n",
       "\n",
       "    .dataframe thead th {\n",
       "        text-align: right;\n",
       "    }\n",
       "</style>\n",
       "<table border=\"1\" class=\"dataframe\">\n",
       "  <thead>\n",
       "    <tr style=\"text-align: right;\">\n",
       "      <th></th>\n",
       "      <th>date</th>\n",
       "      <th>product_code</th>\n",
       "      <th>customer_code</th>\n",
       "      <th>sold_quantity</th>\n",
       "      <th>fiscal_year</th>\n",
       "    </tr>\n",
       "  </thead>\n",
       "  <tbody>\n",
       "    <tr>\n",
       "      <th>0</th>\n",
       "      <td>2017-09-01</td>\n",
       "      <td>A6218160101</td>\n",
       "      <td>70008169</td>\n",
       "      <td>81</td>\n",
       "      <td>2018</td>\n",
       "    </tr>\n",
       "    <tr>\n",
       "      <th>1</th>\n",
       "      <td>2017-09-01</td>\n",
       "      <td>A6218160101</td>\n",
       "      <td>90008165</td>\n",
       "      <td>157</td>\n",
       "      <td>2018</td>\n",
       "    </tr>\n",
       "    <tr>\n",
       "      <th>2</th>\n",
       "      <td>2017-09-01</td>\n",
       "      <td>A6218160101</td>\n",
       "      <td>90008166</td>\n",
       "      <td>126</td>\n",
       "      <td>2018</td>\n",
       "    </tr>\n",
       "    <tr>\n",
       "      <th>3</th>\n",
       "      <td>2017-09-01</td>\n",
       "      <td>A6218160101</td>\n",
       "      <td>90008167</td>\n",
       "      <td>160</td>\n",
       "      <td>2018</td>\n",
       "    </tr>\n",
       "    <tr>\n",
       "      <th>4</th>\n",
       "      <td>2017-09-01</td>\n",
       "      <td>A6218160101</td>\n",
       "      <td>70008170</td>\n",
       "      <td>120</td>\n",
       "      <td>2018</td>\n",
       "    </tr>\n",
       "  </tbody>\n",
       "</table>\n",
       "</div>"
      ],
      "text/plain": [
       "        date product_code  customer_code  sold_quantity  fiscal_year\n",
       "0 2017-09-01  A6218160101       70008169             81         2018\n",
       "1 2017-09-01  A6218160101       90008165            157         2018\n",
       "2 2017-09-01  A6218160101       90008166            126         2018\n",
       "3 2017-09-01  A6218160101       90008167            160         2018\n",
       "4 2017-09-01  A6218160101       70008170            120         2018"
      ]
     },
     "execution_count": 101,
     "metadata": {},
     "output_type": "execute_result"
    }
   ],
   "source": [
    "sc_fact_sales_monthly.head(5)"
   ]
  },
  {
   "cell_type": "code",
   "execution_count": 102,
   "id": "75385e1a-a51a-4180-8337-856b5fa7d6f3",
   "metadata": {},
   "outputs": [
    {
     "data": {
      "text/html": [
       "<div>\n",
       "<style scoped>\n",
       "    .dataframe tbody tr th:only-of-type {\n",
       "        vertical-align: middle;\n",
       "    }\n",
       "\n",
       "    .dataframe tbody tr th {\n",
       "        vertical-align: top;\n",
       "    }\n",
       "\n",
       "    .dataframe thead th {\n",
       "        text-align: right;\n",
       "    }\n",
       "</style>\n",
       "<table border=\"1\" class=\"dataframe\">\n",
       "  <thead>\n",
       "    <tr style=\"text-align: right;\">\n",
       "      <th></th>\n",
       "      <th>product_code</th>\n",
       "      <th>fiscal_year</th>\n",
       "      <th>gross_price</th>\n",
       "    </tr>\n",
       "  </thead>\n",
       "  <tbody>\n",
       "    <tr>\n",
       "      <th>0</th>\n",
       "      <td>A0118150101</td>\n",
       "      <td>2018</td>\n",
       "      <td>15.3952</td>\n",
       "    </tr>\n",
       "    <tr>\n",
       "      <th>1</th>\n",
       "      <td>A0118150101</td>\n",
       "      <td>2019</td>\n",
       "      <td>14.4392</td>\n",
       "    </tr>\n",
       "    <tr>\n",
       "      <th>2</th>\n",
       "      <td>A0118150101</td>\n",
       "      <td>2020</td>\n",
       "      <td>16.2323</td>\n",
       "    </tr>\n",
       "    <tr>\n",
       "      <th>3</th>\n",
       "      <td>A0118150101</td>\n",
       "      <td>2021</td>\n",
       "      <td>19.0573</td>\n",
       "    </tr>\n",
       "    <tr>\n",
       "      <th>4</th>\n",
       "      <td>A0118150102</td>\n",
       "      <td>2018</td>\n",
       "      <td>19.5875</td>\n",
       "    </tr>\n",
       "  </tbody>\n",
       "</table>\n",
       "</div>"
      ],
      "text/plain": [
       "  product_code  fiscal_year  gross_price\n",
       "0  A0118150101         2018      15.3952\n",
       "1  A0118150101         2019      14.4392\n",
       "2  A0118150101         2020      16.2323\n",
       "3  A0118150101         2021      19.0573\n",
       "4  A0118150102         2018      19.5875"
      ]
     },
     "execution_count": 102,
     "metadata": {},
     "output_type": "execute_result"
    }
   ],
   "source": [
    "sc_gross_price.head(5)"
   ]
  },
  {
   "cell_type": "code",
   "execution_count": 103,
   "id": "55e2be27-e89c-4b9a-b213-2371cf9b018e",
   "metadata": {},
   "outputs": [
    {
     "data": {
      "text/html": [
       "<div>\n",
       "<style scoped>\n",
       "    .dataframe tbody tr th:only-of-type {\n",
       "        vertical-align: middle;\n",
       "    }\n",
       "\n",
       "    .dataframe tbody tr th {\n",
       "        vertical-align: top;\n",
       "    }\n",
       "\n",
       "    .dataframe thead th {\n",
       "        text-align: right;\n",
       "    }\n",
       "</style>\n",
       "<table border=\"1\" class=\"dataframe\">\n",
       "  <thead>\n",
       "    <tr style=\"text-align: right;\">\n",
       "      <th></th>\n",
       "      <th>date</th>\n",
       "      <th>product_code</th>\n",
       "      <th>customer_code</th>\n",
       "      <th>sold_quantity</th>\n",
       "      <th>fiscal_year</th>\n",
       "      <th>gross_price</th>\n",
       "    </tr>\n",
       "  </thead>\n",
       "  <tbody>\n",
       "    <tr>\n",
       "      <th>0</th>\n",
       "      <td>2017-09-01</td>\n",
       "      <td>A6218160101</td>\n",
       "      <td>70008169</td>\n",
       "      <td>81</td>\n",
       "      <td>2018</td>\n",
       "      <td>13.2009</td>\n",
       "    </tr>\n",
       "    <tr>\n",
       "      <th>1</th>\n",
       "      <td>2017-09-01</td>\n",
       "      <td>A6218160101</td>\n",
       "      <td>90008165</td>\n",
       "      <td>157</td>\n",
       "      <td>2018</td>\n",
       "      <td>13.2009</td>\n",
       "    </tr>\n",
       "    <tr>\n",
       "      <th>2</th>\n",
       "      <td>2017-09-01</td>\n",
       "      <td>A6218160101</td>\n",
       "      <td>90008166</td>\n",
       "      <td>126</td>\n",
       "      <td>2018</td>\n",
       "      <td>13.2009</td>\n",
       "    </tr>\n",
       "    <tr>\n",
       "      <th>3</th>\n",
       "      <td>2017-09-01</td>\n",
       "      <td>A6218160101</td>\n",
       "      <td>90008167</td>\n",
       "      <td>160</td>\n",
       "      <td>2018</td>\n",
       "      <td>13.2009</td>\n",
       "    </tr>\n",
       "    <tr>\n",
       "      <th>4</th>\n",
       "      <td>2017-09-01</td>\n",
       "      <td>A6218160101</td>\n",
       "      <td>70008170</td>\n",
       "      <td>120</td>\n",
       "      <td>2018</td>\n",
       "      <td>13.2009</td>\n",
       "    </tr>\n",
       "  </tbody>\n",
       "</table>\n",
       "</div>"
      ],
      "text/plain": [
       "        date product_code  customer_code  sold_quantity  fiscal_year  \\\n",
       "0 2017-09-01  A6218160101       70008169             81         2018   \n",
       "1 2017-09-01  A6218160101       90008165            157         2018   \n",
       "2 2017-09-01  A6218160101       90008166            126         2018   \n",
       "3 2017-09-01  A6218160101       90008167            160         2018   \n",
       "4 2017-09-01  A6218160101       70008170            120         2018   \n",
       "\n",
       "   gross_price  \n",
       "0      13.2009  \n",
       "1      13.2009  \n",
       "2      13.2009  \n",
       "3      13.2009  \n",
       "4      13.2009  "
      ]
     },
     "execution_count": 103,
     "metadata": {},
     "output_type": "execute_result"
    }
   ],
   "source": [
    "# merge necessary tables\n",
    "\n",
    "merge = pd.merge(sc_fact_sales_monthly, sc_gross_price, how='left', on=['product_code', 'fiscal_year'])\n",
    "\n",
    "merge.head(5)"
   ]
  },
  {
   "cell_type": "code",
   "execution_count": 104,
   "id": "23cde1b4-65cb-464b-909b-a779987e8d4f",
   "metadata": {},
   "outputs": [
    {
     "data": {
      "text/html": [
       "<div>\n",
       "<style scoped>\n",
       "    .dataframe tbody tr th:only-of-type {\n",
       "        vertical-align: middle;\n",
       "    }\n",
       "\n",
       "    .dataframe tbody tr th {\n",
       "        vertical-align: top;\n",
       "    }\n",
       "\n",
       "    .dataframe thead th {\n",
       "        text-align: right;\n",
       "    }\n",
       "</style>\n",
       "<table border=\"1\" class=\"dataframe\">\n",
       "  <thead>\n",
       "    <tr style=\"text-align: right;\">\n",
       "      <th></th>\n",
       "      <th>date</th>\n",
       "      <th>product_code</th>\n",
       "      <th>customer_code</th>\n",
       "      <th>sold_quantity</th>\n",
       "      <th>fiscal_year</th>\n",
       "      <th>gross_price</th>\n",
       "      <th>gross_sales</th>\n",
       "    </tr>\n",
       "  </thead>\n",
       "  <tbody>\n",
       "    <tr>\n",
       "      <th>0</th>\n",
       "      <td>2017-09-01</td>\n",
       "      <td>A6218160101</td>\n",
       "      <td>70008169</td>\n",
       "      <td>81</td>\n",
       "      <td>2018</td>\n",
       "      <td>13.2009</td>\n",
       "      <td>1069.2729</td>\n",
       "    </tr>\n",
       "    <tr>\n",
       "      <th>1</th>\n",
       "      <td>2017-09-01</td>\n",
       "      <td>A6218160101</td>\n",
       "      <td>90008165</td>\n",
       "      <td>157</td>\n",
       "      <td>2018</td>\n",
       "      <td>13.2009</td>\n",
       "      <td>2072.5413</td>\n",
       "    </tr>\n",
       "    <tr>\n",
       "      <th>2</th>\n",
       "      <td>2017-09-01</td>\n",
       "      <td>A6218160101</td>\n",
       "      <td>90008166</td>\n",
       "      <td>126</td>\n",
       "      <td>2018</td>\n",
       "      <td>13.2009</td>\n",
       "      <td>1663.3134</td>\n",
       "    </tr>\n",
       "    <tr>\n",
       "      <th>3</th>\n",
       "      <td>2017-09-01</td>\n",
       "      <td>A6218160101</td>\n",
       "      <td>90008167</td>\n",
       "      <td>160</td>\n",
       "      <td>2018</td>\n",
       "      <td>13.2009</td>\n",
       "      <td>2112.1440</td>\n",
       "    </tr>\n",
       "    <tr>\n",
       "      <th>4</th>\n",
       "      <td>2017-09-01</td>\n",
       "      <td>A6218160101</td>\n",
       "      <td>70008170</td>\n",
       "      <td>120</td>\n",
       "      <td>2018</td>\n",
       "      <td>13.2009</td>\n",
       "      <td>1584.1080</td>\n",
       "    </tr>\n",
       "  </tbody>\n",
       "</table>\n",
       "</div>"
      ],
      "text/plain": [
       "        date product_code  customer_code  sold_quantity  fiscal_year  \\\n",
       "0 2017-09-01  A6218160101       70008169             81         2018   \n",
       "1 2017-09-01  A6218160101       90008165            157         2018   \n",
       "2 2017-09-01  A6218160101       90008166            126         2018   \n",
       "3 2017-09-01  A6218160101       90008167            160         2018   \n",
       "4 2017-09-01  A6218160101       70008170            120         2018   \n",
       "\n",
       "   gross_price  gross_sales  \n",
       "0      13.2009    1069.2729  \n",
       "1      13.2009    2072.5413  \n",
       "2      13.2009    1663.3134  \n",
       "3      13.2009    2112.1440  \n",
       "4      13.2009    1584.1080  "
      ]
     },
     "execution_count": 104,
     "metadata": {},
     "output_type": "execute_result"
    }
   ],
   "source": [
    "# calculate gross_sales\n",
    "\n",
    "merge['gross_sales'] = merge['gross_price'] * merge['sold_quantity']\n",
    "\n",
    "merge.head(5)"
   ]
  },
  {
   "cell_type": "code",
   "execution_count": 105,
   "id": "4253964e-b8b9-4518-86ad-88f0712e27f6",
   "metadata": {},
   "outputs": [
    {
     "data": {
      "text/html": [
       "<div>\n",
       "<style scoped>\n",
       "    .dataframe tbody tr th:only-of-type {\n",
       "        vertical-align: middle;\n",
       "    }\n",
       "\n",
       "    .dataframe tbody tr th {\n",
       "        vertical-align: top;\n",
       "    }\n",
       "\n",
       "    .dataframe thead th {\n",
       "        text-align: right;\n",
       "    }\n",
       "</style>\n",
       "<table border=\"1\" class=\"dataframe\">\n",
       "  <thead>\n",
       "    <tr style=\"text-align: right;\">\n",
       "      <th></th>\n",
       "      <th>date</th>\n",
       "      <th>product_code</th>\n",
       "      <th>customer_code</th>\n",
       "      <th>sold_quantity</th>\n",
       "      <th>fiscal_year</th>\n",
       "      <th>gross_sales</th>\n",
       "    </tr>\n",
       "  </thead>\n",
       "  <tbody>\n",
       "    <tr>\n",
       "      <th>0</th>\n",
       "      <td>2017-09-01</td>\n",
       "      <td>A6218160101</td>\n",
       "      <td>70008169</td>\n",
       "      <td>81</td>\n",
       "      <td>2018</td>\n",
       "      <td>1069.2729</td>\n",
       "    </tr>\n",
       "    <tr>\n",
       "      <th>1</th>\n",
       "      <td>2017-09-01</td>\n",
       "      <td>A6218160101</td>\n",
       "      <td>90008165</td>\n",
       "      <td>157</td>\n",
       "      <td>2018</td>\n",
       "      <td>2072.5413</td>\n",
       "    </tr>\n",
       "    <tr>\n",
       "      <th>2</th>\n",
       "      <td>2017-09-01</td>\n",
       "      <td>A6218160101</td>\n",
       "      <td>90008166</td>\n",
       "      <td>126</td>\n",
       "      <td>2018</td>\n",
       "      <td>1663.3134</td>\n",
       "    </tr>\n",
       "    <tr>\n",
       "      <th>3</th>\n",
       "      <td>2017-09-01</td>\n",
       "      <td>A6218160101</td>\n",
       "      <td>90008167</td>\n",
       "      <td>160</td>\n",
       "      <td>2018</td>\n",
       "      <td>2112.1440</td>\n",
       "    </tr>\n",
       "    <tr>\n",
       "      <th>4</th>\n",
       "      <td>2017-09-01</td>\n",
       "      <td>A6218160101</td>\n",
       "      <td>70008170</td>\n",
       "      <td>120</td>\n",
       "      <td>2018</td>\n",
       "      <td>1584.1080</td>\n",
       "    </tr>\n",
       "  </tbody>\n",
       "</table>\n",
       "</div>"
      ],
      "text/plain": [
       "        date product_code  customer_code  sold_quantity  fiscal_year  \\\n",
       "0 2017-09-01  A6218160101       70008169             81         2018   \n",
       "1 2017-09-01  A6218160101       90008165            157         2018   \n",
       "2 2017-09-01  A6218160101       90008166            126         2018   \n",
       "3 2017-09-01  A6218160101       90008167            160         2018   \n",
       "4 2017-09-01  A6218160101       70008170            120         2018   \n",
       "\n",
       "   gross_sales  \n",
       "0    1069.2729  \n",
       "1    2072.5413  \n",
       "2    1663.3134  \n",
       "3    2112.1440  \n",
       "4    1584.1080  "
      ]
     },
     "execution_count": 105,
     "metadata": {},
     "output_type": "execute_result"
    }
   ],
   "source": [
    "# save gross sales into sc_fact_sales_monthly\n",
    "\n",
    "sc_fact_sales_monthly = merge.drop('gross_price', axis=1).copy()\n",
    "\n",
    "sc_fact_sales_monthly.head(5)"
   ]
  },
  {
   "cell_type": "markdown",
   "id": "9214546f-b312-4c16-b1d9-e0880224c412",
   "metadata": {
    "tags": []
   },
   "source": [
    "### net_invoice_sales"
   ]
  },
  {
   "cell_type": "code",
   "execution_count": 106,
   "id": "d177a29d-2d6c-40f1-8b47-dec70e0e0160",
   "metadata": {
    "tags": []
   },
   "outputs": [
    {
     "data": {
      "text/html": [
       "<div>\n",
       "<style scoped>\n",
       "    .dataframe tbody tr th:only-of-type {\n",
       "        vertical-align: middle;\n",
       "    }\n",
       "\n",
       "    .dataframe tbody tr th {\n",
       "        vertical-align: top;\n",
       "    }\n",
       "\n",
       "    .dataframe thead th {\n",
       "        text-align: right;\n",
       "    }\n",
       "</style>\n",
       "<table border=\"1\" class=\"dataframe\">\n",
       "  <thead>\n",
       "    <tr style=\"text-align: right;\">\n",
       "      <th></th>\n",
       "      <th>date</th>\n",
       "      <th>product_code</th>\n",
       "      <th>customer_code</th>\n",
       "      <th>sold_quantity</th>\n",
       "      <th>fiscal_year</th>\n",
       "      <th>gross_sales</th>\n",
       "    </tr>\n",
       "  </thead>\n",
       "  <tbody>\n",
       "    <tr>\n",
       "      <th>0</th>\n",
       "      <td>2017-09-01</td>\n",
       "      <td>A6218160101</td>\n",
       "      <td>70008169</td>\n",
       "      <td>81</td>\n",
       "      <td>2018</td>\n",
       "      <td>1069.2729</td>\n",
       "    </tr>\n",
       "    <tr>\n",
       "      <th>1</th>\n",
       "      <td>2017-09-01</td>\n",
       "      <td>A6218160101</td>\n",
       "      <td>90008165</td>\n",
       "      <td>157</td>\n",
       "      <td>2018</td>\n",
       "      <td>2072.5413</td>\n",
       "    </tr>\n",
       "    <tr>\n",
       "      <th>2</th>\n",
       "      <td>2017-09-01</td>\n",
       "      <td>A6218160101</td>\n",
       "      <td>90008166</td>\n",
       "      <td>126</td>\n",
       "      <td>2018</td>\n",
       "      <td>1663.3134</td>\n",
       "    </tr>\n",
       "    <tr>\n",
       "      <th>3</th>\n",
       "      <td>2017-09-01</td>\n",
       "      <td>A6218160101</td>\n",
       "      <td>90008167</td>\n",
       "      <td>160</td>\n",
       "      <td>2018</td>\n",
       "      <td>2112.1440</td>\n",
       "    </tr>\n",
       "    <tr>\n",
       "      <th>4</th>\n",
       "      <td>2017-09-01</td>\n",
       "      <td>A6218160101</td>\n",
       "      <td>70008170</td>\n",
       "      <td>120</td>\n",
       "      <td>2018</td>\n",
       "      <td>1584.1080</td>\n",
       "    </tr>\n",
       "  </tbody>\n",
       "</table>\n",
       "</div>"
      ],
      "text/plain": [
       "        date product_code  customer_code  sold_quantity  fiscal_year  \\\n",
       "0 2017-09-01  A6218160101       70008169             81         2018   \n",
       "1 2017-09-01  A6218160101       90008165            157         2018   \n",
       "2 2017-09-01  A6218160101       90008166            126         2018   \n",
       "3 2017-09-01  A6218160101       90008167            160         2018   \n",
       "4 2017-09-01  A6218160101       70008170            120         2018   \n",
       "\n",
       "   gross_sales  \n",
       "0    1069.2729  \n",
       "1    2072.5413  \n",
       "2    1663.3134  \n",
       "3    2112.1440  \n",
       "4    1584.1080  "
      ]
     },
     "execution_count": 106,
     "metadata": {},
     "output_type": "execute_result"
    }
   ],
   "source": [
    "sc_fact_sales_monthly.head(5)"
   ]
  },
  {
   "cell_type": "code",
   "execution_count": 107,
   "id": "ce1445d5-2b69-44c7-8bff-5b4ec9e4d1ba",
   "metadata": {
    "tags": []
   },
   "outputs": [
    {
     "data": {
      "text/html": [
       "<div>\n",
       "<style scoped>\n",
       "    .dataframe tbody tr th:only-of-type {\n",
       "        vertical-align: middle;\n",
       "    }\n",
       "\n",
       "    .dataframe tbody tr th {\n",
       "        vertical-align: top;\n",
       "    }\n",
       "\n",
       "    .dataframe thead th {\n",
       "        text-align: right;\n",
       "    }\n",
       "</style>\n",
       "<table border=\"1\" class=\"dataframe\">\n",
       "  <thead>\n",
       "    <tr style=\"text-align: right;\">\n",
       "      <th></th>\n",
       "      <th>customer_code</th>\n",
       "      <th>fiscal_year</th>\n",
       "      <th>pre_invoice_discount_pct</th>\n",
       "    </tr>\n",
       "  </thead>\n",
       "  <tbody>\n",
       "    <tr>\n",
       "      <th>0</th>\n",
       "      <td>70002017</td>\n",
       "      <td>2018</td>\n",
       "      <td>0.082442</td>\n",
       "    </tr>\n",
       "    <tr>\n",
       "      <th>1</th>\n",
       "      <td>70002017</td>\n",
       "      <td>2019</td>\n",
       "      <td>0.077659</td>\n",
       "    </tr>\n",
       "    <tr>\n",
       "      <th>2</th>\n",
       "      <td>70002017</td>\n",
       "      <td>2020</td>\n",
       "      <td>0.073458</td>\n",
       "    </tr>\n",
       "    <tr>\n",
       "      <th>3</th>\n",
       "      <td>70002017</td>\n",
       "      <td>2021</td>\n",
       "      <td>0.070269</td>\n",
       "    </tr>\n",
       "    <tr>\n",
       "      <th>4</th>\n",
       "      <td>70002017</td>\n",
       "      <td>2022</td>\n",
       "      <td>0.105678</td>\n",
       "    </tr>\n",
       "  </tbody>\n",
       "</table>\n",
       "</div>"
      ],
      "text/plain": [
       "   customer_code  fiscal_year  pre_invoice_discount_pct\n",
       "0       70002017         2018                  0.082442\n",
       "1       70002017         2019                  0.077659\n",
       "2       70002017         2020                  0.073458\n",
       "3       70002017         2021                  0.070269\n",
       "4       70002017         2022                  0.105678"
      ]
     },
     "execution_count": 107,
     "metadata": {},
     "output_type": "execute_result"
    }
   ],
   "source": [
    "sc_pre_invoice_deductions.head(5)"
   ]
  },
  {
   "cell_type": "code",
   "execution_count": 108,
   "id": "0bd27184-82cd-4cf1-ae56-0c84fd5415b0",
   "metadata": {
    "tags": []
   },
   "outputs": [
    {
     "data": {
      "text/html": [
       "<div>\n",
       "<style scoped>\n",
       "    .dataframe tbody tr th:only-of-type {\n",
       "        vertical-align: middle;\n",
       "    }\n",
       "\n",
       "    .dataframe tbody tr th {\n",
       "        vertical-align: top;\n",
       "    }\n",
       "\n",
       "    .dataframe thead th {\n",
       "        text-align: right;\n",
       "    }\n",
       "</style>\n",
       "<table border=\"1\" class=\"dataframe\">\n",
       "  <thead>\n",
       "    <tr style=\"text-align: right;\">\n",
       "      <th></th>\n",
       "      <th>date</th>\n",
       "      <th>product_code</th>\n",
       "      <th>customer_code</th>\n",
       "      <th>sold_quantity</th>\n",
       "      <th>fiscal_year</th>\n",
       "      <th>gross_sales</th>\n",
       "      <th>pre_invoice_discount_pct</th>\n",
       "    </tr>\n",
       "  </thead>\n",
       "  <tbody>\n",
       "    <tr>\n",
       "      <th>0</th>\n",
       "      <td>2017-09-01</td>\n",
       "      <td>A6218160101</td>\n",
       "      <td>70008169</td>\n",
       "      <td>81</td>\n",
       "      <td>2018</td>\n",
       "      <td>1069.2729</td>\n",
       "      <td>0.095349</td>\n",
       "    </tr>\n",
       "    <tr>\n",
       "      <th>1</th>\n",
       "      <td>2017-09-01</td>\n",
       "      <td>A6218160101</td>\n",
       "      <td>90008165</td>\n",
       "      <td>157</td>\n",
       "      <td>2018</td>\n",
       "      <td>2072.5413</td>\n",
       "      <td>0.284878</td>\n",
       "    </tr>\n",
       "    <tr>\n",
       "      <th>2</th>\n",
       "      <td>2017-09-01</td>\n",
       "      <td>A6218160101</td>\n",
       "      <td>90008166</td>\n",
       "      <td>126</td>\n",
       "      <td>2018</td>\n",
       "      <td>1663.3134</td>\n",
       "      <td>0.288379</td>\n",
       "    </tr>\n",
       "    <tr>\n",
       "      <th>3</th>\n",
       "      <td>2017-09-01</td>\n",
       "      <td>A6218160101</td>\n",
       "      <td>90008167</td>\n",
       "      <td>160</td>\n",
       "      <td>2018</td>\n",
       "      <td>2112.1440</td>\n",
       "      <td>0.194697</td>\n",
       "    </tr>\n",
       "    <tr>\n",
       "      <th>4</th>\n",
       "      <td>2017-09-01</td>\n",
       "      <td>A6218160101</td>\n",
       "      <td>70008170</td>\n",
       "      <td>120</td>\n",
       "      <td>2018</td>\n",
       "      <td>1584.1080</td>\n",
       "      <td>0.189642</td>\n",
       "    </tr>\n",
       "  </tbody>\n",
       "</table>\n",
       "</div>"
      ],
      "text/plain": [
       "        date product_code  customer_code  sold_quantity  fiscal_year  \\\n",
       "0 2017-09-01  A6218160101       70008169             81         2018   \n",
       "1 2017-09-01  A6218160101       90008165            157         2018   \n",
       "2 2017-09-01  A6218160101       90008166            126         2018   \n",
       "3 2017-09-01  A6218160101       90008167            160         2018   \n",
       "4 2017-09-01  A6218160101       70008170            120         2018   \n",
       "\n",
       "   gross_sales  pre_invoice_discount_pct  \n",
       "0    1069.2729                  0.095349  \n",
       "1    2072.5413                  0.284878  \n",
       "2    1663.3134                  0.288379  \n",
       "3    2112.1440                  0.194697  \n",
       "4    1584.1080                  0.189642  "
      ]
     },
     "execution_count": 108,
     "metadata": {},
     "output_type": "execute_result"
    }
   ],
   "source": [
    "# merge necessary tables\n",
    "\n",
    "merge = pd.merge(sc_fact_sales_monthly, sc_pre_invoice_deductions, how='left', on=['customer_code', 'fiscal_year'])\n",
    "\n",
    "merge.head(5)"
   ]
  },
  {
   "cell_type": "code",
   "execution_count": 109,
   "id": "62ba1fb5-4181-4209-802b-97b82b2caa8f",
   "metadata": {
    "tags": []
   },
   "outputs": [
    {
     "data": {
      "text/html": [
       "<div>\n",
       "<style scoped>\n",
       "    .dataframe tbody tr th:only-of-type {\n",
       "        vertical-align: middle;\n",
       "    }\n",
       "\n",
       "    .dataframe tbody tr th {\n",
       "        vertical-align: top;\n",
       "    }\n",
       "\n",
       "    .dataframe thead th {\n",
       "        text-align: right;\n",
       "    }\n",
       "</style>\n",
       "<table border=\"1\" class=\"dataframe\">\n",
       "  <thead>\n",
       "    <tr style=\"text-align: right;\">\n",
       "      <th></th>\n",
       "      <th>date</th>\n",
       "      <th>product_code</th>\n",
       "      <th>customer_code</th>\n",
       "      <th>sold_quantity</th>\n",
       "      <th>fiscal_year</th>\n",
       "      <th>gross_sales</th>\n",
       "      <th>pre_invoice_discount_pct</th>\n",
       "      <th>pre_invoice_discount_amount</th>\n",
       "      <th>net_invoice_sales</th>\n",
       "    </tr>\n",
       "  </thead>\n",
       "  <tbody>\n",
       "    <tr>\n",
       "      <th>0</th>\n",
       "      <td>2017-09-01</td>\n",
       "      <td>A6218160101</td>\n",
       "      <td>70008169</td>\n",
       "      <td>81</td>\n",
       "      <td>2018</td>\n",
       "      <td>1069.2729</td>\n",
       "      <td>0.095349</td>\n",
       "      <td>101.953761</td>\n",
       "      <td>967.319139</td>\n",
       "    </tr>\n",
       "    <tr>\n",
       "      <th>1</th>\n",
       "      <td>2017-09-01</td>\n",
       "      <td>A6218160101</td>\n",
       "      <td>90008165</td>\n",
       "      <td>157</td>\n",
       "      <td>2018</td>\n",
       "      <td>2072.5413</td>\n",
       "      <td>0.284878</td>\n",
       "      <td>590.422151</td>\n",
       "      <td>1482.119149</td>\n",
       "    </tr>\n",
       "    <tr>\n",
       "      <th>2</th>\n",
       "      <td>2017-09-01</td>\n",
       "      <td>A6218160101</td>\n",
       "      <td>90008166</td>\n",
       "      <td>126</td>\n",
       "      <td>2018</td>\n",
       "      <td>1663.3134</td>\n",
       "      <td>0.288379</td>\n",
       "      <td>479.664169</td>\n",
       "      <td>1183.649231</td>\n",
       "    </tr>\n",
       "    <tr>\n",
       "      <th>3</th>\n",
       "      <td>2017-09-01</td>\n",
       "      <td>A6218160101</td>\n",
       "      <td>90008167</td>\n",
       "      <td>160</td>\n",
       "      <td>2018</td>\n",
       "      <td>2112.1440</td>\n",
       "      <td>0.194697</td>\n",
       "      <td>411.229072</td>\n",
       "      <td>1700.914928</td>\n",
       "    </tr>\n",
       "    <tr>\n",
       "      <th>4</th>\n",
       "      <td>2017-09-01</td>\n",
       "      <td>A6218160101</td>\n",
       "      <td>70008170</td>\n",
       "      <td>120</td>\n",
       "      <td>2018</td>\n",
       "      <td>1584.1080</td>\n",
       "      <td>0.189642</td>\n",
       "      <td>300.414113</td>\n",
       "      <td>1283.693887</td>\n",
       "    </tr>\n",
       "  </tbody>\n",
       "</table>\n",
       "</div>"
      ],
      "text/plain": [
       "        date product_code  customer_code  sold_quantity  fiscal_year  \\\n",
       "0 2017-09-01  A6218160101       70008169             81         2018   \n",
       "1 2017-09-01  A6218160101       90008165            157         2018   \n",
       "2 2017-09-01  A6218160101       90008166            126         2018   \n",
       "3 2017-09-01  A6218160101       90008167            160         2018   \n",
       "4 2017-09-01  A6218160101       70008170            120         2018   \n",
       "\n",
       "   gross_sales  pre_invoice_discount_pct  pre_invoice_discount_amount  \\\n",
       "0    1069.2729                  0.095349                   101.953761   \n",
       "1    2072.5413                  0.284878                   590.422151   \n",
       "2    1663.3134                  0.288379                   479.664169   \n",
       "3    2112.1440                  0.194697                   411.229072   \n",
       "4    1584.1080                  0.189642                   300.414113   \n",
       "\n",
       "   net_invoice_sales  \n",
       "0         967.319139  \n",
       "1        1482.119149  \n",
       "2        1183.649231  \n",
       "3        1700.914928  \n",
       "4        1283.693887  "
      ]
     },
     "execution_count": 109,
     "metadata": {},
     "output_type": "execute_result"
    }
   ],
   "source": [
    "# calculate net_invoice_sales\n",
    "\n",
    "merge['pre_invoice_discount_amount'] = merge['gross_sales'] * merge['pre_invoice_discount_pct']\n",
    "merge['net_invoice_sales'] = merge['gross_sales'] - merge['pre_invoice_discount_amount']\n",
    "\n",
    "merge.head(5)"
   ]
  },
  {
   "cell_type": "code",
   "execution_count": 110,
   "id": "742d9cb4-23c6-4118-a316-f8b7927f63b8",
   "metadata": {
    "tags": []
   },
   "outputs": [
    {
     "data": {
      "text/html": [
       "<div>\n",
       "<style scoped>\n",
       "    .dataframe tbody tr th:only-of-type {\n",
       "        vertical-align: middle;\n",
       "    }\n",
       "\n",
       "    .dataframe tbody tr th {\n",
       "        vertical-align: top;\n",
       "    }\n",
       "\n",
       "    .dataframe thead th {\n",
       "        text-align: right;\n",
       "    }\n",
       "</style>\n",
       "<table border=\"1\" class=\"dataframe\">\n",
       "  <thead>\n",
       "    <tr style=\"text-align: right;\">\n",
       "      <th></th>\n",
       "      <th>date</th>\n",
       "      <th>product_code</th>\n",
       "      <th>customer_code</th>\n",
       "      <th>sold_quantity</th>\n",
       "      <th>fiscal_year</th>\n",
       "      <th>gross_sales</th>\n",
       "      <th>net_invoice_sales</th>\n",
       "    </tr>\n",
       "  </thead>\n",
       "  <tbody>\n",
       "    <tr>\n",
       "      <th>0</th>\n",
       "      <td>2017-09-01</td>\n",
       "      <td>A6218160101</td>\n",
       "      <td>70008169</td>\n",
       "      <td>81</td>\n",
       "      <td>2018</td>\n",
       "      <td>1069.2729</td>\n",
       "      <td>967.319139</td>\n",
       "    </tr>\n",
       "    <tr>\n",
       "      <th>1</th>\n",
       "      <td>2017-09-01</td>\n",
       "      <td>A6218160101</td>\n",
       "      <td>90008165</td>\n",
       "      <td>157</td>\n",
       "      <td>2018</td>\n",
       "      <td>2072.5413</td>\n",
       "      <td>1482.119149</td>\n",
       "    </tr>\n",
       "    <tr>\n",
       "      <th>2</th>\n",
       "      <td>2017-09-01</td>\n",
       "      <td>A6218160101</td>\n",
       "      <td>90008166</td>\n",
       "      <td>126</td>\n",
       "      <td>2018</td>\n",
       "      <td>1663.3134</td>\n",
       "      <td>1183.649231</td>\n",
       "    </tr>\n",
       "    <tr>\n",
       "      <th>3</th>\n",
       "      <td>2017-09-01</td>\n",
       "      <td>A6218160101</td>\n",
       "      <td>90008167</td>\n",
       "      <td>160</td>\n",
       "      <td>2018</td>\n",
       "      <td>2112.1440</td>\n",
       "      <td>1700.914928</td>\n",
       "    </tr>\n",
       "    <tr>\n",
       "      <th>4</th>\n",
       "      <td>2017-09-01</td>\n",
       "      <td>A6218160101</td>\n",
       "      <td>70008170</td>\n",
       "      <td>120</td>\n",
       "      <td>2018</td>\n",
       "      <td>1584.1080</td>\n",
       "      <td>1283.693887</td>\n",
       "    </tr>\n",
       "  </tbody>\n",
       "</table>\n",
       "</div>"
      ],
      "text/plain": [
       "        date product_code  customer_code  sold_quantity  fiscal_year  \\\n",
       "0 2017-09-01  A6218160101       70008169             81         2018   \n",
       "1 2017-09-01  A6218160101       90008165            157         2018   \n",
       "2 2017-09-01  A6218160101       90008166            126         2018   \n",
       "3 2017-09-01  A6218160101       90008167            160         2018   \n",
       "4 2017-09-01  A6218160101       70008170            120         2018   \n",
       "\n",
       "   gross_sales  net_invoice_sales  \n",
       "0    1069.2729         967.319139  \n",
       "1    2072.5413        1482.119149  \n",
       "2    1663.3134        1183.649231  \n",
       "3    2112.1440        1700.914928  \n",
       "4    1584.1080        1283.693887  "
      ]
     },
     "execution_count": 110,
     "metadata": {},
     "output_type": "execute_result"
    }
   ],
   "source": [
    "# save net_invoice_sales into sc_fact_sales_monthly\n",
    "\n",
    "sc_fact_sales_monthly = merge.drop(['pre_invoice_discount_pct', 'pre_invoice_discount_amount'], axis=1).copy()\n",
    "\n",
    "sc_fact_sales_monthly.head(5)"
   ]
  },
  {
   "cell_type": "markdown",
   "id": "95633b33-83f5-4bac-9e94-21bc25420186",
   "metadata": {
    "tags": []
   },
   "source": [
    "### net_sales"
   ]
  },
  {
   "cell_type": "code",
   "execution_count": 111,
   "id": "9bec0311-9e63-42ee-a1a7-90361b3e6fc2",
   "metadata": {
    "tags": []
   },
   "outputs": [
    {
     "data": {
      "text/html": [
       "<div>\n",
       "<style scoped>\n",
       "    .dataframe tbody tr th:only-of-type {\n",
       "        vertical-align: middle;\n",
       "    }\n",
       "\n",
       "    .dataframe tbody tr th {\n",
       "        vertical-align: top;\n",
       "    }\n",
       "\n",
       "    .dataframe thead th {\n",
       "        text-align: right;\n",
       "    }\n",
       "</style>\n",
       "<table border=\"1\" class=\"dataframe\">\n",
       "  <thead>\n",
       "    <tr style=\"text-align: right;\">\n",
       "      <th></th>\n",
       "      <th>date</th>\n",
       "      <th>product_code</th>\n",
       "      <th>customer_code</th>\n",
       "      <th>sold_quantity</th>\n",
       "      <th>fiscal_year</th>\n",
       "      <th>gross_sales</th>\n",
       "      <th>net_invoice_sales</th>\n",
       "    </tr>\n",
       "  </thead>\n",
       "  <tbody>\n",
       "    <tr>\n",
       "      <th>0</th>\n",
       "      <td>2017-09-01</td>\n",
       "      <td>A6218160101</td>\n",
       "      <td>70008169</td>\n",
       "      <td>81</td>\n",
       "      <td>2018</td>\n",
       "      <td>1069.2729</td>\n",
       "      <td>967.319139</td>\n",
       "    </tr>\n",
       "    <tr>\n",
       "      <th>1</th>\n",
       "      <td>2017-09-01</td>\n",
       "      <td>A6218160101</td>\n",
       "      <td>90008165</td>\n",
       "      <td>157</td>\n",
       "      <td>2018</td>\n",
       "      <td>2072.5413</td>\n",
       "      <td>1482.119149</td>\n",
       "    </tr>\n",
       "    <tr>\n",
       "      <th>2</th>\n",
       "      <td>2017-09-01</td>\n",
       "      <td>A6218160101</td>\n",
       "      <td>90008166</td>\n",
       "      <td>126</td>\n",
       "      <td>2018</td>\n",
       "      <td>1663.3134</td>\n",
       "      <td>1183.649231</td>\n",
       "    </tr>\n",
       "    <tr>\n",
       "      <th>3</th>\n",
       "      <td>2017-09-01</td>\n",
       "      <td>A6218160101</td>\n",
       "      <td>90008167</td>\n",
       "      <td>160</td>\n",
       "      <td>2018</td>\n",
       "      <td>2112.1440</td>\n",
       "      <td>1700.914928</td>\n",
       "    </tr>\n",
       "    <tr>\n",
       "      <th>4</th>\n",
       "      <td>2017-09-01</td>\n",
       "      <td>A6218160101</td>\n",
       "      <td>70008170</td>\n",
       "      <td>120</td>\n",
       "      <td>2018</td>\n",
       "      <td>1584.1080</td>\n",
       "      <td>1283.693887</td>\n",
       "    </tr>\n",
       "  </tbody>\n",
       "</table>\n",
       "</div>"
      ],
      "text/plain": [
       "        date product_code  customer_code  sold_quantity  fiscal_year  \\\n",
       "0 2017-09-01  A6218160101       70008169             81         2018   \n",
       "1 2017-09-01  A6218160101       90008165            157         2018   \n",
       "2 2017-09-01  A6218160101       90008166            126         2018   \n",
       "3 2017-09-01  A6218160101       90008167            160         2018   \n",
       "4 2017-09-01  A6218160101       70008170            120         2018   \n",
       "\n",
       "   gross_sales  net_invoice_sales  \n",
       "0    1069.2729         967.319139  \n",
       "1    2072.5413        1482.119149  \n",
       "2    1663.3134        1183.649231  \n",
       "3    2112.1440        1700.914928  \n",
       "4    1584.1080        1283.693887  "
      ]
     },
     "execution_count": 111,
     "metadata": {},
     "output_type": "execute_result"
    }
   ],
   "source": [
    "sc_fact_sales_monthly.head(5)"
   ]
  },
  {
   "cell_type": "code",
   "execution_count": 112,
   "id": "9dd44ad2-f839-4b0a-8cd4-34dbd365e884",
   "metadata": {
    "tags": []
   },
   "outputs": [
    {
     "data": {
      "text/html": [
       "<div>\n",
       "<style scoped>\n",
       "    .dataframe tbody tr th:only-of-type {\n",
       "        vertical-align: middle;\n",
       "    }\n",
       "\n",
       "    .dataframe tbody tr th {\n",
       "        vertical-align: top;\n",
       "    }\n",
       "\n",
       "    .dataframe thead th {\n",
       "        text-align: right;\n",
       "    }\n",
       "</style>\n",
       "<table border=\"1\" class=\"dataframe\">\n",
       "  <thead>\n",
       "    <tr style=\"text-align: right;\">\n",
       "      <th></th>\n",
       "      <th>customer_code</th>\n",
       "      <th>product_code</th>\n",
       "      <th>date</th>\n",
       "      <th>discounts_pct</th>\n",
       "      <th>other_deductions_pct</th>\n",
       "      <th>fiscal_year</th>\n",
       "    </tr>\n",
       "  </thead>\n",
       "  <tbody>\n",
       "    <tr>\n",
       "      <th>0</th>\n",
       "      <td>70002017</td>\n",
       "      <td>A0118150101</td>\n",
       "      <td>2017-09-01</td>\n",
       "      <td>0.265957</td>\n",
       "      <td>0.071871</td>\n",
       "      <td>2018</td>\n",
       "    </tr>\n",
       "    <tr>\n",
       "      <th>1</th>\n",
       "      <td>70002017</td>\n",
       "      <td>A0118150101</td>\n",
       "      <td>2017-10-01</td>\n",
       "      <td>0.308992</td>\n",
       "      <td>0.097627</td>\n",
       "      <td>2018</td>\n",
       "    </tr>\n",
       "    <tr>\n",
       "      <th>2</th>\n",
       "      <td>70002017</td>\n",
       "      <td>A0118150101</td>\n",
       "      <td>2017-11-01</td>\n",
       "      <td>0.331268</td>\n",
       "      <td>0.075211</td>\n",
       "      <td>2018</td>\n",
       "    </tr>\n",
       "    <tr>\n",
       "      <th>3</th>\n",
       "      <td>70002017</td>\n",
       "      <td>A0118150101</td>\n",
       "      <td>2018-01-01</td>\n",
       "      <td>0.295792</td>\n",
       "      <td>0.072036</td>\n",
       "      <td>2018</td>\n",
       "    </tr>\n",
       "    <tr>\n",
       "      <th>4</th>\n",
       "      <td>70002017</td>\n",
       "      <td>A0118150101</td>\n",
       "      <td>2018-02-01</td>\n",
       "      <td>0.320787</td>\n",
       "      <td>0.079335</td>\n",
       "      <td>2018</td>\n",
       "    </tr>\n",
       "  </tbody>\n",
       "</table>\n",
       "</div>"
      ],
      "text/plain": [
       "   customer_code product_code       date  discounts_pct  other_deductions_pct  \\\n",
       "0       70002017  A0118150101 2017-09-01       0.265957              0.071871   \n",
       "1       70002017  A0118150101 2017-10-01       0.308992              0.097627   \n",
       "2       70002017  A0118150101 2017-11-01       0.331268              0.075211   \n",
       "3       70002017  A0118150101 2018-01-01       0.295792              0.072036   \n",
       "4       70002017  A0118150101 2018-02-01       0.320787              0.079335   \n",
       "\n",
       "   fiscal_year  \n",
       "0         2018  \n",
       "1         2018  \n",
       "2         2018  \n",
       "3         2018  \n",
       "4         2018  "
      ]
     },
     "execution_count": 112,
     "metadata": {},
     "output_type": "execute_result"
    }
   ],
   "source": [
    "sc_post_invoice_deductions.head(5)"
   ]
  },
  {
   "cell_type": "code",
   "execution_count": 113,
   "id": "f6ef4fe9-b432-4184-aaa6-0a56a0604500",
   "metadata": {
    "tags": []
   },
   "outputs": [
    {
     "data": {
      "text/html": [
       "<div>\n",
       "<style scoped>\n",
       "    .dataframe tbody tr th:only-of-type {\n",
       "        vertical-align: middle;\n",
       "    }\n",
       "\n",
       "    .dataframe tbody tr th {\n",
       "        vertical-align: top;\n",
       "    }\n",
       "\n",
       "    .dataframe thead th {\n",
       "        text-align: right;\n",
       "    }\n",
       "</style>\n",
       "<table border=\"1\" class=\"dataframe\">\n",
       "  <thead>\n",
       "    <tr style=\"text-align: right;\">\n",
       "      <th></th>\n",
       "      <th>date</th>\n",
       "      <th>product_code</th>\n",
       "      <th>customer_code</th>\n",
       "      <th>sold_quantity</th>\n",
       "      <th>fiscal_year</th>\n",
       "      <th>gross_sales</th>\n",
       "      <th>net_invoice_sales</th>\n",
       "      <th>discounts_pct</th>\n",
       "      <th>other_deductions_pct</th>\n",
       "    </tr>\n",
       "  </thead>\n",
       "  <tbody>\n",
       "    <tr>\n",
       "      <th>0</th>\n",
       "      <td>2017-09-01</td>\n",
       "      <td>A6218160101</td>\n",
       "      <td>70008169</td>\n",
       "      <td>81</td>\n",
       "      <td>2018</td>\n",
       "      <td>1069.2729</td>\n",
       "      <td>967.319139</td>\n",
       "      <td>0.169477</td>\n",
       "      <td>0.104849</td>\n",
       "    </tr>\n",
       "    <tr>\n",
       "      <th>1</th>\n",
       "      <td>2017-09-01</td>\n",
       "      <td>A6218160101</td>\n",
       "      <td>90008165</td>\n",
       "      <td>157</td>\n",
       "      <td>2018</td>\n",
       "      <td>2072.5413</td>\n",
       "      <td>1482.119149</td>\n",
       "      <td>0.178271</td>\n",
       "      <td>0.116888</td>\n",
       "    </tr>\n",
       "    <tr>\n",
       "      <th>2</th>\n",
       "      <td>2017-09-01</td>\n",
       "      <td>A6218160101</td>\n",
       "      <td>90008166</td>\n",
       "      <td>126</td>\n",
       "      <td>2018</td>\n",
       "      <td>1663.3134</td>\n",
       "      <td>1183.649231</td>\n",
       "      <td>0.209655</td>\n",
       "      <td>0.112575</td>\n",
       "    </tr>\n",
       "    <tr>\n",
       "      <th>3</th>\n",
       "      <td>2017-09-01</td>\n",
       "      <td>A6218160101</td>\n",
       "      <td>90008167</td>\n",
       "      <td>160</td>\n",
       "      <td>2018</td>\n",
       "      <td>2112.1440</td>\n",
       "      <td>1700.914928</td>\n",
       "      <td>0.202509</td>\n",
       "      <td>0.130852</td>\n",
       "    </tr>\n",
       "    <tr>\n",
       "      <th>4</th>\n",
       "      <td>2017-09-01</td>\n",
       "      <td>A6218160101</td>\n",
       "      <td>70008170</td>\n",
       "      <td>120</td>\n",
       "      <td>2018</td>\n",
       "      <td>1584.1080</td>\n",
       "      <td>1283.693887</td>\n",
       "      <td>0.192469</td>\n",
       "      <td>0.119544</td>\n",
       "    </tr>\n",
       "  </tbody>\n",
       "</table>\n",
       "</div>"
      ],
      "text/plain": [
       "        date product_code  customer_code  sold_quantity  fiscal_year  \\\n",
       "0 2017-09-01  A6218160101       70008169             81         2018   \n",
       "1 2017-09-01  A6218160101       90008165            157         2018   \n",
       "2 2017-09-01  A6218160101       90008166            126         2018   \n",
       "3 2017-09-01  A6218160101       90008167            160         2018   \n",
       "4 2017-09-01  A6218160101       70008170            120         2018   \n",
       "\n",
       "   gross_sales  net_invoice_sales  discounts_pct  other_deductions_pct  \n",
       "0    1069.2729         967.319139       0.169477              0.104849  \n",
       "1    2072.5413        1482.119149       0.178271              0.116888  \n",
       "2    1663.3134        1183.649231       0.209655              0.112575  \n",
       "3    2112.1440        1700.914928       0.202509              0.130852  \n",
       "4    1584.1080        1283.693887       0.192469              0.119544  "
      ]
     },
     "execution_count": 113,
     "metadata": {},
     "output_type": "execute_result"
    }
   ],
   "source": [
    "# merge necessary tables\n",
    "\n",
    "merge = pd.merge(sc_fact_sales_monthly, sc_post_invoice_deductions, how='left', on=['customer_code', 'product_code', 'date', 'fiscal_year'])\n",
    "\n",
    "merge.head(5)"
   ]
  },
  {
   "cell_type": "code",
   "execution_count": 114,
   "id": "4e2992d2-98b2-4824-9fef-65ec5cc8682b",
   "metadata": {
    "tags": []
   },
   "outputs": [
    {
     "data": {
      "text/html": [
       "<div>\n",
       "<style scoped>\n",
       "    .dataframe tbody tr th:only-of-type {\n",
       "        vertical-align: middle;\n",
       "    }\n",
       "\n",
       "    .dataframe tbody tr th {\n",
       "        vertical-align: top;\n",
       "    }\n",
       "\n",
       "    .dataframe thead th {\n",
       "        text-align: right;\n",
       "    }\n",
       "</style>\n",
       "<table border=\"1\" class=\"dataframe\">\n",
       "  <thead>\n",
       "    <tr style=\"text-align: right;\">\n",
       "      <th></th>\n",
       "      <th>date</th>\n",
       "      <th>product_code</th>\n",
       "      <th>customer_code</th>\n",
       "      <th>sold_quantity</th>\n",
       "      <th>fiscal_year</th>\n",
       "      <th>gross_sales</th>\n",
       "      <th>net_invoice_sales</th>\n",
       "      <th>discounts_pct</th>\n",
       "      <th>other_deductions_pct</th>\n",
       "      <th>discounts_amount</th>\n",
       "      <th>other_deductions_amount</th>\n",
       "      <th>net_sales</th>\n",
       "    </tr>\n",
       "  </thead>\n",
       "  <tbody>\n",
       "    <tr>\n",
       "      <th>0</th>\n",
       "      <td>2017-09-01</td>\n",
       "      <td>A6218160101</td>\n",
       "      <td>70008169</td>\n",
       "      <td>81</td>\n",
       "      <td>2018</td>\n",
       "      <td>1069.2729</td>\n",
       "      <td>967.319139</td>\n",
       "      <td>0.169477</td>\n",
       "      <td>0.104849</td>\n",
       "      <td>181.217277</td>\n",
       "      <td>112.111948</td>\n",
       "      <td>673.989914</td>\n",
       "    </tr>\n",
       "    <tr>\n",
       "      <th>1</th>\n",
       "      <td>2017-09-01</td>\n",
       "      <td>A6218160101</td>\n",
       "      <td>90008165</td>\n",
       "      <td>157</td>\n",
       "      <td>2018</td>\n",
       "      <td>2072.5413</td>\n",
       "      <td>1482.119149</td>\n",
       "      <td>0.178271</td>\n",
       "      <td>0.116888</td>\n",
       "      <td>369.474811</td>\n",
       "      <td>242.254459</td>\n",
       "      <td>870.389878</td>\n",
       "    </tr>\n",
       "    <tr>\n",
       "      <th>2</th>\n",
       "      <td>2017-09-01</td>\n",
       "      <td>A6218160101</td>\n",
       "      <td>90008166</td>\n",
       "      <td>126</td>\n",
       "      <td>2018</td>\n",
       "      <td>1663.3134</td>\n",
       "      <td>1183.649231</td>\n",
       "      <td>0.209655</td>\n",
       "      <td>0.112575</td>\n",
       "      <td>348.721974</td>\n",
       "      <td>187.246853</td>\n",
       "      <td>647.680403</td>\n",
       "    </tr>\n",
       "    <tr>\n",
       "      <th>3</th>\n",
       "      <td>2017-09-01</td>\n",
       "      <td>A6218160101</td>\n",
       "      <td>90008167</td>\n",
       "      <td>160</td>\n",
       "      <td>2018</td>\n",
       "      <td>2112.1440</td>\n",
       "      <td>1700.914928</td>\n",
       "      <td>0.202509</td>\n",
       "      <td>0.130852</td>\n",
       "      <td>427.728597</td>\n",
       "      <td>276.377552</td>\n",
       "      <td>996.808779</td>\n",
       "    </tr>\n",
       "    <tr>\n",
       "      <th>4</th>\n",
       "      <td>2017-09-01</td>\n",
       "      <td>A6218160101</td>\n",
       "      <td>70008170</td>\n",
       "      <td>120</td>\n",
       "      <td>2018</td>\n",
       "      <td>1584.1080</td>\n",
       "      <td>1283.693887</td>\n",
       "      <td>0.192469</td>\n",
       "      <td>0.119544</td>\n",
       "      <td>304.891535</td>\n",
       "      <td>189.371165</td>\n",
       "      <td>789.431187</td>\n",
       "    </tr>\n",
       "  </tbody>\n",
       "</table>\n",
       "</div>"
      ],
      "text/plain": [
       "        date product_code  customer_code  sold_quantity  fiscal_year  \\\n",
       "0 2017-09-01  A6218160101       70008169             81         2018   \n",
       "1 2017-09-01  A6218160101       90008165            157         2018   \n",
       "2 2017-09-01  A6218160101       90008166            126         2018   \n",
       "3 2017-09-01  A6218160101       90008167            160         2018   \n",
       "4 2017-09-01  A6218160101       70008170            120         2018   \n",
       "\n",
       "   gross_sales  net_invoice_sales  discounts_pct  other_deductions_pct  \\\n",
       "0    1069.2729         967.319139       0.169477              0.104849   \n",
       "1    2072.5413        1482.119149       0.178271              0.116888   \n",
       "2    1663.3134        1183.649231       0.209655              0.112575   \n",
       "3    2112.1440        1700.914928       0.202509              0.130852   \n",
       "4    1584.1080        1283.693887       0.192469              0.119544   \n",
       "\n",
       "   discounts_amount  other_deductions_amount   net_sales  \n",
       "0        181.217277               112.111948  673.989914  \n",
       "1        369.474811               242.254459  870.389878  \n",
       "2        348.721974               187.246853  647.680403  \n",
       "3        427.728597               276.377552  996.808779  \n",
       "4        304.891535               189.371165  789.431187  "
      ]
     },
     "execution_count": 114,
     "metadata": {},
     "output_type": "execute_result"
    }
   ],
   "source": [
    "# calculate net_sales\n",
    "\n",
    "merge['discounts_amount'] = merge['gross_sales'] * merge['discounts_pct']\n",
    "merge['other_deductions_amount'] = merge['gross_sales'] * merge['other_deductions_pct']\n",
    "merge['net_sales'] = merge['net_invoice_sales'] - (merge['discounts_amount'] + merge['other_deductions_amount'])\n",
    "\n",
    "merge.head(5)"
   ]
  },
  {
   "cell_type": "code",
   "execution_count": 115,
   "id": "283c51c1-c268-499b-86e1-9d3b749be3f9",
   "metadata": {
    "tags": []
   },
   "outputs": [
    {
     "data": {
      "text/html": [
       "<div>\n",
       "<style scoped>\n",
       "    .dataframe tbody tr th:only-of-type {\n",
       "        vertical-align: middle;\n",
       "    }\n",
       "\n",
       "    .dataframe tbody tr th {\n",
       "        vertical-align: top;\n",
       "    }\n",
       "\n",
       "    .dataframe thead th {\n",
       "        text-align: right;\n",
       "    }\n",
       "</style>\n",
       "<table border=\"1\" class=\"dataframe\">\n",
       "  <thead>\n",
       "    <tr style=\"text-align: right;\">\n",
       "      <th></th>\n",
       "      <th>date</th>\n",
       "      <th>product_code</th>\n",
       "      <th>customer_code</th>\n",
       "      <th>sold_quantity</th>\n",
       "      <th>fiscal_year</th>\n",
       "      <th>gross_sales</th>\n",
       "      <th>net_invoice_sales</th>\n",
       "      <th>net_sales</th>\n",
       "    </tr>\n",
       "  </thead>\n",
       "  <tbody>\n",
       "    <tr>\n",
       "      <th>0</th>\n",
       "      <td>2017-09-01</td>\n",
       "      <td>A6218160101</td>\n",
       "      <td>70008169</td>\n",
       "      <td>81</td>\n",
       "      <td>2018</td>\n",
       "      <td>1069.2729</td>\n",
       "      <td>967.319139</td>\n",
       "      <td>673.989914</td>\n",
       "    </tr>\n",
       "    <tr>\n",
       "      <th>1</th>\n",
       "      <td>2017-09-01</td>\n",
       "      <td>A6218160101</td>\n",
       "      <td>90008165</td>\n",
       "      <td>157</td>\n",
       "      <td>2018</td>\n",
       "      <td>2072.5413</td>\n",
       "      <td>1482.119149</td>\n",
       "      <td>870.389878</td>\n",
       "    </tr>\n",
       "    <tr>\n",
       "      <th>2</th>\n",
       "      <td>2017-09-01</td>\n",
       "      <td>A6218160101</td>\n",
       "      <td>90008166</td>\n",
       "      <td>126</td>\n",
       "      <td>2018</td>\n",
       "      <td>1663.3134</td>\n",
       "      <td>1183.649231</td>\n",
       "      <td>647.680403</td>\n",
       "    </tr>\n",
       "    <tr>\n",
       "      <th>3</th>\n",
       "      <td>2017-09-01</td>\n",
       "      <td>A6218160101</td>\n",
       "      <td>90008167</td>\n",
       "      <td>160</td>\n",
       "      <td>2018</td>\n",
       "      <td>2112.1440</td>\n",
       "      <td>1700.914928</td>\n",
       "      <td>996.808779</td>\n",
       "    </tr>\n",
       "    <tr>\n",
       "      <th>4</th>\n",
       "      <td>2017-09-01</td>\n",
       "      <td>A6218160101</td>\n",
       "      <td>70008170</td>\n",
       "      <td>120</td>\n",
       "      <td>2018</td>\n",
       "      <td>1584.1080</td>\n",
       "      <td>1283.693887</td>\n",
       "      <td>789.431187</td>\n",
       "    </tr>\n",
       "  </tbody>\n",
       "</table>\n",
       "</div>"
      ],
      "text/plain": [
       "        date product_code  customer_code  sold_quantity  fiscal_year  \\\n",
       "0 2017-09-01  A6218160101       70008169             81         2018   \n",
       "1 2017-09-01  A6218160101       90008165            157         2018   \n",
       "2 2017-09-01  A6218160101       90008166            126         2018   \n",
       "3 2017-09-01  A6218160101       90008167            160         2018   \n",
       "4 2017-09-01  A6218160101       70008170            120         2018   \n",
       "\n",
       "   gross_sales  net_invoice_sales   net_sales  \n",
       "0    1069.2729         967.319139  673.989914  \n",
       "1    2072.5413        1482.119149  870.389878  \n",
       "2    1663.3134        1183.649231  647.680403  \n",
       "3    2112.1440        1700.914928  996.808779  \n",
       "4    1584.1080        1283.693887  789.431187  "
      ]
     },
     "execution_count": 115,
     "metadata": {},
     "output_type": "execute_result"
    }
   ],
   "source": [
    "# save net_sales into sc_fact_sales_monthly\n",
    "\n",
    "sc_fact_sales_monthly = merge.drop(['discounts_pct', 'other_deductions_pct', 'discounts_amount', 'other_deductions_amount'], axis=1).copy()\n",
    "\n",
    "sc_fact_sales_monthly.head(5)"
   ]
  },
  {
   "cell_type": "markdown",
   "id": "572d1e16-9d14-4107-86d1-1dac652ac13f",
   "metadata": {
    "tags": []
   },
   "source": [
    "### cost_of_goods, gross_margin and net_profit"
   ]
  },
  {
   "cell_type": "code",
   "execution_count": 116,
   "id": "d0cb0434-96d9-483e-9055-09d6b50868c0",
   "metadata": {
    "tags": []
   },
   "outputs": [
    {
     "data": {
      "text/html": [
       "<div>\n",
       "<style scoped>\n",
       "    .dataframe tbody tr th:only-of-type {\n",
       "        vertical-align: middle;\n",
       "    }\n",
       "\n",
       "    .dataframe tbody tr th {\n",
       "        vertical-align: top;\n",
       "    }\n",
       "\n",
       "    .dataframe thead th {\n",
       "        text-align: right;\n",
       "    }\n",
       "</style>\n",
       "<table border=\"1\" class=\"dataframe\">\n",
       "  <thead>\n",
       "    <tr style=\"text-align: right;\">\n",
       "      <th></th>\n",
       "      <th>date</th>\n",
       "      <th>product_code</th>\n",
       "      <th>customer_code</th>\n",
       "      <th>sold_quantity</th>\n",
       "      <th>fiscal_year</th>\n",
       "      <th>gross_sales</th>\n",
       "      <th>net_invoice_sales</th>\n",
       "      <th>net_sales</th>\n",
       "    </tr>\n",
       "  </thead>\n",
       "  <tbody>\n",
       "    <tr>\n",
       "      <th>0</th>\n",
       "      <td>2017-09-01</td>\n",
       "      <td>A6218160101</td>\n",
       "      <td>70008169</td>\n",
       "      <td>81</td>\n",
       "      <td>2018</td>\n",
       "      <td>1069.2729</td>\n",
       "      <td>967.319139</td>\n",
       "      <td>673.989914</td>\n",
       "    </tr>\n",
       "    <tr>\n",
       "      <th>1</th>\n",
       "      <td>2017-09-01</td>\n",
       "      <td>A6218160101</td>\n",
       "      <td>90008165</td>\n",
       "      <td>157</td>\n",
       "      <td>2018</td>\n",
       "      <td>2072.5413</td>\n",
       "      <td>1482.119149</td>\n",
       "      <td>870.389878</td>\n",
       "    </tr>\n",
       "    <tr>\n",
       "      <th>2</th>\n",
       "      <td>2017-09-01</td>\n",
       "      <td>A6218160101</td>\n",
       "      <td>90008166</td>\n",
       "      <td>126</td>\n",
       "      <td>2018</td>\n",
       "      <td>1663.3134</td>\n",
       "      <td>1183.649231</td>\n",
       "      <td>647.680403</td>\n",
       "    </tr>\n",
       "    <tr>\n",
       "      <th>3</th>\n",
       "      <td>2017-09-01</td>\n",
       "      <td>A6218160101</td>\n",
       "      <td>90008167</td>\n",
       "      <td>160</td>\n",
       "      <td>2018</td>\n",
       "      <td>2112.1440</td>\n",
       "      <td>1700.914928</td>\n",
       "      <td>996.808779</td>\n",
       "    </tr>\n",
       "    <tr>\n",
       "      <th>4</th>\n",
       "      <td>2017-09-01</td>\n",
       "      <td>A6218160101</td>\n",
       "      <td>70008170</td>\n",
       "      <td>120</td>\n",
       "      <td>2018</td>\n",
       "      <td>1584.1080</td>\n",
       "      <td>1283.693887</td>\n",
       "      <td>789.431187</td>\n",
       "    </tr>\n",
       "  </tbody>\n",
       "</table>\n",
       "</div>"
      ],
      "text/plain": [
       "        date product_code  customer_code  sold_quantity  fiscal_year  \\\n",
       "0 2017-09-01  A6218160101       70008169             81         2018   \n",
       "1 2017-09-01  A6218160101       90008165            157         2018   \n",
       "2 2017-09-01  A6218160101       90008166            126         2018   \n",
       "3 2017-09-01  A6218160101       90008167            160         2018   \n",
       "4 2017-09-01  A6218160101       70008170            120         2018   \n",
       "\n",
       "   gross_sales  net_invoice_sales   net_sales  \n",
       "0    1069.2729         967.319139  673.989914  \n",
       "1    2072.5413        1482.119149  870.389878  \n",
       "2    1663.3134        1183.649231  647.680403  \n",
       "3    2112.1440        1700.914928  996.808779  \n",
       "4    1584.1080        1283.693887  789.431187  "
      ]
     },
     "execution_count": 116,
     "metadata": {},
     "output_type": "execute_result"
    }
   ],
   "source": [
    "sc_fact_sales_monthly.head(5)"
   ]
  },
  {
   "cell_type": "code",
   "execution_count": 117,
   "id": "ef5a9336-228e-4aef-a01e-030e0ef63f73",
   "metadata": {
    "tags": []
   },
   "outputs": [
    {
     "data": {
      "text/html": [
       "<div>\n",
       "<style scoped>\n",
       "    .dataframe tbody tr th:only-of-type {\n",
       "        vertical-align: middle;\n",
       "    }\n",
       "\n",
       "    .dataframe tbody tr th {\n",
       "        vertical-align: top;\n",
       "    }\n",
       "\n",
       "    .dataframe thead th {\n",
       "        text-align: right;\n",
       "    }\n",
       "</style>\n",
       "<table border=\"1\" class=\"dataframe\">\n",
       "  <thead>\n",
       "    <tr style=\"text-align: right;\">\n",
       "      <th></th>\n",
       "      <th>product_code</th>\n",
       "      <th>cost_year</th>\n",
       "      <th>manufacturing_cost</th>\n",
       "    </tr>\n",
       "  </thead>\n",
       "  <tbody>\n",
       "    <tr>\n",
       "      <th>0</th>\n",
       "      <td>A0118150101</td>\n",
       "      <td>2018</td>\n",
       "      <td>4.6190</td>\n",
       "    </tr>\n",
       "    <tr>\n",
       "      <th>1</th>\n",
       "      <td>A0118150101</td>\n",
       "      <td>2019</td>\n",
       "      <td>4.2033</td>\n",
       "    </tr>\n",
       "    <tr>\n",
       "      <th>2</th>\n",
       "      <td>A0118150101</td>\n",
       "      <td>2020</td>\n",
       "      <td>5.0207</td>\n",
       "    </tr>\n",
       "    <tr>\n",
       "      <th>3</th>\n",
       "      <td>A0118150101</td>\n",
       "      <td>2021</td>\n",
       "      <td>5.5172</td>\n",
       "    </tr>\n",
       "    <tr>\n",
       "      <th>4</th>\n",
       "      <td>A0118150102</td>\n",
       "      <td>2018</td>\n",
       "      <td>5.6036</td>\n",
       "    </tr>\n",
       "  </tbody>\n",
       "</table>\n",
       "</div>"
      ],
      "text/plain": [
       "  product_code  cost_year  manufacturing_cost\n",
       "0  A0118150101       2018              4.6190\n",
       "1  A0118150101       2019              4.2033\n",
       "2  A0118150101       2020              5.0207\n",
       "3  A0118150101       2021              5.5172\n",
       "4  A0118150102       2018              5.6036"
      ]
     },
     "execution_count": 117,
     "metadata": {},
     "output_type": "execute_result"
    }
   ],
   "source": [
    "sc_manufacturing_cost.head(5)"
   ]
  },
  {
   "cell_type": "code",
   "execution_count": 118,
   "id": "f1df9ba1-ed86-4e89-b7b2-0f3bc3350771",
   "metadata": {
    "tags": []
   },
   "outputs": [
    {
     "data": {
      "text/html": [
       "<div>\n",
       "<style scoped>\n",
       "    .dataframe tbody tr th:only-of-type {\n",
       "        vertical-align: middle;\n",
       "    }\n",
       "\n",
       "    .dataframe tbody tr th {\n",
       "        vertical-align: top;\n",
       "    }\n",
       "\n",
       "    .dataframe thead th {\n",
       "        text-align: right;\n",
       "    }\n",
       "</style>\n",
       "<table border=\"1\" class=\"dataframe\">\n",
       "  <thead>\n",
       "    <tr style=\"text-align: right;\">\n",
       "      <th></th>\n",
       "      <th>customer</th>\n",
       "      <th>market</th>\n",
       "      <th>platform</th>\n",
       "      <th>channel</th>\n",
       "      <th>customer_code</th>\n",
       "    </tr>\n",
       "  </thead>\n",
       "  <tbody>\n",
       "    <tr>\n",
       "      <th>0</th>\n",
       "      <td>Electricalsocity</td>\n",
       "      <td>India</td>\n",
       "      <td>Brick &amp; Mortar</td>\n",
       "      <td>Retailer</td>\n",
       "      <td>90002012</td>\n",
       "    </tr>\n",
       "    <tr>\n",
       "      <th>1</th>\n",
       "      <td>Electricalslytical</td>\n",
       "      <td>India</td>\n",
       "      <td>Brick &amp; Mortar</td>\n",
       "      <td>Retailer</td>\n",
       "      <td>90002013</td>\n",
       "    </tr>\n",
       "    <tr>\n",
       "      <th>2</th>\n",
       "      <td>Ebay</td>\n",
       "      <td>India</td>\n",
       "      <td>E-Commerce</td>\n",
       "      <td>Retailer</td>\n",
       "      <td>90002010</td>\n",
       "    </tr>\n",
       "    <tr>\n",
       "      <th>3</th>\n",
       "      <td>Atliq Exclusive</td>\n",
       "      <td>India</td>\n",
       "      <td>Brick &amp; Mortar</td>\n",
       "      <td>Retailer</td>\n",
       "      <td>90002011</td>\n",
       "    </tr>\n",
       "    <tr>\n",
       "      <th>4</th>\n",
       "      <td>Expression</td>\n",
       "      <td>India</td>\n",
       "      <td>Brick &amp; Mortar</td>\n",
       "      <td>Retailer</td>\n",
       "      <td>90002014</td>\n",
       "    </tr>\n",
       "  </tbody>\n",
       "</table>\n",
       "</div>"
      ],
      "text/plain": [
       "             customer market        platform   channel  customer_code\n",
       "0    Electricalsocity  India  Brick & Mortar  Retailer       90002012\n",
       "1  Electricalslytical  India  Brick & Mortar  Retailer       90002013\n",
       "2                Ebay  India      E-Commerce  Retailer       90002010\n",
       "3     Atliq Exclusive  India  Brick & Mortar  Retailer       90002011\n",
       "4          Expression  India  Brick & Mortar  Retailer       90002014"
      ]
     },
     "execution_count": 118,
     "metadata": {},
     "output_type": "execute_result"
    }
   ],
   "source": [
    "sc_dim_customer.head(5)"
   ]
  },
  {
   "cell_type": "code",
   "execution_count": 119,
   "id": "6c345acf-4139-4044-b5c7-573a17cca479",
   "metadata": {
    "tags": []
   },
   "outputs": [
    {
     "data": {
      "text/html": [
       "<div>\n",
       "<style scoped>\n",
       "    .dataframe tbody tr th:only-of-type {\n",
       "        vertical-align: middle;\n",
       "    }\n",
       "\n",
       "    .dataframe tbody tr th {\n",
       "        vertical-align: top;\n",
       "    }\n",
       "\n",
       "    .dataframe thead th {\n",
       "        text-align: right;\n",
       "    }\n",
       "</style>\n",
       "<table border=\"1\" class=\"dataframe\">\n",
       "  <thead>\n",
       "    <tr style=\"text-align: right;\">\n",
       "      <th></th>\n",
       "      <th>market</th>\n",
       "      <th>fiscal_year</th>\n",
       "      <th>freight_pct</th>\n",
       "      <th>other_cost_pct</th>\n",
       "    </tr>\n",
       "  </thead>\n",
       "  <tbody>\n",
       "    <tr>\n",
       "      <th>0</th>\n",
       "      <td>Australia</td>\n",
       "      <td>2018</td>\n",
       "      <td>0.0188</td>\n",
       "      <td>0.0050</td>\n",
       "    </tr>\n",
       "    <tr>\n",
       "      <th>1</th>\n",
       "      <td>Austria</td>\n",
       "      <td>2018</td>\n",
       "      <td>0.0272</td>\n",
       "      <td>0.0053</td>\n",
       "    </tr>\n",
       "    <tr>\n",
       "      <th>2</th>\n",
       "      <td>Bangladesh</td>\n",
       "      <td>2018</td>\n",
       "      <td>0.0219</td>\n",
       "      <td>0.0058</td>\n",
       "    </tr>\n",
       "    <tr>\n",
       "      <th>3</th>\n",
       "      <td>Brazil</td>\n",
       "      <td>2018</td>\n",
       "      <td>0.0239</td>\n",
       "      <td>0.0033</td>\n",
       "    </tr>\n",
       "    <tr>\n",
       "      <th>4</th>\n",
       "      <td>Canada</td>\n",
       "      <td>2018</td>\n",
       "      <td>0.0264</td>\n",
       "      <td>0.0054</td>\n",
       "    </tr>\n",
       "  </tbody>\n",
       "</table>\n",
       "</div>"
      ],
      "text/plain": [
       "       market  fiscal_year  freight_pct  other_cost_pct\n",
       "0   Australia         2018       0.0188          0.0050\n",
       "1     Austria         2018       0.0272          0.0053\n",
       "2  Bangladesh         2018       0.0219          0.0058\n",
       "3      Brazil         2018       0.0239          0.0033\n",
       "4      Canada         2018       0.0264          0.0054"
      ]
     },
     "execution_count": 119,
     "metadata": {},
     "output_type": "execute_result"
    }
   ],
   "source": [
    "sc_freight_cost.head(5)"
   ]
  },
  {
   "cell_type": "code",
   "execution_count": 120,
   "id": "dd774d9c-142d-486d-80c5-44b350e0ffc8",
   "metadata": {
    "tags": []
   },
   "outputs": [
    {
     "data": {
      "text/html": [
       "<div>\n",
       "<style scoped>\n",
       "    .dataframe tbody tr th:only-of-type {\n",
       "        vertical-align: middle;\n",
       "    }\n",
       "\n",
       "    .dataframe tbody tr th {\n",
       "        vertical-align: top;\n",
       "    }\n",
       "\n",
       "    .dataframe thead th {\n",
       "        text-align: right;\n",
       "    }\n",
       "</style>\n",
       "<table border=\"1\" class=\"dataframe\">\n",
       "  <thead>\n",
       "    <tr style=\"text-align: right;\">\n",
       "      <th></th>\n",
       "      <th>date</th>\n",
       "      <th>product_code</th>\n",
       "      <th>customer_code</th>\n",
       "      <th>sold_quantity</th>\n",
       "      <th>fiscal_year</th>\n",
       "      <th>gross_sales</th>\n",
       "      <th>net_invoice_sales</th>\n",
       "      <th>net_sales</th>\n",
       "      <th>cost_year</th>\n",
       "      <th>manufacturing_cost</th>\n",
       "    </tr>\n",
       "  </thead>\n",
       "  <tbody>\n",
       "    <tr>\n",
       "      <th>0</th>\n",
       "      <td>2017-09-01</td>\n",
       "      <td>A6218160101</td>\n",
       "      <td>70008169</td>\n",
       "      <td>81</td>\n",
       "      <td>2018</td>\n",
       "      <td>1069.2729</td>\n",
       "      <td>967.319139</td>\n",
       "      <td>673.989914</td>\n",
       "      <td>2018</td>\n",
       "      <td>3.8917</td>\n",
       "    </tr>\n",
       "    <tr>\n",
       "      <th>1</th>\n",
       "      <td>2017-09-01</td>\n",
       "      <td>A6218160101</td>\n",
       "      <td>90008165</td>\n",
       "      <td>157</td>\n",
       "      <td>2018</td>\n",
       "      <td>2072.5413</td>\n",
       "      <td>1482.119149</td>\n",
       "      <td>870.389878</td>\n",
       "      <td>2018</td>\n",
       "      <td>3.8917</td>\n",
       "    </tr>\n",
       "    <tr>\n",
       "      <th>2</th>\n",
       "      <td>2017-09-01</td>\n",
       "      <td>A6218160101</td>\n",
       "      <td>90008166</td>\n",
       "      <td>126</td>\n",
       "      <td>2018</td>\n",
       "      <td>1663.3134</td>\n",
       "      <td>1183.649231</td>\n",
       "      <td>647.680403</td>\n",
       "      <td>2018</td>\n",
       "      <td>3.8917</td>\n",
       "    </tr>\n",
       "    <tr>\n",
       "      <th>3</th>\n",
       "      <td>2017-09-01</td>\n",
       "      <td>A6218160101</td>\n",
       "      <td>90008167</td>\n",
       "      <td>160</td>\n",
       "      <td>2018</td>\n",
       "      <td>2112.1440</td>\n",
       "      <td>1700.914928</td>\n",
       "      <td>996.808779</td>\n",
       "      <td>2018</td>\n",
       "      <td>3.8917</td>\n",
       "    </tr>\n",
       "    <tr>\n",
       "      <th>4</th>\n",
       "      <td>2017-09-01</td>\n",
       "      <td>A6218160101</td>\n",
       "      <td>70008170</td>\n",
       "      <td>120</td>\n",
       "      <td>2018</td>\n",
       "      <td>1584.1080</td>\n",
       "      <td>1283.693887</td>\n",
       "      <td>789.431187</td>\n",
       "      <td>2018</td>\n",
       "      <td>3.8917</td>\n",
       "    </tr>\n",
       "  </tbody>\n",
       "</table>\n",
       "</div>"
      ],
      "text/plain": [
       "        date product_code  customer_code  sold_quantity  fiscal_year  \\\n",
       "0 2017-09-01  A6218160101       70008169             81         2018   \n",
       "1 2017-09-01  A6218160101       90008165            157         2018   \n",
       "2 2017-09-01  A6218160101       90008166            126         2018   \n",
       "3 2017-09-01  A6218160101       90008167            160         2018   \n",
       "4 2017-09-01  A6218160101       70008170            120         2018   \n",
       "\n",
       "   gross_sales  net_invoice_sales   net_sales  cost_year  manufacturing_cost  \n",
       "0    1069.2729         967.319139  673.989914       2018              3.8917  \n",
       "1    2072.5413        1482.119149  870.389878       2018              3.8917  \n",
       "2    1663.3134        1183.649231  647.680403       2018              3.8917  \n",
       "3    2112.1440        1700.914928  996.808779       2018              3.8917  \n",
       "4    1584.1080        1283.693887  789.431187       2018              3.8917  "
      ]
     },
     "execution_count": 120,
     "metadata": {},
     "output_type": "execute_result"
    }
   ],
   "source": [
    "# merge necessary tables\n",
    "\n",
    "merge = pd.merge(sc_fact_sales_monthly, sc_manufacturing_cost, how='left', left_on=['product_code', 'fiscal_year'], right_on=['product_code', 'cost_year'])\n",
    "\n",
    "merge.head(5)"
   ]
  },
  {
   "cell_type": "code",
   "execution_count": 121,
   "id": "0bf5cb0d-c69e-4e99-85a0-bb02d34806c1",
   "metadata": {
    "tags": []
   },
   "outputs": [
    {
     "data": {
      "text/html": [
       "<div>\n",
       "<style scoped>\n",
       "    .dataframe tbody tr th:only-of-type {\n",
       "        vertical-align: middle;\n",
       "    }\n",
       "\n",
       "    .dataframe tbody tr th {\n",
       "        vertical-align: top;\n",
       "    }\n",
       "\n",
       "    .dataframe thead th {\n",
       "        text-align: right;\n",
       "    }\n",
       "</style>\n",
       "<table border=\"1\" class=\"dataframe\">\n",
       "  <thead>\n",
       "    <tr style=\"text-align: right;\">\n",
       "      <th></th>\n",
       "      <th>date</th>\n",
       "      <th>product_code</th>\n",
       "      <th>customer_code</th>\n",
       "      <th>sold_quantity</th>\n",
       "      <th>fiscal_year</th>\n",
       "      <th>gross_sales</th>\n",
       "      <th>net_invoice_sales</th>\n",
       "      <th>net_sales</th>\n",
       "      <th>cost_year</th>\n",
       "      <th>manufacturing_cost</th>\n",
       "      <th>gross_manufacturling_costs</th>\n",
       "    </tr>\n",
       "  </thead>\n",
       "  <tbody>\n",
       "    <tr>\n",
       "      <th>0</th>\n",
       "      <td>2017-09-01</td>\n",
       "      <td>A6218160101</td>\n",
       "      <td>70008169</td>\n",
       "      <td>81</td>\n",
       "      <td>2018</td>\n",
       "      <td>1069.2729</td>\n",
       "      <td>967.319139</td>\n",
       "      <td>673.989914</td>\n",
       "      <td>2018</td>\n",
       "      <td>3.8917</td>\n",
       "      <td>315.2277</td>\n",
       "    </tr>\n",
       "    <tr>\n",
       "      <th>1</th>\n",
       "      <td>2017-09-01</td>\n",
       "      <td>A6218160101</td>\n",
       "      <td>90008165</td>\n",
       "      <td>157</td>\n",
       "      <td>2018</td>\n",
       "      <td>2072.5413</td>\n",
       "      <td>1482.119149</td>\n",
       "      <td>870.389878</td>\n",
       "      <td>2018</td>\n",
       "      <td>3.8917</td>\n",
       "      <td>610.9969</td>\n",
       "    </tr>\n",
       "    <tr>\n",
       "      <th>2</th>\n",
       "      <td>2017-09-01</td>\n",
       "      <td>A6218160101</td>\n",
       "      <td>90008166</td>\n",
       "      <td>126</td>\n",
       "      <td>2018</td>\n",
       "      <td>1663.3134</td>\n",
       "      <td>1183.649231</td>\n",
       "      <td>647.680403</td>\n",
       "      <td>2018</td>\n",
       "      <td>3.8917</td>\n",
       "      <td>490.3542</td>\n",
       "    </tr>\n",
       "    <tr>\n",
       "      <th>3</th>\n",
       "      <td>2017-09-01</td>\n",
       "      <td>A6218160101</td>\n",
       "      <td>90008167</td>\n",
       "      <td>160</td>\n",
       "      <td>2018</td>\n",
       "      <td>2112.1440</td>\n",
       "      <td>1700.914928</td>\n",
       "      <td>996.808779</td>\n",
       "      <td>2018</td>\n",
       "      <td>3.8917</td>\n",
       "      <td>622.6720</td>\n",
       "    </tr>\n",
       "    <tr>\n",
       "      <th>4</th>\n",
       "      <td>2017-09-01</td>\n",
       "      <td>A6218160101</td>\n",
       "      <td>70008170</td>\n",
       "      <td>120</td>\n",
       "      <td>2018</td>\n",
       "      <td>1584.1080</td>\n",
       "      <td>1283.693887</td>\n",
       "      <td>789.431187</td>\n",
       "      <td>2018</td>\n",
       "      <td>3.8917</td>\n",
       "      <td>467.0040</td>\n",
       "    </tr>\n",
       "  </tbody>\n",
       "</table>\n",
       "</div>"
      ],
      "text/plain": [
       "        date product_code  customer_code  sold_quantity  fiscal_year  \\\n",
       "0 2017-09-01  A6218160101       70008169             81         2018   \n",
       "1 2017-09-01  A6218160101       90008165            157         2018   \n",
       "2 2017-09-01  A6218160101       90008166            126         2018   \n",
       "3 2017-09-01  A6218160101       90008167            160         2018   \n",
       "4 2017-09-01  A6218160101       70008170            120         2018   \n",
       "\n",
       "   gross_sales  net_invoice_sales   net_sales  cost_year  manufacturing_cost  \\\n",
       "0    1069.2729         967.319139  673.989914       2018              3.8917   \n",
       "1    2072.5413        1482.119149  870.389878       2018              3.8917   \n",
       "2    1663.3134        1183.649231  647.680403       2018              3.8917   \n",
       "3    2112.1440        1700.914928  996.808779       2018              3.8917   \n",
       "4    1584.1080        1283.693887  789.431187       2018              3.8917   \n",
       "\n",
       "   gross_manufacturling_costs  \n",
       "0                    315.2277  \n",
       "1                    610.9969  \n",
       "2                    490.3542  \n",
       "3                    622.6720  \n",
       "4                    467.0040  "
      ]
     },
     "execution_count": 121,
     "metadata": {},
     "output_type": "execute_result"
    }
   ],
   "source": [
    "# calculate gross_manufacturling_costs\n",
    "\n",
    "merge['gross_manufacturling_costs'] = merge['sold_quantity'] * merge['manufacturing_cost']\n",
    "\n",
    "merge.head(5)"
   ]
  },
  {
   "cell_type": "code",
   "execution_count": 122,
   "id": "3b3b7e45-f6c1-434c-b321-b1040199922e",
   "metadata": {
    "tags": []
   },
   "outputs": [
    {
     "data": {
      "text/html": [
       "<div>\n",
       "<style scoped>\n",
       "    .dataframe tbody tr th:only-of-type {\n",
       "        vertical-align: middle;\n",
       "    }\n",
       "\n",
       "    .dataframe tbody tr th {\n",
       "        vertical-align: top;\n",
       "    }\n",
       "\n",
       "    .dataframe thead th {\n",
       "        text-align: right;\n",
       "    }\n",
       "</style>\n",
       "<table border=\"1\" class=\"dataframe\">\n",
       "  <thead>\n",
       "    <tr style=\"text-align: right;\">\n",
       "      <th></th>\n",
       "      <th>date</th>\n",
       "      <th>product_code</th>\n",
       "      <th>customer_code</th>\n",
       "      <th>sold_quantity</th>\n",
       "      <th>fiscal_year</th>\n",
       "      <th>gross_sales</th>\n",
       "      <th>net_invoice_sales</th>\n",
       "      <th>net_sales</th>\n",
       "      <th>cost_year</th>\n",
       "      <th>manufacturing_cost</th>\n",
       "      <th>gross_manufacturling_costs</th>\n",
       "      <th>customer</th>\n",
       "      <th>market</th>\n",
       "      <th>platform</th>\n",
       "      <th>channel</th>\n",
       "      <th>freight_pct</th>\n",
       "      <th>other_cost_pct</th>\n",
       "    </tr>\n",
       "  </thead>\n",
       "  <tbody>\n",
       "    <tr>\n",
       "      <th>0</th>\n",
       "      <td>2017-09-01</td>\n",
       "      <td>A6218160101</td>\n",
       "      <td>70008169</td>\n",
       "      <td>81</td>\n",
       "      <td>2018</td>\n",
       "      <td>1069.2729</td>\n",
       "      <td>967.319139</td>\n",
       "      <td>673.989914</td>\n",
       "      <td>2018</td>\n",
       "      <td>3.8917</td>\n",
       "      <td>315.2277</td>\n",
       "      <td>AltiQ Exclusive</td>\n",
       "      <td>Australia</td>\n",
       "      <td>Brick &amp; Mortar</td>\n",
       "      <td>Direct</td>\n",
       "      <td>0.0188</td>\n",
       "      <td>0.005</td>\n",
       "    </tr>\n",
       "    <tr>\n",
       "      <th>1</th>\n",
       "      <td>2017-09-01</td>\n",
       "      <td>A6218160101</td>\n",
       "      <td>90008165</td>\n",
       "      <td>157</td>\n",
       "      <td>2018</td>\n",
       "      <td>2072.5413</td>\n",
       "      <td>1482.119149</td>\n",
       "      <td>870.389878</td>\n",
       "      <td>2018</td>\n",
       "      <td>3.8917</td>\n",
       "      <td>610.9969</td>\n",
       "      <td>Forward Stores</td>\n",
       "      <td>Australia</td>\n",
       "      <td>Brick &amp; Mortar</td>\n",
       "      <td>Retailer</td>\n",
       "      <td>0.0188</td>\n",
       "      <td>0.005</td>\n",
       "    </tr>\n",
       "    <tr>\n",
       "      <th>2</th>\n",
       "      <td>2017-09-01</td>\n",
       "      <td>A6218160101</td>\n",
       "      <td>90008166</td>\n",
       "      <td>126</td>\n",
       "      <td>2018</td>\n",
       "      <td>1663.3134</td>\n",
       "      <td>1183.649231</td>\n",
       "      <td>647.680403</td>\n",
       "      <td>2018</td>\n",
       "      <td>3.8917</td>\n",
       "      <td>490.3542</td>\n",
       "      <td>Sound</td>\n",
       "      <td>Australia</td>\n",
       "      <td>Brick &amp; Mortar</td>\n",
       "      <td>Retailer</td>\n",
       "      <td>0.0188</td>\n",
       "      <td>0.005</td>\n",
       "    </tr>\n",
       "    <tr>\n",
       "      <th>3</th>\n",
       "      <td>2017-09-01</td>\n",
       "      <td>A6218160101</td>\n",
       "      <td>90008167</td>\n",
       "      <td>160</td>\n",
       "      <td>2018</td>\n",
       "      <td>2112.1440</td>\n",
       "      <td>1700.914928</td>\n",
       "      <td>996.808779</td>\n",
       "      <td>2018</td>\n",
       "      <td>3.8917</td>\n",
       "      <td>622.6720</td>\n",
       "      <td>Electricalsocity</td>\n",
       "      <td>Australia</td>\n",
       "      <td>Brick &amp; Mortar</td>\n",
       "      <td>Retailer</td>\n",
       "      <td>0.0188</td>\n",
       "      <td>0.005</td>\n",
       "    </tr>\n",
       "    <tr>\n",
       "      <th>4</th>\n",
       "      <td>2017-09-01</td>\n",
       "      <td>A6218160101</td>\n",
       "      <td>70008170</td>\n",
       "      <td>120</td>\n",
       "      <td>2018</td>\n",
       "      <td>1584.1080</td>\n",
       "      <td>1283.693887</td>\n",
       "      <td>789.431187</td>\n",
       "      <td>2018</td>\n",
       "      <td>3.8917</td>\n",
       "      <td>467.0040</td>\n",
       "      <td>Atliq e Store</td>\n",
       "      <td>Australia</td>\n",
       "      <td>E-Commerce</td>\n",
       "      <td>Direct</td>\n",
       "      <td>0.0188</td>\n",
       "      <td>0.005</td>\n",
       "    </tr>\n",
       "  </tbody>\n",
       "</table>\n",
       "</div>"
      ],
      "text/plain": [
       "        date product_code  customer_code  sold_quantity  fiscal_year  \\\n",
       "0 2017-09-01  A6218160101       70008169             81         2018   \n",
       "1 2017-09-01  A6218160101       90008165            157         2018   \n",
       "2 2017-09-01  A6218160101       90008166            126         2018   \n",
       "3 2017-09-01  A6218160101       90008167            160         2018   \n",
       "4 2017-09-01  A6218160101       70008170            120         2018   \n",
       "\n",
       "   gross_sales  net_invoice_sales   net_sales  cost_year  manufacturing_cost  \\\n",
       "0    1069.2729         967.319139  673.989914       2018              3.8917   \n",
       "1    2072.5413        1482.119149  870.389878       2018              3.8917   \n",
       "2    1663.3134        1183.649231  647.680403       2018              3.8917   \n",
       "3    2112.1440        1700.914928  996.808779       2018              3.8917   \n",
       "4    1584.1080        1283.693887  789.431187       2018              3.8917   \n",
       "\n",
       "   gross_manufacturling_costs          customer     market        platform  \\\n",
       "0                    315.2277   AltiQ Exclusive  Australia  Brick & Mortar   \n",
       "1                    610.9969    Forward Stores  Australia  Brick & Mortar   \n",
       "2                    490.3542             Sound  Australia  Brick & Mortar   \n",
       "3                    622.6720  Electricalsocity  Australia  Brick & Mortar   \n",
       "4                    467.0040     Atliq e Store  Australia      E-Commerce   \n",
       "\n",
       "    channel  freight_pct  other_cost_pct  \n",
       "0    Direct       0.0188           0.005  \n",
       "1  Retailer       0.0188           0.005  \n",
       "2  Retailer       0.0188           0.005  \n",
       "3  Retailer       0.0188           0.005  \n",
       "4    Direct       0.0188           0.005  "
      ]
     },
     "execution_count": 122,
     "metadata": {},
     "output_type": "execute_result"
    }
   ],
   "source": [
    "# merge necessary tables\n",
    "\n",
    "merge = pd.merge(merge, sc_dim_customer, how='left', on='customer_code')\n",
    "merge = pd.merge(merge, sc_freight_cost, how='left', on=['market', 'fiscal_year'])\n",
    "\n",
    "merge.head(5)"
   ]
  },
  {
   "cell_type": "code",
   "execution_count": 123,
   "id": "cd0cd872-5ed1-4be2-9f48-76f4c79302b4",
   "metadata": {
    "tags": []
   },
   "outputs": [
    {
     "data": {
      "text/html": [
       "<div>\n",
       "<style scoped>\n",
       "    .dataframe tbody tr th:only-of-type {\n",
       "        vertical-align: middle;\n",
       "    }\n",
       "\n",
       "    .dataframe tbody tr th {\n",
       "        vertical-align: top;\n",
       "    }\n",
       "\n",
       "    .dataframe thead th {\n",
       "        text-align: right;\n",
       "    }\n",
       "</style>\n",
       "<table border=\"1\" class=\"dataframe\">\n",
       "  <thead>\n",
       "    <tr style=\"text-align: right;\">\n",
       "      <th></th>\n",
       "      <th>date</th>\n",
       "      <th>product_code</th>\n",
       "      <th>customer_code</th>\n",
       "      <th>sold_quantity</th>\n",
       "      <th>fiscal_year</th>\n",
       "      <th>gross_sales</th>\n",
       "      <th>net_invoice_sales</th>\n",
       "      <th>net_sales</th>\n",
       "      <th>cost_year</th>\n",
       "      <th>manufacturing_cost</th>\n",
       "      <th>gross_manufacturling_costs</th>\n",
       "      <th>customer</th>\n",
       "      <th>market</th>\n",
       "      <th>platform</th>\n",
       "      <th>channel</th>\n",
       "      <th>freight_pct</th>\n",
       "      <th>other_cost_pct</th>\n",
       "      <th>freight_amount</th>\n",
       "      <th>other_amount</th>\n",
       "    </tr>\n",
       "  </thead>\n",
       "  <tbody>\n",
       "    <tr>\n",
       "      <th>0</th>\n",
       "      <td>2017-09-01</td>\n",
       "      <td>A6218160101</td>\n",
       "      <td>70008169</td>\n",
       "      <td>81</td>\n",
       "      <td>2018</td>\n",
       "      <td>1069.2729</td>\n",
       "      <td>967.319139</td>\n",
       "      <td>673.989914</td>\n",
       "      <td>2018</td>\n",
       "      <td>3.8917</td>\n",
       "      <td>315.2277</td>\n",
       "      <td>AltiQ Exclusive</td>\n",
       "      <td>Australia</td>\n",
       "      <td>Brick &amp; Mortar</td>\n",
       "      <td>Direct</td>\n",
       "      <td>0.0188</td>\n",
       "      <td>0.005</td>\n",
       "      <td>20.102331</td>\n",
       "      <td>5.346365</td>\n",
       "    </tr>\n",
       "    <tr>\n",
       "      <th>1</th>\n",
       "      <td>2017-09-01</td>\n",
       "      <td>A6218160101</td>\n",
       "      <td>90008165</td>\n",
       "      <td>157</td>\n",
       "      <td>2018</td>\n",
       "      <td>2072.5413</td>\n",
       "      <td>1482.119149</td>\n",
       "      <td>870.389878</td>\n",
       "      <td>2018</td>\n",
       "      <td>3.8917</td>\n",
       "      <td>610.9969</td>\n",
       "      <td>Forward Stores</td>\n",
       "      <td>Australia</td>\n",
       "      <td>Brick &amp; Mortar</td>\n",
       "      <td>Retailer</td>\n",
       "      <td>0.0188</td>\n",
       "      <td>0.005</td>\n",
       "      <td>38.963776</td>\n",
       "      <td>10.362707</td>\n",
       "    </tr>\n",
       "    <tr>\n",
       "      <th>2</th>\n",
       "      <td>2017-09-01</td>\n",
       "      <td>A6218160101</td>\n",
       "      <td>90008166</td>\n",
       "      <td>126</td>\n",
       "      <td>2018</td>\n",
       "      <td>1663.3134</td>\n",
       "      <td>1183.649231</td>\n",
       "      <td>647.680403</td>\n",
       "      <td>2018</td>\n",
       "      <td>3.8917</td>\n",
       "      <td>490.3542</td>\n",
       "      <td>Sound</td>\n",
       "      <td>Australia</td>\n",
       "      <td>Brick &amp; Mortar</td>\n",
       "      <td>Retailer</td>\n",
       "      <td>0.0188</td>\n",
       "      <td>0.005</td>\n",
       "      <td>31.270292</td>\n",
       "      <td>8.316567</td>\n",
       "    </tr>\n",
       "    <tr>\n",
       "      <th>3</th>\n",
       "      <td>2017-09-01</td>\n",
       "      <td>A6218160101</td>\n",
       "      <td>90008167</td>\n",
       "      <td>160</td>\n",
       "      <td>2018</td>\n",
       "      <td>2112.1440</td>\n",
       "      <td>1700.914928</td>\n",
       "      <td>996.808779</td>\n",
       "      <td>2018</td>\n",
       "      <td>3.8917</td>\n",
       "      <td>622.6720</td>\n",
       "      <td>Electricalsocity</td>\n",
       "      <td>Australia</td>\n",
       "      <td>Brick &amp; Mortar</td>\n",
       "      <td>Retailer</td>\n",
       "      <td>0.0188</td>\n",
       "      <td>0.005</td>\n",
       "      <td>39.708307</td>\n",
       "      <td>10.560720</td>\n",
       "    </tr>\n",
       "    <tr>\n",
       "      <th>4</th>\n",
       "      <td>2017-09-01</td>\n",
       "      <td>A6218160101</td>\n",
       "      <td>70008170</td>\n",
       "      <td>120</td>\n",
       "      <td>2018</td>\n",
       "      <td>1584.1080</td>\n",
       "      <td>1283.693887</td>\n",
       "      <td>789.431187</td>\n",
       "      <td>2018</td>\n",
       "      <td>3.8917</td>\n",
       "      <td>467.0040</td>\n",
       "      <td>Atliq e Store</td>\n",
       "      <td>Australia</td>\n",
       "      <td>E-Commerce</td>\n",
       "      <td>Direct</td>\n",
       "      <td>0.0188</td>\n",
       "      <td>0.005</td>\n",
       "      <td>29.781230</td>\n",
       "      <td>7.920540</td>\n",
       "    </tr>\n",
       "  </tbody>\n",
       "</table>\n",
       "</div>"
      ],
      "text/plain": [
       "        date product_code  customer_code  sold_quantity  fiscal_year  \\\n",
       "0 2017-09-01  A6218160101       70008169             81         2018   \n",
       "1 2017-09-01  A6218160101       90008165            157         2018   \n",
       "2 2017-09-01  A6218160101       90008166            126         2018   \n",
       "3 2017-09-01  A6218160101       90008167            160         2018   \n",
       "4 2017-09-01  A6218160101       70008170            120         2018   \n",
       "\n",
       "   gross_sales  net_invoice_sales   net_sales  cost_year  manufacturing_cost  \\\n",
       "0    1069.2729         967.319139  673.989914       2018              3.8917   \n",
       "1    2072.5413        1482.119149  870.389878       2018              3.8917   \n",
       "2    1663.3134        1183.649231  647.680403       2018              3.8917   \n",
       "3    2112.1440        1700.914928  996.808779       2018              3.8917   \n",
       "4    1584.1080        1283.693887  789.431187       2018              3.8917   \n",
       "\n",
       "   gross_manufacturling_costs          customer     market        platform  \\\n",
       "0                    315.2277   AltiQ Exclusive  Australia  Brick & Mortar   \n",
       "1                    610.9969    Forward Stores  Australia  Brick & Mortar   \n",
       "2                    490.3542             Sound  Australia  Brick & Mortar   \n",
       "3                    622.6720  Electricalsocity  Australia  Brick & Mortar   \n",
       "4                    467.0040     Atliq e Store  Australia      E-Commerce   \n",
       "\n",
       "    channel  freight_pct  other_cost_pct  freight_amount  other_amount  \n",
       "0    Direct       0.0188           0.005       20.102331      5.346365  \n",
       "1  Retailer       0.0188           0.005       38.963776     10.362707  \n",
       "2  Retailer       0.0188           0.005       31.270292      8.316567  \n",
       "3  Retailer       0.0188           0.005       39.708307     10.560720  \n",
       "4    Direct       0.0188           0.005       29.781230      7.920540  "
      ]
     },
     "execution_count": 123,
     "metadata": {},
     "output_type": "execute_result"
    }
   ],
   "source": [
    "# calculate gross_freight_costs\n",
    "\n",
    "merge['freight_amount'] = merge['gross_sales'] * merge['freight_pct']\n",
    "merge['other_amount'] = merge['gross_sales'] * merge['other_cost_pct']\n",
    "\n",
    "merge.head(5)"
   ]
  },
  {
   "cell_type": "code",
   "execution_count": 124,
   "id": "3a613e9e-949c-4201-a6e1-fb50299948b5",
   "metadata": {
    "tags": []
   },
   "outputs": [
    {
     "data": {
      "text/html": [
       "<div>\n",
       "<style scoped>\n",
       "    .dataframe tbody tr th:only-of-type {\n",
       "        vertical-align: middle;\n",
       "    }\n",
       "\n",
       "    .dataframe tbody tr th {\n",
       "        vertical-align: top;\n",
       "    }\n",
       "\n",
       "    .dataframe thead th {\n",
       "        text-align: right;\n",
       "    }\n",
       "</style>\n",
       "<table border=\"1\" class=\"dataframe\">\n",
       "  <thead>\n",
       "    <tr style=\"text-align: right;\">\n",
       "      <th></th>\n",
       "      <th>date</th>\n",
       "      <th>product_code</th>\n",
       "      <th>customer_code</th>\n",
       "      <th>sold_quantity</th>\n",
       "      <th>fiscal_year</th>\n",
       "      <th>gross_sales</th>\n",
       "      <th>net_invoice_sales</th>\n",
       "      <th>net_sales</th>\n",
       "      <th>cost_year</th>\n",
       "      <th>manufacturing_cost</th>\n",
       "      <th>...</th>\n",
       "      <th>market</th>\n",
       "      <th>platform</th>\n",
       "      <th>channel</th>\n",
       "      <th>freight_pct</th>\n",
       "      <th>other_cost_pct</th>\n",
       "      <th>freight_amount</th>\n",
       "      <th>other_amount</th>\n",
       "      <th>cost_of_goods</th>\n",
       "      <th>gross_margin_pct</th>\n",
       "      <th>net_profit</th>\n",
       "    </tr>\n",
       "  </thead>\n",
       "  <tbody>\n",
       "    <tr>\n",
       "      <th>0</th>\n",
       "      <td>2017-09-01</td>\n",
       "      <td>A6218160101</td>\n",
       "      <td>70008169</td>\n",
       "      <td>81</td>\n",
       "      <td>2018</td>\n",
       "      <td>1069.2729</td>\n",
       "      <td>967.319139</td>\n",
       "      <td>673.989914</td>\n",
       "      <td>2018</td>\n",
       "      <td>3.8917</td>\n",
       "      <td>...</td>\n",
       "      <td>Australia</td>\n",
       "      <td>Brick &amp; Mortar</td>\n",
       "      <td>Direct</td>\n",
       "      <td>0.0188</td>\n",
       "      <td>0.005</td>\n",
       "      <td>20.102331</td>\n",
       "      <td>5.346365</td>\n",
       "      <td>340.676395</td>\n",
       "      <td>49.453784</td>\n",
       "      <td>333.313519</td>\n",
       "    </tr>\n",
       "    <tr>\n",
       "      <th>1</th>\n",
       "      <td>2017-09-01</td>\n",
       "      <td>A6218160101</td>\n",
       "      <td>90008165</td>\n",
       "      <td>157</td>\n",
       "      <td>2018</td>\n",
       "      <td>2072.5413</td>\n",
       "      <td>1482.119149</td>\n",
       "      <td>870.389878</td>\n",
       "      <td>2018</td>\n",
       "      <td>3.8917</td>\n",
       "      <td>...</td>\n",
       "      <td>Australia</td>\n",
       "      <td>Brick &amp; Mortar</td>\n",
       "      <td>Retailer</td>\n",
       "      <td>0.0188</td>\n",
       "      <td>0.005</td>\n",
       "      <td>38.963776</td>\n",
       "      <td>10.362707</td>\n",
       "      <td>660.323383</td>\n",
       "      <td>24.134759</td>\n",
       "      <td>210.066495</td>\n",
       "    </tr>\n",
       "    <tr>\n",
       "      <th>2</th>\n",
       "      <td>2017-09-01</td>\n",
       "      <td>A6218160101</td>\n",
       "      <td>90008166</td>\n",
       "      <td>126</td>\n",
       "      <td>2018</td>\n",
       "      <td>1663.3134</td>\n",
       "      <td>1183.649231</td>\n",
       "      <td>647.680403</td>\n",
       "      <td>2018</td>\n",
       "      <td>3.8917</td>\n",
       "      <td>...</td>\n",
       "      <td>Australia</td>\n",
       "      <td>Brick &amp; Mortar</td>\n",
       "      <td>Retailer</td>\n",
       "      <td>0.0188</td>\n",
       "      <td>0.005</td>\n",
       "      <td>31.270292</td>\n",
       "      <td>8.316567</td>\n",
       "      <td>529.941059</td>\n",
       "      <td>18.178618</td>\n",
       "      <td>117.739344</td>\n",
       "    </tr>\n",
       "    <tr>\n",
       "      <th>3</th>\n",
       "      <td>2017-09-01</td>\n",
       "      <td>A6218160101</td>\n",
       "      <td>90008167</td>\n",
       "      <td>160</td>\n",
       "      <td>2018</td>\n",
       "      <td>2112.1440</td>\n",
       "      <td>1700.914928</td>\n",
       "      <td>996.808779</td>\n",
       "      <td>2018</td>\n",
       "      <td>3.8917</td>\n",
       "      <td>...</td>\n",
       "      <td>Australia</td>\n",
       "      <td>Brick &amp; Mortar</td>\n",
       "      <td>Retailer</td>\n",
       "      <td>0.0188</td>\n",
       "      <td>0.005</td>\n",
       "      <td>39.708307</td>\n",
       "      <td>10.560720</td>\n",
       "      <td>672.941027</td>\n",
       "      <td>32.490459</td>\n",
       "      <td>323.867752</td>\n",
       "    </tr>\n",
       "    <tr>\n",
       "      <th>4</th>\n",
       "      <td>2017-09-01</td>\n",
       "      <td>A6218160101</td>\n",
       "      <td>70008170</td>\n",
       "      <td>120</td>\n",
       "      <td>2018</td>\n",
       "      <td>1584.1080</td>\n",
       "      <td>1283.693887</td>\n",
       "      <td>789.431187</td>\n",
       "      <td>2018</td>\n",
       "      <td>3.8917</td>\n",
       "      <td>...</td>\n",
       "      <td>Australia</td>\n",
       "      <td>E-Commerce</td>\n",
       "      <td>Direct</td>\n",
       "      <td>0.0188</td>\n",
       "      <td>0.005</td>\n",
       "      <td>29.781230</td>\n",
       "      <td>7.920540</td>\n",
       "      <td>504.705770</td>\n",
       "      <td>36.067161</td>\n",
       "      <td>284.725417</td>\n",
       "    </tr>\n",
       "  </tbody>\n",
       "</table>\n",
       "<p>5 rows × 22 columns</p>\n",
       "</div>"
      ],
      "text/plain": [
       "        date product_code  customer_code  sold_quantity  fiscal_year  \\\n",
       "0 2017-09-01  A6218160101       70008169             81         2018   \n",
       "1 2017-09-01  A6218160101       90008165            157         2018   \n",
       "2 2017-09-01  A6218160101       90008166            126         2018   \n",
       "3 2017-09-01  A6218160101       90008167            160         2018   \n",
       "4 2017-09-01  A6218160101       70008170            120         2018   \n",
       "\n",
       "   gross_sales  net_invoice_sales   net_sales  cost_year  manufacturing_cost  \\\n",
       "0    1069.2729         967.319139  673.989914       2018              3.8917   \n",
       "1    2072.5413        1482.119149  870.389878       2018              3.8917   \n",
       "2    1663.3134        1183.649231  647.680403       2018              3.8917   \n",
       "3    2112.1440        1700.914928  996.808779       2018              3.8917   \n",
       "4    1584.1080        1283.693887  789.431187       2018              3.8917   \n",
       "\n",
       "   ...     market        platform   channel freight_pct other_cost_pct  \\\n",
       "0  ...  Australia  Brick & Mortar    Direct      0.0188          0.005   \n",
       "1  ...  Australia  Brick & Mortar  Retailer      0.0188          0.005   \n",
       "2  ...  Australia  Brick & Mortar  Retailer      0.0188          0.005   \n",
       "3  ...  Australia  Brick & Mortar  Retailer      0.0188          0.005   \n",
       "4  ...  Australia      E-Commerce    Direct      0.0188          0.005   \n",
       "\n",
       "   freight_amount  other_amount  cost_of_goods  gross_margin_pct  net_profit  \n",
       "0       20.102331      5.346365     340.676395         49.453784  333.313519  \n",
       "1       38.963776     10.362707     660.323383         24.134759  210.066495  \n",
       "2       31.270292      8.316567     529.941059         18.178618  117.739344  \n",
       "3       39.708307     10.560720     672.941027         32.490459  323.867752  \n",
       "4       29.781230      7.920540     504.705770         36.067161  284.725417  \n",
       "\n",
       "[5 rows x 22 columns]"
      ]
     },
     "execution_count": 124,
     "metadata": {},
     "output_type": "execute_result"
    }
   ],
   "source": [
    "# calculate cost_of_goods\n",
    "\n",
    "merge['cost_of_goods'] = merge['gross_manufacturling_costs'] + merge['freight_amount'] + merge['other_amount']\n",
    "\n",
    "# calculate gross_margin\n",
    "\n",
    "merge['gross_margin_pct'] = ((merge['net_sales'] - merge['cost_of_goods']) / merge['net_sales']) * 100\n",
    "\n",
    "# calculate net_profit\n",
    "\n",
    "merge['net_profit'] = merge['net_sales'] - merge['cost_of_goods']\n",
    "\n",
    "merge.head(5)"
   ]
  },
  {
   "cell_type": "code",
   "execution_count": 125,
   "id": "670cd3d0-93b0-4133-8b78-47479952b778",
   "metadata": {
    "tags": []
   },
   "outputs": [
    {
     "data": {
      "text/html": [
       "<div>\n",
       "<style scoped>\n",
       "    .dataframe tbody tr th:only-of-type {\n",
       "        vertical-align: middle;\n",
       "    }\n",
       "\n",
       "    .dataframe tbody tr th {\n",
       "        vertical-align: top;\n",
       "    }\n",
       "\n",
       "    .dataframe thead th {\n",
       "        text-align: right;\n",
       "    }\n",
       "</style>\n",
       "<table border=\"1\" class=\"dataframe\">\n",
       "  <thead>\n",
       "    <tr style=\"text-align: right;\">\n",
       "      <th></th>\n",
       "      <th>date</th>\n",
       "      <th>product_code</th>\n",
       "      <th>customer_code</th>\n",
       "      <th>sold_quantity</th>\n",
       "      <th>fiscal_year</th>\n",
       "      <th>gross_sales</th>\n",
       "      <th>net_invoice_sales</th>\n",
       "      <th>net_sales</th>\n",
       "      <th>cost_of_goods</th>\n",
       "      <th>gross_margin_pct</th>\n",
       "      <th>net_profit</th>\n",
       "    </tr>\n",
       "  </thead>\n",
       "  <tbody>\n",
       "    <tr>\n",
       "      <th>0</th>\n",
       "      <td>2017-09-01</td>\n",
       "      <td>A6218160101</td>\n",
       "      <td>70008169</td>\n",
       "      <td>81</td>\n",
       "      <td>2018</td>\n",
       "      <td>1069.2729</td>\n",
       "      <td>967.319139</td>\n",
       "      <td>673.989914</td>\n",
       "      <td>340.676395</td>\n",
       "      <td>49.453784</td>\n",
       "      <td>333.313519</td>\n",
       "    </tr>\n",
       "    <tr>\n",
       "      <th>1</th>\n",
       "      <td>2017-09-01</td>\n",
       "      <td>A6218160101</td>\n",
       "      <td>90008165</td>\n",
       "      <td>157</td>\n",
       "      <td>2018</td>\n",
       "      <td>2072.5413</td>\n",
       "      <td>1482.119149</td>\n",
       "      <td>870.389878</td>\n",
       "      <td>660.323383</td>\n",
       "      <td>24.134759</td>\n",
       "      <td>210.066495</td>\n",
       "    </tr>\n",
       "    <tr>\n",
       "      <th>2</th>\n",
       "      <td>2017-09-01</td>\n",
       "      <td>A6218160101</td>\n",
       "      <td>90008166</td>\n",
       "      <td>126</td>\n",
       "      <td>2018</td>\n",
       "      <td>1663.3134</td>\n",
       "      <td>1183.649231</td>\n",
       "      <td>647.680403</td>\n",
       "      <td>529.941059</td>\n",
       "      <td>18.178618</td>\n",
       "      <td>117.739344</td>\n",
       "    </tr>\n",
       "    <tr>\n",
       "      <th>3</th>\n",
       "      <td>2017-09-01</td>\n",
       "      <td>A6218160101</td>\n",
       "      <td>90008167</td>\n",
       "      <td>160</td>\n",
       "      <td>2018</td>\n",
       "      <td>2112.1440</td>\n",
       "      <td>1700.914928</td>\n",
       "      <td>996.808779</td>\n",
       "      <td>672.941027</td>\n",
       "      <td>32.490459</td>\n",
       "      <td>323.867752</td>\n",
       "    </tr>\n",
       "    <tr>\n",
       "      <th>4</th>\n",
       "      <td>2017-09-01</td>\n",
       "      <td>A6218160101</td>\n",
       "      <td>70008170</td>\n",
       "      <td>120</td>\n",
       "      <td>2018</td>\n",
       "      <td>1584.1080</td>\n",
       "      <td>1283.693887</td>\n",
       "      <td>789.431187</td>\n",
       "      <td>504.705770</td>\n",
       "      <td>36.067161</td>\n",
       "      <td>284.725417</td>\n",
       "    </tr>\n",
       "  </tbody>\n",
       "</table>\n",
       "</div>"
      ],
      "text/plain": [
       "        date product_code  customer_code  sold_quantity  fiscal_year  \\\n",
       "0 2017-09-01  A6218160101       70008169             81         2018   \n",
       "1 2017-09-01  A6218160101       90008165            157         2018   \n",
       "2 2017-09-01  A6218160101       90008166            126         2018   \n",
       "3 2017-09-01  A6218160101       90008167            160         2018   \n",
       "4 2017-09-01  A6218160101       70008170            120         2018   \n",
       "\n",
       "   gross_sales  net_invoice_sales   net_sales  cost_of_goods  \\\n",
       "0    1069.2729         967.319139  673.989914     340.676395   \n",
       "1    2072.5413        1482.119149  870.389878     660.323383   \n",
       "2    1663.3134        1183.649231  647.680403     529.941059   \n",
       "3    2112.1440        1700.914928  996.808779     672.941027   \n",
       "4    1584.1080        1283.693887  789.431187     504.705770   \n",
       "\n",
       "   gross_margin_pct  net_profit  \n",
       "0         49.453784  333.313519  \n",
       "1         24.134759  210.066495  \n",
       "2         18.178618  117.739344  \n",
       "3         32.490459  323.867752  \n",
       "4         36.067161  284.725417  "
      ]
     },
     "execution_count": 125,
     "metadata": {},
     "output_type": "execute_result"
    }
   ],
   "source": [
    "sc_fact_sales_monthly = merge.drop(['cost_year', 'manufacturing_cost', 'gross_manufacturling_costs', 'customer', 'market', 'platform', 'channel', 'freight_pct', 'other_cost_pct', 'freight_amount', 'other_amount'], axis=1).copy()\n",
    "\n",
    "sc_fact_sales_monthly.head(5)"
   ]
  },
  {
   "cell_type": "markdown",
   "id": "abeb8ae6-d7d2-4bfb-a3f5-c44fc9f850f4",
   "metadata": {
    "tags": []
   },
   "source": [
    "## Split dataframe into two to save on file size"
   ]
  },
  {
   "cell_type": "code",
   "execution_count": 126,
   "id": "75e36d35-4f05-4628-91f0-c3221fa0ff4c",
   "metadata": {
    "tags": []
   },
   "outputs": [
    {
     "data": {
      "text/plain": [
       "2021    635151\n",
       "2020    516648\n",
       "2022    432630\n",
       "2019    317775\n",
       "2018    134280\n",
       "2017     26592\n",
       "Name: date, dtype: int64"
      ]
     },
     "execution_count": 126,
     "metadata": {},
     "output_type": "execute_result"
    }
   ],
   "source": [
    "sc_post_invoice_deductions['date'].dt.year.value_counts()"
   ]
  },
  {
   "cell_type": "code",
   "execution_count": 127,
   "id": "bb2fbbd9-024e-476e-8f78-df9e67ecd9b9",
   "metadata": {
    "tags": []
   },
   "outputs": [
    {
     "name": "stdout",
     "output_type": "stream",
     "text": [
      "995295\n",
      "1067781\n"
     ]
    }
   ],
   "source": [
    "# split dataframe into two to save on file size\n",
    "\n",
    "print(sc_post_invoice_deductions[sc_post_invoice_deductions['date'].dt.year <= 2020]['date'].dt.year.value_counts().sum())\n",
    "print(sc_post_invoice_deductions[sc_post_invoice_deductions['date'].dt.year > 2020]['date'].dt.year.value_counts().sum())"
   ]
  },
  {
   "cell_type": "code",
   "execution_count": 128,
   "id": "9fe2eed5-0b55-4122-9469-fb19985cc42e",
   "metadata": {
    "tags": []
   },
   "outputs": [],
   "source": [
    "sc_post_invoice_deductions_18_20 = sc_post_invoice_deductions[sc_post_invoice_deductions['date'].dt.year <= 2020].reset_index().drop('index', axis=1)\n",
    "sc_post_invoice_deductions_21_22 = sc_post_invoice_deductions[sc_post_invoice_deductions['date'].dt.year > 2020].reset_index().drop('index', axis=1)"
   ]
  },
  {
   "cell_type": "code",
   "execution_count": 129,
   "id": "2d1246b6-07d6-4c75-8ca2-ebe5555bdd37",
   "metadata": {
    "tags": []
   },
   "outputs": [
    {
     "data": {
      "text/plain": [
       "Index                        132\n",
       "customer_code            4271124\n",
       "product_code            72609108\n",
       "date                     8542248\n",
       "discounts_pct            8542248\n",
       "other_deductions_pct     8542248\n",
       "fiscal_year              2135562\n",
       "dtype: int64"
      ]
     },
     "execution_count": 129,
     "metadata": {},
     "output_type": "execute_result"
    }
   ],
   "source": [
    "# check memory usage by column\n",
    "\n",
    "sc_post_invoice_deductions_21_22.memory_usage(deep=True)"
   ]
  },
  {
   "cell_type": "code",
   "execution_count": 130,
   "id": "2a6660cd-3fa3-4c48-b876-66479ef0b9e0",
   "metadata": {
    "tags": []
   },
   "outputs": [
    {
     "data": {
      "text/plain": [
       "Index                        132\n",
       "customer_code            3981180\n",
       "product_code            67680060\n",
       "date                     7962360\n",
       "discounts_pct            7962360\n",
       "other_deductions_pct     7962360\n",
       "fiscal_year              1990590\n",
       "dtype: int64"
      ]
     },
     "execution_count": 130,
     "metadata": {},
     "output_type": "execute_result"
    }
   ],
   "source": [
    "# check memory usage by column\n",
    "\n",
    "sc_post_invoice_deductions_18_20.memory_usage(deep=True)"
   ]
  },
  {
   "cell_type": "markdown",
   "id": "531b9fa2-5c36-43a7-b6dd-e16c9a6751a6",
   "metadata": {
    "tags": []
   },
   "source": [
    "## Reorganize columns"
   ]
  },
  {
   "cell_type": "code",
   "execution_count": 131,
   "id": "f176bf8b-b34d-4a66-a7b1-d7427f5d7b86",
   "metadata": {
    "tags": []
   },
   "outputs": [],
   "source": [
    "# Move customer_code to first column\n",
    "\n",
    "sc_dim_customer = sc_dim_customer[['customer_code', 'customer', 'market', 'platform', 'channel']]\n",
    "\n",
    "# Move product to second column\n",
    "\n",
    "sc_dim_product = sc_dim_product[['product_code', 'product', 'division', 'segment', 'category', 'variant']]\n",
    "\n",
    "# Move fiscal year nextto date\n",
    "\n",
    "sc_fact_forecast_monthly = sc_fact_forecast_monthly[['date', 'fiscal_year', 'product_code', 'customer_code', 'forecast_quantity']]\n",
    "sc_fact_sales_monthly = sc_fact_sales_monthly[['date', 'fiscal_year', 'product_code', 'customer_code', 'sold_quantity', 'gross_sales', 'net_invoice_sales', 'net_sales', 'cost_of_goods', 'gross_margin_pct', 'net_profit']]\n",
    "sc_post_invoice_deductions_18_20 = sc_post_invoice_deductions_18_20[['date', 'fiscal_year', 'customer_code', 'product_code', 'discounts_pct', 'other_deductions_pct']]\n",
    "sc_post_invoice_deductions_21_22 = sc_post_invoice_deductions_21_22[['date', 'fiscal_year', 'customer_code', 'product_code', 'discounts_pct', 'other_deductions_pct']]"
   ]
  },
  {
   "cell_type": "markdown",
   "id": "01c12e87-1f8f-4f73-84ac-88b010035a0f",
   "metadata": {
    "tags": []
   },
   "source": [
    "## Save dataframes"
   ]
  },
  {
   "cell_type": "code",
   "execution_count": 132,
   "id": "3cde2468-3c2f-4964-a60c-1bb4ad66b32a",
   "metadata": {
    "tags": []
   },
   "outputs": [
    {
     "name": "stdout",
     "output_type": "stream",
     "text": [
      "Stored 'sc_dataframes_cleaned' (dict)\n"
     ]
    }
   ],
   "source": [
    "# Save dtaframes into a new dictionary\n",
    "\n",
    "sc_dataframes_cleaned = {\n",
    "    'sc_dim_customer': sc_dim_customer,\n",
    "    'sc_dim_market': sc_dim_market,\n",
    "    'sc_dim_product': sc_dim_product,\n",
    "    'sc_fact_forecast_monthly': sc_fact_forecast_monthly,\n",
    "    'sc_fact_sales_monthly': sc_fact_sales_monthly,\n",
    "    'sc_freight_cost': sc_freight_cost,\n",
    "    'sc_gross_price': sc_gross_price,\n",
    "    'sc_manufacturing_cost': sc_manufacturing_cost,\n",
    "    'sc_post_invoice_deductions_18_20': sc_post_invoice_deductions_18_20,\n",
    "    'sc_post_invoice_deductions_21_22': sc_post_invoice_deductions_21_22,\n",
    "    'sc_pre_invoice_deductions': sc_pre_invoice_deductions,\n",
    "}\n",
    "\n",
    "%store sc_dataframes_cleaned"
   ]
  },
  {
   "cell_type": "code",
   "execution_count": null,
   "id": "d39ea2ad-abd6-412c-98be-f1d68aa5f98b",
   "metadata": {},
   "outputs": [],
   "source": []
  }
 ],
 "metadata": {
  "kernelspec": {
   "display_name": "Python 3 (ipykernel)",
   "language": "python",
   "name": "python3"
  },
  "language_info": {
   "codemirror_mode": {
    "name": "ipython",
    "version": 3
   },
   "file_extension": ".py",
   "mimetype": "text/x-python",
   "name": "python",
   "nbconvert_exporter": "python",
   "pygments_lexer": "ipython3",
   "version": "3.11.4"
  }
 },
 "nbformat": 4,
 "nbformat_minor": 5
}
