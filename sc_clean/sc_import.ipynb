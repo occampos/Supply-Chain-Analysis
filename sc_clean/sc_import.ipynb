{
 "cells": [
  {
   "cell_type": "markdown",
   "id": "4ceca4a3-1e31-4bbd-af46-3992736bc68e",
   "metadata": {
    "tags": []
   },
   "source": [
    "# supply_chain"
   ]
  },
  {
   "cell_type": "markdown",
   "id": "8283051a-5012-4b68-bfeb-333a9df52382",
   "metadata": {
    "tags": []
   },
   "source": [
    "### import libraries"
   ]
  },
  {
   "cell_type": "code",
   "execution_count": 1,
   "id": "602f736b-5a2d-4b23-a8fc-fc2f686aa1cc",
   "metadata": {},
   "outputs": [],
   "source": [
    "import pandas as pd\n",
    "import mysql.connector"
   ]
  },
  {
   "cell_type": "markdown",
   "id": "43b731cf-c697-44d0-93e4-9df8598f2cd8",
   "metadata": {
    "tags": []
   },
   "source": [
    "### gdb041"
   ]
  },
  {
   "cell_type": "code",
   "execution_count": 2,
   "id": "a3775345-04d4-4258-bb81-9ff7df05c14c",
   "metadata": {
    "tags": []
   },
   "outputs": [],
   "source": [
    "# Connect to the MySQL database\n",
    "cnx_gdb041 = mysql.connector.connect(\n",
    "    host=\"localhost\",\n",
    "    user=\"root\",\n",
    "    password=\"E99!S%4v\",\n",
    "    database=\"gdb041\"\n",
    ")\n",
    "\n",
    "# Create a cursor object\n",
    "cursor_gdb041 = cnx_gdb041.cursor()\n",
    "\n",
    "# Retrieve a list of all tables in the database\n",
    "cursor_gdb041.execute(\"SHOW TABLES\")\n",
    "tables_gdb041 = cursor_gdb041.fetchall()"
   ]
  },
  {
   "cell_type": "code",
   "execution_count": 3,
   "id": "decc0a7c-21af-4c44-be3f-10bed2da13fc",
   "metadata": {
    "tags": []
   },
   "outputs": [
    {
     "data": {
      "text/plain": [
       "[('dim_customer',),\n",
       " ('dim_market',),\n",
       " ('dim_product',),\n",
       " ('fact_forecast_monthly',),\n",
       " ('fact_sales_monthly',)]"
      ]
     },
     "execution_count": 3,
     "metadata": {},
     "output_type": "execute_result"
    }
   ],
   "source": [
    "tables_gdb041"
   ]
  },
  {
   "cell_type": "code",
   "execution_count": 4,
   "id": "8d5f9a39-eda2-4959-8b25-6ca3e0e5167d",
   "metadata": {
    "tags": []
   },
   "outputs": [],
   "source": [
    "# Create an empty dictionary to store DataFrames\n",
    "sc_dataframes = {}\n",
    "\n",
    "# Iterate over each table\n",
    "for table in tables_gdb041:\n",
    "    table_name = table[0]\n",
    "    \n",
    "    # Fetch data from the table\n",
    "    cursor_gdb041.execute(f\"SELECT * FROM {table_name}\")\n",
    "    table_values = cursor_gdb041.fetchall()\n",
    "    \n",
    "    # Get column names from the cursor description\n",
    "    column_names = [column[0] for column in cursor_gdb041.description]\n",
    "    \n",
    "    # Create a DataFrame for the table data\n",
    "    df = pd.DataFrame(table_values, columns=column_names)\n",
    "    \n",
    "    # Store the DataFrame in the dictionary with the table name as the key\n",
    "    sc_dataframes[table_name] = df\n",
    "    \n",
    "# Close the cursor and connection\n",
    "cursor_gdb041.close()\n",
    "cnx_gdb041.close()"
   ]
  },
  {
   "cell_type": "code",
   "execution_count": 5,
   "id": "14888c7d-ee21-46cb-996b-dfbc4daa7ef5",
   "metadata": {
    "tags": []
   },
   "outputs": [
    {
     "data": {
      "text/plain": [
       "dict_keys(['dim_customer', 'dim_market', 'dim_product', 'fact_forecast_monthly', 'fact_sales_monthly'])"
      ]
     },
     "execution_count": 5,
     "metadata": {},
     "output_type": "execute_result"
    }
   ],
   "source": [
    "sc_dataframes.keys()"
   ]
  },
  {
   "cell_type": "markdown",
   "id": "5a056410-cdd7-4ec6-ae9c-c3eacbc78aaa",
   "metadata": {
    "tags": []
   },
   "source": [
    "### gdb056"
   ]
  },
  {
   "cell_type": "code",
   "execution_count": 6,
   "id": "16918fe2-52b1-424e-96a7-b49f14411039",
   "metadata": {
    "tags": []
   },
   "outputs": [],
   "source": [
    "# Connect to the MySQL database\n",
    "cnx_gdb056 = mysql.connector.connect(\n",
    "    host=\"localhost\",\n",
    "    user=\"root\",\n",
    "    password=\"E99!S%4v\",\n",
    "    database=\"gdb056\"\n",
    ")\n",
    "\n",
    "# Create a cursor object\n",
    "cursor_gdb056 = cnx_gdb056.cursor()\n",
    "\n",
    "# Retrieve a list of all tables in the database\n",
    "cursor_gdb056.execute(\"SHOW TABLES\")\n",
    "tables_gdb056 = cursor_gdb056.fetchall()"
   ]
  },
  {
   "cell_type": "code",
   "execution_count": 7,
   "id": "35deb5b8-7574-4229-9bf7-79ea7158a67a",
   "metadata": {
    "tags": []
   },
   "outputs": [
    {
     "data": {
      "text/plain": [
       "[('freight_cost',),\n",
       " ('gross_price',),\n",
       " ('manufacturing_cost',),\n",
       " ('post_invoice_deductions',),\n",
       " ('pre_invoice_deductions',)]"
      ]
     },
     "execution_count": 7,
     "metadata": {},
     "output_type": "execute_result"
    }
   ],
   "source": [
    "tables_gdb056"
   ]
  },
  {
   "cell_type": "code",
   "execution_count": 8,
   "id": "1d290ccc-684f-4b35-b101-321c21d7775a",
   "metadata": {
    "tags": []
   },
   "outputs": [],
   "source": [
    "# Iterate over each table\n",
    "for table in tables_gdb056:\n",
    "    table_name = table[0]\n",
    "    \n",
    "    # Fetch data from the table\n",
    "    cursor_gdb056.execute(f\"SELECT * FROM {table_name}\")\n",
    "    table_values = cursor_gdb056.fetchall()\n",
    "    \n",
    "    # Get column names from the cursor description\n",
    "    column_names = [column[0] for column in cursor_gdb056.description]\n",
    "    \n",
    "    # Create a DataFrame for the table data\n",
    "    df = pd.DataFrame(table_values, columns=column_names)\n",
    "    \n",
    "    # Store the DataFrame in the dictionary with the table name as the key\n",
    "    sc_dataframes[table_name] = df\n",
    "    \n",
    "# Close the cursor and connection\n",
    "cursor_gdb056.close()\n",
    "cnx_gdb056.close()"
   ]
  },
  {
   "cell_type": "code",
   "execution_count": 9,
   "id": "6a152527-0ac8-41c2-bada-ff5408a8eb9b",
   "metadata": {
    "tags": []
   },
   "outputs": [
    {
     "data": {
      "text/plain": [
       "dict_keys(['dim_customer', 'dim_market', 'dim_product', 'fact_forecast_monthly', 'fact_sales_monthly', 'freight_cost', 'gross_price', 'manufacturing_cost', 'post_invoice_deductions', 'pre_invoice_deductions'])"
      ]
     },
     "execution_count": 9,
     "metadata": {},
     "output_type": "execute_result"
    }
   ],
   "source": [
    "sc_dataframes.keys()"
   ]
  },
  {
   "cell_type": "markdown",
   "id": "56fb3e6a-3f0a-488d-9d90-53a0867082da",
   "metadata": {},
   "source": [
    "### Save dictionary containing dataframes"
   ]
  },
  {
   "cell_type": "code",
   "execution_count": 10,
   "id": "716fa53e-2b20-4635-ae4d-2cd2a81ae3ee",
   "metadata": {
    "tags": []
   },
   "outputs": [
    {
     "name": "stdout",
     "output_type": "stream",
     "text": [
      "Stored 'sc_dataframes' (dict)\n"
     ]
    }
   ],
   "source": [
    "%store sc_dataframes"
   ]
  },
  {
   "cell_type": "code",
   "execution_count": 11,
   "id": "4f52ea1b-7246-4510-81a2-2b4ba127f554",
   "metadata": {},
   "outputs": [
    {
     "ename": "NameError",
     "evalue": "name 'sc_dataframes_cleaned' is not defined",
     "output_type": "error",
     "traceback": [
      "\u001b[1;31m---------------------------------------------------------------------------\u001b[0m",
      "\u001b[1;31mNameError\u001b[0m                                 Traceback (most recent call last)",
      "Cell \u001b[1;32mIn[11], line 1\u001b[0m\n\u001b[1;32m----> 1\u001b[0m sc_dataframes_cleaned[\u001b[38;5;124m'\u001b[39m\u001b[38;5;124msc_post_invoice_deductions_21_22\u001b[39m\u001b[38;5;124m'\u001b[39m]\u001b[38;5;241m.\u001b[39mto_parquet(\u001b[38;5;124mr\u001b[39m\u001b[38;5;124m\"\u001b[39m\u001b[38;5;124mC:\u001b[39m\u001b[38;5;124m\\\u001b[39m\u001b[38;5;124mUsers\u001b[39m\u001b[38;5;124m\\\u001b[39m\u001b[38;5;124mOlimpio Chris Campos\u001b[39m\u001b[38;5;124m\\\u001b[39m\u001b[38;5;124mDesktop\u001b[39m\u001b[38;5;124m\\\u001b[39m\u001b[38;5;124mAnalyst\u001b[39m\u001b[38;5;124m\\\u001b[39m\u001b[38;5;124mProjects Final\u001b[39m\u001b[38;5;124m\\\u001b[39m\u001b[38;5;124mSupply Chain Analysis\u001b[39m\u001b[38;5;124m\\\u001b[39m\u001b[38;5;124mdata_files\u001b[39m\u001b[38;5;124m\\\u001b[39m\u001b[38;5;124msc_pre_invoice_deductions.snappy\u001b[39m\u001b[38;5;124m\"\u001b[39m, compression\u001b[38;5;241m=\u001b[39m\u001b[38;5;124m'\u001b[39m\u001b[38;5;124msnappy\u001b[39m\u001b[38;5;124m'\u001b[39m, index\u001b[38;5;241m=\u001b[39m\u001b[38;5;28;01mFalse\u001b[39;00m)\n",
      "\u001b[1;31mNameError\u001b[0m: name 'sc_dataframes_cleaned' is not defined"
     ]
    }
   ],
   "source": [
    "sc_dataframes_cleaned['sc_post_invoice_deductions_21_22'].to_parquet(r\"C:\\Users\\Olimpio Chris Campos\\Desktop\\Analyst\\Projects Final\\Supply Chain Analysis\\data_files\\sc_pre_invoice_deductions.snappy\", compression='snappy', index=False)"
   ]
  }
 ],
 "metadata": {
  "kernelspec": {
   "display_name": "Python 3 (ipykernel)",
   "language": "python",
   "name": "python3"
  },
  "language_info": {
   "codemirror_mode": {
    "name": "ipython",
    "version": 3
   },
   "file_extension": ".py",
   "mimetype": "text/x-python",
   "name": "python",
   "nbconvert_exporter": "python",
   "pygments_lexer": "ipython3",
   "version": "3.11.4"
  }
 },
 "nbformat": 4,
 "nbformat_minor": 5
}
