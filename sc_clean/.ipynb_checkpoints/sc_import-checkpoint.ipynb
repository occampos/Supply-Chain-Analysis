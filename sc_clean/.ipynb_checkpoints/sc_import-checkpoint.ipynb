{
 "cells": [
  {
   "cell_type": "markdown",
   "id": "4ceca4a3-1e31-4bbd-af46-3992736bc68e",
   "metadata": {
    "tags": []
   },
   "source": [
    "# supply_chain"
   ]
  },
  {
   "cell_type": "markdown",
   "id": "8283051a-5012-4b68-bfeb-333a9df52382",
   "metadata": {
    "tags": []
   },
   "source": [
    "### import libraries"
   ]
  },
  {
   "cell_type": "code",
   "execution_count": 1,
   "id": "602f736b-5a2d-4b23-a8fc-fc2f686aa1cc",
   "metadata": {},
   "outputs": [],
   "source": [
    "import pandas as pd\n",
    "import mysql.connector"
   ]
  },
  {
   "cell_type": "markdown",
   "id": "43b731cf-c697-44d0-93e4-9df8598f2cd8",
   "metadata": {
    "tags": []
   },
   "source": [
    "### gdb041"
   ]
  },
  {
   "cell_type": "code",
   "execution_count": 2,
   "id": "a3775345-04d4-4258-bb81-9ff7df05c14c",
   "metadata": {
    "tags": []
   },
   "outputs": [],
   "source": [
    "# Connect to the MySQL database\n",
    "cnx_gdb041 = mysql.connector.connect(\n",
    "    host=\"localhost\",\n",
    "    user=\"root\",\n",
    "    password=\"#####\",\n",
    "    database=\"gdb041\"\n",
    ")\n",
    "\n",
    "# Create a cursor object\n",
    "cursor_gdb041 = cnx_gdb041.cursor()\n",
    "\n",
    "# Retrieve a list of all tables in the database\n",
    "cursor_gdb041.execute(\"SHOW TABLES\")\n",
    "tables_gdb041 = cursor_gdb041.fetchall()"
   ]
  },
  {
   "cell_type": "code",
   "execution_count": 3,
   "id": "decc0a7c-21af-4c44-be3f-10bed2da13fc",
   "metadata": {
    "tags": []
   },
   "outputs": [
    {
     "data": {
      "text/plain": [
       "[('dim_customer',),\n",
       " ('dim_market',),\n",
       " ('dim_product',),\n",
       " ('fact_forecast_monthly',),\n",
       " ('fact_sales_monthly',),\n",
       " ('freight_cost',),\n",
       " ('gross_price',),\n",
       " ('manufacturing_cost',),\n",
       " ('post_invoice_deductions',),\n",
       " ('pre_invoice_deductions',)]"
      ]
     },
     "execution_count": 3,
     "metadata": {},
     "output_type": "execute_result"
    }
   ],
   "source": [
    "tables_gdb041"
   ]
  },
  {
   "cell_type": "code",
   "execution_count": 4,
   "id": "8d5f9a39-eda2-4959-8b25-6ca3e0e5167d",
   "metadata": {
    "tags": []
   },
   "outputs": [],
   "source": [
    "# Create an empty dictionary to store DataFrames\n",
    "sc_dataframes = {}\n",
    "\n",
    "# Iterate over each table\n",
    "for table in tables_gdb041:\n",
    "    table_name = table[0]\n",
    "    \n",
    "    # Fetch data from the table\n",
    "    cursor_gdb041.execute(f\"SELECT * FROM {table_name}\")\n",
    "    table_values = cursor_gdb041.fetchall()\n",
    "    \n",
    "    # Get column names from the cursor description\n",
    "    column_names = [column[0] for column in cursor_gdb041.description]\n",
    "    \n",
    "    # Create a DataFrame for the table data\n",
    "    df = pd.DataFrame(table_values, columns=column_names)\n",
    "    \n",
    "    # Store the DataFrame in the dictionary with the table name as the key\n",
    "    sc_dataframes[table_name] = df\n",
    "    \n",
    "# Close the cursor and connection\n",
    "cursor_gdb041.close()\n",
    "cnx_gdb041.close()"
   ]
  },
  {
   "cell_type": "code",
   "execution_count": 5,
   "id": "14888c7d-ee21-46cb-996b-dfbc4daa7ef5",
   "metadata": {
    "tags": []
   },
   "outputs": [
    {
     "data": {
      "text/plain": [
       "dict_keys(['dim_customer', 'dim_market', 'dim_product', 'fact_forecast_monthly', 'fact_sales_monthly', 'freight_cost', 'gross_price', 'manufacturing_cost', 'post_invoice_deductions', 'pre_invoice_deductions'])"
      ]
     },
     "execution_count": 5,
     "metadata": {},
     "output_type": "execute_result"
    }
   ],
   "source": [
    "sc_dataframes.keys()"
   ]
  },
  {
   "cell_type": "markdown",
   "id": "56fb3e6a-3f0a-488d-9d90-53a0867082da",
   "metadata": {},
   "source": [
    "### Save dictionary containing dataframes"
   ]
  },
  {
   "cell_type": "code",
   "execution_count": 6,
   "id": "716fa53e-2b20-4635-ae4d-2cd2a81ae3ee",
   "metadata": {
    "tags": []
   },
   "outputs": [
    {
     "name": "stdout",
     "output_type": "stream",
     "text": [
      "Stored 'sc_dataframes' (dict)\n"
     ]
    }
   ],
   "source": [
    "%store sc_dataframes"
   ]
  }
 ],
 "metadata": {
  "kernelspec": {
   "display_name": "Python 3 (ipykernel)",
   "language": "python",
   "name": "python3"
  },
  "language_info": {
   "codemirror_mode": {
    "name": "ipython",
    "version": 3
   },
   "file_extension": ".py",
   "mimetype": "text/x-python",
   "name": "python",
   "nbconvert_exporter": "python",
   "pygments_lexer": "ipython3",
   "version": "3.11.4"
  }
 },
 "nbformat": 4,
 "nbformat_minor": 5
}
