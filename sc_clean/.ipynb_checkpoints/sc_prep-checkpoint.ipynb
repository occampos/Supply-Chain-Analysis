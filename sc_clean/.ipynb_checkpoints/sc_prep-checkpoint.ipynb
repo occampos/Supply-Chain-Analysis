{
 "cells": [
  {
   "cell_type": "markdown",
   "id": "8949fe3e-7c5a-4d0c-9b9a-4a04289abca6",
   "metadata": {
    "jp-MarkdownHeadingCollapsed": true,
    "tags": []
   },
   "source": [
    "## import libraries"
   ]
  },
  {
   "cell_type": "code",
   "execution_count": 1,
   "id": "9deed6f4-8a95-496d-909f-22f93655a4a5",
   "metadata": {
    "tags": []
   },
   "outputs": [],
   "source": [
    "import pandas as pd\n",
    "import numpy as np\n",
    "import seaborn as sns\n",
    "import matplotlib.pyplot as plt\n",
    "from matplotlib.ticker import FixedLocator, MaxNLocator"
   ]
  },
  {
   "cell_type": "markdown",
   "id": "076075f7-d5dc-488c-8f76-1db7fa788415",
   "metadata": {
    "jp-MarkdownHeadingCollapsed": true,
    "tags": []
   },
   "source": [
    "## settings"
   ]
  },
  {
   "cell_type": "code",
   "execution_count": 2,
   "id": "169ba364-a276-4107-934e-879ed1f1ada8",
   "metadata": {
    "tags": []
   },
   "outputs": [],
   "source": [
    "pd.set_option('display.max_rows', 20)\n",
    "\n",
    "%matplotlib inline"
   ]
  },
  {
   "cell_type": "markdown",
   "id": "7924c4f2-60dc-4084-b977-66d1d370b364",
   "metadata": {
    "jp-MarkdownHeadingCollapsed": true,
    "tags": []
   },
   "source": [
    "## import data"
   ]
  },
  {
   "cell_type": "code",
   "execution_count": 3,
   "id": "cde857bc-5547-49bc-a8c0-a9a44a782b0f",
   "metadata": {
    "tags": []
   },
   "outputs": [],
   "source": [
    "%store -r sc_dataframes"
   ]
  },
  {
   "cell_type": "code",
   "execution_count": 4,
   "id": "93be97a8-dd88-4f74-852a-3fe0f9951983",
   "metadata": {
    "tags": []
   },
   "outputs": [
    {
     "data": {
      "text/plain": [
       "dict_keys(['dim_customer', 'dim_market', 'dim_product', 'fact_forecast_monthly', 'fact_sales_monthly', 'freight_cost', 'gross_price', 'manufacturing_cost', 'post_invoice_deductions', 'pre_invoice_deductions'])"
      ]
     },
     "execution_count": 4,
     "metadata": {},
     "output_type": "execute_result"
    }
   ],
   "source": [
    "sc_dataframes.keys()"
   ]
  },
  {
   "cell_type": "code",
   "execution_count": 5,
   "id": "8f2a16bb-f580-47da-b8b4-9c3585dd929e",
   "metadata": {
    "tags": []
   },
   "outputs": [],
   "source": [
    "# Create dataframes from dictionary\n",
    "\n",
    "sc_dim_customer = sc_dataframes['dim_customer'].copy()\n",
    "sc_dim_market = sc_dataframes['dim_market'].copy()\n",
    "sc_dim_product = sc_dataframes['dim_product'].copy()\n",
    "sc_fact_forecast_monthly = sc_dataframes['fact_forecast_monthly'].copy()\n",
    "sc_fact_sales_monthly = sc_dataframes['fact_sales_monthly'].copy()\n",
    "sc_freight_cost = sc_dataframes['freight_cost'].copy()\n",
    "sc_gross_price = sc_dataframes['gross_price'].copy()\n",
    "sc_manufacturing_cost = sc_dataframes['manufacturing_cost'].copy()\n",
    "sc_post_invoice_deductions = sc_dataframes['post_invoice_deductions'].copy()\n",
    "sc_pre_invoice_deductions = sc_dataframes['pre_invoice_deductions'].copy()"
   ]
  },
  {
   "cell_type": "markdown",
   "id": "690d2c6d-6ecb-4e24-81d4-8bf8fd0a349d",
   "metadata": {},
   "source": [
    "## apply datatypes"
   ]
  },
  {
   "cell_type": "markdown",
   "id": "4adacf26-5f29-4ef8-a102-9dc7dc365b8c",
   "metadata": {
    "jp-MarkdownHeadingCollapsed": true,
    "tags": []
   },
   "source": [
    "### sc_dim_customer"
   ]
  },
  {
   "cell_type": "code",
   "execution_count": 6,
   "id": "d595f7d5-a72b-469d-8dc5-bbaf12836e3e",
   "metadata": {
    "tags": []
   },
   "outputs": [
    {
     "data": {
      "text/html": [
       "<div>\n",
       "<style scoped>\n",
       "    .dataframe tbody tr th:only-of-type {\n",
       "        vertical-align: middle;\n",
       "    }\n",
       "\n",
       "    .dataframe tbody tr th {\n",
       "        vertical-align: top;\n",
       "    }\n",
       "\n",
       "    .dataframe thead th {\n",
       "        text-align: right;\n",
       "    }\n",
       "</style>\n",
       "<table border=\"1\" class=\"dataframe\">\n",
       "  <thead>\n",
       "    <tr style=\"text-align: right;\">\n",
       "      <th></th>\n",
       "      <th>customer</th>\n",
       "      <th>market</th>\n",
       "      <th>platform</th>\n",
       "      <th>channel</th>\n",
       "      <th>customer_code</th>\n",
       "    </tr>\n",
       "  </thead>\n",
       "  <tbody>\n",
       "    <tr>\n",
       "      <th>0</th>\n",
       "      <td>Electricalsocity</td>\n",
       "      <td>India</td>\n",
       "      <td>Brick &amp; Mortar</td>\n",
       "      <td>Retailer</td>\n",
       "      <td>90002012</td>\n",
       "    </tr>\n",
       "    <tr>\n",
       "      <th>1</th>\n",
       "      <td>Electricalslytical</td>\n",
       "      <td>India</td>\n",
       "      <td>Brick &amp; Mortar</td>\n",
       "      <td>Retailer</td>\n",
       "      <td>90002013</td>\n",
       "    </tr>\n",
       "    <tr>\n",
       "      <th>2</th>\n",
       "      <td>Ebay</td>\n",
       "      <td>India</td>\n",
       "      <td>E-Commerce</td>\n",
       "      <td>Retailer</td>\n",
       "      <td>90002010</td>\n",
       "    </tr>\n",
       "    <tr>\n",
       "      <th>3</th>\n",
       "      <td>Atliq Exclusive</td>\n",
       "      <td>India</td>\n",
       "      <td>Brick &amp; Mortar</td>\n",
       "      <td>Retailer</td>\n",
       "      <td>90002011</td>\n",
       "    </tr>\n",
       "    <tr>\n",
       "      <th>4</th>\n",
       "      <td>Expression</td>\n",
       "      <td>India</td>\n",
       "      <td>Brick &amp; Mortar</td>\n",
       "      <td>Retailer</td>\n",
       "      <td>90002014</td>\n",
       "    </tr>\n",
       "    <tr>\n",
       "      <th>5</th>\n",
       "      <td>AltiQ Exclusive</td>\n",
       "      <td>India</td>\n",
       "      <td>Brick &amp; Mortar</td>\n",
       "      <td>Direct</td>\n",
       "      <td>70002017</td>\n",
       "    </tr>\n",
       "    <tr>\n",
       "      <th>6</th>\n",
       "      <td>Atliq e Store</td>\n",
       "      <td>India</td>\n",
       "      <td>E-Commerce</td>\n",
       "      <td>Direct</td>\n",
       "      <td>70002018</td>\n",
       "    </tr>\n",
       "    <tr>\n",
       "      <th>7</th>\n",
       "      <td>Propel</td>\n",
       "      <td>India</td>\n",
       "      <td>Brick &amp; Mortar</td>\n",
       "      <td>Retailer</td>\n",
       "      <td>90002015</td>\n",
       "    </tr>\n",
       "    <tr>\n",
       "      <th>8</th>\n",
       "      <td>Amazon</td>\n",
       "      <td>India</td>\n",
       "      <td>E-Commerce</td>\n",
       "      <td>Retailer</td>\n",
       "      <td>90002016</td>\n",
       "    </tr>\n",
       "    <tr>\n",
       "      <th>9</th>\n",
       "      <td>Ezone</td>\n",
       "      <td>India</td>\n",
       "      <td>Brick &amp; Mortar</td>\n",
       "      <td>Retailer</td>\n",
       "      <td>90002003</td>\n",
       "    </tr>\n",
       "  </tbody>\n",
       "</table>\n",
       "</div>"
      ],
      "text/plain": [
       "             customer market        platform   channel customer_code\n",
       "0    Electricalsocity  India  Brick & Mortar  Retailer      90002012\n",
       "1  Electricalslytical  India  Brick & Mortar  Retailer      90002013\n",
       "2                Ebay  India      E-Commerce  Retailer      90002010\n",
       "3     Atliq Exclusive  India  Brick & Mortar  Retailer      90002011\n",
       "4          Expression  India  Brick & Mortar  Retailer      90002014\n",
       "5     AltiQ Exclusive  India  Brick & Mortar    Direct      70002017\n",
       "6       Atliq e Store  India      E-Commerce    Direct      70002018\n",
       "7              Propel  India  Brick & Mortar  Retailer      90002015\n",
       "8             Amazon   India      E-Commerce  Retailer      90002016\n",
       "9               Ezone  India  Brick & Mortar  Retailer      90002003"
      ]
     },
     "execution_count": 6,
     "metadata": {},
     "output_type": "execute_result"
    }
   ],
   "source": [
    "sc_dim_customer.head(10)"
   ]
  },
  {
   "cell_type": "code",
   "execution_count": 7,
   "id": "9a1aa634-030b-4865-848f-02f1e1e551f0",
   "metadata": {
    "tags": []
   },
   "outputs": [
    {
     "data": {
      "text/plain": [
       "Index              132\n",
       "customer         14138\n",
       "market           13395\n",
       "platform         14603\n",
       "channel          13520\n",
       "customer_code    13585\n",
       "dtype: int64"
      ]
     },
     "execution_count": 7,
     "metadata": {},
     "output_type": "execute_result"
    }
   ],
   "source": [
    "# check memory usage by column\n",
    "\n",
    "sc_dim_customer.memory_usage(deep=True)"
   ]
  },
  {
   "cell_type": "code",
   "execution_count": 8,
   "id": "0f098661-8630-4678-88d9-6f771f5a0763",
   "metadata": {
    "tags": []
   },
   "outputs": [
    {
     "data": {
      "text/plain": [
       "customer         object\n",
       "market           object\n",
       "platform         object\n",
       "channel          object\n",
       "customer_code    object\n",
       "dtype: object"
      ]
     },
     "execution_count": 8,
     "metadata": {},
     "output_type": "execute_result"
    }
   ],
   "source": [
    "# check datatypes\n",
    "\n",
    "sc_dim_customer.dtypes"
   ]
  },
  {
   "cell_type": "code",
   "execution_count": 9,
   "id": "3e68723e-7b16-4cf3-a12d-36e525a9789a",
   "metadata": {
    "tags": []
   },
   "outputs": [
    {
     "name": "stdout",
     "output_type": "stream",
     "text": [
      "76\n"
     ]
    },
    {
     "data": {
      "text/plain": [
       "Amazon             25\n",
       "Atliq e Store      24\n",
       "AltiQ Exclusive    16\n",
       "Expert              5\n",
       "Euronics            4\n",
       "                   ..\n",
       "Otto                1\n",
       "Notebillig          1\n",
       "BestBuy             1\n",
       "Circuit City        1\n",
       "Taobao              1\n",
       "Name: customer, Length: 76, dtype: int64"
      ]
     },
     "execution_count": 9,
     "metadata": {},
     "output_type": "execute_result"
    }
   ],
   "source": [
    "# ensure datatype 'category' is apropriate by counting unique values\n",
    "\n",
    "print(sc_dim_customer['customer'].nunique())\n",
    "sc_dim_customer['customer'].value_counts()"
   ]
  },
  {
   "cell_type": "code",
   "execution_count": 10,
   "id": "e28955ea-0086-42ff-b9b6-52a3e4c43aca",
   "metadata": {
    "tags": []
   },
   "outputs": [
    {
     "name": "stdout",
     "output_type": "stream",
     "text": [
      "27\n"
     ]
    },
    {
     "data": {
      "text/plain": [
       "India             18\n",
       "USA               15\n",
       "Portugal          12\n",
       "Spain             11\n",
       "United Kingdom    11\n",
       "                  ..\n",
       "China              3\n",
       "Mexico             2\n",
       "Brazil             2\n",
       "Chile              2\n",
       "Columbia           1\n",
       "Name: market, Length: 27, dtype: int64"
      ]
     },
     "execution_count": 10,
     "metadata": {},
     "output_type": "execute_result"
    }
   ],
   "source": [
    "# ensure datatype 'category' is apropriate by counting unique values\n",
    "\n",
    "print(sc_dim_customer['market'].nunique())\n",
    "sc_dim_customer['market'].value_counts()"
   ]
  },
  {
   "cell_type": "code",
   "execution_count": 11,
   "id": "04d28d90-d4b4-4b91-81f0-ce41e86b104d",
   "metadata": {
    "tags": []
   },
   "outputs": [
    {
     "name": "stdout",
     "output_type": "stream",
     "text": [
      "2\n"
     ]
    },
    {
     "data": {
      "text/plain": [
       "Brick & Mortar    150\n",
       "E-Commerce         59\n",
       "Name: platform, dtype: int64"
      ]
     },
     "execution_count": 11,
     "metadata": {},
     "output_type": "execute_result"
    }
   ],
   "source": [
    "# ensure datatype 'category' is apropriate by counting unique values\n",
    "\n",
    "print(sc_dim_customer['platform'].nunique())\n",
    "sc_dim_customer['platform'].value_counts()"
   ]
  },
  {
   "cell_type": "code",
   "execution_count": 12,
   "id": "a580eb6b-66e3-48b2-8ad6-da52e0578265",
   "metadata": {
    "tags": []
   },
   "outputs": [
    {
     "name": "stdout",
     "output_type": "stream",
     "text": [
      "3\n"
     ]
    },
    {
     "data": {
      "text/plain": [
       "Retailer       164\n",
       "Direct          40\n",
       "Distributor      5\n",
       "Name: channel, dtype: int64"
      ]
     },
     "execution_count": 12,
     "metadata": {},
     "output_type": "execute_result"
    }
   ],
   "source": [
    "# ensure datatype 'category' is apropriate by counting unique values\n",
    "\n",
    "print(sc_dim_customer['channel'].nunique())\n",
    "sc_dim_customer['channel'].value_counts()"
   ]
  },
  {
   "cell_type": "code",
   "execution_count": 13,
   "id": "e41d7494-e96a-49c5-8eb4-ce9b298de1bf",
   "metadata": {
    "tags": []
   },
   "outputs": [
    {
     "name": "stdout",
     "output_type": "stream",
     "text": [
      "70002017\n",
      "90027207\n"
     ]
    }
   ],
   "source": [
    "# ensure datype 'int32' is apropriate by checking the range\n",
    "\n",
    "print(sc_dim_customer['customer_code'].min())\n",
    "print(sc_dim_customer['customer_code'].max())"
   ]
  },
  {
   "cell_type": "code",
   "execution_count": 14,
   "id": "2d05cc18-7172-4175-8cb0-e1bea9c7fe36",
   "metadata": {
    "tags": []
   },
   "outputs": [],
   "source": [
    "# change datatypes\n",
    "\n",
    "sc_dim_customer['customer'] = sc_dim_customer['platform'].astype('category')\n",
    "sc_dim_customer['platform'] = sc_dim_customer['platform'].astype('category')\n",
    "sc_dim_customer['market'] = sc_dim_customer['platform'].astype('category')\n",
    "sc_dim_customer['channel'] = sc_dim_customer['channel'].astype('category')\n",
    "sc_dim_customer['customer_code'] = sc_dim_customer['customer_code'].astype('int32')"
   ]
  },
  {
   "cell_type": "code",
   "execution_count": 15,
   "id": "ca189610-7ea3-4fd2-9902-e9bd0c05e12b",
   "metadata": {
    "tags": []
   },
   "outputs": [
    {
     "data": {
      "text/plain": [
       "Index            132\n",
       "customer         455\n",
       "market           455\n",
       "platform         455\n",
       "channel          513\n",
       "customer_code    836\n",
       "dtype: int64"
      ]
     },
     "execution_count": 15,
     "metadata": {},
     "output_type": "execute_result"
    }
   ],
   "source": [
    "# check memory usage by column\n",
    "\n",
    "sc_dim_customer.memory_usage(deep=True)"
   ]
  },
  {
   "cell_type": "markdown",
   "id": "5713ec6a-1010-44ef-857b-a1ea9d20a172",
   "metadata": {
    "jp-MarkdownHeadingCollapsed": true,
    "tags": []
   },
   "source": [
    "### sc_dim_market"
   ]
  },
  {
   "cell_type": "code",
   "execution_count": 16,
   "id": "1f47ea7d-0d2f-4f7d-9917-ac942c14ef50",
   "metadata": {
    "tags": []
   },
   "outputs": [
    {
     "data": {
      "text/html": [
       "<div>\n",
       "<style scoped>\n",
       "    .dataframe tbody tr th:only-of-type {\n",
       "        vertical-align: middle;\n",
       "    }\n",
       "\n",
       "    .dataframe tbody tr th {\n",
       "        vertical-align: top;\n",
       "    }\n",
       "\n",
       "    .dataframe thead th {\n",
       "        text-align: right;\n",
       "    }\n",
       "</style>\n",
       "<table border=\"1\" class=\"dataframe\">\n",
       "  <thead>\n",
       "    <tr style=\"text-align: right;\">\n",
       "      <th></th>\n",
       "      <th>market</th>\n",
       "      <th>sub_zone</th>\n",
       "      <th>region</th>\n",
       "    </tr>\n",
       "  </thead>\n",
       "  <tbody>\n",
       "    <tr>\n",
       "      <th>0</th>\n",
       "      <td>China</td>\n",
       "      <td>ROA</td>\n",
       "      <td>APAC</td>\n",
       "    </tr>\n",
       "    <tr>\n",
       "      <th>1</th>\n",
       "      <td>India</td>\n",
       "      <td>India</td>\n",
       "      <td>APAC</td>\n",
       "    </tr>\n",
       "    <tr>\n",
       "      <th>2</th>\n",
       "      <td>Indonesia</td>\n",
       "      <td>ROA</td>\n",
       "      <td>APAC</td>\n",
       "    </tr>\n",
       "    <tr>\n",
       "      <th>3</th>\n",
       "      <td>Japan</td>\n",
       "      <td>ROA</td>\n",
       "      <td>APAC</td>\n",
       "    </tr>\n",
       "    <tr>\n",
       "      <th>4</th>\n",
       "      <td>Pakistan</td>\n",
       "      <td>ROA</td>\n",
       "      <td>APAC</td>\n",
       "    </tr>\n",
       "    <tr>\n",
       "      <th>5</th>\n",
       "      <td>Philiphines</td>\n",
       "      <td>ROA</td>\n",
       "      <td>APAC</td>\n",
       "    </tr>\n",
       "    <tr>\n",
       "      <th>6</th>\n",
       "      <td>South Korea</td>\n",
       "      <td>ROA</td>\n",
       "      <td>APAC</td>\n",
       "    </tr>\n",
       "    <tr>\n",
       "      <th>7</th>\n",
       "      <td>Australia</td>\n",
       "      <td>ANZ</td>\n",
       "      <td>APAC</td>\n",
       "    </tr>\n",
       "    <tr>\n",
       "      <th>8</th>\n",
       "      <td>Newzealand</td>\n",
       "      <td>ANZ</td>\n",
       "      <td>APAC</td>\n",
       "    </tr>\n",
       "    <tr>\n",
       "      <th>9</th>\n",
       "      <td>Bangladesh</td>\n",
       "      <td>ROA</td>\n",
       "      <td>APAC</td>\n",
       "    </tr>\n",
       "  </tbody>\n",
       "</table>\n",
       "</div>"
      ],
      "text/plain": [
       "        market sub_zone region\n",
       "0        China      ROA   APAC\n",
       "1        India    India   APAC\n",
       "2    Indonesia      ROA   APAC\n",
       "3        Japan      ROA   APAC\n",
       "4     Pakistan      ROA   APAC\n",
       "5  Philiphines      ROA   APAC\n",
       "6  South Korea      ROA   APAC\n",
       "7    Australia      ANZ   APAC\n",
       "8   Newzealand      ANZ   APAC\n",
       "9   Bangladesh      ROA   APAC"
      ]
     },
     "execution_count": 16,
     "metadata": {},
     "output_type": "execute_result"
    }
   ],
   "source": [
    "sc_dim_market.head(10)"
   ]
  },
  {
   "cell_type": "code",
   "execution_count": 17,
   "id": "fa5fc9c7-2e59-42fd-ae6f-76a98d9ae673",
   "metadata": {
    "tags": []
   },
   "outputs": [
    {
     "data": {
      "text/plain": [
       "Index        132\n",
       "market      1737\n",
       "sub_zone    1619\n",
       "region      1627\n",
       "dtype: int64"
      ]
     },
     "execution_count": 17,
     "metadata": {},
     "output_type": "execute_result"
    }
   ],
   "source": [
    "# check memory usage by column\n",
    "\n",
    "sc_dim_market.memory_usage(deep=True)"
   ]
  },
  {
   "cell_type": "code",
   "execution_count": 18,
   "id": "8bd6c883-c4c1-4ee5-a171-4a04f6fcc4a5",
   "metadata": {
    "tags": []
   },
   "outputs": [
    {
     "data": {
      "text/plain": [
       "market      object\n",
       "sub_zone    object\n",
       "region      object\n",
       "dtype: object"
      ]
     },
     "execution_count": 18,
     "metadata": {},
     "output_type": "execute_result"
    }
   ],
   "source": [
    "# check datatypes\n",
    "\n",
    "sc_dim_market.dtypes"
   ]
  },
  {
   "cell_type": "code",
   "execution_count": 19,
   "id": "ad8e570b-7a6a-4c2a-bd21-4ddb00c33a1b",
   "metadata": {
    "tags": []
   },
   "outputs": [
    {
     "name": "stdout",
     "output_type": "stream",
     "text": [
      "27\n"
     ]
    },
    {
     "data": {
      "text/plain": [
       "China          1\n",
       "Norway         1\n",
       "Mexico         1\n",
       "Columbia       1\n",
       "Chile          1\n",
       "              ..\n",
       "Philiphines    1\n",
       "Pakistan       1\n",
       "Japan          1\n",
       "Indonesia      1\n",
       "Brazil         1\n",
       "Name: market, Length: 27, dtype: int64"
      ]
     },
     "execution_count": 19,
     "metadata": {},
     "output_type": "execute_result"
    }
   ],
   "source": [
    "# ensure datatype 'category' is apropriate by counting unique values\n",
    "\n",
    "print(sc_dim_market['market'].nunique())\n",
    "sc_dim_market['market'].value_counts()"
   ]
  },
  {
   "cell_type": "code",
   "execution_count": 20,
   "id": "c8d49ec1-76a1-4b53-b4a4-fe43379a8243",
   "metadata": {
    "tags": []
   },
   "outputs": [
    {
     "name": "stdout",
     "output_type": "stream",
     "text": [
      "7\n"
     ]
    },
    {
     "data": {
      "text/plain": [
       "ROA      7\n",
       "NE       7\n",
       "SE       4\n",
       "LATAM    4\n",
       "ANZ      2\n",
       "nan      2\n",
       "India    1\n",
       "Name: sub_zone, dtype: int64"
      ]
     },
     "execution_count": 20,
     "metadata": {},
     "output_type": "execute_result"
    }
   ],
   "source": [
    "# ensure datatype 'category' is apropriate by counting unique values\n",
    "\n",
    "print(sc_dim_market['sub_zone'].nunique())\n",
    "sc_dim_market['sub_zone'].value_counts()"
   ]
  },
  {
   "cell_type": "code",
   "execution_count": 21,
   "id": "65162d9e-32d4-4a3c-8be9-ebc8e5eea688",
   "metadata": {
    "tags": []
   },
   "outputs": [
    {
     "name": "stdout",
     "output_type": "stream",
     "text": [
      "4\n"
     ]
    },
    {
     "data": {
      "text/plain": [
       "EU       11\n",
       "APAC     10\n",
       "LATAM     4\n",
       "nan       2\n",
       "Name: region, dtype: int64"
      ]
     },
     "execution_count": 21,
     "metadata": {},
     "output_type": "execute_result"
    }
   ],
   "source": [
    "# ensure datatype 'category' is apropriate by counting unique values\n",
    "\n",
    "print(sc_dim_market['region'].nunique())\n",
    "sc_dim_market['region'].value_counts()"
   ]
  },
  {
   "cell_type": "code",
   "execution_count": 22,
   "id": "6158f017-766b-4420-9500-533706e3515f",
   "metadata": {
    "tags": []
   },
   "outputs": [],
   "source": [
    "# change datatypes\n",
    "\n",
    "sc_dim_market['market'] = sc_dim_market['market'].astype('category')\n",
    "sc_dim_market['sub_zone'] = sc_dim_market['sub_zone'].astype('category')\n",
    "sc_dim_market['region'] = sc_dim_market['region'].astype('category')"
   ]
  },
  {
   "cell_type": "code",
   "execution_count": 23,
   "id": "fa39cae0-8b46-4d9c-8ed1-0b90028cb306",
   "metadata": {
    "tags": []
   },
   "outputs": [
    {
     "data": {
      "text/plain": [
       "Index        132\n",
       "market      2836\n",
       "sub_zone     749\n",
       "region       441\n",
       "dtype: int64"
      ]
     },
     "execution_count": 23,
     "metadata": {},
     "output_type": "execute_result"
    }
   ],
   "source": [
    "# check memory usage by column\n",
    "\n",
    "sc_dim_market.memory_usage(deep=True)"
   ]
  },
  {
   "cell_type": "markdown",
   "id": "5a8e09a0-cf9f-4f56-90d4-10c309dced24",
   "metadata": {
    "jp-MarkdownHeadingCollapsed": true,
    "tags": []
   },
   "source": [
    "### sc_dim_product"
   ]
  },
  {
   "cell_type": "code",
   "execution_count": 24,
   "id": "86e2a10f-0ca1-4244-a65b-a3b9070c3dab",
   "metadata": {
    "tags": []
   },
   "outputs": [
    {
     "data": {
      "text/html": [
       "<div>\n",
       "<style scoped>\n",
       "    .dataframe tbody tr th:only-of-type {\n",
       "        vertical-align: middle;\n",
       "    }\n",
       "\n",
       "    .dataframe tbody tr th {\n",
       "        vertical-align: top;\n",
       "    }\n",
       "\n",
       "    .dataframe thead th {\n",
       "        text-align: right;\n",
       "    }\n",
       "</style>\n",
       "<table border=\"1\" class=\"dataframe\">\n",
       "  <thead>\n",
       "    <tr style=\"text-align: right;\">\n",
       "      <th></th>\n",
       "      <th>product_code</th>\n",
       "      <th>division</th>\n",
       "      <th>segment</th>\n",
       "      <th>category</th>\n",
       "      <th>product</th>\n",
       "      <th>variant</th>\n",
       "    </tr>\n",
       "  </thead>\n",
       "  <tbody>\n",
       "    <tr>\n",
       "      <th>0</th>\n",
       "      <td>A0118150101</td>\n",
       "      <td>P &amp; A</td>\n",
       "      <td>Peripherals</td>\n",
       "      <td>Internal HDD</td>\n",
       "      <td>AQ Dracula HDD – 3.5 Inch SATA 6 Gb/s 5400 RPM...</td>\n",
       "      <td>Standard</td>\n",
       "    </tr>\n",
       "    <tr>\n",
       "      <th>1</th>\n",
       "      <td>A0118150102</td>\n",
       "      <td>P &amp; A</td>\n",
       "      <td>Peripherals</td>\n",
       "      <td>Internal HDD</td>\n",
       "      <td>AQ Dracula HDD – 3.5 Inch SATA 6 Gb/s 5400 RPM...</td>\n",
       "      <td>Plus</td>\n",
       "    </tr>\n",
       "    <tr>\n",
       "      <th>2</th>\n",
       "      <td>A0118150103</td>\n",
       "      <td>P &amp; A</td>\n",
       "      <td>Peripherals</td>\n",
       "      <td>Internal HDD</td>\n",
       "      <td>AQ Dracula HDD – 3.5 Inch SATA 6 Gb/s 5400 RPM...</td>\n",
       "      <td>Premium</td>\n",
       "    </tr>\n",
       "    <tr>\n",
       "      <th>3</th>\n",
       "      <td>A0118150104</td>\n",
       "      <td>P &amp; A</td>\n",
       "      <td>Peripherals</td>\n",
       "      <td>Internal HDD</td>\n",
       "      <td>AQ Dracula HDD – 3.5 Inch SATA 6 Gb/s 5400 RPM...</td>\n",
       "      <td>Premium Plus</td>\n",
       "    </tr>\n",
       "    <tr>\n",
       "      <th>4</th>\n",
       "      <td>A0219150201</td>\n",
       "      <td>P &amp; A</td>\n",
       "      <td>Peripherals</td>\n",
       "      <td>Internal HDD</td>\n",
       "      <td>AQ WereWolf NAS Internal Hard Drive HDD – 8.89 cm</td>\n",
       "      <td>Standard</td>\n",
       "    </tr>\n",
       "    <tr>\n",
       "      <th>5</th>\n",
       "      <td>A0219150202</td>\n",
       "      <td>P &amp; A</td>\n",
       "      <td>Peripherals</td>\n",
       "      <td>Internal HDD</td>\n",
       "      <td>AQ WereWolf NAS Internal Hard Drive HDD – 8.89 cm</td>\n",
       "      <td>Plus</td>\n",
       "    </tr>\n",
       "    <tr>\n",
       "      <th>6</th>\n",
       "      <td>A0220150203</td>\n",
       "      <td>P &amp; A</td>\n",
       "      <td>Peripherals</td>\n",
       "      <td>Internal HDD</td>\n",
       "      <td>AQ WereWolf NAS Internal Hard Drive HDD – 8.89 cm</td>\n",
       "      <td>Premium</td>\n",
       "    </tr>\n",
       "    <tr>\n",
       "      <th>7</th>\n",
       "      <td>A0320150301</td>\n",
       "      <td>P &amp; A</td>\n",
       "      <td>Peripherals</td>\n",
       "      <td>Internal HDD</td>\n",
       "      <td>AQ Zion Saga</td>\n",
       "      <td>Standard</td>\n",
       "    </tr>\n",
       "    <tr>\n",
       "      <th>8</th>\n",
       "      <td>A0321150302</td>\n",
       "      <td>P &amp; A</td>\n",
       "      <td>Peripherals</td>\n",
       "      <td>Internal HDD</td>\n",
       "      <td>AQ Zion Saga</td>\n",
       "      <td>Plus</td>\n",
       "    </tr>\n",
       "    <tr>\n",
       "      <th>9</th>\n",
       "      <td>A0321150303</td>\n",
       "      <td>P &amp; A</td>\n",
       "      <td>Peripherals</td>\n",
       "      <td>Internal HDD</td>\n",
       "      <td>AQ Zion Saga</td>\n",
       "      <td>Premium</td>\n",
       "    </tr>\n",
       "  </tbody>\n",
       "</table>\n",
       "</div>"
      ],
      "text/plain": [
       "  product_code division      segment      category  \\\n",
       "0  A0118150101    P & A  Peripherals  Internal HDD   \n",
       "1  A0118150102    P & A  Peripherals  Internal HDD   \n",
       "2  A0118150103    P & A  Peripherals  Internal HDD   \n",
       "3  A0118150104    P & A  Peripherals  Internal HDD   \n",
       "4  A0219150201    P & A  Peripherals  Internal HDD   \n",
       "5  A0219150202    P & A  Peripherals  Internal HDD   \n",
       "6  A0220150203    P & A  Peripherals  Internal HDD   \n",
       "7  A0320150301    P & A  Peripherals  Internal HDD   \n",
       "8  A0321150302    P & A  Peripherals  Internal HDD   \n",
       "9  A0321150303    P & A  Peripherals  Internal HDD   \n",
       "\n",
       "                                             product       variant  \n",
       "0  AQ Dracula HDD – 3.5 Inch SATA 6 Gb/s 5400 RPM...      Standard  \n",
       "1  AQ Dracula HDD – 3.5 Inch SATA 6 Gb/s 5400 RPM...          Plus  \n",
       "2  AQ Dracula HDD – 3.5 Inch SATA 6 Gb/s 5400 RPM...       Premium  \n",
       "3  AQ Dracula HDD – 3.5 Inch SATA 6 Gb/s 5400 RPM...  Premium Plus  \n",
       "4  AQ WereWolf NAS Internal Hard Drive HDD – 8.89 cm      Standard  \n",
       "5  AQ WereWolf NAS Internal Hard Drive HDD – 8.89 cm          Plus  \n",
       "6  AQ WereWolf NAS Internal Hard Drive HDD – 8.89 cm       Premium  \n",
       "7                                       AQ Zion Saga      Standard  \n",
       "8                                       AQ Zion Saga          Plus  \n",
       "9                                       AQ Zion Saga       Premium  "
      ]
     },
     "execution_count": 24,
     "metadata": {},
     "output_type": "execute_result"
    }
   ],
   "source": [
    "sc_dim_product.head(10)"
   ]
  },
  {
   "cell_type": "code",
   "execution_count": 25,
   "id": "840e7432-78d8-4b4e-83a5-055ff4b77983",
   "metadata": {
    "tags": []
   },
   "outputs": [
    {
     "data": {
      "text/plain": [
       "Index             132\n",
       "product_code    26996\n",
       "division        24131\n",
       "segment         26364\n",
       "category        27459\n",
       "product         28750\n",
       "variant         26317\n",
       "dtype: int64"
      ]
     },
     "execution_count": 25,
     "metadata": {},
     "output_type": "execute_result"
    }
   ],
   "source": [
    "# check memory usage by column\n",
    "\n",
    "sc_dim_product.memory_usage(deep=True)"
   ]
  },
  {
   "cell_type": "code",
   "execution_count": 26,
   "id": "ece2a281-6c56-4afd-bb2b-05cbd786dc91",
   "metadata": {
    "tags": []
   },
   "outputs": [
    {
     "data": {
      "text/plain": [
       "product_code    object\n",
       "division        object\n",
       "segment         object\n",
       "category        object\n",
       "product         object\n",
       "variant         object\n",
       "dtype: object"
      ]
     },
     "execution_count": 26,
     "metadata": {},
     "output_type": "execute_result"
    }
   ],
   "source": [
    "# check datatypes\n",
    "\n",
    "sc_dim_product.dtypes"
   ]
  },
  {
   "cell_type": "code",
   "execution_count": 27,
   "id": "e3d4df53-7a49-4a02-b601-131086ac3c82",
   "metadata": {
    "tags": []
   },
   "outputs": [
    {
     "name": "stdout",
     "output_type": "stream",
     "text": [
      "3\n"
     ]
    },
    {
     "data": {
      "text/plain": [
       "P & A    200\n",
       "PC       161\n",
       "N & S     36\n",
       "Name: division, dtype: int64"
      ]
     },
     "execution_count": 27,
     "metadata": {},
     "output_type": "execute_result"
    }
   ],
   "source": [
    "# ensure datatype 'category' is apropriate by counting unique values\n",
    "\n",
    "print(sc_dim_product['division'].nunique())\n",
    "sc_dim_product['division'].value_counts()"
   ]
  },
  {
   "cell_type": "code",
   "execution_count": 28,
   "id": "9814e3c9-48c6-463d-9f83-52614643edc1",
   "metadata": {
    "tags": []
   },
   "outputs": [
    {
     "name": "stdout",
     "output_type": "stream",
     "text": [
      "6\n"
     ]
    },
    {
     "data": {
      "text/plain": [
       "Notebook       129\n",
       "Accessories    116\n",
       "Peripherals     84\n",
       "Desktop         32\n",
       "Storage         27\n",
       "Networking       9\n",
       "Name: segment, dtype: int64"
      ]
     },
     "execution_count": 28,
     "metadata": {},
     "output_type": "execute_result"
    }
   ],
   "source": [
    "# ensure datatype 'category' is apropriate by counting unique values\n",
    "\n",
    "print(sc_dim_product['segment'].nunique())\n",
    "sc_dim_product['segment'].value_counts()"
   ]
  },
  {
   "cell_type": "code",
   "execution_count": 29,
   "id": "640d376d-f758-4b08-94df-84aa90f2da1d",
   "metadata": {
    "tags": []
   },
   "outputs": [
    {
     "name": "stdout",
     "output_type": "stream",
     "text": [
      "14\n"
     ]
    },
    {
     "data": {
      "text/plain": [
       "Personal Laptop                61\n",
       "Mouse                          48\n",
       "Keyboard                       48\n",
       "Business Laptop                44\n",
       "Gaming Laptop                  40\n",
       "Graphic Card                   36\n",
       "MotherBoard                    20\n",
       "Batteries                      20\n",
       "Processors                     18\n",
       "Personal Desktop               16\n",
       "External Solid State Drives    15\n",
       "USB Flash Drives               12\n",
       "Internal HDD                   10\n",
       "Wi fi extender                  9\n",
       "Name: category, dtype: int64"
      ]
     },
     "execution_count": 29,
     "metadata": {},
     "output_type": "execute_result"
    }
   ],
   "source": [
    "# ensure datatype 'category' is apropriate by counting unique values\n",
    "\n",
    "print(sc_dim_product['category'].nunique())\n",
    "sc_dim_product['category'].value_counts()"
   ]
  },
  {
   "cell_type": "code",
   "execution_count": 30,
   "id": "79cd39dd-705f-4806-b99b-04d6161748f4",
   "metadata": {
    "tags": []
   },
   "outputs": [
    {
     "name": "stdout",
     "output_type": "stream",
     "text": [
      "73\n"
     ]
    },
    {
     "data": {
      "text/plain": [
       "AQ Elite                                           8\n",
       "AQ Gamer 3                                         8\n",
       "AQ Gen Y                                           8\n",
       "AQ Gen X                                           8\n",
       "AQ Digit                                           8\n",
       "                                                  ..\n",
       "AQ 5000 Series Ultron 8 5900X Desktop Processor    3\n",
       "AQ Electron 5 3600 Desktop Processor               3\n",
       "AQ Electron 4 3600 Desktop Processor               3\n",
       "AQ Electron 3 3600 Desktop Processor               3\n",
       "AQ Wi Power Dx3                                    3\n",
       "Name: product, Length: 73, dtype: int64"
      ]
     },
     "execution_count": 30,
     "metadata": {},
     "output_type": "execute_result"
    }
   ],
   "source": [
    "# ensure datatype 'category' is apropriate by counting unique values\n",
    "\n",
    "print(sc_dim_product['product'].nunique())\n",
    "sc_dim_product['product'].value_counts()"
   ]
  },
  {
   "cell_type": "code",
   "execution_count": 31,
   "id": "4a95665d-4269-4bd0-b5dc-1ef014dcbf6b",
   "metadata": {
    "tags": []
   },
   "outputs": [
    {
     "name": "stdout",
     "output_type": "stream",
     "text": [
      "27\n"
     ]
    },
    {
     "data": {
      "text/plain": [
       "Plus 2            35\n",
       "Standard          33\n",
       "Premium           33\n",
       "Plus 1            31\n",
       "Standard 1        23\n",
       "                  ..\n",
       "Plus Firey Red     5\n",
       "Plus Cool Blue     5\n",
       "Plus Black         5\n",
       "Plus 1             4\n",
       "Premium Plus       1\n",
       "Name: variant, Length: 27, dtype: int64"
      ]
     },
     "execution_count": 31,
     "metadata": {},
     "output_type": "execute_result"
    }
   ],
   "source": [
    "# ensure datatype 'category' is apropriate by counting unique values\n",
    "\n",
    "print(sc_dim_product['variant'].nunique())\n",
    "sc_dim_product['variant'].value_counts()"
   ]
  },
  {
   "cell_type": "code",
   "execution_count": 32,
   "id": "bd9d7941-90e2-49af-9c82-562c543f2441",
   "metadata": {
    "tags": []
   },
   "outputs": [],
   "source": [
    "# change datatypes\n",
    "\n",
    "sc_dim_product['division'] = sc_dim_product['division'].astype('category')\n",
    "sc_dim_product['segment'] = sc_dim_product['segment'].astype('category')\n",
    "sc_dim_product['category'] = sc_dim_product['category'].astype('category')\n",
    "sc_dim_product['product'] = sc_dim_product['product'].astype('category')\n",
    "sc_dim_product['variant'] = sc_dim_product['variant'].astype('category')"
   ]
  },
  {
   "cell_type": "code",
   "execution_count": 33,
   "id": "1324d833-65f8-4b98-8900-cb2fd9f075fe",
   "metadata": {
    "tags": []
   },
   "outputs": [
    {
     "data": {
      "text/plain": [
       "Index             132\n",
       "product_code    26996\n",
       "division          688\n",
       "segment           965\n",
       "category         1934\n",
       "product          8076\n",
       "variant          3296\n",
       "dtype: int64"
      ]
     },
     "execution_count": 33,
     "metadata": {},
     "output_type": "execute_result"
    }
   ],
   "source": [
    "# check memory usage by column\n",
    "\n",
    "sc_dim_product.memory_usage(deep=True)"
   ]
  },
  {
   "cell_type": "markdown",
   "id": "89c1ed38-dbe8-4574-a425-4cb6cfe9beb3",
   "metadata": {
    "jp-MarkdownHeadingCollapsed": true,
    "tags": []
   },
   "source": [
    "### sc_fact_forecast_monthly"
   ]
  },
  {
   "cell_type": "code",
   "execution_count": 34,
   "id": "e8baf00a-1c83-4dc9-8fac-5daeb4cca6d2",
   "metadata": {
    "tags": []
   },
   "outputs": [
    {
     "data": {
      "text/html": [
       "<div>\n",
       "<style scoped>\n",
       "    .dataframe tbody tr th:only-of-type {\n",
       "        vertical-align: middle;\n",
       "    }\n",
       "\n",
       "    .dataframe tbody tr th {\n",
       "        vertical-align: top;\n",
       "    }\n",
       "\n",
       "    .dataframe thead th {\n",
       "        text-align: right;\n",
       "    }\n",
       "</style>\n",
       "<table border=\"1\" class=\"dataframe\">\n",
       "  <thead>\n",
       "    <tr style=\"text-align: right;\">\n",
       "      <th></th>\n",
       "      <th>date</th>\n",
       "      <th>division</th>\n",
       "      <th>category</th>\n",
       "      <th>product_code</th>\n",
       "      <th>product</th>\n",
       "      <th>market</th>\n",
       "      <th>platform</th>\n",
       "      <th>channel</th>\n",
       "      <th>customer_code</th>\n",
       "      <th>customer_name</th>\n",
       "      <th>forecast_quantity</th>\n",
       "    </tr>\n",
       "  </thead>\n",
       "  <tbody>\n",
       "    <tr>\n",
       "      <th>0</th>\n",
       "      <td>2017-09-01</td>\n",
       "      <td>N &amp; S</td>\n",
       "      <td>External Solid State Drives</td>\n",
       "      <td>A6218160101</td>\n",
       "      <td>AQ Digit SSD</td>\n",
       "      <td>Australia</td>\n",
       "      <td>Brick &amp; Mortar</td>\n",
       "      <td>Direct</td>\n",
       "      <td>70008169</td>\n",
       "      <td>AltiQ Exclusive</td>\n",
       "      <td>146</td>\n",
       "    </tr>\n",
       "    <tr>\n",
       "      <th>1</th>\n",
       "      <td>2017-09-01</td>\n",
       "      <td>N &amp; S</td>\n",
       "      <td>External Solid State Drives</td>\n",
       "      <td>A6218160101</td>\n",
       "      <td>AQ Digit SSD</td>\n",
       "      <td>Australia</td>\n",
       "      <td>Brick &amp; Mortar</td>\n",
       "      <td>Retailer</td>\n",
       "      <td>90008165</td>\n",
       "      <td>Forward Stores</td>\n",
       "      <td>120</td>\n",
       "    </tr>\n",
       "    <tr>\n",
       "      <th>2</th>\n",
       "      <td>2017-09-01</td>\n",
       "      <td>N &amp; S</td>\n",
       "      <td>External Solid State Drives</td>\n",
       "      <td>A6218160101</td>\n",
       "      <td>AQ Digit SSD</td>\n",
       "      <td>Australia</td>\n",
       "      <td>Brick &amp; Mortar</td>\n",
       "      <td>Retailer</td>\n",
       "      <td>90008166</td>\n",
       "      <td>Sound</td>\n",
       "      <td>216</td>\n",
       "    </tr>\n",
       "    <tr>\n",
       "      <th>3</th>\n",
       "      <td>2017-09-01</td>\n",
       "      <td>N &amp; S</td>\n",
       "      <td>External Solid State Drives</td>\n",
       "      <td>A6218160101</td>\n",
       "      <td>AQ Digit SSD</td>\n",
       "      <td>Australia</td>\n",
       "      <td>Brick &amp; Mortar</td>\n",
       "      <td>Retailer</td>\n",
       "      <td>90008167</td>\n",
       "      <td>Electricalsocity</td>\n",
       "      <td>141</td>\n",
       "    </tr>\n",
       "    <tr>\n",
       "      <th>4</th>\n",
       "      <td>2017-09-01</td>\n",
       "      <td>N &amp; S</td>\n",
       "      <td>External Solid State Drives</td>\n",
       "      <td>A6218160101</td>\n",
       "      <td>AQ Digit SSD</td>\n",
       "      <td>Australia</td>\n",
       "      <td>E-Commerce</td>\n",
       "      <td>Direct</td>\n",
       "      <td>70008170</td>\n",
       "      <td>Atliq e Store</td>\n",
       "      <td>85</td>\n",
       "    </tr>\n",
       "    <tr>\n",
       "      <th>5</th>\n",
       "      <td>2017-09-01</td>\n",
       "      <td>N &amp; S</td>\n",
       "      <td>External Solid State Drives</td>\n",
       "      <td>A6218160101</td>\n",
       "      <td>AQ Digit SSD</td>\n",
       "      <td>Bangladesh</td>\n",
       "      <td>Brick &amp; Mortar</td>\n",
       "      <td>Direct</td>\n",
       "      <td>70010047</td>\n",
       "      <td>AltiQ Exclusive</td>\n",
       "      <td>0</td>\n",
       "    </tr>\n",
       "    <tr>\n",
       "      <th>6</th>\n",
       "      <td>2017-09-01</td>\n",
       "      <td>N &amp; S</td>\n",
       "      <td>External Solid State Drives</td>\n",
       "      <td>A6218160101</td>\n",
       "      <td>AQ Digit SSD</td>\n",
       "      <td>Brazil</td>\n",
       "      <td>E-Commerce</td>\n",
       "      <td>Retailer</td>\n",
       "      <td>90027207</td>\n",
       "      <td>Amazon</td>\n",
       "      <td>14</td>\n",
       "    </tr>\n",
       "    <tr>\n",
       "      <th>7</th>\n",
       "      <td>2017-09-01</td>\n",
       "      <td>N &amp; S</td>\n",
       "      <td>External Solid State Drives</td>\n",
       "      <td>A6218160101</td>\n",
       "      <td>AQ Digit SSD</td>\n",
       "      <td>Canada</td>\n",
       "      <td>Brick &amp; Mortar</td>\n",
       "      <td>Direct</td>\n",
       "      <td>70023031</td>\n",
       "      <td>AltiQ Exclusive</td>\n",
       "      <td>30</td>\n",
       "    </tr>\n",
       "    <tr>\n",
       "      <th>8</th>\n",
       "      <td>2017-09-01</td>\n",
       "      <td>N &amp; S</td>\n",
       "      <td>External Solid State Drives</td>\n",
       "      <td>A6218160101</td>\n",
       "      <td>AQ Digit SSD</td>\n",
       "      <td>Canada</td>\n",
       "      <td>Brick &amp; Mortar</td>\n",
       "      <td>Retailer</td>\n",
       "      <td>90023022</td>\n",
       "      <td>Nomad Stores</td>\n",
       "      <td>8</td>\n",
       "    </tr>\n",
       "    <tr>\n",
       "      <th>9</th>\n",
       "      <td>2017-09-01</td>\n",
       "      <td>N &amp; S</td>\n",
       "      <td>External Solid State Drives</td>\n",
       "      <td>A6218160101</td>\n",
       "      <td>AQ Digit SSD</td>\n",
       "      <td>Canada</td>\n",
       "      <td>Brick &amp; Mortar</td>\n",
       "      <td>Retailer</td>\n",
       "      <td>90023025</td>\n",
       "      <td>Premium Stores</td>\n",
       "      <td>25</td>\n",
       "    </tr>\n",
       "  </tbody>\n",
       "</table>\n",
       "</div>"
      ],
      "text/plain": [
       "        date division                     category product_code       product  \\\n",
       "0 2017-09-01    N & S  External Solid State Drives  A6218160101  AQ Digit SSD   \n",
       "1 2017-09-01    N & S  External Solid State Drives  A6218160101  AQ Digit SSD   \n",
       "2 2017-09-01    N & S  External Solid State Drives  A6218160101  AQ Digit SSD   \n",
       "3 2017-09-01    N & S  External Solid State Drives  A6218160101  AQ Digit SSD   \n",
       "4 2017-09-01    N & S  External Solid State Drives  A6218160101  AQ Digit SSD   \n",
       "5 2017-09-01    N & S  External Solid State Drives  A6218160101  AQ Digit SSD   \n",
       "6 2017-09-01    N & S  External Solid State Drives  A6218160101  AQ Digit SSD   \n",
       "7 2017-09-01    N & S  External Solid State Drives  A6218160101  AQ Digit SSD   \n",
       "8 2017-09-01    N & S  External Solid State Drives  A6218160101  AQ Digit SSD   \n",
       "9 2017-09-01    N & S  External Solid State Drives  A6218160101  AQ Digit SSD   \n",
       "\n",
       "       market        platform   channel customer_code     customer_name  \\\n",
       "0   Australia  Brick & Mortar    Direct      70008169   AltiQ Exclusive   \n",
       "1   Australia  Brick & Mortar  Retailer      90008165    Forward Stores   \n",
       "2   Australia  Brick & Mortar  Retailer      90008166             Sound   \n",
       "3   Australia  Brick & Mortar  Retailer      90008167  Electricalsocity   \n",
       "4   Australia      E-Commerce    Direct      70008170     Atliq e Store   \n",
       "5  Bangladesh  Brick & Mortar    Direct      70010047   AltiQ Exclusive   \n",
       "6      Brazil      E-Commerce  Retailer      90027207            Amazon   \n",
       "7      Canada  Brick & Mortar    Direct      70023031   AltiQ Exclusive   \n",
       "8      Canada  Brick & Mortar  Retailer      90023022      Nomad Stores   \n",
       "9      Canada  Brick & Mortar  Retailer      90023025    Premium Stores   \n",
       "\n",
       "   forecast_quantity  \n",
       "0                146  \n",
       "1                120  \n",
       "2                216  \n",
       "3                141  \n",
       "4                 85  \n",
       "5                  0  \n",
       "6                 14  \n",
       "7                 30  \n",
       "8                  8  \n",
       "9                 25  "
      ]
     },
     "execution_count": 34,
     "metadata": {},
     "output_type": "execute_result"
    }
   ],
   "source": [
    "sc_fact_forecast_monthly.head(10)"
   ]
  },
  {
   "cell_type": "code",
   "execution_count": 35,
   "id": "999c8aac-c50f-44a9-a20b-f002105edb8a",
   "metadata": {
    "tags": []
   },
   "outputs": [
    {
     "data": {
      "text/plain": [
       "Index                      132\n",
       "date                  15087528\n",
       "division             114801051\n",
       "category             129990264\n",
       "product_code         128243988\n",
       "product              139470262\n",
       "market               120854350\n",
       "platform             131763407\n",
       "channel              122011369\n",
       "customer_code        122586165\n",
       "customer_name        127224927\n",
       "forecast_quantity     15087528\n",
       "dtype: int64"
      ]
     },
     "execution_count": 35,
     "metadata": {},
     "output_type": "execute_result"
    }
   ],
   "source": [
    "# check memory usage by column\n",
    "\n",
    "sc_fact_forecast_monthly.memory_usage(deep=True)"
   ]
  },
  {
   "cell_type": "code",
   "execution_count": 36,
   "id": "c4934923-39d7-4c99-a27a-762f2cfe9a31",
   "metadata": {
    "tags": []
   },
   "outputs": [
    {
     "data": {
      "text/plain": [
       "date                 datetime64[ns]\n",
       "division                     object\n",
       "category                     object\n",
       "product_code                 object\n",
       "product                      object\n",
       "market                       object\n",
       "platform                     object\n",
       "channel                      object\n",
       "customer_code                object\n",
       "customer_name                object\n",
       "forecast_quantity             int64\n",
       "dtype: object"
      ]
     },
     "execution_count": 36,
     "metadata": {},
     "output_type": "execute_result"
    }
   ],
   "source": [
    "# check datatypes\n",
    "\n",
    "sc_fact_forecast_monthly.dtypes"
   ]
  },
  {
   "cell_type": "code",
   "execution_count": 37,
   "id": "41dc4cc5-3052-4c28-a264-673f2d8f9227",
   "metadata": {
    "tags": []
   },
   "outputs": [
    {
     "name": "stdout",
     "output_type": "stream",
     "text": [
      "3\n"
     ]
    },
    {
     "data": {
      "text/plain": [
       "P & A    1033285\n",
       "PC        709097\n",
       "N & S     143559\n",
       "Name: division, dtype: int64"
      ]
     },
     "execution_count": 37,
     "metadata": {},
     "output_type": "execute_result"
    }
   ],
   "source": [
    "# ensure datatype 'category' is apropriate by counting unique values\n",
    "\n",
    "print(sc_fact_forecast_monthly['division'].nunique())\n",
    "sc_fact_forecast_monthly['division'].value_counts()"
   ]
  },
  {
   "cell_type": "code",
   "execution_count": 38,
   "id": "37502ccb-ee59-4211-bfa8-e4ac006e02be",
   "metadata": {
    "tags": []
   },
   "outputs": [
    {
     "name": "stdout",
     "output_type": "stream",
     "text": [
      "14\n"
     ]
    },
    {
     "data": {
      "text/plain": [
       "Personal Laptop                283938\n",
       "Keyboard                       253973\n",
       "Mouse                          245104\n",
       "Business Laptop                203007\n",
       "Graphic Card                   184247\n",
       "Gaming Laptop                  177644\n",
       "Processors                     102404\n",
       "MotherBoard                     98440\n",
       "Batteries                       88528\n",
       "External Solid State Drives     78426\n",
       "Internal HDD                    60589\n",
       "Wi fi extender                  46323\n",
       "Personal Desktop                44508\n",
       "USB Flash Drives                18810\n",
       "Name: category, dtype: int64"
      ]
     },
     "execution_count": 38,
     "metadata": {},
     "output_type": "execute_result"
    }
   ],
   "source": [
    "# ensure datatype 'category' is apropriate by counting unique values\n",
    "\n",
    "print(sc_fact_forecast_monthly['category'].nunique())\n",
    "sc_fact_forecast_monthly['category'].value_counts()"
   ]
  },
  {
   "cell_type": "code",
   "execution_count": 39,
   "id": "c675c41c-d3e9-4e66-936c-9064beb7aacd",
   "metadata": {
    "tags": []
   },
   "outputs": [
    {
     "name": "stdout",
     "output_type": "stream",
     "text": [
      "389\n"
     ]
    },
    {
     "data": {
      "text/plain": [
       "A2218150201    7982\n",
       "A2118150103    7982\n",
       "A2118150105    7982\n",
       "A3019150206    7982\n",
       "A3019150204    7982\n",
       "               ... \n",
       "A5318110102    1638\n",
       "A5318110101    1635\n",
       "A6018110101    1462\n",
       "A6018110102    1454\n",
       "A3718150104    1248\n",
       "Name: product_code, Length: 389, dtype: int64"
      ]
     },
     "execution_count": 39,
     "metadata": {},
     "output_type": "execute_result"
    }
   ],
   "source": [
    "# ensure datatype 'category' is apropriate by counting unique values\n",
    "\n",
    "print(sc_fact_forecast_monthly['product_code'].nunique())\n",
    "sc_fact_forecast_monthly['product_code'].value_counts()"
   ]
  },
  {
   "cell_type": "code",
   "execution_count": 40,
   "id": "0b904260-fd1d-48ce-aa42-ab963cbc69de",
   "metadata": {
    "tags": []
   },
   "outputs": [
    {
     "name": "stdout",
     "output_type": "stream",
     "text": [
      "71\n"
     ]
    },
    {
     "data": {
      "text/plain": [
       "AQ Digit                                56068\n",
       "AQ BZ Compact                           54125\n",
       "AQ Mforce Gen Y                         50530\n",
       "AQ Master wireless x1                   47883\n",
       "AQ Elite                                46882\n",
       "                                        ...  \n",
       "AQ Lumina                               11286\n",
       "AQ Marquee P4                            9405\n",
       "AQ Electron 3 3600 Desktop Processor     9405\n",
       "AQ Clx3                                  7524\n",
       "AQ Pen Drive 2 IN 1                      5643\n",
       "Name: product, Length: 71, dtype: int64"
      ]
     },
     "execution_count": 40,
     "metadata": {},
     "output_type": "execute_result"
    }
   ],
   "source": [
    "# ensure datatype 'category' is apropriate by counting unique values\n",
    "\n",
    "print(sc_fact_forecast_monthly['product'].nunique())\n",
    "sc_fact_forecast_monthly['product'].value_counts()"
   ]
  },
  {
   "cell_type": "code",
   "execution_count": 41,
   "id": "3d2b6a00-8966-40a6-a493-31357aeec06e",
   "metadata": {
    "tags": []
   },
   "outputs": [
    {
     "name": "stdout",
     "output_type": "stream",
     "text": [
      "27\n"
     ]
    },
    {
     "data": {
      "text/plain": [
       "0          Australia\n",
       "1          Australia\n",
       "2          Australia\n",
       "3          Australia\n",
       "4          Australia\n",
       "             ...    \n",
       "1885936          USA\n",
       "1885937          USA\n",
       "1885938          USA\n",
       "1885939          USA\n",
       "1885940          USA\n",
       "Name: market, Length: 1885941, dtype: object"
      ]
     },
     "execution_count": 41,
     "metadata": {},
     "output_type": "execute_result"
    }
   ],
   "source": [
    "# ensure datatype 'category' is apropriate by counting unique values\n",
    "\n",
    "print(sc_fact_forecast_monthly['market'].nunique())\n",
    "sc_fact_forecast_monthly['market']"
   ]
  },
  {
   "cell_type": "code",
   "execution_count": 42,
   "id": "c40101d2-e900-48cf-a980-50ce5cc56de6",
   "metadata": {
    "tags": []
   },
   "outputs": [
    {
     "name": "stdout",
     "output_type": "stream",
     "text": [
      "2\n"
     ]
    },
    {
     "data": {
      "text/plain": [
       "Brick & Mortar    1351340\n",
       "E-Commerce         534601\n",
       "Name: platform, dtype: int64"
      ]
     },
     "execution_count": 42,
     "metadata": {},
     "output_type": "execute_result"
    }
   ],
   "source": [
    "# ensure datatype 'category' is apropriate by counting unique values\n",
    "\n",
    "print(sc_fact_forecast_monthly['platform'].nunique())\n",
    "sc_fact_forecast_monthly['platform'].value_counts()"
   ]
  },
  {
   "cell_type": "code",
   "execution_count": 43,
   "id": "229daa07-061f-477c-ac65-43b4f5364387",
   "metadata": {
    "tags": []
   },
   "outputs": [
    {
     "name": "stdout",
     "output_type": "stream",
     "text": [
      "3\n"
     ]
    },
    {
     "data": {
      "text/plain": [
       "Retailer       1469663\n",
       "Direct          364726\n",
       "Distributor      51552\n",
       "Name: channel, dtype: int64"
      ]
     },
     "execution_count": 43,
     "metadata": {},
     "output_type": "execute_result"
    }
   ],
   "source": [
    "# ensure datatype 'category' is apropriate by counting unique values\n",
    "\n",
    "print(sc_fact_forecast_monthly['channel'].nunique())\n",
    "sc_fact_forecast_monthly['channel'].value_counts()"
   ]
  },
  {
   "cell_type": "code",
   "execution_count": 44,
   "id": "8b79cf2b-acda-4095-b874-a8d1c97ebad6",
   "metadata": {
    "tags": []
   },
   "outputs": [
    {
     "name": "stdout",
     "output_type": "stream",
     "text": [
      "209\n"
     ]
    },
    {
     "data": {
      "text/plain": [
       "90002008    10402\n",
       "80007195    10392\n",
       "80007196    10392\n",
       "90002009    10386\n",
       "90002004    10375\n",
       "            ...  \n",
       "90020101     6686\n",
       "90020097     6678\n",
       "90024184     6574\n",
       "90024183     6570\n",
       "90025209     6258\n",
       "Name: customer_code, Length: 209, dtype: int64"
      ]
     },
     "execution_count": 44,
     "metadata": {},
     "output_type": "execute_result"
    }
   ],
   "source": [
    "# ensure datatype 'category' is apropriate by counting unique values\n",
    "\n",
    "print(sc_fact_forecast_monthly['customer_code'].nunique())\n",
    "sc_fact_forecast_monthly['customer_code'].value_counts()"
   ]
  },
  {
   "cell_type": "code",
   "execution_count": 45,
   "id": "999069d9-f8bd-4612-b5d1-f532a4347a05",
   "metadata": {
    "tags": []
   },
   "outputs": [
    {
     "name": "stdout",
     "output_type": "stream",
     "text": [
      "75\n"
     ]
    },
    {
     "data": {
      "text/plain": [
       "Amazon             260583\n",
       "Atliq e Store      215548\n",
       "AltiQ Exclusive    149178\n",
       "Expert              43830\n",
       "Euronics            32565\n",
       "                    ...  \n",
       "Otto                 9013\n",
       "Notebillig           9009\n",
       "Saturn               9000\n",
       "All-Out              7534\n",
       "Nova                 6734\n",
       "Name: customer_name, Length: 75, dtype: int64"
      ]
     },
     "execution_count": 45,
     "metadata": {},
     "output_type": "execute_result"
    }
   ],
   "source": [
    "# ensure datatype 'category' is apropriate by counting unique values\n",
    "\n",
    "print(sc_fact_forecast_monthly['customer_name'].nunique())\n",
    "sc_fact_forecast_monthly['customer_name'].value_counts()"
   ]
  },
  {
   "cell_type": "code",
   "execution_count": 46,
   "id": "eb74e8fe-613e-44b9-a9c0-77c48da3e071",
   "metadata": {
    "tags": []
   },
   "outputs": [
    {
     "name": "stdout",
     "output_type": "stream",
     "text": [
      "0\n",
      "7554\n"
     ]
    }
   ],
   "source": [
    "# ensure datype 'int16' is apropriate by checking the range\n",
    "\n",
    "print(sc_fact_forecast_monthly['forecast_quantity'].min())\n",
    "print(sc_fact_forecast_monthly['forecast_quantity'].max())"
   ]
  },
  {
   "cell_type": "code",
   "execution_count": 47,
   "id": "03f75b72-da32-483f-965b-a70c72f869ed",
   "metadata": {
    "tags": []
   },
   "outputs": [],
   "source": [
    "# change datatypes\n",
    "\n",
    "sc_fact_forecast_monthly['division'] = sc_fact_forecast_monthly['division'].astype('category')\n",
    "sc_fact_forecast_monthly['category'] = sc_fact_forecast_monthly['category'].astype('category')\n",
    "sc_fact_forecast_monthly['product'] = sc_fact_forecast_monthly['product'].astype('category')\n",
    "sc_fact_forecast_monthly['market'] = sc_fact_forecast_monthly['market'].astype('category')\n",
    "sc_fact_forecast_monthly['platform'] = sc_fact_forecast_monthly['platform'].astype('category')\n",
    "sc_fact_forecast_monthly['channel'] = sc_fact_forecast_monthly['channel'].astype('category')\n",
    "sc_fact_forecast_monthly['customer_name'] = sc_fact_forecast_monthly['customer_name'].astype('category')\n",
    "sc_fact_forecast_monthly['forecast_quantity'] = sc_fact_forecast_monthly['forecast_quantity'].astype('int16')"
   ]
  },
  {
   "cell_type": "code",
   "execution_count": 48,
   "id": "90541940-f3ff-4284-bd2f-3db5b9fd6e01",
   "metadata": {
    "tags": []
   },
   "outputs": [
    {
     "data": {
      "text/plain": [
       "Index                      132\n",
       "date                  15087528\n",
       "division               1886232\n",
       "category               1887478\n",
       "product_code         128243988\n",
       "product                1893489\n",
       "market                 1888750\n",
       "platform               1886187\n",
       "channel                1886245\n",
       "customer_code        122586165\n",
       "customer_name          1893090\n",
       "forecast_quantity      3771882\n",
       "dtype: int64"
      ]
     },
     "execution_count": 48,
     "metadata": {},
     "output_type": "execute_result"
    }
   ],
   "source": [
    "# check memory usage by column\n",
    "\n",
    "sc_fact_forecast_monthly.memory_usage(deep=True)"
   ]
  },
  {
   "cell_type": "markdown",
   "id": "ad374e3d-cda6-45a3-8e48-2138b3989c66",
   "metadata": {
    "jp-MarkdownHeadingCollapsed": true,
    "tags": []
   },
   "source": [
    "### sc_fact_sales_monthly"
   ]
  },
  {
   "cell_type": "code",
   "execution_count": 49,
   "id": "15ec9072-616d-40cf-ba0f-5a697d5eab91",
   "metadata": {
    "tags": []
   },
   "outputs": [
    {
     "data": {
      "text/html": [
       "<div>\n",
       "<style scoped>\n",
       "    .dataframe tbody tr th:only-of-type {\n",
       "        vertical-align: middle;\n",
       "    }\n",
       "\n",
       "    .dataframe tbody tr th {\n",
       "        vertical-align: top;\n",
       "    }\n",
       "\n",
       "    .dataframe thead th {\n",
       "        text-align: right;\n",
       "    }\n",
       "</style>\n",
       "<table border=\"1\" class=\"dataframe\">\n",
       "  <thead>\n",
       "    <tr style=\"text-align: right;\">\n",
       "      <th></th>\n",
       "      <th>date</th>\n",
       "      <th>division</th>\n",
       "      <th>category</th>\n",
       "      <th>product_code</th>\n",
       "      <th>product</th>\n",
       "      <th>market</th>\n",
       "      <th>platform</th>\n",
       "      <th>channel</th>\n",
       "      <th>customer_code</th>\n",
       "      <th>customer_name</th>\n",
       "      <th>sold_quantity</th>\n",
       "    </tr>\n",
       "  </thead>\n",
       "  <tbody>\n",
       "    <tr>\n",
       "      <th>0</th>\n",
       "      <td>2017-09-01</td>\n",
       "      <td>N &amp; S</td>\n",
       "      <td>External Solid State Drives</td>\n",
       "      <td>A6218160101</td>\n",
       "      <td>AQ Digit SSD</td>\n",
       "      <td>Australia</td>\n",
       "      <td>Brick &amp; Mortar</td>\n",
       "      <td>Direct</td>\n",
       "      <td>70008169</td>\n",
       "      <td>AltiQ Exclusive</td>\n",
       "      <td>81</td>\n",
       "    </tr>\n",
       "    <tr>\n",
       "      <th>1</th>\n",
       "      <td>2017-09-01</td>\n",
       "      <td>N &amp; S</td>\n",
       "      <td>External Solid State Drives</td>\n",
       "      <td>A6218160101</td>\n",
       "      <td>AQ Digit SSD</td>\n",
       "      <td>Australia</td>\n",
       "      <td>Brick &amp; Mortar</td>\n",
       "      <td>Retailer</td>\n",
       "      <td>90008165</td>\n",
       "      <td>Forward Stores</td>\n",
       "      <td>157</td>\n",
       "    </tr>\n",
       "    <tr>\n",
       "      <th>2</th>\n",
       "      <td>2017-09-01</td>\n",
       "      <td>N &amp; S</td>\n",
       "      <td>External Solid State Drives</td>\n",
       "      <td>A6218160101</td>\n",
       "      <td>AQ Digit SSD</td>\n",
       "      <td>Australia</td>\n",
       "      <td>Brick &amp; Mortar</td>\n",
       "      <td>Retailer</td>\n",
       "      <td>90008166</td>\n",
       "      <td>Sound</td>\n",
       "      <td>126</td>\n",
       "    </tr>\n",
       "    <tr>\n",
       "      <th>3</th>\n",
       "      <td>2017-09-01</td>\n",
       "      <td>N &amp; S</td>\n",
       "      <td>External Solid State Drives</td>\n",
       "      <td>A6218160101</td>\n",
       "      <td>AQ Digit SSD</td>\n",
       "      <td>Australia</td>\n",
       "      <td>Brick &amp; Mortar</td>\n",
       "      <td>Retailer</td>\n",
       "      <td>90008167</td>\n",
       "      <td>Electricalsocity</td>\n",
       "      <td>160</td>\n",
       "    </tr>\n",
       "    <tr>\n",
       "      <th>4</th>\n",
       "      <td>2017-09-01</td>\n",
       "      <td>N &amp; S</td>\n",
       "      <td>External Solid State Drives</td>\n",
       "      <td>A6218160101</td>\n",
       "      <td>AQ Digit SSD</td>\n",
       "      <td>Australia</td>\n",
       "      <td>E-Commerce</td>\n",
       "      <td>Direct</td>\n",
       "      <td>70008170</td>\n",
       "      <td>Atliq e Store</td>\n",
       "      <td>120</td>\n",
       "    </tr>\n",
       "    <tr>\n",
       "      <th>5</th>\n",
       "      <td>2017-09-01</td>\n",
       "      <td>N &amp; S</td>\n",
       "      <td>External Solid State Drives</td>\n",
       "      <td>A6218160101</td>\n",
       "      <td>AQ Digit SSD</td>\n",
       "      <td>Brazil</td>\n",
       "      <td>E-Commerce</td>\n",
       "      <td>Retailer</td>\n",
       "      <td>90027207</td>\n",
       "      <td>Amazon</td>\n",
       "      <td>9</td>\n",
       "    </tr>\n",
       "    <tr>\n",
       "      <th>6</th>\n",
       "      <td>2017-09-01</td>\n",
       "      <td>N &amp; S</td>\n",
       "      <td>External Solid State Drives</td>\n",
       "      <td>A6218160101</td>\n",
       "      <td>AQ Digit SSD</td>\n",
       "      <td>Canada</td>\n",
       "      <td>Brick &amp; Mortar</td>\n",
       "      <td>Direct</td>\n",
       "      <td>70023031</td>\n",
       "      <td>AltiQ Exclusive</td>\n",
       "      <td>9</td>\n",
       "    </tr>\n",
       "    <tr>\n",
       "      <th>7</th>\n",
       "      <td>2017-09-01</td>\n",
       "      <td>N &amp; S</td>\n",
       "      <td>External Solid State Drives</td>\n",
       "      <td>A6218160101</td>\n",
       "      <td>AQ Digit SSD</td>\n",
       "      <td>Canada</td>\n",
       "      <td>Brick &amp; Mortar</td>\n",
       "      <td>Retailer</td>\n",
       "      <td>90023022</td>\n",
       "      <td>Nomad Stores</td>\n",
       "      <td>24</td>\n",
       "    </tr>\n",
       "    <tr>\n",
       "      <th>8</th>\n",
       "      <td>2017-09-01</td>\n",
       "      <td>N &amp; S</td>\n",
       "      <td>External Solid State Drives</td>\n",
       "      <td>A6218160101</td>\n",
       "      <td>AQ Digit SSD</td>\n",
       "      <td>Canada</td>\n",
       "      <td>Brick &amp; Mortar</td>\n",
       "      <td>Retailer</td>\n",
       "      <td>90023025</td>\n",
       "      <td>Premium Stores</td>\n",
       "      <td>22</td>\n",
       "    </tr>\n",
       "    <tr>\n",
       "      <th>9</th>\n",
       "      <td>2017-09-01</td>\n",
       "      <td>N &amp; S</td>\n",
       "      <td>External Solid State Drives</td>\n",
       "      <td>A6218160101</td>\n",
       "      <td>AQ Digit SSD</td>\n",
       "      <td>Canada</td>\n",
       "      <td>Brick &amp; Mortar</td>\n",
       "      <td>Retailer</td>\n",
       "      <td>90023026</td>\n",
       "      <td>Relief</td>\n",
       "      <td>37</td>\n",
       "    </tr>\n",
       "  </tbody>\n",
       "</table>\n",
       "</div>"
      ],
      "text/plain": [
       "        date division                     category product_code       product  \\\n",
       "0 2017-09-01    N & S  External Solid State Drives  A6218160101  AQ Digit SSD   \n",
       "1 2017-09-01    N & S  External Solid State Drives  A6218160101  AQ Digit SSD   \n",
       "2 2017-09-01    N & S  External Solid State Drives  A6218160101  AQ Digit SSD   \n",
       "3 2017-09-01    N & S  External Solid State Drives  A6218160101  AQ Digit SSD   \n",
       "4 2017-09-01    N & S  External Solid State Drives  A6218160101  AQ Digit SSD   \n",
       "5 2017-09-01    N & S  External Solid State Drives  A6218160101  AQ Digit SSD   \n",
       "6 2017-09-01    N & S  External Solid State Drives  A6218160101  AQ Digit SSD   \n",
       "7 2017-09-01    N & S  External Solid State Drives  A6218160101  AQ Digit SSD   \n",
       "8 2017-09-01    N & S  External Solid State Drives  A6218160101  AQ Digit SSD   \n",
       "9 2017-09-01    N & S  External Solid State Drives  A6218160101  AQ Digit SSD   \n",
       "\n",
       "      market        platform   channel customer_code     customer_name  \\\n",
       "0  Australia  Brick & Mortar    Direct      70008169   AltiQ Exclusive   \n",
       "1  Australia  Brick & Mortar  Retailer      90008165    Forward Stores   \n",
       "2  Australia  Brick & Mortar  Retailer      90008166             Sound   \n",
       "3  Australia  Brick & Mortar  Retailer      90008167  Electricalsocity   \n",
       "4  Australia      E-Commerce    Direct      70008170     Atliq e Store   \n",
       "5     Brazil      E-Commerce  Retailer      90027207            Amazon   \n",
       "6     Canada  Brick & Mortar    Direct      70023031   AltiQ Exclusive   \n",
       "7     Canada  Brick & Mortar  Retailer      90023022      Nomad Stores   \n",
       "8     Canada  Brick & Mortar  Retailer      90023025    Premium Stores   \n",
       "9     Canada  Brick & Mortar  Retailer      90023026            Relief   \n",
       "\n",
       "   sold_quantity  \n",
       "0             81  \n",
       "1            157  \n",
       "2            126  \n",
       "3            160  \n",
       "4            120  \n",
       "5              9  \n",
       "6              9  \n",
       "7             24  \n",
       "8             22  \n",
       "9             37  "
      ]
     },
     "execution_count": 49,
     "metadata": {},
     "output_type": "execute_result"
    }
   ],
   "source": [
    "sc_fact_sales_monthly.head(10)"
   ]
  },
  {
   "cell_type": "code",
   "execution_count": 50,
   "id": "4cf0dfe7-1cae-420b-883e-b01c5411cae6",
   "metadata": {
    "tags": []
   },
   "outputs": [
    {
     "data": {
      "text/plain": [
       "Index                  132\n",
       "date              11405648\n",
       "division          86867342\n",
       "category          98199260\n",
       "product_code      96948008\n",
       "product          106581796\n",
       "market            91345986\n",
       "platform          99583322\n",
       "channel           92237730\n",
       "customer_code     92670890\n",
       "customer_name     96099224\n",
       "sold_quantity     11405648\n",
       "dtype: int64"
      ]
     },
     "execution_count": 50,
     "metadata": {},
     "output_type": "execute_result"
    }
   ],
   "source": [
    "# check memory usage by column\n",
    "\n",
    "sc_fact_sales_monthly.memory_usage(deep=True)"
   ]
  },
  {
   "cell_type": "code",
   "execution_count": 51,
   "id": "4734f0a0-abef-4cde-a82e-a0fb43134e1a",
   "metadata": {
    "tags": []
   },
   "outputs": [
    {
     "data": {
      "text/plain": [
       "date             datetime64[ns]\n",
       "division                 object\n",
       "category                 object\n",
       "product_code             object\n",
       "product                  object\n",
       "market                   object\n",
       "platform                 object\n",
       "channel                  object\n",
       "customer_code            object\n",
       "customer_name            object\n",
       "sold_quantity             int64\n",
       "dtype: object"
      ]
     },
     "execution_count": 51,
     "metadata": {},
     "output_type": "execute_result"
    }
   ],
   "source": [
    "# check datatypes\n",
    "\n",
    "sc_fact_sales_monthly.dtypes"
   ]
  },
  {
   "cell_type": "code",
   "execution_count": 52,
   "id": "d8bdb800-1edf-4d12-a044-51e43b11b294",
   "metadata": {
    "tags": []
   },
   "outputs": [
    {
     "name": "stdout",
     "output_type": "stream",
     "text": [
      "3\n"
     ]
    },
    {
     "data": {
      "text/plain": [
       "P & A    802773\n",
       "PC       508810\n",
       "N & S    114123\n",
       "Name: division, dtype: int64"
      ]
     },
     "execution_count": 52,
     "metadata": {},
     "output_type": "execute_result"
    }
   ],
   "source": [
    "# ensure datatype 'category' is apropriate by counting unique values\n",
    "\n",
    "print(sc_fact_sales_monthly['division'].nunique())\n",
    "sc_fact_sales_monthly['division'].value_counts()"
   ]
  },
  {
   "cell_type": "code",
   "execution_count": 53,
   "id": "17878a10-a529-47e9-b3c8-7e1277e46a4a",
   "metadata": {
    "tags": []
   },
   "outputs": [
    {
     "name": "stdout",
     "output_type": "stream",
     "text": [
      "14\n"
     ]
    },
    {
     "data": {
      "text/plain": [
       "Personal Laptop                206710\n",
       "Keyboard                       197198\n",
       "Mouse                          187221\n",
       "Graphic Card                   146147\n",
       "Business Laptop                145901\n",
       "Gaming Laptop                  129168\n",
       "Processors                      83075\n",
       "MotherBoard                     76631\n",
       "Batteries                       62075\n",
       "External Solid State Drives     61766\n",
       "Internal HDD                    50426\n",
       "Wi fi extender                  38576\n",
       "Personal Desktop                27031\n",
       "USB Flash Drives                13781\n",
       "Name: category, dtype: int64"
      ]
     },
     "execution_count": 53,
     "metadata": {},
     "output_type": "execute_result"
    }
   ],
   "source": [
    "# ensure datatype 'category' is apropriate by counting unique values\n",
    "\n",
    "print(sc_fact_sales_monthly['category'].nunique())\n",
    "sc_fact_sales_monthly['category'].value_counts()"
   ]
  },
  {
   "cell_type": "code",
   "execution_count": 54,
   "id": "c141b8c6-1f1c-4d22-9ec1-e0fe578f94a1",
   "metadata": {
    "tags": []
   },
   "outputs": [
    {
     "name": "stdout",
     "output_type": "stream",
     "text": [
      "389\n"
     ]
    },
    {
     "data": {
      "text/plain": [
       "A2118150103    6729\n",
       "A2218150201    6728\n",
       "A2219150203    6726\n",
       "A2118150104    6725\n",
       "A2118150105    6724\n",
       "               ... \n",
       "A2821150804     627\n",
       "A2821150805     627\n",
       "A2821150806     627\n",
       "A1521150603     627\n",
       "A4821110808     627\n",
       "Name: product_code, Length: 389, dtype: int64"
      ]
     },
     "execution_count": 54,
     "metadata": {},
     "output_type": "execute_result"
    }
   ],
   "source": [
    "# ensure datatype 'category' is apropriate by counting unique values\n",
    "\n",
    "print(sc_fact_sales_monthly['product_code'].nunique())\n",
    "sc_fact_sales_monthly['product_code'].value_counts()"
   ]
  },
  {
   "cell_type": "code",
   "execution_count": 55,
   "id": "631dc118-ed05-414a-ac61-787c7f818995",
   "metadata": {
    "tags": []
   },
   "outputs": [
    {
     "name": "stdout",
     "output_type": "stream",
     "text": [
      "71\n"
     ]
    },
    {
     "data": {
      "text/plain": [
       "AQ Digit                 44641\n",
       "AQ Mforce Gen Y          43745\n",
       "AQ BZ Compact            41966\n",
       "AQ Master wireless x1    40326\n",
       "AQ Mforce Gen X          40060\n",
       "                         ...  \n",
       "AQ F16                    5016\n",
       "AQ Marquee P4             4389\n",
       "AQ Pen Drive 2 IN 1       4382\n",
       "AQ Clx3                   3762\n",
       "AQ Lumina                 3762\n",
       "Name: product, Length: 71, dtype: int64"
      ]
     },
     "execution_count": 55,
     "metadata": {},
     "output_type": "execute_result"
    }
   ],
   "source": [
    "# ensure datatype 'category' is apropriate by counting unique values\n",
    "\n",
    "print(sc_fact_sales_monthly['product'].nunique())\n",
    "sc_fact_sales_monthly['product'].value_counts()"
   ]
  },
  {
   "cell_type": "code",
   "execution_count": 56,
   "id": "625192e8-b604-4c14-a53a-8d12bcb56132",
   "metadata": {
    "tags": []
   },
   "outputs": [
    {
     "name": "stdout",
     "output_type": "stream",
     "text": [
      "27\n"
     ]
    },
    {
     "data": {
      "text/plain": [
       "India       147278\n",
       "USA         121400\n",
       "Canada       84873\n",
       "Italy        80172\n",
       "Portugal     77571\n",
       "             ...  \n",
       "China        23031\n",
       "Brazil       14021\n",
       "Mexico       12736\n",
       "Chile         8755\n",
       "Columbia      3782\n",
       "Name: market, Length: 27, dtype: int64"
      ]
     },
     "execution_count": 56,
     "metadata": {},
     "output_type": "execute_result"
    }
   ],
   "source": [
    "# ensure datatype 'category' is apropriate by counting unique values\n",
    "\n",
    "print(sc_fact_sales_monthly['market'].nunique())\n",
    "sc_fact_sales_monthly['market'].value_counts()"
   ]
  },
  {
   "cell_type": "code",
   "execution_count": 57,
   "id": "1149403e-4438-4b9a-b130-42e146630d1b",
   "metadata": {
    "tags": []
   },
   "outputs": [
    {
     "name": "stdout",
     "output_type": "stream",
     "text": [
      "2\n"
     ]
    },
    {
     "data": {
      "text/plain": [
       "Brick & Mortar    1015255\n",
       "E-Commerce         410451\n",
       "Name: platform, dtype: int64"
      ]
     },
     "execution_count": 57,
     "metadata": {},
     "output_type": "execute_result"
    }
   ],
   "source": [
    "# ensure datatype 'category' is apropriate by counting unique values\n",
    "\n",
    "print(sc_fact_sales_monthly['platform'].nunique())\n",
    "sc_fact_sales_monthly['platform'].value_counts()"
   ]
  },
  {
   "cell_type": "code",
   "execution_count": 58,
   "id": "937b8eb1-a35b-43fb-8bcd-ad9504f51811",
   "metadata": {
    "tags": []
   },
   "outputs": [
    {
     "name": "stdout",
     "output_type": "stream",
     "text": [
      "3\n"
     ]
    },
    {
     "data": {
      "text/plain": [
       "Retailer       1106671\n",
       "Direct          278053\n",
       "Distributor      40982\n",
       "Name: channel, dtype: int64"
      ]
     },
     "execution_count": 58,
     "metadata": {},
     "output_type": "execute_result"
    }
   ],
   "source": [
    "# ensure datatype 'category' is apropriate by counting unique values\n",
    "\n",
    "print(sc_fact_sales_monthly['channel'].nunique())\n",
    "sc_fact_sales_monthly['channel'].value_counts()"
   ]
  },
  {
   "cell_type": "code",
   "execution_count": 59,
   "id": "3691d4dc-672f-4c8f-ac29-1edf31674a4a",
   "metadata": {
    "tags": []
   },
   "outputs": [
    {
     "name": "stdout",
     "output_type": "stream",
     "text": [
      "209\n"
     ]
    },
    {
     "data": {
      "text/plain": [
       "80007196    8295\n",
       "90002008    8289\n",
       "80007195    8287\n",
       "90002009    8265\n",
       "70002018    8261\n",
       "            ... \n",
       "90020097    4328\n",
       "90020101    4322\n",
       "90020099    4312\n",
       "90024183    4287\n",
       "90025209    3782\n",
       "Name: customer_code, Length: 209, dtype: int64"
      ]
     },
     "execution_count": 59,
     "metadata": {},
     "output_type": "execute_result"
    }
   ],
   "source": [
    "# ensure datatype 'category' is apropriate by counting unique values\n",
    "\n",
    "print(sc_fact_sales_monthly['customer_code'].nunique())\n",
    "sc_fact_sales_monthly['customer_code'].value_counts()"
   ]
  },
  {
   "cell_type": "code",
   "execution_count": 60,
   "id": "beb5a3bc-4c10-4c52-899d-76d8a78cf25f",
   "metadata": {
    "tags": []
   },
   "outputs": [
    {
     "name": "stdout",
     "output_type": "stream",
     "text": [
      "75\n"
     ]
    },
    {
     "data": {
      "text/plain": [
       "Amazon             199382\n",
       "Atliq e Store      165005\n",
       "AltiQ Exclusive    113048\n",
       "Expert              32732\n",
       "Euronics            23340\n",
       "                    ...  \n",
       "Saturn               6991\n",
       "Notebillig           6960\n",
       "Billa                6911\n",
       "All-Out              5192\n",
       "Nova                 4355\n",
       "Name: customer_name, Length: 75, dtype: int64"
      ]
     },
     "execution_count": 60,
     "metadata": {},
     "output_type": "execute_result"
    }
   ],
   "source": [
    "# ensure datatype 'category' is apropriate by counting unique values\n",
    "\n",
    "print(sc_fact_sales_monthly['customer_name'].nunique())\n",
    "sc_fact_sales_monthly['customer_name'].value_counts()"
   ]
  },
  {
   "cell_type": "code",
   "execution_count": 61,
   "id": "f2d39c4a-ea50-4472-9cc5-225ed2ce64f2",
   "metadata": {
    "tags": []
   },
   "outputs": [
    {
     "name": "stdout",
     "output_type": "stream",
     "text": [
      "0\n",
      "5832\n"
     ]
    }
   ],
   "source": [
    "# ensure datype 'int16' is apropriate by checking the range\n",
    "\n",
    "print(sc_fact_sales_monthly['sold_quantity'].min())\n",
    "print(sc_fact_sales_monthly['sold_quantity'].max())"
   ]
  },
  {
   "cell_type": "code",
   "execution_count": 62,
   "id": "b761fb12-2498-4dd6-875b-4bc66d0d24de",
   "metadata": {
    "tags": []
   },
   "outputs": [],
   "source": [
    "# change datatypes\n",
    "\n",
    "sc_fact_sales_monthly['division'] = sc_fact_sales_monthly['division'].astype('category')\n",
    "sc_fact_sales_monthly['category'] = sc_fact_sales_monthly['category'].astype('category')\n",
    "sc_fact_sales_monthly['product'] = sc_fact_sales_monthly['product'].astype('category')\n",
    "sc_fact_sales_monthly['market'] = sc_fact_sales_monthly['market'].astype('category')\n",
    "sc_fact_sales_monthly['platform'] = sc_fact_sales_monthly['platform'].astype('category')\n",
    "sc_fact_sales_monthly['channel'] = sc_fact_sales_monthly['channel'].astype('category')\n",
    "sc_fact_sales_monthly['customer_name'] = sc_fact_sales_monthly['customer_name'].astype('category')\n",
    "sc_fact_sales_monthly['sold_quantity'] = sc_fact_sales_monthly['sold_quantity'].astype('int16')"
   ]
  },
  {
   "cell_type": "code",
   "execution_count": 63,
   "id": "d7c1014b-00e1-4259-a681-72e21755f3c8",
   "metadata": {
    "tags": []
   },
   "outputs": [
    {
     "data": {
      "text/plain": [
       "Index                 132\n",
       "date             11405648\n",
       "division          1425997\n",
       "category          1427243\n",
       "product_code     96948008\n",
       "product           1433254\n",
       "market            1428515\n",
       "platform          1425952\n",
       "channel           1426010\n",
       "customer_code    92670890\n",
       "customer_name     1432855\n",
       "sold_quantity     2851412\n",
       "dtype: int64"
      ]
     },
     "execution_count": 63,
     "metadata": {},
     "output_type": "execute_result"
    }
   ],
   "source": [
    "# check memory usage by column\n",
    "\n",
    "sc_fact_sales_monthly.memory_usage(deep=True)"
   ]
  },
  {
   "cell_type": "markdown",
   "id": "022bf111-680d-4718-b545-92ac3e32ca00",
   "metadata": {
    "jp-MarkdownHeadingCollapsed": true,
    "tags": []
   },
   "source": [
    "### sc_freight_cost"
   ]
  },
  {
   "cell_type": "code",
   "execution_count": 64,
   "id": "7ad5f14b-7508-4b03-986d-4f47f6fb668b",
   "metadata": {
    "tags": []
   },
   "outputs": [
    {
     "data": {
      "text/html": [
       "<div>\n",
       "<style scoped>\n",
       "    .dataframe tbody tr th:only-of-type {\n",
       "        vertical-align: middle;\n",
       "    }\n",
       "\n",
       "    .dataframe tbody tr th {\n",
       "        vertical-align: top;\n",
       "    }\n",
       "\n",
       "    .dataframe thead th {\n",
       "        text-align: right;\n",
       "    }\n",
       "</style>\n",
       "<table border=\"1\" class=\"dataframe\">\n",
       "  <thead>\n",
       "    <tr style=\"text-align: right;\">\n",
       "      <th></th>\n",
       "      <th>market</th>\n",
       "      <th>fiscal_year</th>\n",
       "      <th>freight_pct</th>\n",
       "      <th>other_cost_pct</th>\n",
       "    </tr>\n",
       "  </thead>\n",
       "  <tbody>\n",
       "    <tr>\n",
       "      <th>0</th>\n",
       "      <td>Australia</td>\n",
       "      <td>2018</td>\n",
       "      <td>0.0188000000</td>\n",
       "      <td>0.0050000000</td>\n",
       "    </tr>\n",
       "    <tr>\n",
       "      <th>1</th>\n",
       "      <td>Austria</td>\n",
       "      <td>2018</td>\n",
       "      <td>0.0272000000</td>\n",
       "      <td>0.0053000000</td>\n",
       "    </tr>\n",
       "    <tr>\n",
       "      <th>2</th>\n",
       "      <td>Bangladesh</td>\n",
       "      <td>2018</td>\n",
       "      <td>0.0219000000</td>\n",
       "      <td>0.0058000000</td>\n",
       "    </tr>\n",
       "    <tr>\n",
       "      <th>3</th>\n",
       "      <td>Brazil</td>\n",
       "      <td>2018</td>\n",
       "      <td>0.0239000000</td>\n",
       "      <td>0.0033000000</td>\n",
       "    </tr>\n",
       "    <tr>\n",
       "      <th>4</th>\n",
       "      <td>Canada</td>\n",
       "      <td>2018</td>\n",
       "      <td>0.0264000000</td>\n",
       "      <td>0.0054000000</td>\n",
       "    </tr>\n",
       "    <tr>\n",
       "      <th>5</th>\n",
       "      <td>Chile</td>\n",
       "      <td>2018</td>\n",
       "      <td>0.0267000000</td>\n",
       "      <td>0.0022000000</td>\n",
       "    </tr>\n",
       "    <tr>\n",
       "      <th>6</th>\n",
       "      <td>China</td>\n",
       "      <td>2018</td>\n",
       "      <td>0.0204000000</td>\n",
       "      <td>0.0043000000</td>\n",
       "    </tr>\n",
       "    <tr>\n",
       "      <th>7</th>\n",
       "      <td>Columbia</td>\n",
       "      <td>2018</td>\n",
       "      <td>0.0216000000</td>\n",
       "      <td>0.0028000000</td>\n",
       "    </tr>\n",
       "    <tr>\n",
       "      <th>8</th>\n",
       "      <td>France</td>\n",
       "      <td>2018</td>\n",
       "      <td>0.0190000000</td>\n",
       "      <td>0.0038000000</td>\n",
       "    </tr>\n",
       "    <tr>\n",
       "      <th>9</th>\n",
       "      <td>Germany</td>\n",
       "      <td>2018</td>\n",
       "      <td>0.0301000000</td>\n",
       "      <td>0.0061000000</td>\n",
       "    </tr>\n",
       "  </tbody>\n",
       "</table>\n",
       "</div>"
      ],
      "text/plain": [
       "       market fiscal_year   freight_pct other_cost_pct\n",
       "0   Australia        2018  0.0188000000   0.0050000000\n",
       "1     Austria        2018  0.0272000000   0.0053000000\n",
       "2  Bangladesh        2018  0.0219000000   0.0058000000\n",
       "3      Brazil        2018  0.0239000000   0.0033000000\n",
       "4      Canada        2018  0.0264000000   0.0054000000\n",
       "5       Chile        2018  0.0267000000   0.0022000000\n",
       "6       China        2018  0.0204000000   0.0043000000\n",
       "7    Columbia        2018  0.0216000000   0.0028000000\n",
       "8      France        2018  0.0190000000   0.0038000000\n",
       "9     Germany        2018  0.0301000000   0.0061000000"
      ]
     },
     "execution_count": 64,
     "metadata": {},
     "output_type": "execute_result"
    }
   ],
   "source": [
    "sc_freight_cost.head(10)"
   ]
  },
  {
   "cell_type": "code",
   "execution_count": 65,
   "id": "675a0274-50c7-41f6-9e0b-74160e17e6d8",
   "metadata": {
    "tags": []
   },
   "outputs": [
    {
     "data": {
      "text/plain": [
       "Index               132\n",
       "market             8685\n",
       "fiscal_year        8235\n",
       "freight_pct       15120\n",
       "other_cost_pct    15120\n",
       "dtype: int64"
      ]
     },
     "execution_count": 65,
     "metadata": {},
     "output_type": "execute_result"
    }
   ],
   "source": [
    "# check memory usage by column\n",
    "\n",
    "sc_freight_cost.memory_usage(deep=True)"
   ]
  },
  {
   "cell_type": "code",
   "execution_count": 66,
   "id": "2b180bdf-76d8-4e62-a471-1c5735378fff",
   "metadata": {
    "tags": []
   },
   "outputs": [
    {
     "data": {
      "text/plain": [
       "market            object\n",
       "fiscal_year       object\n",
       "freight_pct       object\n",
       "other_cost_pct    object\n",
       "dtype: object"
      ]
     },
     "execution_count": 66,
     "metadata": {},
     "output_type": "execute_result"
    }
   ],
   "source": [
    "# check datatypes\n",
    "\n",
    "sc_freight_cost.dtypes"
   ]
  },
  {
   "cell_type": "code",
   "execution_count": 67,
   "id": "6b0ab01d-7b99-4e1a-9280-b455863dce3a",
   "metadata": {
    "tags": []
   },
   "outputs": [
    {
     "name": "stdout",
     "output_type": "stream",
     "text": [
      "27\n"
     ]
    },
    {
     "data": {
      "text/plain": [
       "Australia         5\n",
       "Mexico            5\n",
       "United Kingdom    5\n",
       "Sweden            5\n",
       "Spain             5\n",
       "                 ..\n",
       "Chile             5\n",
       "Canada            5\n",
       "Brazil            5\n",
       "Bangladesh        5\n",
       "USA               5\n",
       "Name: market, Length: 27, dtype: int64"
      ]
     },
     "execution_count": 67,
     "metadata": {},
     "output_type": "execute_result"
    }
   ],
   "source": [
    "# ensure datatype 'category' is apropriate by counting unique values\n",
    "\n",
    "print(sc_freight_cost['market'].nunique())\n",
    "sc_freight_cost['market'].value_counts()"
   ]
  },
  {
   "cell_type": "code",
   "execution_count": 68,
   "id": "e3395358-a680-471e-872e-e155d2767de4",
   "metadata": {
    "tags": []
   },
   "outputs": [
    {
     "name": "stdout",
     "output_type": "stream",
     "text": [
      "5\n"
     ]
    },
    {
     "data": {
      "text/plain": [
       "2018    27\n",
       "2019    27\n",
       "2020    27\n",
       "2021    27\n",
       "2022    27\n",
       "Name: fiscal_year, dtype: int64"
      ]
     },
     "execution_count": 68,
     "metadata": {},
     "output_type": "execute_result"
    }
   ],
   "source": [
    "# ensure datatype 'category' is apropriate by counting unique values\n",
    "\n",
    "print(sc_freight_cost['fiscal_year'].nunique())\n",
    "sc_freight_cost['fiscal_year'].value_counts()"
   ]
  },
  {
   "cell_type": "code",
   "execution_count": 69,
   "id": "bb19677c-c50d-45bb-a0e2-8a985ff09a49",
   "metadata": {
    "tags": []
   },
   "outputs": [
    {
     "name": "stdout",
     "output_type": "stream",
     "text": [
      "0.0187000000\n",
      "0.0312000000\n"
     ]
    }
   ],
   "source": [
    "# ensure datype 'int16' is apropriate by checking the range\n",
    "\n",
    "print(sc_freight_cost['freight_pct'].min())\n",
    "print(sc_freight_cost['freight_pct'].max())"
   ]
  },
  {
   "cell_type": "code",
   "execution_count": 70,
   "id": "5c574516-b882-4b27-ace5-56378acfc229",
   "metadata": {
    "tags": []
   },
   "outputs": [
    {
     "name": "stdout",
     "output_type": "stream",
     "text": [
      "0.0022000000\n",
      "0.0061000000\n"
     ]
    }
   ],
   "source": [
    "# ensure datype 'int16' is apropriate by checking the range\n",
    "\n",
    "print(sc_freight_cost['other_cost_pct'].min())\n",
    "print(sc_freight_cost['other_cost_pct'].max())"
   ]
  },
  {
   "cell_type": "code",
   "execution_count": 71,
   "id": "9c50f7f1-c050-4e7d-85c4-8d7127c4bca9",
   "metadata": {
    "tags": []
   },
   "outputs": [],
   "source": [
    "# change datatypes\n",
    "\n",
    "sc_freight_cost['market'] = sc_freight_cost['market'].astype('category')\n",
    "sc_freight_cost['fiscal_year'] = sc_freight_cost['fiscal_year'].astype('int16')\n",
    "sc_freight_cost['freight_pct'] = sc_freight_cost['freight_pct'].astype('float64')\n",
    "sc_freight_cost['other_cost_pct'] = sc_freight_cost['other_cost_pct'].astype('float64')"
   ]
  },
  {
   "cell_type": "code",
   "execution_count": 72,
   "id": "b7c54280-d744-426f-93b3-2be2da28f2e2",
   "metadata": {
    "tags": []
   },
   "outputs": [
    {
     "data": {
      "text/plain": [
       "Index              132\n",
       "market            2944\n",
       "fiscal_year        270\n",
       "freight_pct       1080\n",
       "other_cost_pct    1080\n",
       "dtype: int64"
      ]
     },
     "execution_count": 72,
     "metadata": {},
     "output_type": "execute_result"
    }
   ],
   "source": [
    "# check memory usage by column\n",
    "\n",
    "sc_freight_cost.memory_usage(deep=True)"
   ]
  },
  {
   "cell_type": "markdown",
   "id": "6c24cce0-998a-4e55-a79d-08268947ac18",
   "metadata": {
    "jp-MarkdownHeadingCollapsed": true,
    "tags": []
   },
   "source": [
    "### sc_gross_price"
   ]
  },
  {
   "cell_type": "code",
   "execution_count": 73,
   "id": "5dd67040-05ca-4316-9632-1d9f5c3ea8f2",
   "metadata": {
    "tags": []
   },
   "outputs": [
    {
     "data": {
      "text/html": [
       "<div>\n",
       "<style scoped>\n",
       "    .dataframe tbody tr th:only-of-type {\n",
       "        vertical-align: middle;\n",
       "    }\n",
       "\n",
       "    .dataframe tbody tr th {\n",
       "        vertical-align: top;\n",
       "    }\n",
       "\n",
       "    .dataframe thead th {\n",
       "        text-align: right;\n",
       "    }\n",
       "</style>\n",
       "<table border=\"1\" class=\"dataframe\">\n",
       "  <thead>\n",
       "    <tr style=\"text-align: right;\">\n",
       "      <th></th>\n",
       "      <th>product_code</th>\n",
       "      <th>fiscal_year</th>\n",
       "      <th>gross_price</th>\n",
       "    </tr>\n",
       "  </thead>\n",
       "  <tbody>\n",
       "    <tr>\n",
       "      <th>0</th>\n",
       "      <td>A0118150101</td>\n",
       "      <td>2018</td>\n",
       "      <td>15.3952000000</td>\n",
       "    </tr>\n",
       "    <tr>\n",
       "      <th>1</th>\n",
       "      <td>A0118150101</td>\n",
       "      <td>2019</td>\n",
       "      <td>14.4392000000</td>\n",
       "    </tr>\n",
       "    <tr>\n",
       "      <th>2</th>\n",
       "      <td>A0118150101</td>\n",
       "      <td>2020</td>\n",
       "      <td>16.2323000000</td>\n",
       "    </tr>\n",
       "    <tr>\n",
       "      <th>3</th>\n",
       "      <td>A0118150101</td>\n",
       "      <td>2021</td>\n",
       "      <td>19.0573000000</td>\n",
       "    </tr>\n",
       "    <tr>\n",
       "      <th>4</th>\n",
       "      <td>A0118150102</td>\n",
       "      <td>2018</td>\n",
       "      <td>19.5875000000</td>\n",
       "    </tr>\n",
       "    <tr>\n",
       "      <th>5</th>\n",
       "      <td>A0118150102</td>\n",
       "      <td>2019</td>\n",
       "      <td>18.5595000000</td>\n",
       "    </tr>\n",
       "    <tr>\n",
       "      <th>6</th>\n",
       "      <td>A0118150102</td>\n",
       "      <td>2020</td>\n",
       "      <td>19.8577000000</td>\n",
       "    </tr>\n",
       "    <tr>\n",
       "      <th>7</th>\n",
       "      <td>A0118150102</td>\n",
       "      <td>2021</td>\n",
       "      <td>21.4565000000</td>\n",
       "    </tr>\n",
       "    <tr>\n",
       "      <th>8</th>\n",
       "      <td>A0118150103</td>\n",
       "      <td>2018</td>\n",
       "      <td>19.3630000000</td>\n",
       "    </tr>\n",
       "    <tr>\n",
       "      <th>9</th>\n",
       "      <td>A0118150103</td>\n",
       "      <td>2019</td>\n",
       "      <td>19.3442000000</td>\n",
       "    </tr>\n",
       "  </tbody>\n",
       "</table>\n",
       "</div>"
      ],
      "text/plain": [
       "  product_code fiscal_year    gross_price\n",
       "0  A0118150101        2018  15.3952000000\n",
       "1  A0118150101        2019  14.4392000000\n",
       "2  A0118150101        2020  16.2323000000\n",
       "3  A0118150101        2021  19.0573000000\n",
       "4  A0118150102        2018  19.5875000000\n",
       "5  A0118150102        2019  18.5595000000\n",
       "6  A0118150102        2020  19.8577000000\n",
       "7  A0118150102        2021  21.4565000000\n",
       "8  A0118150103        2018  19.3630000000\n",
       "9  A0118150103        2019  19.3442000000"
      ]
     },
     "execution_count": 73,
     "metadata": {},
     "output_type": "execute_result"
    }
   ],
   "source": [
    "sc_gross_price.head(10)"
   ]
  },
  {
   "cell_type": "code",
   "execution_count": 74,
   "id": "190aa58c-9413-42be-a474-6fbad3ac2048",
   "metadata": {
    "tags": []
   },
   "outputs": [
    {
     "data": {
      "text/plain": [
       "Index              132\n",
       "product_code     81396\n",
       "fiscal_year      73017\n",
       "gross_price     134064\n",
       "dtype: int64"
      ]
     },
     "execution_count": 74,
     "metadata": {},
     "output_type": "execute_result"
    }
   ],
   "source": [
    "# check memory usage by column\n",
    "\n",
    "sc_gross_price.memory_usage(deep=True)"
   ]
  },
  {
   "cell_type": "code",
   "execution_count": 75,
   "id": "ecc17ab4-c293-495e-8ee3-e2a426087345",
   "metadata": {
    "tags": []
   },
   "outputs": [
    {
     "data": {
      "text/plain": [
       "product_code    object\n",
       "fiscal_year     object\n",
       "gross_price     object\n",
       "dtype: object"
      ]
     },
     "execution_count": 75,
     "metadata": {},
     "output_type": "execute_result"
    }
   ],
   "source": [
    "# check datatypes\n",
    "\n",
    "sc_gross_price.dtypes"
   ]
  },
  {
   "cell_type": "code",
   "execution_count": 76,
   "id": "d4cea3eb-b1d6-4d60-9867-a27e46220d8b",
   "metadata": {
    "tags": []
   },
   "outputs": [
    {
     "name": "stdout",
     "output_type": "stream",
     "text": [
      "397\n"
     ]
    },
    {
     "data": {
      "text/plain": [
       "A2918150105    5\n",
       "A1219150301    5\n",
       "A3718150102    5\n",
       "A3718150103    5\n",
       "A3718150105    5\n",
       "              ..\n",
       "A5820110105    1\n",
       "A2821150802    1\n",
       "A2821150803    1\n",
       "A2821150804    1\n",
       "A4821110808    1\n",
       "Name: product_code, Length: 397, dtype: int64"
      ]
     },
     "execution_count": 76,
     "metadata": {},
     "output_type": "execute_result"
    }
   ],
   "source": [
    "# ensure datatype 'category' is apropriate by counting unique values\n",
    "\n",
    "print(sc_gross_price['product_code'].nunique())\n",
    "sc_gross_price['product_code'].value_counts()"
   ]
  },
  {
   "cell_type": "code",
   "execution_count": 77,
   "id": "2f02fbf8-4baf-4b5f-9ad9-8d45c63e15a1",
   "metadata": {
    "tags": []
   },
   "outputs": [
    {
     "name": "stdout",
     "output_type": "stream",
     "text": [
      "5\n"
     ]
    },
    {
     "data": {
      "text/plain": [
       "2022    353\n",
       "2021    338\n",
       "2020    247\n",
       "2019    172\n",
       "2018     87\n",
       "Name: fiscal_year, dtype: int64"
      ]
     },
     "execution_count": 77,
     "metadata": {},
     "output_type": "execute_result"
    }
   ],
   "source": [
    "# ensure datatype 'category' is apropriate by counting unique values\n",
    "\n",
    "print(sc_gross_price['fiscal_year'].nunique())\n",
    "sc_gross_price['fiscal_year'].value_counts()"
   ]
  },
  {
   "cell_type": "code",
   "execution_count": 78,
   "id": "5ec6a78e-e74b-4fa0-a354-ad6d65d1449e",
   "metadata": {
    "tags": []
   },
   "outputs": [
    {
     "name": "stdout",
     "output_type": "stream",
     "text": [
      "2.2831000000\n",
      "890.1364000000\n"
     ]
    }
   ],
   "source": [
    "# ensure datype 'int16' is apropriate by checking the range\n",
    "\n",
    "print(sc_gross_price['gross_price'].min())\n",
    "print(sc_gross_price['gross_price'].max())"
   ]
  },
  {
   "cell_type": "code",
   "execution_count": 79,
   "id": "cdd98075-2e7f-4fd1-847e-fe7659e4bfff",
   "metadata": {
    "tags": []
   },
   "outputs": [],
   "source": [
    "# change datatypes\n",
    "\n",
    "sc_gross_price['fiscal_year'] = sc_gross_price['fiscal_year'].astype('int16')\n",
    "sc_gross_price['gross_price'] = sc_gross_price['gross_price'].astype('float64')"
   ]
  },
  {
   "cell_type": "code",
   "execution_count": 80,
   "id": "958a5e41-ecdc-4b0a-a3e3-00d765093e23",
   "metadata": {
    "tags": []
   },
   "outputs": [
    {
     "data": {
      "text/plain": [
       "Index             132\n",
       "product_code    81396\n",
       "fiscal_year      2394\n",
       "gross_price      9576\n",
       "dtype: int64"
      ]
     },
     "execution_count": 80,
     "metadata": {},
     "output_type": "execute_result"
    }
   ],
   "source": [
    "# check memory usage by column\n",
    "\n",
    "sc_gross_price.memory_usage(deep=True)"
   ]
  },
  {
   "cell_type": "markdown",
   "id": "906c6a3a-48ef-4758-8e47-a2b95d2bf901",
   "metadata": {
    "jp-MarkdownHeadingCollapsed": true,
    "tags": []
   },
   "source": [
    "### sc_manufacturing_cost"
   ]
  },
  {
   "cell_type": "code",
   "execution_count": 81,
   "id": "bc1bd7e7-ea2b-4285-8db1-77a81192928e",
   "metadata": {
    "tags": []
   },
   "outputs": [
    {
     "data": {
      "text/html": [
       "<div>\n",
       "<style scoped>\n",
       "    .dataframe tbody tr th:only-of-type {\n",
       "        vertical-align: middle;\n",
       "    }\n",
       "\n",
       "    .dataframe tbody tr th {\n",
       "        vertical-align: top;\n",
       "    }\n",
       "\n",
       "    .dataframe thead th {\n",
       "        text-align: right;\n",
       "    }\n",
       "</style>\n",
       "<table border=\"1\" class=\"dataframe\">\n",
       "  <thead>\n",
       "    <tr style=\"text-align: right;\">\n",
       "      <th></th>\n",
       "      <th>product_code</th>\n",
       "      <th>cost_year</th>\n",
       "      <th>manufacturing_cost</th>\n",
       "    </tr>\n",
       "  </thead>\n",
       "  <tbody>\n",
       "    <tr>\n",
       "      <th>0</th>\n",
       "      <td>A0118150101</td>\n",
       "      <td>2018</td>\n",
       "      <td>4.6190000000</td>\n",
       "    </tr>\n",
       "    <tr>\n",
       "      <th>1</th>\n",
       "      <td>A0118150101</td>\n",
       "      <td>2019</td>\n",
       "      <td>4.2033000000</td>\n",
       "    </tr>\n",
       "    <tr>\n",
       "      <th>2</th>\n",
       "      <td>A0118150101</td>\n",
       "      <td>2020</td>\n",
       "      <td>5.0207000000</td>\n",
       "    </tr>\n",
       "    <tr>\n",
       "      <th>3</th>\n",
       "      <td>A0118150101</td>\n",
       "      <td>2021</td>\n",
       "      <td>5.5172000000</td>\n",
       "    </tr>\n",
       "    <tr>\n",
       "      <th>4</th>\n",
       "      <td>A0118150102</td>\n",
       "      <td>2018</td>\n",
       "      <td>5.6036000000</td>\n",
       "    </tr>\n",
       "    <tr>\n",
       "      <th>5</th>\n",
       "      <td>A0118150102</td>\n",
       "      <td>2019</td>\n",
       "      <td>5.3235000000</td>\n",
       "    </tr>\n",
       "    <tr>\n",
       "      <th>6</th>\n",
       "      <td>A0118150102</td>\n",
       "      <td>2020</td>\n",
       "      <td>5.7180000000</td>\n",
       "    </tr>\n",
       "    <tr>\n",
       "      <th>7</th>\n",
       "      <td>A0118150102</td>\n",
       "      <td>2021</td>\n",
       "      <td>6.2835000000</td>\n",
       "    </tr>\n",
       "    <tr>\n",
       "      <th>8</th>\n",
       "      <td>A0118150103</td>\n",
       "      <td>2018</td>\n",
       "      <td>5.9469000000</td>\n",
       "    </tr>\n",
       "    <tr>\n",
       "      <th>9</th>\n",
       "      <td>A0118150103</td>\n",
       "      <td>2019</td>\n",
       "      <td>5.5306000000</td>\n",
       "    </tr>\n",
       "  </tbody>\n",
       "</table>\n",
       "</div>"
      ],
      "text/plain": [
       "  product_code cost_year manufacturing_cost\n",
       "0  A0118150101      2018       4.6190000000\n",
       "1  A0118150101      2019       4.2033000000\n",
       "2  A0118150101      2020       5.0207000000\n",
       "3  A0118150101      2021       5.5172000000\n",
       "4  A0118150102      2018       5.6036000000\n",
       "5  A0118150102      2019       5.3235000000\n",
       "6  A0118150102      2020       5.7180000000\n",
       "7  A0118150102      2021       6.2835000000\n",
       "8  A0118150103      2018       5.9469000000\n",
       "9  A0118150103      2019       5.5306000000"
      ]
     },
     "execution_count": 81,
     "metadata": {},
     "output_type": "execute_result"
    }
   ],
   "source": [
    "sc_manufacturing_cost.head(10)"
   ]
  },
  {
   "cell_type": "code",
   "execution_count": 82,
   "id": "283f182e-a277-4161-9db5-4456a16f50c8",
   "metadata": {
    "tags": []
   },
   "outputs": [
    {
     "data": {
      "text/plain": [
       "Index                    132\n",
       "product_code           81396\n",
       "cost_year              73017\n",
       "manufacturing_cost    134064\n",
       "dtype: int64"
      ]
     },
     "execution_count": 82,
     "metadata": {},
     "output_type": "execute_result"
    }
   ],
   "source": [
    "# check memory usage by column\n",
    "\n",
    "sc_manufacturing_cost.memory_usage(deep=True)"
   ]
  },
  {
   "cell_type": "code",
   "execution_count": 83,
   "id": "c9d14607-a75d-435e-9f2a-5ce29f943bfe",
   "metadata": {
    "tags": []
   },
   "outputs": [
    {
     "data": {
      "text/plain": [
       "product_code          object\n",
       "cost_year             object\n",
       "manufacturing_cost    object\n",
       "dtype: object"
      ]
     },
     "execution_count": 83,
     "metadata": {},
     "output_type": "execute_result"
    }
   ],
   "source": [
    "# check datatypes\n",
    "\n",
    "sc_manufacturing_cost.dtypes"
   ]
  },
  {
   "cell_type": "code",
   "execution_count": 84,
   "id": "dff91943-8eab-4e95-9935-39d1c61d19f6",
   "metadata": {
    "tags": []
   },
   "outputs": [
    {
     "name": "stdout",
     "output_type": "stream",
     "text": [
      "397\n"
     ]
    },
    {
     "data": {
      "text/plain": [
       "A2918150105    5\n",
       "A1219150301    5\n",
       "A3718150102    5\n",
       "A3718150103    5\n",
       "A3718150105    5\n",
       "              ..\n",
       "A5820110105    1\n",
       "A2821150802    1\n",
       "A2821150803    1\n",
       "A2821150804    1\n",
       "A4821110808    1\n",
       "Name: product_code, Length: 397, dtype: int64"
      ]
     },
     "execution_count": 84,
     "metadata": {},
     "output_type": "execute_result"
    }
   ],
   "source": [
    "# ensure datatype 'category' is apropriate by counting unique values\n",
    "\n",
    "print(sc_manufacturing_cost['product_code'].nunique())\n",
    "sc_manufacturing_cost['product_code'].value_counts()"
   ]
  },
  {
   "cell_type": "code",
   "execution_count": 85,
   "id": "67eed7dd-12cd-4ff5-af4d-b3ca797b9230",
   "metadata": {
    "tags": []
   },
   "outputs": [
    {
     "name": "stdout",
     "output_type": "stream",
     "text": [
      "5\n"
     ]
    },
    {
     "data": {
      "text/plain": [
       "2022    353\n",
       "2021    338\n",
       "2020    247\n",
       "2019    172\n",
       "2018     87\n",
       "Name: cost_year, dtype: int64"
      ]
     },
     "execution_count": 85,
     "metadata": {},
     "output_type": "execute_result"
    }
   ],
   "source": [
    "# ensure datatype 'category' is apropriate by counting unique values\n",
    "\n",
    "print(sc_manufacturing_cost['cost_year'].nunique())\n",
    "sc_manufacturing_cost['cost_year'].value_counts()"
   ]
  },
  {
   "cell_type": "code",
   "execution_count": 86,
   "id": "809bf473-b91d-4fbf-928f-2c071906c230",
   "metadata": {},
   "outputs": [
    {
     "name": "stdout",
     "output_type": "stream",
     "text": [
      "0.7064000000\n",
      "263.4207000000\n"
     ]
    }
   ],
   "source": [
    "# ensure datype 'int16' is apropriate by checking the range\n",
    "\n",
    "print(sc_manufacturing_cost['manufacturing_cost'].min())\n",
    "print(sc_manufacturing_cost['manufacturing_cost'].max())"
   ]
  },
  {
   "cell_type": "code",
   "execution_count": 87,
   "id": "a87cef5d-54bb-46a3-926d-3875a0a32b39",
   "metadata": {
    "tags": []
   },
   "outputs": [],
   "source": [
    "# change datatypes\n",
    "\n",
    "sc_manufacturing_cost['cost_year'] = sc_manufacturing_cost['cost_year'].astype('int16')\n",
    "sc_manufacturing_cost['manufacturing_cost'] = sc_manufacturing_cost['manufacturing_cost'].astype('float64')"
   ]
  },
  {
   "cell_type": "code",
   "execution_count": 88,
   "id": "c96755ac-d4ef-4ec1-a8f0-8e8c83159a16",
   "metadata": {
    "tags": []
   },
   "outputs": [
    {
     "data": {
      "text/plain": [
       "Index                   132\n",
       "product_code          81396\n",
       "cost_year              2394\n",
       "manufacturing_cost     9576\n",
       "dtype: int64"
      ]
     },
     "execution_count": 88,
     "metadata": {},
     "output_type": "execute_result"
    }
   ],
   "source": [
    "# check memory usage by column\n",
    "\n",
    "sc_manufacturing_cost.memory_usage(deep=True)"
   ]
  },
  {
   "cell_type": "markdown",
   "id": "df7eb709-22c3-4efe-9030-da0d91ab5602",
   "metadata": {
    "jp-MarkdownHeadingCollapsed": true,
    "tags": []
   },
   "source": [
    "### sc_post_invoice_deductions"
   ]
  },
  {
   "cell_type": "code",
   "execution_count": 89,
   "id": "915f8863-b87d-4410-8fe9-dbaa2f542687",
   "metadata": {
    "tags": []
   },
   "outputs": [
    {
     "data": {
      "text/html": [
       "<div>\n",
       "<style scoped>\n",
       "    .dataframe tbody tr th:only-of-type {\n",
       "        vertical-align: middle;\n",
       "    }\n",
       "\n",
       "    .dataframe tbody tr th {\n",
       "        vertical-align: top;\n",
       "    }\n",
       "\n",
       "    .dataframe thead th {\n",
       "        text-align: right;\n",
       "    }\n",
       "</style>\n",
       "<table border=\"1\" class=\"dataframe\">\n",
       "  <thead>\n",
       "    <tr style=\"text-align: right;\">\n",
       "      <th></th>\n",
       "      <th>customer_code</th>\n",
       "      <th>product_code</th>\n",
       "      <th>date</th>\n",
       "      <th>discounts_pct</th>\n",
       "      <th>other_deductions_pct</th>\n",
       "    </tr>\n",
       "  </thead>\n",
       "  <tbody>\n",
       "    <tr>\n",
       "      <th>0</th>\n",
       "      <td>70002017</td>\n",
       "      <td>A0118150101</td>\n",
       "      <td>2017-09-01</td>\n",
       "      <td>0.2659568373</td>\n",
       "      <td>0.0718706275</td>\n",
       "    </tr>\n",
       "    <tr>\n",
       "      <th>1</th>\n",
       "      <td>70002017</td>\n",
       "      <td>A0118150101</td>\n",
       "      <td>2017-10-01</td>\n",
       "      <td>0.3089921425</td>\n",
       "      <td>0.0976271962</td>\n",
       "    </tr>\n",
       "    <tr>\n",
       "      <th>2</th>\n",
       "      <td>70002017</td>\n",
       "      <td>A0118150101</td>\n",
       "      <td>2017-11-01</td>\n",
       "      <td>0.3312678749</td>\n",
       "      <td>0.0752107404</td>\n",
       "    </tr>\n",
       "    <tr>\n",
       "      <th>3</th>\n",
       "      <td>70002017</td>\n",
       "      <td>A0118150101</td>\n",
       "      <td>2018-01-01</td>\n",
       "      <td>0.2957916324</td>\n",
       "      <td>0.0720356315</td>\n",
       "    </tr>\n",
       "    <tr>\n",
       "      <th>4</th>\n",
       "      <td>70002017</td>\n",
       "      <td>A0118150101</td>\n",
       "      <td>2018-02-01</td>\n",
       "      <td>0.3207865527</td>\n",
       "      <td>0.0793345762</td>\n",
       "    </tr>\n",
       "    <tr>\n",
       "      <th>5</th>\n",
       "      <td>70002017</td>\n",
       "      <td>A0118150101</td>\n",
       "      <td>2018-03-01</td>\n",
       "      <td>0.2634826863</td>\n",
       "      <td>0.1007454661</td>\n",
       "    </tr>\n",
       "    <tr>\n",
       "      <th>6</th>\n",
       "      <td>70002017</td>\n",
       "      <td>A0118150101</td>\n",
       "      <td>2018-05-01</td>\n",
       "      <td>0.2231491730</td>\n",
       "      <td>0.0819604740</td>\n",
       "    </tr>\n",
       "    <tr>\n",
       "      <th>7</th>\n",
       "      <td>70002017</td>\n",
       "      <td>A0118150101</td>\n",
       "      <td>2018-06-01</td>\n",
       "      <td>0.3019501683</td>\n",
       "      <td>0.0791333546</td>\n",
       "    </tr>\n",
       "    <tr>\n",
       "      <th>8</th>\n",
       "      <td>70002017</td>\n",
       "      <td>A0118150101</td>\n",
       "      <td>2018-07-01</td>\n",
       "      <td>0.3123406450</td>\n",
       "      <td>0.0929448730</td>\n",
       "    </tr>\n",
       "    <tr>\n",
       "      <th>9</th>\n",
       "      <td>70002017</td>\n",
       "      <td>A0118150102</td>\n",
       "      <td>2017-09-01</td>\n",
       "      <td>0.2302247453</td>\n",
       "      <td>0.0868821520</td>\n",
       "    </tr>\n",
       "  </tbody>\n",
       "</table>\n",
       "</div>"
      ],
      "text/plain": [
       "  customer_code product_code        date discounts_pct other_deductions_pct\n",
       "0      70002017  A0118150101  2017-09-01  0.2659568373         0.0718706275\n",
       "1      70002017  A0118150101  2017-10-01  0.3089921425         0.0976271962\n",
       "2      70002017  A0118150101  2017-11-01  0.3312678749         0.0752107404\n",
       "3      70002017  A0118150101  2018-01-01  0.2957916324         0.0720356315\n",
       "4      70002017  A0118150101  2018-02-01  0.3207865527         0.0793345762\n",
       "5      70002017  A0118150101  2018-03-01  0.2634826863         0.1007454661\n",
       "6      70002017  A0118150101  2018-05-01  0.2231491730         0.0819604740\n",
       "7      70002017  A0118150101  2018-06-01  0.3019501683         0.0791333546\n",
       "8      70002017  A0118150101  2018-07-01  0.3123406450         0.0929448730\n",
       "9      70002017  A0118150102  2017-09-01  0.2302247453         0.0868821520"
      ]
     },
     "execution_count": 89,
     "metadata": {},
     "output_type": "execute_result"
    }
   ],
   "source": [
    "sc_post_invoice_deductions.head(10)"
   ]
  },
  {
   "cell_type": "code",
   "execution_count": 90,
   "id": "e0f07d74-e0fc-4926-9808-badb7ddc88c0",
   "metadata": {
    "tags": []
   },
   "outputs": [
    {
     "data": {
      "text/plain": [
       "Index                         132\n",
       "customer_code           134099940\n",
       "product_code            140289168\n",
       "date                     82523040\n",
       "discounts_pct           231064512\n",
       "other_deductions_pct    231064512\n",
       "dtype: int64"
      ]
     },
     "execution_count": 90,
     "metadata": {},
     "output_type": "execute_result"
    }
   ],
   "source": [
    "# check memory usage by column\n",
    "\n",
    "sc_post_invoice_deductions.memory_usage(deep=True)"
   ]
  },
  {
   "cell_type": "code",
   "execution_count": 91,
   "id": "bc77d613-b08f-4690-b3e9-e53ff3f9f761",
   "metadata": {
    "tags": []
   },
   "outputs": [
    {
     "data": {
      "text/plain": [
       "customer_code           object\n",
       "product_code            object\n",
       "date                    object\n",
       "discounts_pct           object\n",
       "other_deductions_pct    object\n",
       "dtype: object"
      ]
     },
     "execution_count": 91,
     "metadata": {},
     "output_type": "execute_result"
    }
   ],
   "source": [
    "# check datatypes\n",
    "\n",
    "sc_post_invoice_deductions.dtypes"
   ]
  },
  {
   "cell_type": "code",
   "execution_count": 92,
   "id": "80371673-8f0d-49cf-a227-d81abaf26aeb",
   "metadata": {
    "tags": []
   },
   "outputs": [
    {
     "name": "stdout",
     "output_type": "stream",
     "text": [
      "209\n"
     ]
    },
    {
     "data": {
      "text/plain": [
       "70002017    10638\n",
       "90011188    10638\n",
       "90013123    10638\n",
       "90013122    10638\n",
       "90013121    10638\n",
       "            ...  \n",
       "90009129     8316\n",
       "90004061     8316\n",
       "70009133     8316\n",
       "70004069     8316\n",
       "90025209     8316\n",
       "Name: customer_code, Length: 209, dtype: int64"
      ]
     },
     "execution_count": 92,
     "metadata": {},
     "output_type": "execute_result"
    }
   ],
   "source": [
    "# ensure datatype 'category' is apropriate by counting unique values\n",
    "\n",
    "print(sc_post_invoice_deductions['customer_code'].nunique())\n",
    "sc_post_invoice_deductions['customer_code'].value_counts()"
   ]
  },
  {
   "cell_type": "code",
   "execution_count": 93,
   "id": "54a644ae-ae32-4eaf-a12f-989249c714a3",
   "metadata": {
    "tags": []
   },
   "outputs": [
    {
     "name": "stdout",
     "output_type": "stream",
     "text": [
      "389\n"
     ]
    },
    {
     "data": {
      "text/plain": [
       "A3019150205    8065\n",
       "A3019150204    8065\n",
       "A1219150301    8065\n",
       "A0418150104    8065\n",
       "A0418150105    8065\n",
       "               ... \n",
       "A3621150803    1881\n",
       "A3621150804    1881\n",
       "A3621150805    1881\n",
       "A3621150806    1881\n",
       "A6621160503    1881\n",
       "Name: product_code, Length: 389, dtype: int64"
      ]
     },
     "execution_count": 93,
     "metadata": {},
     "output_type": "execute_result"
    }
   ],
   "source": [
    "# ensure datatype 'category' is apropriate by counting unique values\n",
    "\n",
    "print(sc_post_invoice_deductions['product_code'].nunique())\n",
    "sc_post_invoice_deductions['product_code'].value_counts()"
   ]
  },
  {
   "cell_type": "code",
   "execution_count": 94,
   "id": "aae0f03b-de0f-4698-b6f4-88e0f9a7635a",
   "metadata": {
    "tags": []
   },
   "outputs": [
    {
     "name": "stdout",
     "output_type": "stream",
     "text": [
      "0E-10\n",
      "0.3597894498\n"
     ]
    }
   ],
   "source": [
    "# ensure datype 'int16' is apropriate by checking the range\n",
    "\n",
    "print(sc_post_invoice_deductions['discounts_pct'].min())\n",
    "print(sc_post_invoice_deductions['discounts_pct'].max())"
   ]
  },
  {
   "cell_type": "code",
   "execution_count": 95,
   "id": "d19f83d4-0e3c-402d-95a8-f61d043cab8b",
   "metadata": {
    "tags": []
   },
   "outputs": [
    {
     "name": "stdout",
     "output_type": "stream",
     "text": [
      "0E-10\n",
      "0.2076698904\n"
     ]
    }
   ],
   "source": [
    "# ensure datype 'int16' is apropriate by checking the range\n",
    "\n",
    "print(sc_post_invoice_deductions['other_deductions_pct'].min())\n",
    "print(sc_post_invoice_deductions['other_deductions_pct'].max())"
   ]
  },
  {
   "cell_type": "code",
   "execution_count": 96,
   "id": "0485a2fa-3030-4bf9-b45a-7c2987669df3",
   "metadata": {
    "tags": []
   },
   "outputs": [],
   "source": [
    "# change datatypes\n",
    "\n",
    "sc_post_invoice_deductions['date'] = sc_post_invoice_deductions['date'].astype('datetime64')\n",
    "sc_post_invoice_deductions['discounts_pct'] = sc_post_invoice_deductions['discounts_pct'].astype('float64')\n",
    "sc_post_invoice_deductions['other_deductions_pct'] = sc_post_invoice_deductions['other_deductions_pct'].astype('float64')"
   ]
  },
  {
   "cell_type": "code",
   "execution_count": 97,
   "id": "e2e99b9e-ae1c-402f-b96d-4b80b7a75761",
   "metadata": {
    "tags": []
   },
   "outputs": [
    {
     "data": {
      "text/plain": [
       "Index                         132\n",
       "customer_code           134099940\n",
       "product_code            140289168\n",
       "date                     16504608\n",
       "discounts_pct            16504608\n",
       "other_deductions_pct     16504608\n",
       "dtype: int64"
      ]
     },
     "execution_count": 97,
     "metadata": {},
     "output_type": "execute_result"
    }
   ],
   "source": [
    "# check memory usage by column\n",
    "\n",
    "sc_post_invoice_deductions.memory_usage(deep=True)"
   ]
  },
  {
   "cell_type": "code",
   "execution_count": 98,
   "id": "714457b7-8fec-4b95-bdb5-97cf63cf6c43",
   "metadata": {
    "tags": []
   },
   "outputs": [
    {
     "data": {
      "text/plain": [
       "2021    635151\n",
       "2020    516648\n",
       "2022    432630\n",
       "2019    317775\n",
       "2018    134280\n",
       "2017     26592\n",
       "Name: date, dtype: int64"
      ]
     },
     "execution_count": 98,
     "metadata": {},
     "output_type": "execute_result"
    }
   ],
   "source": [
    "sc_post_invoice_deductions['date'].dt.year.value_counts()"
   ]
  },
  {
   "cell_type": "code",
   "execution_count": 99,
   "id": "393b47dc-0b89-4f68-8d14-af0c0145f449",
   "metadata": {
    "tags": []
   },
   "outputs": [
    {
     "name": "stdout",
     "output_type": "stream",
     "text": [
      "995295\n",
      "1067781\n"
     ]
    }
   ],
   "source": [
    "# split dataframe into two to save on file size\n",
    "\n",
    "print(sc_post_invoice_deductions[sc_post_invoice_deductions['date'].dt.year <= 2020]['date'].dt.year.value_counts().sum())\n",
    "print(sc_post_invoice_deductions[sc_post_invoice_deductions['date'].dt.year > 2020]['date'].dt.year.value_counts().sum())"
   ]
  },
  {
   "cell_type": "code",
   "execution_count": 100,
   "id": "3cd52995-4428-48e9-b05a-66e7cf3bea4a",
   "metadata": {
    "tags": []
   },
   "outputs": [],
   "source": [
    "sc_post_invoice_deductions_18_20 = sc_post_invoice_deductions[sc_post_invoice_deductions['date'].dt.year <= 2020].reset_index().drop('index', axis=1)\n",
    "sc_post_invoice_deductions_21_22 = sc_post_invoice_deductions[sc_post_invoice_deductions['date'].dt.year > 2020].reset_index().drop('index', axis=1)"
   ]
  },
  {
   "cell_type": "code",
   "execution_count": 101,
   "id": "8c288c68-e9fb-4cf1-9df7-41c1243499de",
   "metadata": {
    "tags": []
   },
   "outputs": [
    {
     "data": {
      "text/plain": [
       "Index                        132\n",
       "customer_code           64694175\n",
       "product_code            67680060\n",
       "date                     7962360\n",
       "discounts_pct            7962360\n",
       "other_deductions_pct     7962360\n",
       "dtype: int64"
      ]
     },
     "execution_count": 101,
     "metadata": {},
     "output_type": "execute_result"
    }
   ],
   "source": [
    "# check memory usage by column\n",
    "\n",
    "sc_post_invoice_deductions_18_20.memory_usage(deep=True)"
   ]
  },
  {
   "cell_type": "code",
   "execution_count": 102,
   "id": "eef34e3d-363d-4e64-87d6-aeeb68bb2230",
   "metadata": {
    "tags": []
   },
   "outputs": [
    {
     "data": {
      "text/plain": [
       "Index                        132\n",
       "customer_code           69405765\n",
       "product_code            72609108\n",
       "date                     8542248\n",
       "discounts_pct            8542248\n",
       "other_deductions_pct     8542248\n",
       "dtype: int64"
      ]
     },
     "execution_count": 102,
     "metadata": {},
     "output_type": "execute_result"
    }
   ],
   "source": [
    "# check memory usage by column\n",
    "\n",
    "sc_post_invoice_deductions_21_22.memory_usage(deep=True)"
   ]
  },
  {
   "cell_type": "markdown",
   "id": "a3bf4d6f-5947-4f0f-a343-d227c290435c",
   "metadata": {
    "jp-MarkdownHeadingCollapsed": true,
    "tags": []
   },
   "source": [
    "### sc_pre_invoice_deductions"
   ]
  },
  {
   "cell_type": "code",
   "execution_count": 103,
   "id": "44bd80a2-46eb-4eb9-b2a4-28b69173fbd7",
   "metadata": {
    "tags": []
   },
   "outputs": [
    {
     "data": {
      "text/html": [
       "<div>\n",
       "<style scoped>\n",
       "    .dataframe tbody tr th:only-of-type {\n",
       "        vertical-align: middle;\n",
       "    }\n",
       "\n",
       "    .dataframe tbody tr th {\n",
       "        vertical-align: top;\n",
       "    }\n",
       "\n",
       "    .dataframe thead th {\n",
       "        text-align: right;\n",
       "    }\n",
       "</style>\n",
       "<table border=\"1\" class=\"dataframe\">\n",
       "  <thead>\n",
       "    <tr style=\"text-align: right;\">\n",
       "      <th></th>\n",
       "      <th>customer_code</th>\n",
       "      <th>fiscal_year</th>\n",
       "      <th>pre_invoice_discount_pct</th>\n",
       "    </tr>\n",
       "  </thead>\n",
       "  <tbody>\n",
       "    <tr>\n",
       "      <th>0</th>\n",
       "      <td>70002017</td>\n",
       "      <td>2018</td>\n",
       "      <td>0.08244219753539290000</td>\n",
       "    </tr>\n",
       "    <tr>\n",
       "      <th>1</th>\n",
       "      <td>70002017</td>\n",
       "      <td>2019</td>\n",
       "      <td>0.07765861348605650000</td>\n",
       "    </tr>\n",
       "    <tr>\n",
       "      <th>2</th>\n",
       "      <td>70002017</td>\n",
       "      <td>2020</td>\n",
       "      <td>0.07345781073135220000</td>\n",
       "    </tr>\n",
       "    <tr>\n",
       "      <th>3</th>\n",
       "      <td>70002017</td>\n",
       "      <td>2021</td>\n",
       "      <td>0.07026947571908560000</td>\n",
       "    </tr>\n",
       "    <tr>\n",
       "      <th>4</th>\n",
       "      <td>70002017</td>\n",
       "      <td>2022</td>\n",
       "      <td>0.10567782977394700000</td>\n",
       "    </tr>\n",
       "    <tr>\n",
       "      <th>5</th>\n",
       "      <td>70002018</td>\n",
       "      <td>2018</td>\n",
       "      <td>0.29556770846041300000</td>\n",
       "    </tr>\n",
       "    <tr>\n",
       "      <th>6</th>\n",
       "      <td>70002018</td>\n",
       "      <td>2019</td>\n",
       "      <td>0.25765480344074500000</td>\n",
       "    </tr>\n",
       "    <tr>\n",
       "      <th>7</th>\n",
       "      <td>70002018</td>\n",
       "      <td>2020</td>\n",
       "      <td>0.22548097908752100000</td>\n",
       "    </tr>\n",
       "    <tr>\n",
       "      <th>8</th>\n",
       "      <td>70002018</td>\n",
       "      <td>2021</td>\n",
       "      <td>0.20610712357615500000</td>\n",
       "    </tr>\n",
       "    <tr>\n",
       "      <th>9</th>\n",
       "      <td>70002018</td>\n",
       "      <td>2022</td>\n",
       "      <td>0.29309271038653900000</td>\n",
       "    </tr>\n",
       "  </tbody>\n",
       "</table>\n",
       "</div>"
      ],
      "text/plain": [
       "  customer_code fiscal_year pre_invoice_discount_pct\n",
       "0      70002017        2018   0.08244219753539290000\n",
       "1      70002017        2019   0.07765861348605650000\n",
       "2      70002017        2020   0.07345781073135220000\n",
       "3      70002017        2021   0.07026947571908560000\n",
       "4      70002017        2022   0.10567782977394700000\n",
       "5      70002018        2018   0.29556770846041300000\n",
       "6      70002018        2019   0.25765480344074500000\n",
       "7      70002018        2020   0.22548097908752100000\n",
       "8      70002018        2021   0.20610712357615500000\n",
       "9      70002018        2022   0.29309271038653900000"
      ]
     },
     "execution_count": 103,
     "metadata": {},
     "output_type": "execute_result"
    }
   ],
   "source": [
    "sc_pre_invoice_deductions.head(10)"
   ]
  },
  {
   "cell_type": "code",
   "execution_count": 104,
   "id": "c4e0d9eb-89d6-462b-b297-9871efdb2db0",
   "metadata": {
    "tags": []
   },
   "outputs": [
    {
     "data": {
      "text/plain": [
       "Index                          132\n",
       "customer_code                67925\n",
       "fiscal_year                  63745\n",
       "pre_invoice_discount_pct    117040\n",
       "dtype: int64"
      ]
     },
     "execution_count": 104,
     "metadata": {},
     "output_type": "execute_result"
    }
   ],
   "source": [
    "# check memory usage by column\n",
    "\n",
    "sc_pre_invoice_deductions.memory_usage(deep=True)"
   ]
  },
  {
   "cell_type": "code",
   "execution_count": 105,
   "id": "4aaf06cb-0db3-4aa1-99f4-be321f672691",
   "metadata": {
    "tags": []
   },
   "outputs": [
    {
     "data": {
      "text/plain": [
       "customer_code               object\n",
       "fiscal_year                 object\n",
       "pre_invoice_discount_pct    object\n",
       "dtype: object"
      ]
     },
     "execution_count": 105,
     "metadata": {},
     "output_type": "execute_result"
    }
   ],
   "source": [
    "# check datatypes\n",
    "\n",
    "sc_pre_invoice_deductions.dtypes"
   ]
  },
  {
   "cell_type": "code",
   "execution_count": 106,
   "id": "402df00f-52ba-403f-849f-d960b0316e41",
   "metadata": {
    "tags": []
   },
   "outputs": [
    {
     "name": "stdout",
     "output_type": "stream",
     "text": [
      "0.05101586478809630000\n",
      "0.30990802019830200000\n"
     ]
    }
   ],
   "source": [
    "# ensure datype 'int16' is apropriate by checking the range\n",
    "\n",
    "print(sc_pre_invoice_deductions['pre_invoice_discount_pct'].min())\n",
    "print(sc_pre_invoice_deductions['pre_invoice_discount_pct'].max())"
   ]
  },
  {
   "cell_type": "code",
   "execution_count": 107,
   "id": "dcf04bbc-a449-4b19-8c19-7cb554115b2f",
   "metadata": {
    "tags": []
   },
   "outputs": [],
   "source": [
    "# change datatypes\n",
    "\n",
    "sc_pre_invoice_deductions['fiscal_year'] = sc_pre_invoice_deductions['fiscal_year'].astype('int16')\n",
    "sc_pre_invoice_deductions['pre_invoice_discount_pct'] = sc_pre_invoice_deductions['pre_invoice_discount_pct'].astype('float64')"
   ]
  },
  {
   "cell_type": "code",
   "execution_count": 108,
   "id": "54719e79-bf6d-4fdd-b86a-57a1ef2bb55d",
   "metadata": {
    "tags": []
   },
   "outputs": [
    {
     "data": {
      "text/plain": [
       "Index                         132\n",
       "customer_code               67925\n",
       "fiscal_year                  2090\n",
       "pre_invoice_discount_pct     8360\n",
       "dtype: int64"
      ]
     },
     "execution_count": 108,
     "metadata": {},
     "output_type": "execute_result"
    }
   ],
   "source": [
    "# check memory usage by column\n",
    "\n",
    "sc_pre_invoice_deductions.memory_usage(deep=True)"
   ]
  },
  {
   "cell_type": "markdown",
   "id": "01c12e87-1f8f-4f73-84ac-88b010035a0f",
   "metadata": {},
   "source": [
    "## Save dataframes"
   ]
  },
  {
   "cell_type": "code",
   "execution_count": 109,
   "id": "3cde2468-3c2f-4964-a60c-1bb4ad66b32a",
   "metadata": {
    "tags": []
   },
   "outputs": [
    {
     "name": "stdout",
     "output_type": "stream",
     "text": [
      "Stored 'sc_dataframes_cleaned' (dict)\n"
     ]
    }
   ],
   "source": [
    "# Save dtaframes into a new dictionary\n",
    "\n",
    "sc_dataframes_cleaned = {\n",
    "    'sc_dim_customer': sc_dim_customer,\n",
    "    'sc_dim_market': sc_dim_market,\n",
    "    'sc_dim_product': sc_dim_product,\n",
    "    'sc_fact_forecast_monthly': sc_fact_forecast_monthly,\n",
    "    'sc_fact_sales_monthly': sc_fact_sales_monthly,\n",
    "    'sc_freight_cost': sc_freight_cost,\n",
    "    'sc_gross_price': sc_gross_price,\n",
    "    'sc_manufacturing_cost': sc_manufacturing_cost,\n",
    "    'sc_post_invoice_deductions_18_20': sc_post_invoice_deductions_18_20,\n",
    "    'sc_post_invoice_deductions_21_22': sc_post_invoice_deductions_21_22,\n",
    "    'sc_pre_invoice_deductions': sc_pre_invoice_deductions,\n",
    "}\n",
    "\n",
    "%store sc_dataframes_cleaned"
   ]
  },
  {
   "cell_type": "code",
   "execution_count": null,
   "id": "bce8d566-f4e1-4cf7-973c-d76b1b9a80a1",
   "metadata": {},
   "outputs": [],
   "source": []
  }
 ],
 "metadata": {
  "kernelspec": {
   "display_name": "Python 3 (ipykernel)",
   "language": "python",
   "name": "python3"
  },
  "language_info": {
   "codemirror_mode": {
    "name": "ipython",
    "version": 3
   },
   "file_extension": ".py",
   "mimetype": "text/x-python",
   "name": "python",
   "nbconvert_exporter": "python",
   "pygments_lexer": "ipython3",
   "version": "3.11.4"
  }
 },
 "nbformat": 4,
 "nbformat_minor": 5
}
