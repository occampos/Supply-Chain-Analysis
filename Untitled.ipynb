{
 "cells": [
  {
   "cell_type": "markdown",
   "id": "8949fe3e-7c5a-4d0c-9b9a-4a04289abca6",
   "metadata": {
    "tags": []
   },
   "source": [
    "### import libraries"
   ]
  },
  {
   "cell_type": "code",
   "execution_count": 1,
   "id": "9deed6f4-8a95-496d-909f-22f93655a4a5",
   "metadata": {
    "tags": []
   },
   "outputs": [],
   "source": [
    "import pandas as pd\n",
    "import numpy as np\n",
    "import seaborn as sns\n",
    "import matplotlib.pyplot as plt\n",
    "from matplotlib.ticker import FixedLocator, MaxNLocator"
   ]
  },
  {
   "cell_type": "markdown",
   "id": "076075f7-d5dc-488c-8f76-1db7fa788415",
   "metadata": {},
   "source": [
    "### settings"
   ]
  },
  {
   "cell_type": "code",
   "execution_count": 2,
   "id": "169ba364-a276-4107-934e-879ed1f1ada8",
   "metadata": {
    "tags": []
   },
   "outputs": [],
   "source": [
    "pd.set_option('display.max_rows', 20)\n",
    "\n",
    "%matplotlib inline"
   ]
  },
  {
   "cell_type": "markdown",
   "id": "7924c4f2-60dc-4084-b977-66d1d370b364",
   "metadata": {},
   "source": [
    "### import data"
   ]
  },
  {
   "cell_type": "code",
   "execution_count": 3,
   "id": "cde857bc-5547-49bc-a8c0-a9a44a782b0f",
   "metadata": {
    "tags": []
   },
   "outputs": [],
   "source": [
    "%store -r sc_dataframes"
   ]
  },
  {
   "cell_type": "code",
   "execution_count": 4,
   "id": "93be97a8-dd88-4f74-852a-3fe0f9951983",
   "metadata": {
    "tags": []
   },
   "outputs": [
    {
     "data": {
      "text/plain": [
       "dict_keys(['dim_customer', 'dim_market', 'dim_product', 'fact_forecast_monthly', 'fact_sales_monthly', 'freight_cost', 'gross_price', 'manufacturing_cost', 'post_invoice_deductions', 'pre_invoice_deductions'])"
      ]
     },
     "execution_count": 4,
     "metadata": {},
     "output_type": "execute_result"
    }
   ],
   "source": [
    "sc_dataframes.keys()"
   ]
  },
  {
   "cell_type": "code",
   "execution_count": 5,
   "id": "8f2a16bb-f580-47da-b8b4-9c3585dd929e",
   "metadata": {
    "tags": []
   },
   "outputs": [],
   "source": [
    "sc_dim_customer = sc_dataframes['dim_customer'].copy()\n",
    "sc_dim_market = sc_dataframes['dim_market'].copy()\n",
    "sc_dim_product = sc_dataframes['dim_product'].copy()\n",
    "sc_fact_forecast_monthly = sc_dataframes['fact_forecast_monthly'].copy()\n",
    "sc_fact_sales_monthly = sc_dataframes['fact_sales_monthly'].copy()\n",
    "sc_freight_cost = sc_dataframes['freight_cost'].copy()\n",
    "sc_gross_price = sc_dataframes['gross_price'].copy()\n",
    "sc_manufacturing_cost = sc_dataframes['manufacturing_cost'].copy()\n",
    "sc_post_invoice_deductions = sc_dataframes['post_invoice_deductions'].copy()\n",
    "sc_pre_invoice_deductions = sc_dataframes['pre_invoice_deductions'].copy()"
   ]
  },
  {
   "cell_type": "code",
   "execution_count": 6,
   "id": "f9521e5f-b184-4610-ae8d-f41be51be13e",
   "metadata": {
    "tags": []
   },
   "outputs": [
    {
     "data": {
      "text/plain": [
       "['customer',\n",
       " 'market',\n",
       " 'platform',\n",
       " 'channel',\n",
       " 'customer_code',\n",
       " 'market',\n",
       " 'sub_zone',\n",
       " 'region',\n",
       " 'product_code',\n",
       " 'division',\n",
       " 'segment',\n",
       " 'category',\n",
       " 'product',\n",
       " 'variant',\n",
       " 'date',\n",
       " 'division',\n",
       " 'category',\n",
       " 'product_code',\n",
       " 'product',\n",
       " 'market',\n",
       " 'platform',\n",
       " 'channel',\n",
       " 'customer_code',\n",
       " 'customer_name',\n",
       " 'forecast_quantity',\n",
       " 'date',\n",
       " 'division',\n",
       " 'category',\n",
       " 'product_code',\n",
       " 'product',\n",
       " 'market',\n",
       " 'platform',\n",
       " 'channel',\n",
       " 'customer_code',\n",
       " 'customer_name',\n",
       " 'sold_quantity',\n",
       " 'market',\n",
       " 'fiscal_year',\n",
       " 'freight_pct',\n",
       " 'other_cost_pct',\n",
       " 'product_code',\n",
       " 'fiscal_year',\n",
       " 'gross_price',\n",
       " 'product_code',\n",
       " 'cost_year',\n",
       " 'manufacturing_cost',\n",
       " 'customer_code',\n",
       " 'product_code',\n",
       " 'date',\n",
       " 'discounts_pct',\n",
       " 'other_deductions_pct',\n",
       " 'customer_code',\n",
       " 'fiscal_year',\n",
       " 'pre_invoice_discount_pct']"
      ]
     },
     "execution_count": 6,
     "metadata": {},
     "output_type": "execute_result"
    }
   ],
   "source": [
    "all_column_name = (\n",
    "    sc_dim_customer.columns.tolist() +\n",
    "    sc_dim_market.columns.tolist() +\n",
    "    sc_dim_product.columns.tolist() +\n",
    "    sc_fact_forecast_monthly.columns.tolist() +\n",
    "    sc_fact_sales_monthly.columns.tolist() +\n",
    "    sc_freight_cost.columns.tolist() +\n",
    "    sc_gross_price.columns.tolist() +\n",
    "    sc_manufacturing_cost.columns.tolist() +\n",
    "    sc_post_invoice_deductions.columns.tolist() +\n",
    "    sc_pre_invoice_deductions.columns.tolist()\n",
    "    )\n",
    "all_column_name"
   ]
  },
  {
   "cell_type": "code",
   "execution_count": null,
   "id": "d595f7d5-a72b-469d-8dc5-bbaf12836e3e",
   "metadata": {},
   "outputs": [],
   "source": []
  }
 ],
 "metadata": {
  "kernelspec": {
   "display_name": "Python 3 (ipykernel)",
   "language": "python",
   "name": "python3"
  },
  "language_info": {
   "codemirror_mode": {
    "name": "ipython",
    "version": 3
   },
   "file_extension": ".py",
   "mimetype": "text/x-python",
   "name": "python",
   "nbconvert_exporter": "python",
   "pygments_lexer": "ipython3",
   "version": "3.11.4"
  }
 },
 "nbformat": 4,
 "nbformat_minor": 5
}
